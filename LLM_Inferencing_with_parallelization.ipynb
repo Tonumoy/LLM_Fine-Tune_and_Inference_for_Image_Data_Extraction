{
 "cells": [
  {
   "cell_type": "code",
   "execution_count": 3,
   "id": "e492cc23-b1d3-427d-9236-c9ee42176667",
   "metadata": {
    "scrolled": true
   },
   "outputs": [],
   "source": [
    "# !pip install -qqq -U git+https://github.com/huggingface/transformers.git\n",
    "# !pip install -qqq -U git+https://github.com/huggingface/peft.git\n",
    "# !pip install -qqq -U git+https://github.com/huggingface/accelerate.git\n",
    "# !pip install -qqq bitsandbytes\n",
    "# !pip install scipy\n",
    "# !pip install nltk\n",
    "# !pip install google-cloud-vision\n",
    "# !pip install datasets\n",
    "# !pip install evaluate"
   ]
  },
  {
   "cell_type": "code",
   "execution_count": 4,
   "id": "6d04525b-8323-4bc7-ad2c-7b1ded521ea9",
   "metadata": {},
   "outputs": [],
   "source": [
    "import io\n",
    "import os\n",
    "from tqdm import tqdm\n",
    "import concurrent.futures\n",
    "from google.cloud import vision_v1\n",
    "from google.cloud.vision_v1 import types\n",
    "\n",
    "# path for the JSON key file\n",
    "os.environ['GOOGLE_APPLICATION_CREDENTIALS'] = 'Your vision key.json'\n",
    "\n",
    "import json\n",
    "import re\n",
    "import time\n",
    "import zipfile\n",
    "import shutil\n",
    "from pprint import pprint\n",
    "from datasets import load_dataset\n",
    "import bitsandbytes as bnb\n",
    "import torch\n",
    "import torch.nn as nn\n",
    "import transformers\n",
    "from datetime import datetime\n",
    "from datasets import load_dataset\n",
    "import numpy as np\n",
    "import nltk\n",
    "import evaluate\n",
    "from peft import (\n",
    "    LoraConfig,\n",
    "    PeftConfig,\n",
    "    PeftModel,\n",
    "    get_peft_model,\n",
    "    prepare_model_for_kbit_training\n",
    ")\n",
    "from transformers import (\n",
    "    AutoConfig,\n",
    "    AutoModelForCausalLM,\n",
    "    AutoTokenizer,\n",
    "    BitsAndBytesConfig\n",
    ")\n",
    "from transformers import AutoTokenizer, AutoModelForCausalLM, BitsAndBytesConfig\n",
    "os.environ[\"CUDA_VISIBLE_DEVICES\"] = \"0\""
   ]
  },
  {
   "cell_type": "code",
   "execution_count": 7,
   "id": "eb0c5a93-0280-4cf5-b69f-2936924f40e2",
   "metadata": {},
   "outputs": [
    {
     "data": {
      "application/vnd.jupyter.widget-view+json": {
       "model_id": "dbc92564bc50434ea1d4c7f9b4df5cce",
       "version_major": 2,
       "version_minor": 0
      },
      "text/plain": [
       "Loading checkpoint shards:   0%|          | 0/8 [00:00<?, ?it/s]"
      ]
     },
     "metadata": {},
     "output_type": "display_data"
    }
   ],
   "source": [
    "base_model_id = \"HuggingFaceH4/zephyr-7b-alpha\"\n",
    "bnb_config = BitsAndBytesConfig(\n",
    "    load_in_4bit=True,\n",
    "    bnb_4bit_use_double_quant=True,\n",
    "    bnb_4bit_quant_type=\"nf4\",\n",
    "    bnb_4bit_compute_dtype=torch.bfloat16\n",
    ")\n",
    "\n",
    "base_model = AutoModelForCausalLM.from_pretrained(\n",
    "    base_model_id,\n",
    "    quantization_config=bnb_config,\n",
    "    device_map=\"auto\",\n",
    "    trust_remote_code=True\n",
    ")\n",
    "\n",
    "eval_tokenizer = AutoTokenizer.from_pretrained(\n",
    "    base_model_id,\n",
    "    add_bos_token=True,\n",
    "    trust_remote_code=True,\n",
    ")\n",
    "\n",
    "tokenizer = AutoTokenizer.from_pretrained(\n",
    "    base_model_id,\n",
    "    model_max_length=4096,\n",
    "    padding=True,\n",
    "    add_eos_token=True)\n",
    "\n",
    "tokenizer.pad_token = tokenizer.eos_token\n",
    "ft_model = PeftModel.from_pretrained(base_model, \"your generated Fine-Tuned Checkpoint\")"
   ]
  },
  {
   "cell_type": "code",
   "execution_count": 8,
   "id": "54f3acc5-18e3-4d0b-8f58-e92e75129c59",
   "metadata": {},
   "outputs": [],
   "source": [
    "def model_output_batch(ocr_texts, ft_model, tokenizer, batch_size=10):\n",
    "    \"\"\"\n",
    "    Processes a batch of OCR texts and extracts information using the finetuned LLM.\n",
    "\n",
    "    :param ocr_texts: List of OCR text strings.\n",
    "    :param ft_model: The finetuned language model.\n",
    "    :param tokenizer: The tokenizer for the language model.\n",
    "    :param batch_size: Number of texts to process in a single batch.\n",
    "    :return: List of processed outputs.\n",
    "    \"\"\"\n",
    "    # Ensure the model is in evaluation mode and on the GPU\n",
    "    ft_model.eval()\n",
    "    ft_model.to('cuda')\n",
    "\n",
    "    all_outputs = []\n",
    "\n",
    "    # Use tqdm for the progress bar\n",
    "    for i in tqdm(range(0, len(ocr_texts), batch_size), desc=\"Processing batches\", unit=\"batch\"):\n",
    "        # Prepare the batch\n",
    "        batch_texts = ocr_texts[i:i + batch_size]\n",
    "\n",
    "        # Constructing eval_prompt for each text in the batch\n",
    "        # Inferencing and Training Prompt should be SAME !!!\n",
    "        \n",
    "        eval_prompts = [\n",
    "            f\"\"\"Extract specific data from the provided OCR text of a marriage record. Identify and return the following details in a structured JSON format: Application number, date of marriage ( month,day, year), place of marriage, birth details (month,day, year, place) of both spouses, their county, gender, given names, residence, state, and surnames. Only show the extracted information. Don't show the OCR Text again. Also don't show the pattern which you are asked to follow. Concentrate on the data asked to extract . The output must strictly adhere to the given details and key names, starting with an opening curly brace '{' and ending with a closing curly brace '}'. Ensure that each key-value pair contains only accurate and relevant information from the OCR text. Avoid including any extraneous or irrelevant data that does not correspond directly to the specified keys. The structure of the output is as follows:\n",
    "\n",
    "Application: The marriage Application number.\n",
    "Spouse1_Given: The first name of the first spouse.\n",
    "Spouse1_Surname: The last name of the first spouse.\n",
    "Spouse1_Birth_Day: The birth day of the first spouse.\n",
    "Spouse1_Birth_Month: The birth month of the first spouse.\n",
    "Spouse1_Birth_Year: The birth year of the first spouse.\n",
    "Spouse1_Residence: The residence of the first spouse.\n",
    "Spouse1_County: The county of the first spouse.\n",
    "Spouse1_State: The state of the first spouse.\n",
    "Spouse1_Birthplace: The birthplace of the first spouse.\n",
    "Spouse1_Gender: The gender of the first spouse.\n",
    "Spouse2_Given: The first name of the second spouse.\n",
    "Spouse2_Surname: The last name of the second spouse.\n",
    "Spouse2_Maiden: The maiden name of the second spouse, if applicable.\n",
    "Spouse2_Birth_Day: The birth day of the second spouse.\n",
    "Spouse2_Birth_Month: The birth month of the second spouse.\n",
    "Spouse2_Birth_Year: The birth year of the second spouse.\n",
    "Spouse2_Residence: The residence of the second spouse.\n",
    "Spouse2_County: The county of the second spouse.\n",
    "Spouse2_State: The state of the second spouse.\n",
    "Spouse2_Birthplace: The birthplace of the second spouse.\n",
    "Spouse2_Gender: The gender of the second spouse.\n",
    "Marriage_Day: The day of the marriage.\n",
    "Marriage_Month: The month of the marriage.\n",
    "Marriage_Year: The year of the marriage.\n",
    "Marriage_Place: The location of the marriage.\n",
    "\n",
    "    ### OCR Text:\n",
    "    {text}\n",
    "    \"\"\" for text in batch_texts]\n",
    "\n",
    "        # Tokenizing the batch of prompts\n",
    "        batch_inputs = tokenizer(eval_prompts, padding=True, return_tensors=\"pt\").to(\"cuda\")\n",
    "\n",
    "        # Perform inference in a memory-efficient way\n",
    "        with torch.no_grad():\n",
    "            batch_outputs = ft_model.generate(**batch_inputs, max_new_tokens=600)\n",
    "            decoded_outputs = [tokenizer.decode(output, skip_special_tokens=True) for output in batch_outputs]\n",
    "\n",
    "        all_outputs.extend(decoded_outputs)\n",
    "\n",
    "    return all_outputs\n"
   ]
  },
  {
   "cell_type": "code",
   "execution_count": 9,
   "id": "cb968314-6f90-4781-a1f0-84ffd2c25cbb",
   "metadata": {},
   "outputs": [],
   "source": [
    "def process_images_and_infer_parallel(directory_path, ft_model, tokenizer, max_workers=8):\n",
    "    \"\"\"\n",
    "    Parallelized function to process images, perform OCR, and infer using the finetuned LLM.\n",
    "\n",
    "    :param directory_path: Path to the directory containing images.\n",
    "    :param max_workers: Maximum number of parallel threads for image processing.\n",
    "    :return: List of dictionaries containing the results for each image.\n",
    "    \"\"\"\n",
    "    def process_image(file_path):\n",
    "        client = vision_v1.ImageAnnotatorClient()\n",
    "        image_name, _ = os.path.splitext(os.path.basename(file_path))\n",
    "\n",
    "        with io.open(file_path, 'rb') as image_file:\n",
    "            content = image_file.read()\n",
    "\n",
    "        image = vision_v1.Image(content=content)\n",
    "        response = client.document_text_detection(image=image)\n",
    "\n",
    "        confidences = []\n",
    "        bounding_boxes = []\n",
    "        ocr_data = \"\"\n",
    "\n",
    "        if response.text_annotations:\n",
    "            ocr_data = response.text_annotations[0].description.replace('\\n', ' ')\n",
    "            ocr_data = json.dumps(ocr_data)\n",
    "            for page in response.full_text_annotation.pages:\n",
    "                for block in page.blocks:\n",
    "                    for paragraph in block.paragraphs:\n",
    "                        for word in paragraph.words:\n",
    "                            word_text = ''.join([symbol.text for symbol in word.symbols])\n",
    "                            confidences.append((word_text, word.confidence))\n",
    "                            vertices = [(v.x, v.y) for v in word.bounding_box.vertices]\n",
    "                            bounding_boxes.append((word_text, vertices))\n",
    "\n",
    "        return image_name, ocr_data, confidences, bounding_boxes\n",
    "\n",
    "    image_files = [f for f in os.listdir(directory_path) if f.lower().endswith(('.png', '.jpg', '.jpeg', '.jfif'))]\n",
    "\n",
    "    with concurrent.futures.ThreadPoolExecutor(max_workers=max_workers) as executor:\n",
    "        future_to_image = {executor.submit(process_image, os.path.join(directory_path, filename)): filename for filename in image_files}\n",
    "\n",
    "        ocr_texts = []\n",
    "        image_details = []\n",
    "\n",
    "        for future in tqdm(concurrent.futures.as_completed(future_to_image), total=len(future_to_image), desc=\"Processing Images\"):\n",
    "            image_name, ocr_data, confidences, bounding_boxes = future.result()\n",
    "            tqdm.write(f\"Processed OCR for image: {image_name}\")\n",
    "            image_details.append({\n",
    "                'Image': image_name,\n",
    "                'OCR': ocr_data,\n",
    "                'Confidence Score': confidences,\n",
    "                'Bounding Boxes': bounding_boxes\n",
    "            })\n",
    "            ocr_texts.append(ocr_data)\n",
    "\n",
    "    # Process OCR texts with the language model\n",
    "    tqdm.write(\"Inferring from OCR data using the model...\")\n",
    "    inferencing_results = model_output_batch(ocr_texts, ft_model, tokenizer)\n",
    "\n",
    "    # Attach the inferencing results to image_details\n",
    "    for detail, inference_output in zip(image_details, inferencing_results):\n",
    "        detail['Model_Output'] = inference_output\n",
    "        tqdm.write(f\"Inferred model output for image: {detail['Image']}\")\n",
    "\n",
    "    return image_details"
   ]
  },
  {
   "cell_type": "code",
   "execution_count": 10,
   "id": "c4a67c99-1d53-40a5-a7f6-9ec2a91b8130",
   "metadata": {},
   "outputs": [],
   "source": [
    "def extract_json_outputs_parallel(final_results, max_workers=8):\n",
    "    \"\"\"\n",
    "    Parallelized function to extract and modify JSON outputs from the results.\n",
    "\n",
    "    :param final_results: List of dictionaries, each being an output from the previous function.\n",
    "    :param max_workers: Number of parallel threads.\n",
    "    :return: List of modified JSON outputs.\n",
    "    \"\"\"\n",
    "    def replace_keys(data):\n",
    "        modified_data = {}\n",
    "        for key, value in data.items():\n",
    "            modified_key_orig = key + '_orig'\n",
    "            modified_data[modified_key_orig] = value\n",
    "            modified_key_hwr = key + '_hwr'\n",
    "            modified_data[modified_key_hwr] = value\n",
    "        return modified_data\n",
    "\n",
    "    def process_item(item):\n",
    "        inference_text = item['Model_Output']\n",
    "        \n",
    "        # Use the provided regular expression pattern to find the JSON string\n",
    "        #pattern = r'\\{\\s*\"Application number\": \"[\\s\\S]+?Spouse2_surname\": \"[^\\\"]*\"\\s*\\}'\n",
    "        #pattern = r'\\{\\s*\"?Application\\s*number\"?\\s*:\\s*\"[^\"]*?\"(?:\\s*,\\s*\"[^\"]*?\"\\s*:\\s*\"(?:\\\\.|[^\"\\\\])*\")*?\\s*,\\s*\"?Spouse2_surname\"?\\s*:\\s*\"(?:\\\\.|[^\"\\\\])*\"\\s*\\}'\n",
    "\n",
    "        pattern = (r'\\{\\s*\"?Application\\s*number\"?\\s*:\\s*\"[^\"]*?\"'\n",
    "                    r'(?:\\s*,\\s*\"(?:\\\\.|[^\"\\\\])*?\"\\s*:\\s*\"(?:\\\\.|[^\"\\\\])*\")*?'\n",
    "                    r'\\s*,\\s*\"?Spouse2_surname\"?\\s*:\\s*\"(?:\\\\.|[^\"\\\\])*?\"\\s*\\}'\n",
    "                )\n",
    "\n",
    "        match = re.search(pattern, inference_text)\n",
    "    \n",
    "        # If no match is found, return None\n",
    "        if not match:\n",
    "            return None\n",
    "    \n",
    "        json_string = match.group()\n",
    "    \n",
    "        try:\n",
    "            json_data = json.loads(json_string)\n",
    "            json_data = replace_keys(json_data)\n",
    "            json_data['Image'] = item['Image']\n",
    "            return json_data\n",
    "        except json.JSONDecodeError as e:\n",
    "            print(f\"Error decoding JSON for image {item['Image']}: {e}\")\n",
    "            return None\n",
    "\n",
    "    json_outputs = []\n",
    "\n",
    "    with concurrent.futures.ThreadPoolExecutor(max_workers=max_workers) as executor:\n",
    "        futures = [executor.submit(process_item, item) for item in final_results]\n",
    "\n",
    "        for future in concurrent.futures.as_completed(futures):\n",
    "            result = future.result()\n",
    "            if result:\n",
    "                json_outputs.append(result)\n",
    "\n",
    "    return json_outputs\n"
   ]
  },
  {
   "cell_type": "code",
   "execution_count": 15,
   "id": "231981e8-329a-4412-bf2e-eba5a2f302b4",
   "metadata": {
    "scrolled": true
   },
   "outputs": [
    {
     "name": "stdout",
     "output_type": "stream",
     "text": [
      "Start time: 1705436625.8016274 seconds \n",
      "\n"
     ]
    },
    {
     "name": "stderr",
     "output_type": "stream",
     "text": [
      "                                                                     \r"
     ]
    },
    {
     "name": "stdout",
     "output_type": "stream",
     "text": [
      "Processed OCR for image: 2008225268_01\n"
     ]
    },
    {
     "name": "stderr",
     "output_type": "stream",
     "text": [
      "                                                                     \r"
     ]
    },
    {
     "name": "stdout",
     "output_type": "stream",
     "text": [
      "Processed OCR for image: 2008225243_01\n"
     ]
    },
    {
     "name": "stderr",
     "output_type": "stream",
     "text": [
      "Processing Images:   0%|          | 3/3053 [00:02<39:09,  1.30it/s]"
     ]
    },
    {
     "name": "stdout",
     "output_type": "stream",
     "text": [
      "Processed OCR for image: 2008225280_01\n"
     ]
    },
    {
     "name": "stderr",
     "output_type": "stream",
     "text": [
      "Processing Images:   0%|          | 4/3053 [00:03<34:38,  1.47it/s]"
     ]
    },
    {
     "name": "stdout",
     "output_type": "stream",
     "text": [
      "Processed OCR for image: 2008225261_01\n"
     ]
    },
    {
     "name": "stderr",
     "output_type": "stream",
     "text": [
      "Processing Images:   0%|          | 4/3053 [00:03<34:38,  1.47it/s]"
     ]
    },
    {
     "name": "stdout",
     "output_type": "stream",
     "text": [
      "Processed OCR for image: 2008225173_01\n"
     ]
    },
    {
     "name": "stderr",
     "output_type": "stream",
     "text": [
      "Processing Images:   0%|          | 6/3053 [00:04<36:06,  1.41it/s]"
     ]
    },
    {
     "name": "stdout",
     "output_type": "stream",
     "text": [
      "Processed OCR for image: 2008225114_01\n"
     ]
    },
    {
     "name": "stderr",
     "output_type": "stream",
     "text": [
      "                                                                   \r"
     ]
    },
    {
     "name": "stdout",
     "output_type": "stream",
     "text": [
      "Processed OCR for image: 2008225077_01\n"
     ]
    },
    {
     "name": "stderr",
     "output_type": "stream",
     "text": [
      "                                                                   \r"
     ]
    },
    {
     "name": "stdout",
     "output_type": "stream",
     "text": [
      "Processed OCR for image: 2008225373_01\n"
     ]
    },
    {
     "name": "stderr",
     "output_type": "stream",
     "text": [
      "Processing Images:   0%|          | 9/3053 [00:05<24:39,  2.06it/s]"
     ]
    },
    {
     "name": "stdout",
     "output_type": "stream",
     "text": [
      "Processed OCR for image: 2008225113_01\n"
     ]
    },
    {
     "name": "stderr",
     "output_type": "stream",
     "text": [
      "Processing Images:   1%|          | 19/3053 [00:06<05:10,  9.76it/s]"
     ]
    },
    {
     "name": "stdout",
     "output_type": "stream",
     "text": [
      "Processed OCR for image: 2008225543_01\n",
      "Processed OCR for image: 2008225674_01\n",
      "Processed OCR for image: 2008226267_01\n",
      "Processed OCR for image: 2008225988_01\n",
      "Processed OCR for image: 2008225618_01\n",
      "Processed OCR for image: 2008226090_01\n",
      "Processed OCR for image: 2008226376_01\n",
      "Processed OCR for image: 2008226420_01\n",
      "Processed OCR for image: 2008226444_01\n",
      "Processed OCR for image: 2008226446_01\n"
     ]
    },
    {
     "name": "stderr",
     "output_type": "stream",
     "text": [
      "                                                                    \r"
     ]
    },
    {
     "name": "stdout",
     "output_type": "stream",
     "text": [
      "Processed OCR for image: 2008226447_01\n"
     ]
    },
    {
     "name": "stderr",
     "output_type": "stream",
     "text": [
      "Processing Images:   1%|          | 21/3053 [00:08<12:19,  4.10it/s]"
     ]
    },
    {
     "name": "stdout",
     "output_type": "stream",
     "text": [
      "Processed OCR for image: 2008226448_01\n",
      "Processed OCR for image: 2008226449_01\n"
     ]
    },
    {
     "name": "stderr",
     "output_type": "stream",
     "text": [
      "Processing Images:   1%|          | 23/3053 [00:08<11:44,  4.30it/s]"
     ]
    },
    {
     "name": "stdout",
     "output_type": "stream",
     "text": [
      "Processed OCR for image: 2008226452_01\n",
      "Processed OCR for image: 2008226461_01\n",
      "Processed OCR for image: 2008226451_01\n",
      "Processed OCR for image: 2008226457_01\n",
      "Processed OCR for image: 2008226466_01\n"
     ]
    },
    {
     "name": "stderr",
     "output_type": "stream",
     "text": [
      "Processing Images:   1%|          | 28/3053 [00:09<11:01,  4.57it/s]"
     ]
    },
    {
     "name": "stdout",
     "output_type": "stream",
     "text": [
      "Processed OCR for image: 2008226477_01\n",
      "Processed OCR for image: 2008226478_01\n"
     ]
    },
    {
     "name": "stderr",
     "output_type": "stream",
     "text": [
      "                                                                    \r"
     ]
    },
    {
     "name": "stdout",
     "output_type": "stream",
     "text": [
      "Processed OCR for image: 2008226485_01\n"
     ]
    },
    {
     "name": "stderr",
     "output_type": "stream",
     "text": [
      "                                                                    \r"
     ]
    },
    {
     "name": "stdout",
     "output_type": "stream",
     "text": [
      "Processed OCR for image: 2008226504_01\n"
     ]
    },
    {
     "name": "stderr",
     "output_type": "stream",
     "text": [
      "Processing Images:   1%|          | 32/3053 [00:10<13:51,  3.63it/s]"
     ]
    },
    {
     "name": "stdout",
     "output_type": "stream",
     "text": [
      "Processed OCR for image: 2008226487_01\n"
     ]
    },
    {
     "name": "stderr",
     "output_type": "stream",
     "text": [
      "Processing Images:   1%|          | 33/3053 [00:11<13:56,  3.61it/s]"
     ]
    },
    {
     "name": "stdout",
     "output_type": "stream",
     "text": [
      "Processed OCR for image: 2008226503_01\n",
      "Processed OCR for image: 2008226493_01\n",
      "Processed OCR for image: 2008226489_01\n",
      "Processed OCR for image: 2008226508_01\n",
      "Processed OCR for image: 2008226511_01\n"
     ]
    },
    {
     "name": "stderr",
     "output_type": "stream",
     "text": [
      "Processing Images:   1%|          | 38/3053 [00:12<15:19,  3.28it/s]"
     ]
    },
    {
     "name": "stdout",
     "output_type": "stream",
     "text": [
      "Processed OCR for image: 2008226543_01\n",
      "Processed OCR for image: 2008226548_01\n"
     ]
    },
    {
     "name": "stderr",
     "output_type": "stream",
     "text": [
      "Processing Images:   1%|▏         | 40/3053 [00:13<14:17,  3.51it/s]"
     ]
    },
    {
     "name": "stdout",
     "output_type": "stream",
     "text": [
      "Processed OCR for image: 2008226545_01\n",
      "Processed OCR for image: 2008226561_01\n",
      "Processed OCR for image: 2008226546_01\n",
      "Processed OCR for image: 2008226549_01\n",
      "Processed OCR for image: 2008226550_01\n",
      "Processed OCR for image: 2008226553_01\n"
     ]
    },
    {
     "name": "stderr",
     "output_type": "stream",
     "text": [
      "Processing Images:   1%|▏         | 40/3053 [00:13<14:17,  3.51it/s]"
     ]
    },
    {
     "name": "stdout",
     "output_type": "stream",
     "text": [
      "Processed OCR for image: 2008226621_01\n"
     ]
    },
    {
     "name": "stderr",
     "output_type": "stream",
     "text": [
      "Processing Images:   2%|▏         | 47/3053 [00:15<15:28,  3.24it/s]"
     ]
    },
    {
     "name": "stdout",
     "output_type": "stream",
     "text": [
      "Processed OCR for image: 2008226919_01\n"
     ]
    },
    {
     "name": "stderr",
     "output_type": "stream",
     "text": [
      "Processing Images:   2%|▏         | 48/3053 [00:15<16:21,  3.06it/s]"
     ]
    },
    {
     "name": "stdout",
     "output_type": "stream",
     "text": [
      "Processed OCR for image: 2008226981_01\n",
      "Processed OCR for image: 2008227056_01\n"
     ]
    },
    {
     "name": "stderr",
     "output_type": "stream",
     "text": [
      "                                                                    "
     ]
    },
    {
     "name": "stdout",
     "output_type": "stream",
     "text": [
      "Processed OCR for image: 2008226647_01\n"
     ]
    },
    {
     "name": "stderr",
     "output_type": "stream",
     "text": [
      "Processing Images:   2%|▏         | 51/3053 [00:16<19:40,  2.54it/s]"
     ]
    },
    {
     "name": "stdout",
     "output_type": "stream",
     "text": [
      "Processed OCR for image: 2008227196_01\n"
     ]
    },
    {
     "name": "stderr",
     "output_type": "stream",
     "text": [
      "Processing Images:   2%|▏         | 51/3053 [00:17<19:40,  2.54it/s]"
     ]
    },
    {
     "name": "stdout",
     "output_type": "stream",
     "text": [
      "Processed OCR for image: 2008227004_01\n"
     ]
    },
    {
     "name": "stderr",
     "output_type": "stream",
     "text": [
      "Processing Images:   2%|▏         | 53/3053 [00:18<23:10,  2.16it/s]"
     ]
    },
    {
     "name": "stdout",
     "output_type": "stream",
     "text": [
      "Processed OCR for image: 2008227011_01\n"
     ]
    },
    {
     "name": "stderr",
     "output_type": "stream",
     "text": [
      "                                                                    "
     ]
    },
    {
     "name": "stdout",
     "output_type": "stream",
     "text": [
      "Processed OCR for image: 2008227256_01\n"
     ]
    },
    {
     "name": "stderr",
     "output_type": "stream",
     "text": [
      "                                                                    "
     ]
    },
    {
     "name": "stdout",
     "output_type": "stream",
     "text": [
      "Processed OCR for image: 2008227271_01\n"
     ]
    },
    {
     "name": "stderr",
     "output_type": "stream",
     "text": [
      "                                                                    \r"
     ]
    },
    {
     "name": "stdout",
     "output_type": "stream",
     "text": [
      "Processed OCR for image: 2008227260_01\n"
     ]
    },
    {
     "name": "stderr",
     "output_type": "stream",
     "text": [
      "                                                                    \r"
     ]
    },
    {
     "name": "stdout",
     "output_type": "stream",
     "text": [
      "Processed OCR for image: 2008227300_01\n"
     ]
    },
    {
     "name": "stderr",
     "output_type": "stream",
     "text": [
      "Processing Images:   2%|▏         | 58/3053 [00:20<21:34,  2.31it/s]"
     ]
    },
    {
     "name": "stdout",
     "output_type": "stream",
     "text": [
      "Processed OCR for image: 2008227313_01\n"
     ]
    },
    {
     "name": "stderr",
     "output_type": "stream",
     "text": [
      "Processing Images:   2%|▏         | 59/3053 [00:20<25:07,  1.99it/s]"
     ]
    },
    {
     "name": "stdout",
     "output_type": "stream",
     "text": [
      "Processed OCR for image: 2008227302_01\n"
     ]
    },
    {
     "name": "stderr",
     "output_type": "stream",
     "text": [
      "Processing Images:   2%|▏         | 60/3053 [00:21<30:41,  1.63it/s]"
     ]
    },
    {
     "name": "stdout",
     "output_type": "stream",
     "text": [
      "Processed OCR for image: 2008227309_01\n"
     ]
    },
    {
     "name": "stderr",
     "output_type": "stream",
     "text": [
      "Processing Images:   2%|▏         | 72/3053 [00:21<05:23,  9.21it/s]"
     ]
    },
    {
     "name": "stdout",
     "output_type": "stream",
     "text": [
      "Processed OCR for image: 2008227319_01\n",
      "Processed OCR for image: 2008227322_01\n",
      "Processed OCR for image: 2008227324_01\n",
      "Processed OCR for image: 2008227325_01\n",
      "Processed OCR for image: 2008227329_01\n",
      "Processed OCR for image: 2008227326_01\n",
      "Processed OCR for image: 2008227356_01\n",
      "Processed OCR for image: 2008227331_01\n",
      "Processed OCR for image: 2008227332_01\n",
      "Processed OCR for image: 2008227365_01\n",
      "Processed OCR for image: 2008227366_01\n",
      "Processed OCR for image: 2008227376_01\n"
     ]
    },
    {
     "name": "stderr",
     "output_type": "stream",
     "text": [
      "Processing Images:   2%|▏         | 72/3053 [00:22<05:23,  9.21it/s]"
     ]
    },
    {
     "name": "stdout",
     "output_type": "stream",
     "text": [
      "Processed OCR for image: 2008227371_01\n",
      "Processed OCR for image: 2008227377_01\n"
     ]
    },
    {
     "name": "stderr",
     "output_type": "stream",
     "text": [
      "Processing Images:   2%|▏         | 76/3053 [00:22<07:06,  6.98it/s]"
     ]
    },
    {
     "name": "stdout",
     "output_type": "stream",
     "text": [
      "Processed OCR for image: 2008227369_01\n",
      "Processed OCR for image: 2008227382_01\n",
      "Processed OCR for image: 2008227380_01\n",
      "Processed OCR for image: 2008227393_01\n",
      "Processed OCR for image: 2008227391_01\n",
      "Processed OCR for image: 2008227389_01\n"
     ]
    },
    {
     "name": "stderr",
     "output_type": "stream",
     "text": [
      "Processing Images:   3%|▎         | 81/3053 [00:24<09:14,  5.36it/s]"
     ]
    },
    {
     "name": "stdout",
     "output_type": "stream",
     "text": [
      "Processed OCR for image: 2008227446_01\n"
     ]
    },
    {
     "name": "stderr",
     "output_type": "stream",
     "text": [
      "Processing Images:   3%|▎         | 81/3053 [00:24<09:14,  5.36it/s]"
     ]
    },
    {
     "name": "stdout",
     "output_type": "stream",
     "text": [
      "Processed OCR for image: 2008227431_01\n",
      "Processed OCR for image: 2008227405_01\n"
     ]
    },
    {
     "name": "stderr",
     "output_type": "stream",
     "text": [
      "Processing Images:   3%|▎         | 83/3053 [00:25<11:10,  4.43it/s]"
     ]
    },
    {
     "name": "stdout",
     "output_type": "stream",
     "text": [
      "Processed OCR for image: 2008227402_01\n"
     ]
    },
    {
     "name": "stderr",
     "output_type": "stream",
     "text": [
      "Processing Images:   3%|▎         | 83/3053 [00:25<11:10,  4.43it/s]"
     ]
    },
    {
     "name": "stdout",
     "output_type": "stream",
     "text": [
      "Processed OCR for image: 2008227440_01\n"
     ]
    },
    {
     "name": "stderr",
     "output_type": "stream",
     "text": [
      "Processing Images:   3%|▎         | 85/3053 [00:27<16:31,  2.99it/s]"
     ]
    },
    {
     "name": "stdout",
     "output_type": "stream",
     "text": [
      "Processed OCR for image: 2008228180_01\n"
     ]
    },
    {
     "name": "stderr",
     "output_type": "stream",
     "text": [
      "Processing Images:   3%|▎         | 87/3053 [00:27<18:25,  2.68it/s]"
     ]
    },
    {
     "name": "stdout",
     "output_type": "stream",
     "text": [
      "Processed OCR for image: 2008228309_01\n",
      "Processed OCR for image: 2008227500_01\n",
      "Processed OCR for image: 2008228311_01\n",
      "Processed OCR for image: 2008228312_01\n",
      "Processed OCR for image: 2008228321_01\n",
      "Processed OCR for image: 2008228520_01\n",
      "Processed OCR for image: 2008228317_01\n",
      "Processed OCR for image: 2008228898_01\n",
      "Processed OCR for image: 2008228646_01\n",
      "Processed OCR for image: 2008228667_01\n",
      "Processed OCR for image: 2008228540_01\n"
     ]
    },
    {
     "name": "stderr",
     "output_type": "stream",
     "text": [
      "Processing Images:   3%|▎         | 98/3053 [00:28<08:25,  5.85it/s]"
     ]
    },
    {
     "name": "stdout",
     "output_type": "stream",
     "text": [
      "Processed OCR for image: 2008228935_01\n"
     ]
    },
    {
     "name": "stderr",
     "output_type": "stream",
     "text": [
      "Processing Images:   3%|▎         | 98/3053 [00:29<08:25,  5.85it/s]"
     ]
    },
    {
     "name": "stdout",
     "output_type": "stream",
     "text": [
      "Processed OCR for image: 2008228940_01\n",
      "Processed OCR for image: 2008228948_01\n"
     ]
    },
    {
     "name": "stderr",
     "output_type": "stream",
     "text": [
      "Processing Images:   3%|▎         | 101/3053 [00:30<13:46,  3.57it/s]"
     ]
    },
    {
     "name": "stdout",
     "output_type": "stream",
     "text": [
      "Processed OCR for image: 2008228944_01\n",
      "Processed OCR for image: 2008228947_01\n",
      "Processed OCR for image: 2008228936_01\n",
      "Processed OCR for image: 2008228949_01\n",
      "Processed OCR for image: 2008228954_01\n",
      "Processed OCR for image: 2008228952_01\n"
     ]
    },
    {
     "name": "stderr",
     "output_type": "stream",
     "text": [
      "                                                                     \r"
     ]
    },
    {
     "name": "stdout",
     "output_type": "stream",
     "text": [
      "Processed OCR for image: 2008228968_01\n"
     ]
    },
    {
     "name": "stderr",
     "output_type": "stream",
     "text": [
      "Processing Images:   4%|▎         | 108/3053 [00:32<13:57,  3.52it/s]"
     ]
    },
    {
     "name": "stdout",
     "output_type": "stream",
     "text": [
      "Processed OCR for image: 2008228969_01\n"
     ]
    },
    {
     "name": "stderr",
     "output_type": "stream",
     "text": [
      "                                                                     "
     ]
    },
    {
     "name": "stdout",
     "output_type": "stream",
     "text": [
      "Processed OCR for image: 2008229198_01\n",
      "Processed OCR for image: 2008228962_01\n"
     ]
    },
    {
     "name": "stderr",
     "output_type": "stream",
     "text": [
      "Processing Images:   4%|▎         | 111/3053 [00:33<15:03,  3.26it/s]"
     ]
    },
    {
     "name": "stdout",
     "output_type": "stream",
     "text": [
      "Processed OCR for image: 2008228956_01\n",
      "Processed OCR for image: 2008228971_01\n",
      "Processed OCR for image: 2008228958_01\n",
      "Processed OCR for image: 2008228988_01\n",
      "Processed OCR for image: 2008229200_01\n",
      "Processed OCR for image: 2008229242_01\n"
     ]
    },
    {
     "name": "stderr",
     "output_type": "stream",
     "text": [
      "Processing Images:   4%|▍         | 117/3053 [00:34<11:55,  4.10it/s]"
     ]
    },
    {
     "name": "stdout",
     "output_type": "stream",
     "text": [
      "Processed OCR for image: 2008229572_01\n"
     ]
    },
    {
     "name": "stderr",
     "output_type": "stream",
     "text": [
      "Processing Images:   4%|▍         | 118/3053 [00:35<14:39,  3.34it/s]"
     ]
    },
    {
     "name": "stdout",
     "output_type": "stream",
     "text": [
      "Processed OCR for image: 2008229343_01\n"
     ]
    },
    {
     "name": "stderr",
     "output_type": "stream",
     "text": [
      "Processing Images:   4%|▍         | 119/3053 [00:35<15:58,  3.06it/s]"
     ]
    },
    {
     "name": "stdout",
     "output_type": "stream",
     "text": [
      "Processed OCR for image: 2008229376_01\n"
     ]
    },
    {
     "name": "stderr",
     "output_type": "stream",
     "text": [
      "Processing Images:   4%|▍         | 120/3053 [00:35<15:54,  3.07it/s]"
     ]
    },
    {
     "name": "stdout",
     "output_type": "stream",
     "text": [
      "Processed OCR for image: 2008229995_01\n",
      "Processed OCR for image: 2008230550_01\n",
      "Processed OCR for image: 2008230496_01\n",
      "Processed OCR for image: 2008230566_01\n",
      "Processed OCR for image: 2008230551_01\n",
      "Processed OCR for image: 2008230602_01\n",
      "Processed OCR for image: 2008230698_01\n"
     ]
    },
    {
     "name": "stderr",
     "output_type": "stream",
     "text": [
      "Processing Images:   4%|▍         | 127/3053 [00:37<12:21,  3.95it/s]"
     ]
    },
    {
     "name": "stdout",
     "output_type": "stream",
     "text": [
      "Processed OCR for image: 2008230920_01\n"
     ]
    },
    {
     "name": "stderr",
     "output_type": "stream",
     "text": [
      "Processing Images:   4%|▍         | 128/3053 [00:38<14:58,  3.25it/s]"
     ]
    },
    {
     "name": "stdout",
     "output_type": "stream",
     "text": [
      "Processed OCR for image: 2008230776_01\n",
      "Processed OCR for image: 2008230869_01\n",
      "Processed OCR for image: 2008231068_01\n",
      "Processed OCR for image: 2008231044_01\n",
      "Processed OCR for image: 2008231106_01\n",
      "Processed OCR for image: 2008231129_01\n",
      "Processed OCR for image: 2008231128_01\n"
     ]
    },
    {
     "name": "stderr",
     "output_type": "stream",
     "text": [
      "Processing Images:   4%|▍         | 135/3053 [00:38<08:19,  5.84it/s]"
     ]
    },
    {
     "name": "stdout",
     "output_type": "stream",
     "text": [
      "Processed OCR for image: 2008231134_01\n"
     ]
    },
    {
     "name": "stderr",
     "output_type": "stream",
     "text": [
      "Processing Images:   4%|▍         | 136/3053 [00:39<10:27,  4.65it/s]"
     ]
    },
    {
     "name": "stdout",
     "output_type": "stream",
     "text": [
      "Processed OCR for image: 2008231136_01\n"
     ]
    },
    {
     "name": "stderr",
     "output_type": "stream",
     "text": [
      "Processing Images:   4%|▍         | 137/3053 [00:40<14:55,  3.26it/s]"
     ]
    },
    {
     "name": "stdout",
     "output_type": "stream",
     "text": [
      "Processed OCR for image: 2008231138_01\n"
     ]
    },
    {
     "name": "stderr",
     "output_type": "stream",
     "text": [
      "Processing Images:   5%|▍         | 138/3053 [00:40<16:34,  2.93it/s]"
     ]
    },
    {
     "name": "stdout",
     "output_type": "stream",
     "text": [
      "Processed OCR for image: 2008231251_01\n",
      "Processed OCR for image: 2008231151_01\n"
     ]
    },
    {
     "name": "stderr",
     "output_type": "stream",
     "text": [
      "Processing Images:   5%|▍         | 140/3053 [00:41<21:25,  2.27it/s]"
     ]
    },
    {
     "name": "stdout",
     "output_type": "stream",
     "text": [
      "Processed OCR for image: 2008231234_01\n"
     ]
    },
    {
     "name": "stderr",
     "output_type": "stream",
     "text": [
      "                                                                     "
     ]
    },
    {
     "name": "stdout",
     "output_type": "stream",
     "text": [
      "Processed OCR for image: 2008231152_01\n"
     ]
    },
    {
     "name": "stderr",
     "output_type": "stream",
     "text": [
      "                                                                     \r"
     ]
    },
    {
     "name": "stdout",
     "output_type": "stream",
     "text": [
      "Processed OCR for image: 2008231418_01\n"
     ]
    },
    {
     "name": "stderr",
     "output_type": "stream",
     "text": [
      "Processing Images:   5%|▍         | 143/3053 [00:43<21:19,  2.27it/s]"
     ]
    },
    {
     "name": "stdout",
     "output_type": "stream",
     "text": [
      "Processed OCR for image: 2008231417_01\n"
     ]
    },
    {
     "name": "stderr",
     "output_type": "stream",
     "text": [
      "Processing Images:   5%|▍         | 144/3053 [00:44<31:34,  1.54it/s]"
     ]
    },
    {
     "name": "stdout",
     "output_type": "stream",
     "text": [
      "Processed OCR for image: 2008231574_01\n"
     ]
    },
    {
     "name": "stderr",
     "output_type": "stream",
     "text": [
      "Processing Images:   5%|▍         | 147/3053 [00:44<17:49,  2.72it/s]"
     ]
    },
    {
     "name": "stdout",
     "output_type": "stream",
     "text": [
      "Processed OCR for image: 2008231465_01\n",
      "Processed OCR for image: 2008231663_01\n",
      "Processed OCR for image: 2008231647_01\n",
      "Processed OCR for image: 2008231763_01\n",
      "Processed OCR for image: 2008231932_01\n",
      "Processed OCR for image: 2008231781_01\n",
      "Processed OCR for image: 2008232285_01\n",
      "Processed OCR for image: 2008232130_01\n",
      "Processed OCR for image: 2008232069_01\n",
      "Processed OCR for image: 2008232339_01\n",
      "Processed OCR for image: 2008232345_01\n"
     ]
    },
    {
     "name": "stderr",
     "output_type": "stream",
     "text": [
      "                                                                     \r"
     ]
    },
    {
     "name": "stdout",
     "output_type": "stream",
     "text": [
      "Processed OCR for image: 2008232407_01\n"
     ]
    },
    {
     "name": "stderr",
     "output_type": "stream",
     "text": [
      "                                                                     "
     ]
    },
    {
     "name": "stdout",
     "output_type": "stream",
     "text": [
      "Processed OCR for image: 2008232555_01\n"
     ]
    },
    {
     "name": "stderr",
     "output_type": "stream",
     "text": [
      "Processing Images:   5%|▌         | 158/3053 [00:46<10:35,  4.56it/s]"
     ]
    },
    {
     "name": "stdout",
     "output_type": "stream",
     "text": [
      "Processed OCR for image: 2008232435_01\n"
     ]
    },
    {
     "name": "stderr",
     "output_type": "stream",
     "text": [
      "                                                                     "
     ]
    },
    {
     "name": "stdout",
     "output_type": "stream",
     "text": [
      "Processed OCR for image: 2008232573_01\n"
     ]
    },
    {
     "name": "stderr",
     "output_type": "stream",
     "text": [
      "Processing Images:   5%|▌         | 160/3053 [00:47<12:13,  3.95it/s]"
     ]
    },
    {
     "name": "stdout",
     "output_type": "stream",
     "text": [
      "Processed OCR for image: 2008232595_01\n"
     ]
    },
    {
     "name": "stderr",
     "output_type": "stream",
     "text": [
      "Processing Images:   5%|▌         | 161/3053 [00:47<14:11,  3.40it/s]"
     ]
    },
    {
     "name": "stdout",
     "output_type": "stream",
     "text": [
      "Processed OCR for image: 2008232577_01\n"
     ]
    },
    {
     "name": "stderr",
     "output_type": "stream",
     "text": [
      "Processing Images:   5%|▌         | 163/3053 [00:48<13:40,  3.52it/s]"
     ]
    },
    {
     "name": "stdout",
     "output_type": "stream",
     "text": [
      "Processed OCR for image: 2008232597_01\n",
      "Processed OCR for image: 2008232582_01\n"
     ]
    },
    {
     "name": "stderr",
     "output_type": "stream",
     "text": [
      "Processing Images:   5%|▌         | 164/3053 [00:49<18:19,  2.63it/s]"
     ]
    },
    {
     "name": "stdout",
     "output_type": "stream",
     "text": [
      "Processed OCR for image: 2008232605_01\n"
     ]
    },
    {
     "name": "stderr",
     "output_type": "stream",
     "text": [
      "                                                                     \r"
     ]
    },
    {
     "name": "stdout",
     "output_type": "stream",
     "text": [
      "Processed OCR for image: 2008232600_01\n"
     ]
    },
    {
     "name": "stderr",
     "output_type": "stream",
     "text": [
      "Processing Images:   5%|▌         | 167/3053 [00:50<16:40,  2.88it/s]"
     ]
    },
    {
     "name": "stdout",
     "output_type": "stream",
     "text": [
      "Processed OCR for image: 2008232625_01\n",
      "Processed OCR for image: 2008232609_01\n"
     ]
    },
    {
     "name": "stderr",
     "output_type": "stream",
     "text": [
      "Processing Images:   6%|▌         | 169/3053 [00:50<13:37,  3.53it/s]"
     ]
    },
    {
     "name": "stdout",
     "output_type": "stream",
     "text": [
      "Processed OCR for image: 2008232642_01\n",
      "Processed OCR for image: 2008232681_01\n"
     ]
    },
    {
     "name": "stderr",
     "output_type": "stream",
     "text": [
      "Processing Images:   6%|▌         | 170/3053 [00:51<14:17,  3.36it/s]"
     ]
    },
    {
     "name": "stdout",
     "output_type": "stream",
     "text": [
      "Processed OCR for image: 2008232675_01\n"
     ]
    },
    {
     "name": "stderr",
     "output_type": "stream",
     "text": [
      "Processing Images:   6%|▌         | 171/3053 [00:51<23:36,  2.03it/s]"
     ]
    },
    {
     "name": "stdout",
     "output_type": "stream",
     "text": [
      "Processed OCR for image: 2008232818_01\n"
     ]
    },
    {
     "name": "stderr",
     "output_type": "stream",
     "text": [
      "Processing Images:   6%|▌         | 172/3053 [00:52<25:34,  1.88it/s]"
     ]
    },
    {
     "name": "stdout",
     "output_type": "stream",
     "text": [
      "Processed OCR for image: 2008232816_01\n"
     ]
    },
    {
     "name": "stderr",
     "output_type": "stream",
     "text": [
      "Processing Images:   6%|▌         | 173/3053 [00:52<22:46,  2.11it/s]"
     ]
    },
    {
     "name": "stdout",
     "output_type": "stream",
     "text": [
      "Processed OCR for image: 2008232817_01\n"
     ]
    },
    {
     "name": "stderr",
     "output_type": "stream",
     "text": [
      "                                                                     "
     ]
    },
    {
     "name": "stdout",
     "output_type": "stream",
     "text": [
      "Processed OCR for image: 2008232858_01\n"
     ]
    },
    {
     "name": "stderr",
     "output_type": "stream",
     "text": [
      "Processing Images:   6%|▌         | 175/3053 [00:54<30:57,  1.55it/s]"
     ]
    },
    {
     "name": "stdout",
     "output_type": "stream",
     "text": [
      "Processed OCR for image: 2008232857_01\n"
     ]
    },
    {
     "name": "stderr",
     "output_type": "stream",
     "text": [
      "Processing Images:   6%|▌         | 181/3053 [00:55<09:22,  5.10it/s]"
     ]
    },
    {
     "name": "stdout",
     "output_type": "stream",
     "text": [
      "Processed OCR for image: 2008232880_01\n",
      "Processed OCR for image: 2008232869_01\n",
      "Processed OCR for image: 2008232894_01\n",
      "Processed OCR for image: 2008233004_01\n",
      "Processed OCR for image: 2008232939_01\n",
      "Processed OCR for image: 2008233028_01\n"
     ]
    },
    {
     "name": "stderr",
     "output_type": "stream",
     "text": [
      "                                                                     \r"
     ]
    },
    {
     "name": "stdout",
     "output_type": "stream",
     "text": [
      "Processed OCR for image: 2008233075_01\n",
      "Processed OCR for image: 2008233058_01\n",
      "Processed OCR for image: 2008233085_01\n"
     ]
    },
    {
     "name": "stderr",
     "output_type": "stream",
     "text": [
      "Processing Images:   6%|▌         | 185/3053 [00:55<07:46,  6.15it/s]"
     ]
    },
    {
     "name": "stdout",
     "output_type": "stream",
     "text": [
      "Processed OCR for image: 2008233111_01\n"
     ]
    },
    {
     "name": "stderr",
     "output_type": "stream",
     "text": [
      "Processing Images:   6%|▌         | 185/3053 [00:56<07:46,  6.15it/s]"
     ]
    },
    {
     "name": "stdout",
     "output_type": "stream",
     "text": [
      "Processed OCR for image: 2008233076_01\n"
     ]
    },
    {
     "name": "stderr",
     "output_type": "stream",
     "text": [
      "Processing Images:   6%|▌         | 187/3053 [00:57<15:39,  3.05it/s]"
     ]
    },
    {
     "name": "stdout",
     "output_type": "stream",
     "text": [
      "Processed OCR for image: 2008233200_01\n",
      "Processed OCR for image: 2008233258_01\n"
     ]
    },
    {
     "name": "stderr",
     "output_type": "stream",
     "text": [
      "Processing Images:   6%|▋         | 194/3053 [00:57<07:19,  6.51it/s]"
     ]
    },
    {
     "name": "stdout",
     "output_type": "stream",
     "text": [
      "Processed OCR for image: 2008233202_01\n",
      "Processed OCR for image: 2008233348_01\n",
      "Processed OCR for image: 2008233397_01\n",
      "Processed OCR for image: 2008233383_01\n",
      "Processed OCR for image: 2008233365_01\n",
      "Processed OCR for image: 2008233398_01\n"
     ]
    },
    {
     "name": "stderr",
     "output_type": "stream",
     "text": [
      "Processing Images:   6%|▋         | 194/3053 [00:58<07:19,  6.51it/s]"
     ]
    },
    {
     "name": "stdout",
     "output_type": "stream",
     "text": [
      "Processed OCR for image: 2008233399_01\n"
     ]
    },
    {
     "name": "stderr",
     "output_type": "stream",
     "text": [
      "Processing Images:   6%|▋         | 196/3053 [00:58<11:29,  4.14it/s]"
     ]
    },
    {
     "name": "stdout",
     "output_type": "stream",
     "text": [
      "Processed OCR for image: 2008233406_01\n"
     ]
    },
    {
     "name": "stderr",
     "output_type": "stream",
     "text": [
      "Processing Images:   6%|▋         | 197/3053 [00:59<14:24,  3.30it/s]"
     ]
    },
    {
     "name": "stdout",
     "output_type": "stream",
     "text": [
      "Processed OCR for image: 2008233408_01\n",
      "Processed OCR for image: 2008233407_01\n"
     ]
    },
    {
     "name": "stderr",
     "output_type": "stream",
     "text": [
      "                                                                     "
     ]
    },
    {
     "name": "stdout",
     "output_type": "stream",
     "text": [
      "Processed OCR for image: 2008233414_01\n"
     ]
    },
    {
     "name": "stderr",
     "output_type": "stream",
     "text": [
      "Processing Images:   7%|▋         | 201/3053 [01:00<12:07,  3.92it/s]"
     ]
    },
    {
     "name": "stdout",
     "output_type": "stream",
     "text": [
      "Processed OCR for image: 2008233758_01\n",
      "Processed OCR for image: 2008233450_01\n",
      "Processed OCR for image: 2008233672_01\n",
      "Processed OCR for image: 2008233449_01\n",
      "Processed OCR for image: 2008233786_01\n",
      "Processed OCR for image: 2008233817_01\n",
      "Processed OCR for image: 2008233933_01\n",
      "Processed OCR for image: 2008233904_01\n",
      "Processed OCR for image: 2008233961_01\n",
      "Processed OCR for image: 2008234617_01\n",
      "Processed OCR for image: 2008234449_01\n",
      "Processed OCR for image: 2008233929_01\n",
      "Processed OCR for image: 2008234248_01\n",
      "Processed OCR for image: 2008234661_01\n",
      "Processed OCR for image: 2008234891_01\n"
     ]
    },
    {
     "name": "stderr",
     "output_type": "stream",
     "text": [
      "                                                                     "
     ]
    },
    {
     "name": "stdout",
     "output_type": "stream",
     "text": [
      "Processed OCR for image: 2008235236_01\n"
     ]
    },
    {
     "name": "stderr",
     "output_type": "stream",
     "text": [
      "Processing Images:   7%|▋         | 222/3053 [01:02<05:33,  8.49it/s]"
     ]
    },
    {
     "name": "stdout",
     "output_type": "stream",
     "text": [
      "Processed OCR for image: 2008235054_01\n",
      "Processed OCR for image: 2008235293_01\n",
      "Processed OCR for image: 2008235231_01\n",
      "Processed OCR for image: 2008235234_01\n",
      "Processed OCR for image: 2008235342_01\n",
      "Processed OCR for image: 2008235299_01\n",
      "Processed OCR for image: 2008235427_01\n"
     ]
    },
    {
     "name": "stderr",
     "output_type": "stream",
     "text": [
      "                                                                     "
     ]
    },
    {
     "name": "stdout",
     "output_type": "stream",
     "text": [
      "Processed OCR for image: 2008235500_01\n"
     ]
    },
    {
     "name": "stderr",
     "output_type": "stream",
     "text": [
      "Processing Images:   7%|▋         | 224/3053 [01:05<12:28,  3.78it/s]"
     ]
    },
    {
     "name": "stdout",
     "output_type": "stream",
     "text": [
      "Processed OCR for image: 2008236326_01\n"
     ]
    },
    {
     "name": "stderr",
     "output_type": "stream",
     "text": [
      "Processing Images:   7%|▋         | 224/3053 [01:05<12:28,  3.78it/s]"
     ]
    },
    {
     "name": "stdout",
     "output_type": "stream",
     "text": [
      "Processed OCR for image: 2008235853_01\n",
      "Processed OCR for image: 2008235822_01\n"
     ]
    },
    {
     "name": "stderr",
     "output_type": "stream",
     "text": [
      "Processing Images:   7%|▋         | 228/3053 [01:05<10:50,  4.34it/s]"
     ]
    },
    {
     "name": "stdout",
     "output_type": "stream",
     "text": [
      "Processed OCR for image: 2008235879_01\n",
      "Processed OCR for image: 2008235592_01\n",
      "Processed OCR for image: 2008236436_01\n"
     ]
    },
    {
     "name": "stderr",
     "output_type": "stream",
     "text": [
      "Processing Images:   8%|▊         | 230/3053 [01:07<18:22,  2.56it/s]"
     ]
    },
    {
     "name": "stdout",
     "output_type": "stream",
     "text": [
      "Processed OCR for image: 2008236375_01\n"
     ]
    },
    {
     "name": "stderr",
     "output_type": "stream",
     "text": [
      "                                                                     \r"
     ]
    },
    {
     "name": "stdout",
     "output_type": "stream",
     "text": [
      "Processed OCR for image: 2008236438_01\n",
      "Processed OCR for image: 2008236443_01\n"
     ]
    },
    {
     "name": "stderr",
     "output_type": "stream",
     "text": [
      "Processing Images:   8%|▊         | 232/3053 [01:07<16:32,  2.84it/s]"
     ]
    },
    {
     "name": "stdout",
     "output_type": "stream",
     "text": [
      "Processed OCR for image: 2008236444_01\n",
      "Processed OCR for image: 2008236449_01\n",
      "Processed OCR for image: 2008236450_01\n",
      "Processed OCR for image: 2008236501_01\n",
      "Processed OCR for image: 2008236511_01\n",
      "Processed OCR for image: 2008236503_01\n",
      "Processed OCR for image: 2008236505_01\n"
     ]
    },
    {
     "name": "stderr",
     "output_type": "stream",
     "text": [
      "Processing Images:   8%|▊         | 240/3053 [01:08<06:58,  6.72it/s]"
     ]
    },
    {
     "name": "stdout",
     "output_type": "stream",
     "text": [
      "Processed OCR for image: 2008236516_01\n"
     ]
    },
    {
     "name": "stderr",
     "output_type": "stream",
     "text": [
      "Processing Images:   8%|▊         | 241/3053 [01:09<12:16,  3.82it/s]"
     ]
    },
    {
     "name": "stdout",
     "output_type": "stream",
     "text": [
      "Processed OCR for image: 2008236523_01\n"
     ]
    },
    {
     "name": "stderr",
     "output_type": "stream",
     "text": [
      "                                                                     "
     ]
    },
    {
     "name": "stdout",
     "output_type": "stream",
     "text": [
      "Processed OCR for image: 2008236528_01\n"
     ]
    },
    {
     "name": "stderr",
     "output_type": "stream",
     "text": [
      "Processing Images:   8%|▊         | 243/3053 [01:10<14:32,  3.22it/s]"
     ]
    },
    {
     "name": "stdout",
     "output_type": "stream",
     "text": [
      "Processed OCR for image: 2008236535_01\n"
     ]
    },
    {
     "name": "stderr",
     "output_type": "stream",
     "text": [
      "Processing Images:   8%|▊         | 243/3053 [01:11<14:32,  3.22it/s]"
     ]
    },
    {
     "name": "stdout",
     "output_type": "stream",
     "text": [
      "Processed OCR for image: 2008236531_01\n"
     ]
    },
    {
     "name": "stderr",
     "output_type": "stream",
     "text": [
      "Processing Images:   8%|▊         | 245/3053 [01:12<28:11,  1.66it/s]"
     ]
    },
    {
     "name": "stdout",
     "output_type": "stream",
     "text": [
      "Processed OCR for image: 2008236567_01\n"
     ]
    },
    {
     "name": "stderr",
     "output_type": "stream",
     "text": [
      "                                                                     \r"
     ]
    },
    {
     "name": "stdout",
     "output_type": "stream",
     "text": [
      "Processed OCR for image: 2008236727_01\n"
     ]
    },
    {
     "name": "stderr",
     "output_type": "stream",
     "text": [
      "Processing Images:   8%|▊         | 247/3053 [01:14<30:07,  1.55it/s]"
     ]
    },
    {
     "name": "stdout",
     "output_type": "stream",
     "text": [
      "Processed OCR for image: 2008236763_01\n",
      "Processed OCR for image: 2008236559_01\n",
      "Processed OCR for image: 2008236903_01\n",
      "Processed OCR for image: 2008236764_01\n",
      "Processed OCR for image: 2008236921_01\n",
      "Processed OCR for image: 2008236940_01\n",
      "Processed OCR for image: 2008236933_01\n",
      "Processed OCR for image: 2008236949_01\n",
      "Processed OCR for image: 2008237064_01\n",
      "Processed OCR for image: 2008237060_01\n",
      "Processed OCR for image: 2008237128_01\n",
      "Processed OCR for image: 2008237078_01\n",
      "Processed OCR for image: 2008237571_01\n",
      "Processed OCR for image: 2008237562_01\n",
      "Processed OCR for image: 2008237565_01\n",
      "Processed OCR for image: 2008237130_01\n",
      "Processed OCR for image: 2008237570_01\n"
     ]
    },
    {
     "name": "stderr",
     "output_type": "stream",
     "text": [
      "Processing Images:   9%|▊         | 264/3053 [01:15<06:38,  7.01it/s]"
     ]
    },
    {
     "name": "stdout",
     "output_type": "stream",
     "text": [
      "Processed OCR for image: 2008237605_01\n"
     ]
    },
    {
     "name": "stderr",
     "output_type": "stream",
     "text": [
      "Processing Images:   9%|▊         | 265/3053 [01:15<07:59,  5.81it/s]"
     ]
    },
    {
     "name": "stdout",
     "output_type": "stream",
     "text": [
      "Processed OCR for image: 2008237610_01\n"
     ]
    },
    {
     "name": "stderr",
     "output_type": "stream",
     "text": [
      "Processing Images:   9%|▊         | 266/3053 [01:16<09:43,  4.78it/s]"
     ]
    },
    {
     "name": "stdout",
     "output_type": "stream",
     "text": [
      "Processed OCR for image: 2008237613_01\n"
     ]
    },
    {
     "name": "stderr",
     "output_type": "stream",
     "text": [
      "                                                                     \r"
     ]
    },
    {
     "name": "stdout",
     "output_type": "stream",
     "text": [
      "Processed OCR for image: 2008237572_01\n"
     ]
    },
    {
     "name": "stderr",
     "output_type": "stream",
     "text": [
      "                                                                     "
     ]
    },
    {
     "name": "stdout",
     "output_type": "stream",
     "text": [
      "Processed OCR for image: 2008237647_01\n"
     ]
    },
    {
     "name": "stderr",
     "output_type": "stream",
     "text": [
      "Processing Images:   9%|▉         | 269/3053 [01:17<13:31,  3.43it/s]"
     ]
    },
    {
     "name": "stdout",
     "output_type": "stream",
     "text": [
      "Processed OCR for image: 2008237637_01\n"
     ]
    },
    {
     "name": "stderr",
     "output_type": "stream",
     "text": [
      "Processing Images:   9%|▉         | 269/3053 [01:18<13:31,  3.43it/s]"
     ]
    },
    {
     "name": "stdout",
     "output_type": "stream",
     "text": [
      "Processed OCR for image: 2008237642_01\n"
     ]
    },
    {
     "name": "stderr",
     "output_type": "stream",
     "text": [
      "                                                                     \r"
     ]
    },
    {
     "name": "stdout",
     "output_type": "stream",
     "text": [
      "Processed OCR for image: 2008237677_01\n",
      "Processed OCR for image: 2008237966_01\n"
     ]
    },
    {
     "name": "stderr",
     "output_type": "stream",
     "text": [
      "Processing Images:   9%|▉         | 276/3053 [01:19<10:40,  4.34it/s]"
     ]
    },
    {
     "name": "stdout",
     "output_type": "stream",
     "text": [
      "Processed OCR for image: 2008237919_01\n",
      "Processed OCR for image: 2008237969_01\n",
      "Processed OCR for image: 2008237970_01\n",
      "Processed OCR for image: 2008238003_01\n"
     ]
    },
    {
     "name": "stderr",
     "output_type": "stream",
     "text": [
      "Processing Images:   9%|▉         | 277/3053 [01:20<11:55,  3.88it/s]"
     ]
    },
    {
     "name": "stdout",
     "output_type": "stream",
     "text": [
      "Processed OCR for image: 2008237975_01\n",
      "Processed OCR for image: 2008238034_01\n",
      "Processed OCR for image: 2008237976_01\n",
      "Processed OCR for image: 2008238031_01\n",
      "Processed OCR for image: 2008238025_01\n",
      "Processed OCR for image: 2008238244_01\n"
     ]
    },
    {
     "name": "stderr",
     "output_type": "stream",
     "text": [
      "Processing Images:   9%|▉         | 283/3053 [01:21<13:20,  3.46it/s]"
     ]
    },
    {
     "name": "stdout",
     "output_type": "stream",
     "text": [
      "Processed OCR for image: 2008238276_01\n"
     ]
    },
    {
     "name": "stderr",
     "output_type": "stream",
     "text": [
      "Processing Images:   9%|▉         | 284/3053 [01:22<15:37,  2.95it/s]"
     ]
    },
    {
     "name": "stdout",
     "output_type": "stream",
     "text": [
      "Processed OCR for image: 2008238285_01\n",
      "Processed OCR for image: 2008238284_01\n",
      "Processed OCR for image: 2008238292_01\n",
      "Processed OCR for image: 2008238400_01\n",
      "Processed OCR for image: 2008238289_01\n",
      "Processed OCR for image: 2008238382_01\n",
      "Processed OCR for image: 2008238388_01\n",
      "Processed OCR for image: 2008238298_01\n",
      "Processed OCR for image: 2008238411_01\n",
      "Processed OCR for image: 2008238412_01\n"
     ]
    },
    {
     "name": "stderr",
     "output_type": "stream",
     "text": [
      "Processing Images:  10%|▉         | 294/3053 [01:24<10:03,  4.57it/s]"
     ]
    },
    {
     "name": "stdout",
     "output_type": "stream",
     "text": [
      "Processed OCR for image: 2008238450_01\n"
     ]
    },
    {
     "name": "stderr",
     "output_type": "stream",
     "text": [
      "Processing Images:  10%|▉         | 295/3053 [01:24<12:22,  3.71it/s]"
     ]
    },
    {
     "name": "stdout",
     "output_type": "stream",
     "text": [
      "Processed OCR for image: 2008238453_01\n"
     ]
    },
    {
     "name": "stderr",
     "output_type": "stream",
     "text": [
      "Processing Images:  10%|▉         | 296/3053 [01:25<13:28,  3.41it/s]"
     ]
    },
    {
     "name": "stdout",
     "output_type": "stream",
     "text": [
      "Processed OCR for image: 2008238454_01\n",
      "Processed OCR for image: 2008238461_01\n"
     ]
    },
    {
     "name": "stderr",
     "output_type": "stream",
     "text": [
      "Processing Images:  10%|▉         | 297/3053 [01:26<13:14,  3.47it/s]"
     ]
    },
    {
     "name": "stdout",
     "output_type": "stream",
     "text": [
      "Processed OCR for image: 2008238452_01\n"
     ]
    },
    {
     "name": "stderr",
     "output_type": "stream",
     "text": [
      "Processing Images:  10%|▉         | 299/3053 [01:27<20:20,  2.26it/s]"
     ]
    },
    {
     "name": "stdout",
     "output_type": "stream",
     "text": [
      "Processed OCR for image: 2008238462_01\n"
     ]
    },
    {
     "name": "stderr",
     "output_type": "stream",
     "text": [
      "Processing Images:  10%|▉         | 300/3053 [01:27<22:36,  2.03it/s]"
     ]
    },
    {
     "name": "stdout",
     "output_type": "stream",
     "text": [
      "Processed OCR for image: 2008238471_01\n"
     ]
    },
    {
     "name": "stderr",
     "output_type": "stream",
     "text": [
      "                                                                     \r"
     ]
    },
    {
     "name": "stdout",
     "output_type": "stream",
     "text": [
      "Processed OCR for image: 2008238460_01\n"
     ]
    },
    {
     "name": "stderr",
     "output_type": "stream",
     "text": [
      "Processing Images:  10%|▉         | 302/3053 [01:28<18:50,  2.43it/s]"
     ]
    },
    {
     "name": "stdout",
     "output_type": "stream",
     "text": [
      "Processed OCR for image: 2008238472_01\n",
      "Processed OCR for image: 2008238473_01\n",
      "Processed OCR for image: 2008238474_01\n",
      "Processed OCR for image: 2008238507_01\n",
      "Processed OCR for image: 2008238570_01\n",
      "Processed OCR for image: 2008238599_01\n",
      "Processed OCR for image: 2008238616_01\n",
      "Processed OCR for image: 2008238510_01\n",
      "Processed OCR for image: 2008238613_01\n",
      "Processed OCR for image: 2008238623_01\n",
      "Processed OCR for image: 2008238658_01\n"
     ]
    },
    {
     "name": "stderr",
     "output_type": "stream",
     "text": [
      "Processing Images:  10%|█         | 313/3053 [01:29<05:37,  8.13it/s]"
     ]
    },
    {
     "name": "stdout",
     "output_type": "stream",
     "text": [
      "Processed OCR for image: 2008238704_01\n"
     ]
    },
    {
     "name": "stderr",
     "output_type": "stream",
     "text": [
      "Processing Images:  10%|█         | 314/3053 [01:29<08:53,  5.14it/s]"
     ]
    },
    {
     "name": "stdout",
     "output_type": "stream",
     "text": [
      "Processed OCR for image: 2008238712_01\n"
     ]
    },
    {
     "name": "stderr",
     "output_type": "stream",
     "text": [
      "                                                                     "
     ]
    },
    {
     "name": "stdout",
     "output_type": "stream",
     "text": [
      "Processed OCR for image: 2008238834_01\n"
     ]
    },
    {
     "name": "stderr",
     "output_type": "stream",
     "text": [
      "                                                                     "
     ]
    },
    {
     "name": "stdout",
     "output_type": "stream",
     "text": [
      "Processed OCR for image: 2008238741_01\n",
      "Processed OCR for image: 2008238910_01\n"
     ]
    },
    {
     "name": "stderr",
     "output_type": "stream",
     "text": [
      "                                                                     \r"
     ]
    },
    {
     "name": "stdout",
     "output_type": "stream",
     "text": [
      "Processed OCR for image: 2008238891_01\n",
      "Processed OCR for image: 2008238848_01\n"
     ]
    },
    {
     "name": "stderr",
     "output_type": "stream",
     "text": [
      "                                                                     \r"
     ]
    },
    {
     "name": "stdout",
     "output_type": "stream",
     "text": [
      "Processed OCR for image: 2008239022_01\n"
     ]
    },
    {
     "name": "stderr",
     "output_type": "stream",
     "text": [
      "Processing Images:  10%|█         | 320/3053 [01:31<09:02,  5.04it/s]"
     ]
    },
    {
     "name": "stdout",
     "output_type": "stream",
     "text": [
      "Processed OCR for image: 2008239058_01\n"
     ]
    },
    {
     "name": "stderr",
     "output_type": "stream",
     "text": [
      "Processing Images:  11%|█         | 322/3053 [01:32<17:16,  2.63it/s]"
     ]
    },
    {
     "name": "stdout",
     "output_type": "stream",
     "text": [
      "Processed OCR for image: 2008239163_01\n"
     ]
    },
    {
     "name": "stderr",
     "output_type": "stream",
     "text": [
      "Processing Images:  11%|█         | 323/3053 [01:33<19:23,  2.35it/s]"
     ]
    },
    {
     "name": "stdout",
     "output_type": "stream",
     "text": [
      "Processed OCR for image: 2008239146_01\n"
     ]
    },
    {
     "name": "stderr",
     "output_type": "stream",
     "text": [
      "Processing Images:  11%|█         | 325/3053 [01:33<15:41,  2.90it/s]"
     ]
    },
    {
     "name": "stdout",
     "output_type": "stream",
     "text": [
      "Processed OCR for image: 2008239175_01\n",
      "Processed OCR for image: 2008239246_01\n"
     ]
    },
    {
     "name": "stderr",
     "output_type": "stream",
     "text": [
      "                                                                     "
     ]
    },
    {
     "name": "stdout",
     "output_type": "stream",
     "text": [
      "Processed OCR for image: 2008239287_01\n"
     ]
    },
    {
     "name": "stderr",
     "output_type": "stream",
     "text": [
      "                                                                     "
     ]
    },
    {
     "name": "stdout",
     "output_type": "stream",
     "text": [
      "Processed OCR for image: 2008239250_01\n"
     ]
    },
    {
     "name": "stderr",
     "output_type": "stream",
     "text": [
      "Processing Images:  11%|█         | 329/3053 [01:36<22:55,  1.98it/s]"
     ]
    },
    {
     "name": "stdout",
     "output_type": "stream",
     "text": [
      "Processed OCR for image: 2008239313_01\n",
      "Processed OCR for image: 2008239352_01\n",
      "Processed OCR for image: 2008239707_01\n",
      "Processed OCR for image: 2008239723_01\n",
      "Processed OCR for image: 2008239739_01\n",
      "Processed OCR for image: 2008239745_01\n",
      "Processed OCR for image: 2008239751_01\n",
      "Processed OCR for image: 2008239760_01\n",
      "Processed OCR for image: 2008239747_01\n",
      "Processed OCR for image: 2008239750_01\n",
      "Processed OCR for image: 2008239764_01\n",
      "Processed OCR for image: 2008239756_01\n",
      "Processed OCR for image: 2008239765_01\n"
     ]
    },
    {
     "name": "stderr",
     "output_type": "stream",
     "text": [
      "Processing Images:  11%|█         | 341/3053 [01:37<07:18,  6.18it/s]"
     ]
    },
    {
     "name": "stdout",
     "output_type": "stream",
     "text": [
      "Processed OCR for image: 2008239770_01\n"
     ]
    },
    {
     "name": "stderr",
     "output_type": "stream",
     "text": [
      "Processing Images:  11%|█         | 342/3053 [01:38<09:36,  4.70it/s]"
     ]
    },
    {
     "name": "stdout",
     "output_type": "stream",
     "text": [
      "Processed OCR for image: 2008239768_01\n"
     ]
    },
    {
     "name": "stderr",
     "output_type": "stream",
     "text": [
      "Processing Images:  11%|█         | 343/3053 [01:38<10:08,  4.45it/s]"
     ]
    },
    {
     "name": "stdout",
     "output_type": "stream",
     "text": [
      "Processed OCR for image: 2008239780_01\n"
     ]
    },
    {
     "name": "stderr",
     "output_type": "stream",
     "text": [
      "Processing Images:  11%|█▏        | 344/3053 [01:39<11:34,  3.90it/s]"
     ]
    },
    {
     "name": "stdout",
     "output_type": "stream",
     "text": [
      "Processed OCR for image: 2008239782_01\n"
     ]
    },
    {
     "name": "stderr",
     "output_type": "stream",
     "text": [
      "Processing Images:  11%|█▏        | 345/3053 [01:39<12:56,  3.49it/s]"
     ]
    },
    {
     "name": "stdout",
     "output_type": "stream",
     "text": [
      "Processed OCR for image: 2008239776_01\n"
     ]
    },
    {
     "name": "stderr",
     "output_type": "stream",
     "text": [
      "Processing Images:  11%|█▏        | 346/3053 [01:39<14:49,  3.04it/s]"
     ]
    },
    {
     "name": "stdout",
     "output_type": "stream",
     "text": [
      "Processed OCR for image: 2008239783_01\n"
     ]
    },
    {
     "name": "stderr",
     "output_type": "stream",
     "text": [
      "                                                                     \r"
     ]
    },
    {
     "name": "stdout",
     "output_type": "stream",
     "text": [
      "Processed OCR for image: 2008239774_01\n"
     ]
    },
    {
     "name": "stderr",
     "output_type": "stream",
     "text": [
      "Processing Images:  11%|█▏        | 348/3053 [01:41<20:02,  2.25it/s]"
     ]
    },
    {
     "name": "stdout",
     "output_type": "stream",
     "text": [
      "Processed OCR for image: 2008239781_01\n"
     ]
    },
    {
     "name": "stderr",
     "output_type": "stream",
     "text": [
      "Processing Images:  11%|█▏        | 349/3053 [01:41<21:30,  2.09it/s]"
     ]
    },
    {
     "name": "stdout",
     "output_type": "stream",
     "text": [
      "Processed OCR for image: 2008239789_01\n"
     ]
    },
    {
     "name": "stderr",
     "output_type": "stream",
     "text": [
      "Processing Images:  11%|█▏        | 350/3053 [01:42<30:11,  1.49it/s]"
     ]
    },
    {
     "name": "stdout",
     "output_type": "stream",
     "text": [
      "Processed OCR for image: 2008239787_01\n"
     ]
    },
    {
     "name": "stderr",
     "output_type": "stream",
     "text": [
      "Processing Images:  12%|█▏        | 352/3053 [01:43<25:24,  1.77it/s]"
     ]
    },
    {
     "name": "stdout",
     "output_type": "stream",
     "text": [
      "Processed OCR for image: 2008239804_01\n",
      "Processed OCR for image: 2008239828_01\n"
     ]
    },
    {
     "name": "stderr",
     "output_type": "stream",
     "text": [
      "Processing Images:  12%|█▏        | 353/3053 [01:44<24:55,  1.81it/s]"
     ]
    },
    {
     "name": "stdout",
     "output_type": "stream",
     "text": [
      "Processed OCR for image: 2008239869_01\n",
      "Processed OCR for image: 2008239868_01\n",
      "Processed OCR for image: 2008239900_01\n",
      "Processed OCR for image: 2008239929_01\n",
      "Processed OCR for image: 2008239883_01\n",
      "Processed OCR for image: 2008240164_01\n",
      "Processed OCR for image: 2008239953_01\n",
      "Processed OCR for image: 2008240005_01\n",
      "Processed OCR for image: 2008240228_01\n",
      "Processed OCR for image: 2008240215_01\n",
      "Processed OCR for image: 2008240399_01\n",
      "Processed OCR for image: 2008240298_01\n",
      "Processed OCR for image: 2008240400_01\n",
      "Processed OCR for image: 2008240427_01\n",
      "Processed OCR for image: 2008240425_01\n",
      "Processed OCR for image: 2008240458_01\n",
      "Processed OCR for image: 2008240428_01\n"
     ]
    },
    {
     "name": "stderr",
     "output_type": "stream",
     "text": [
      "Processing Images:  12%|█▏        | 370/3053 [01:46<06:36,  6.77it/s]"
     ]
    },
    {
     "name": "stdout",
     "output_type": "stream",
     "text": [
      "Processed OCR for image: 2008240503_01\n"
     ]
    },
    {
     "name": "stderr",
     "output_type": "stream",
     "text": [
      "Processing Images:  12%|█▏        | 370/3053 [01:46<06:36,  6.77it/s]"
     ]
    },
    {
     "name": "stdout",
     "output_type": "stream",
     "text": [
      "Processed OCR for image: 2008240488_01\n"
     ]
    },
    {
     "name": "stderr",
     "output_type": "stream",
     "text": [
      "Processing Images:  12%|█▏        | 372/3053 [01:47<09:14,  4.83it/s]"
     ]
    },
    {
     "name": "stdout",
     "output_type": "stream",
     "text": [
      "Processed OCR for image: 2008240482_01\n",
      "Processed OCR for image: 2008240504_01\n",
      "Processed OCR for image: 2008240507_01\n",
      "Processed OCR for image: 2008240564_01\n",
      "Processed OCR for image: 2008240591_01\n",
      "Processed OCR for image: 2008240566_01\n"
     ]
    },
    {
     "name": "stderr",
     "output_type": "stream",
     "text": [
      "Processing Images:  12%|█▏        | 378/3053 [01:47<08:07,  5.49it/s]"
     ]
    },
    {
     "name": "stdout",
     "output_type": "stream",
     "text": [
      "Processed OCR for image: 2008240656_01\n"
     ]
    },
    {
     "name": "stderr",
     "output_type": "stream",
     "text": [
      "                                                                     "
     ]
    },
    {
     "name": "stdout",
     "output_type": "stream",
     "text": [
      "Processed OCR for image: 2008240623_01\n"
     ]
    },
    {
     "name": "stderr",
     "output_type": "stream",
     "text": [
      "Processing Images:  12%|█▏        | 381/3053 [01:49<12:05,  3.68it/s]"
     ]
    },
    {
     "name": "stdout",
     "output_type": "stream",
     "text": [
      "Processed OCR for image: 2008240701_01\n",
      "Processed OCR for image: 2008240797_01\n",
      "Processed OCR for image: 2008240833_01\n",
      "Processed OCR for image: 2008240767_01\n",
      "Processed OCR for image: 2008240804_01\n"
     ]
    },
    {
     "name": "stderr",
     "output_type": "stream",
     "text": [
      "Processing Images:  12%|█▏        | 381/3053 [01:49<12:05,  3.68it/s]"
     ]
    },
    {
     "name": "stdout",
     "output_type": "stream",
     "text": [
      "Processed OCR for image: 2008240817_01\n",
      "Processed OCR for image: 2008240939_01\n",
      "Processed OCR for image: 2008240979_01\n"
     ]
    },
    {
     "name": "stderr",
     "output_type": "stream",
     "text": [
      "Processing Images:  12%|█▏        | 381/3053 [01:50<12:05,  3.68it/s]"
     ]
    },
    {
     "name": "stdout",
     "output_type": "stream",
     "text": [
      "Processed OCR for image: 2008241273_01\n"
     ]
    },
    {
     "name": "stderr",
     "output_type": "stream",
     "text": [
      "                                                                     "
     ]
    },
    {
     "name": "stdout",
     "output_type": "stream",
     "text": [
      "Processed OCR for image: 2008240994_01\n"
     ]
    },
    {
     "name": "stderr",
     "output_type": "stream",
     "text": [
      "Processing Images:  13%|█▎        | 390/3053 [01:52<13:47,  3.22it/s]"
     ]
    },
    {
     "name": "stdout",
     "output_type": "stream",
     "text": [
      "Processed OCR for image: 2008241274_01\n",
      "Processed OCR for image: 2008241285_01\n"
     ]
    },
    {
     "name": "stderr",
     "output_type": "stream",
     "text": [
      "Processing Images:  13%|█▎        | 392/3053 [01:52<12:54,  3.44it/s]"
     ]
    },
    {
     "name": "stdout",
     "output_type": "stream",
     "text": [
      "Processed OCR for image: 2008241068_01\n"
     ]
    },
    {
     "name": "stderr",
     "output_type": "stream",
     "text": [
      "Processing Images:  13%|█▎        | 393/3053 [01:53<15:25,  2.87it/s]"
     ]
    },
    {
     "name": "stdout",
     "output_type": "stream",
     "text": [
      "Processed OCR for image: 2008241307_01\n"
     ]
    },
    {
     "name": "stderr",
     "output_type": "stream",
     "text": [
      "Processing Images:  13%|█▎        | 394/3053 [01:53<17:41,  2.51it/s]"
     ]
    },
    {
     "name": "stdout",
     "output_type": "stream",
     "text": [
      "Processed OCR for image: 2008241308_01\n"
     ]
    },
    {
     "name": "stderr",
     "output_type": "stream",
     "text": [
      "Processing Images:  13%|█▎        | 395/3053 [01:54<18:01,  2.46it/s]"
     ]
    },
    {
     "name": "stdout",
     "output_type": "stream",
     "text": [
      "Processed OCR for image: 2008241312_01\n",
      "Processed OCR for image: 2008241315_01\n",
      "Processed OCR for image: 2008241366_01\n",
      "Processed OCR for image: 2008241363_01\n",
      "Processed OCR for image: 2008241370_01\n",
      "Processed OCR for image: 2008241386_01\n",
      "Processed OCR for image: 2008241378_01\n",
      "Processed OCR for image: 2008241376_01\n",
      "Processed OCR for image: 2008241373_01\n",
      "Processed OCR for image: 2008241384_01\n",
      "Processed OCR for image: 2008241381_01\n"
     ]
    },
    {
     "name": "stderr",
     "output_type": "stream",
     "text": [
      "                                                                     "
     ]
    },
    {
     "name": "stdout",
     "output_type": "stream",
     "text": [
      "Processed OCR for image: 2008241392_01\n"
     ]
    },
    {
     "name": "stderr",
     "output_type": "stream",
     "text": [
      "                                                                     \r"
     ]
    },
    {
     "name": "stdout",
     "output_type": "stream",
     "text": [
      "Processed OCR for image: 2008241393_01\n"
     ]
    },
    {
     "name": "stderr",
     "output_type": "stream",
     "text": [
      "Processing Images:  13%|█▎        | 408/3053 [01:55<08:40,  5.08it/s]"
     ]
    },
    {
     "name": "stdout",
     "output_type": "stream",
     "text": [
      "Processed OCR for image: 2008241389_01\n"
     ]
    },
    {
     "name": "stderr",
     "output_type": "stream",
     "text": [
      "Processing Images:  13%|█▎        | 410/3053 [01:56<12:14,  3.60it/s]"
     ]
    },
    {
     "name": "stdout",
     "output_type": "stream",
     "text": [
      "Processed OCR for image: 2008241394_01\n",
      "Processed OCR for image: 2008241395_01\n"
     ]
    },
    {
     "name": "stderr",
     "output_type": "stream",
     "text": [
      "Processing Images:  13%|█▎        | 411/3053 [01:57<14:54,  2.95it/s]"
     ]
    },
    {
     "name": "stdout",
     "output_type": "stream",
     "text": [
      "Processed OCR for image: 2008241397_01\n",
      "Processed OCR for image: 2008241416_01\n",
      "Processed OCR for image: 2008241400_01\n",
      "Processed OCR for image: 2008241396_01\n",
      "Processed OCR for image: 2008241402_01\n",
      "Processed OCR for image: 2008241615_01\n",
      "Processed OCR for image: 2008241493_01\n"
     ]
    },
    {
     "name": "stderr",
     "output_type": "stream",
     "text": [
      "Processing Images:  14%|█▎        | 418/3053 [01:57<06:43,  6.53it/s]"
     ]
    },
    {
     "name": "stdout",
     "output_type": "stream",
     "text": [
      "Processed OCR for image: 2008241657_01\n"
     ]
    },
    {
     "name": "stderr",
     "output_type": "stream",
     "text": [
      "Processing Images:  14%|█▎        | 419/3053 [01:59<14:27,  3.04it/s]"
     ]
    },
    {
     "name": "stdout",
     "output_type": "stream",
     "text": [
      "Processed OCR for image: 2008242061_01\n"
     ]
    },
    {
     "name": "stderr",
     "output_type": "stream",
     "text": [
      "                                                                     \r"
     ]
    },
    {
     "name": "stdout",
     "output_type": "stream",
     "text": [
      "Processed OCR for image: 2008241991_01\n"
     ]
    },
    {
     "name": "stderr",
     "output_type": "stream",
     "text": [
      "Processing Images:  14%|█▍        | 421/3053 [02:00<15:41,  2.79it/s]"
     ]
    },
    {
     "name": "stdout",
     "output_type": "stream",
     "text": [
      "Processed OCR for image: 2008242062_01\n",
      "Processed OCR for image: 2008241901_01\n",
      "Processed OCR for image: 2008241809_01\n",
      "Processed OCR for image: 2008242072_01\n",
      "Processed OCR for image: 2008242070_01\n",
      "Processed OCR for image: 2008242085_01\n",
      "Processed OCR for image: 2008242741_01\n"
     ]
    },
    {
     "name": "stderr",
     "output_type": "stream",
     "text": [
      "Processing Images:  14%|█▍        | 428/3053 [02:01<10:42,  4.09it/s]"
     ]
    },
    {
     "name": "stdout",
     "output_type": "stream",
     "text": [
      "Processed OCR for image: 2008242855_01\n"
     ]
    },
    {
     "name": "stderr",
     "output_type": "stream",
     "text": [
      "Processing Images:  14%|█▍        | 429/3053 [02:02<16:01,  2.73it/s]"
     ]
    },
    {
     "name": "stdout",
     "output_type": "stream",
     "text": [
      "Processed OCR for image: 2008242497_01\n",
      "Processed OCR for image: 2008242885_01\n",
      "Processed OCR for image: 2008243294_01\n",
      "Processed OCR for image: 2008243476_01\n",
      "Processed OCR for image: 2008243433_01\n",
      "Processed OCR for image: 2008243426_01\n",
      "Processed OCR for image: 2008243575_01\n",
      "Processed OCR for image: 2008243580_01\n",
      "Processed OCR for image: 2008243618_01\n"
     ]
    },
    {
     "name": "stderr",
     "output_type": "stream",
     "text": [
      "Processing Images:  14%|█▍        | 438/3053 [02:03<08:47,  4.96it/s]"
     ]
    },
    {
     "name": "stdout",
     "output_type": "stream",
     "text": [
      "Processed OCR for image: 2008243629_01\n",
      "Processed OCR for image: 2008243636_01\n"
     ]
    },
    {
     "name": "stderr",
     "output_type": "stream",
     "text": [
      "                                                                     \r"
     ]
    },
    {
     "name": "stdout",
     "output_type": "stream",
     "text": [
      "Processed OCR for image: 2008243653_01\n"
     ]
    },
    {
     "name": "stderr",
     "output_type": "stream",
     "text": [
      "Processing Images:  14%|█▍        | 440/3053 [02:06<12:42,  3.43it/s]"
     ]
    },
    {
     "name": "stdout",
     "output_type": "stream",
     "text": [
      "Processed OCR for image: 2008243677_01\n"
     ]
    },
    {
     "name": "stderr",
     "output_type": "stream",
     "text": [
      "Processing Images:  14%|█▍        | 442/3053 [02:07<22:05,  1.97it/s]"
     ]
    },
    {
     "name": "stdout",
     "output_type": "stream",
     "text": [
      "Processed OCR for image: 2008243661_01\n"
     ]
    },
    {
     "name": "stderr",
     "output_type": "stream",
     "text": [
      "Processing Images:  15%|█▍        | 444/3053 [02:07<16:42,  2.60it/s]"
     ]
    },
    {
     "name": "stdout",
     "output_type": "stream",
     "text": [
      "Processed OCR for image: 2008243673_01\n",
      "Processed OCR for image: 2008243712_01\n",
      "Processed OCR for image: 2008243718_01\n",
      "Processed OCR for image: 2008243731_01\n",
      "Processed OCR for image: 2008243745_01\n",
      "Processed OCR for image: 2008243750_01\n",
      "Processed OCR for image: 2008243747_01\n",
      "Processed OCR for image: 2008243741_01\n",
      "Processed OCR for image: 2008243751_01\n"
     ]
    },
    {
     "name": "stderr",
     "output_type": "stream",
     "text": [
      "Processing Images:  15%|█▍        | 452/3053 [02:07<06:02,  7.17it/s]"
     ]
    },
    {
     "name": "stdout",
     "output_type": "stream",
     "text": [
      "Processed OCR for image: 2008243753_01\n"
     ]
    },
    {
     "name": "stderr",
     "output_type": "stream",
     "text": [
      "Processing Images:  15%|█▍        | 452/3053 [02:08<06:02,  7.17it/s]"
     ]
    },
    {
     "name": "stdout",
     "output_type": "stream",
     "text": [
      "Processed OCR for image: 2008243757_01\n"
     ]
    },
    {
     "name": "stderr",
     "output_type": "stream",
     "text": [
      "Processing Images:  15%|█▍        | 454/3053 [02:08<08:52,  4.88it/s]"
     ]
    },
    {
     "name": "stdout",
     "output_type": "stream",
     "text": [
      "Processed OCR for image: 2008243775_01\n",
      "Processed OCR for image: 2008243761_01\n"
     ]
    },
    {
     "name": "stderr",
     "output_type": "stream",
     "text": [
      "Processing Images:  15%|█▍        | 456/3053 [02:09<12:41,  3.41it/s]"
     ]
    },
    {
     "name": "stdout",
     "output_type": "stream",
     "text": [
      "Processed OCR for image: 2008244299_01\n"
     ]
    },
    {
     "name": "stderr",
     "output_type": "stream",
     "text": [
      "Processing Images:  15%|█▍        | 457/3053 [02:10<17:46,  2.43it/s]"
     ]
    },
    {
     "name": "stdout",
     "output_type": "stream",
     "text": [
      "Processed OCR for image: 2008243773_01\n"
     ]
    },
    {
     "name": "stderr",
     "output_type": "stream",
     "text": [
      "                                                                     "
     ]
    },
    {
     "name": "stdout",
     "output_type": "stream",
     "text": [
      "Processed OCR for image: 2008243655_01\n"
     ]
    },
    {
     "name": "stderr",
     "output_type": "stream",
     "text": [
      "                                                                     \r"
     ]
    },
    {
     "name": "stdout",
     "output_type": "stream",
     "text": [
      "Processed OCR for image: 2008243784_01\n",
      "Processed OCR for image: 2008244007_01\n",
      "Processed OCR for image: 2008244570_01\n",
      "Processed OCR for image: 2008244569_01\n",
      "Processed OCR for image: 2008244571_01\n"
     ]
    },
    {
     "name": "stderr",
     "output_type": "stream",
     "text": [
      "Processing Images:  15%|█▌        | 464/3053 [02:11<08:48,  4.90it/s]"
     ]
    },
    {
     "name": "stdout",
     "output_type": "stream",
     "text": [
      "Processed OCR for image: 2008244934_01\n"
     ]
    },
    {
     "name": "stderr",
     "output_type": "stream",
     "text": [
      "                                                                     "
     ]
    },
    {
     "name": "stdout",
     "output_type": "stream",
     "text": [
      "Processed OCR for image: 2008244935_01\n"
     ]
    },
    {
     "name": "stderr",
     "output_type": "stream",
     "text": [
      "                                                                     "
     ]
    },
    {
     "name": "stdout",
     "output_type": "stream",
     "text": [
      "Processed OCR for image: 2008244979_01\n"
     ]
    },
    {
     "name": "stderr",
     "output_type": "stream",
     "text": [
      "                                                                     \r"
     ]
    },
    {
     "name": "stdout",
     "output_type": "stream",
     "text": [
      "Processed OCR for image: 2008245164_01\n",
      "Processed OCR for image: 2008245040_01\n",
      "Processed OCR for image: 2008245137_01\n"
     ]
    },
    {
     "name": "stderr",
     "output_type": "stream",
     "text": [
      "Processing Images:  15%|█▌        | 470/3053 [02:14<11:16,  3.82it/s]"
     ]
    },
    {
     "name": "stdout",
     "output_type": "stream",
     "text": [
      "Processed OCR for image: 2008245008_01\n"
     ]
    },
    {
     "name": "stderr",
     "output_type": "stream",
     "text": [
      "Processing Images:  15%|█▌        | 471/3053 [02:14<13:56,  3.09it/s]"
     ]
    },
    {
     "name": "stdout",
     "output_type": "stream",
     "text": [
      "Processed OCR for image: 2008245175_01\n"
     ]
    },
    {
     "name": "stderr",
     "output_type": "stream",
     "text": [
      "Processing Images:  15%|█▌        | 472/3053 [02:15<18:17,  2.35it/s]"
     ]
    },
    {
     "name": "stdout",
     "output_type": "stream",
     "text": [
      "Processed OCR for image: 2008245201_01\n",
      "Processed OCR for image: 2008245258_01\n"
     ]
    },
    {
     "name": "stderr",
     "output_type": "stream",
     "text": [
      "Processing Images:  16%|█▌        | 474/3053 [02:16<26:05,  1.65it/s]"
     ]
    },
    {
     "name": "stdout",
     "output_type": "stream",
     "text": [
      "Processed OCR for image: 2008245397_01\n"
     ]
    },
    {
     "name": "stderr",
     "output_type": "stream",
     "text": [
      "Processing Images:  16%|█▌        | 476/3053 [02:17<18:48,  2.28it/s]"
     ]
    },
    {
     "name": "stdout",
     "output_type": "stream",
     "text": [
      "Processed OCR for image: 2008245622_01\n",
      "Processed OCR for image: 2008245452_01\n",
      "Processed OCR for image: 2008245754_01\n",
      "Processed OCR for image: 2008245784_01\n",
      "Processed OCR for image: 2008245780_01\n",
      "Processed OCR for image: 2008245844_01\n",
      "Processed OCR for image: 2008245800_01\n",
      "Processed OCR for image: 2008245973_01\n",
      "Processed OCR for image: 2008246125_01\n",
      "Processed OCR for image: 2008245991_01\n",
      "Processed OCR for image: 2008245967_01\n",
      "Processed OCR for image: 2008246217_01\n"
     ]
    },
    {
     "name": "stderr",
     "output_type": "stream",
     "text": [
      "Processing Images:  16%|█▌        | 476/3053 [02:17<18:48,  2.28it/s]"
     ]
    },
    {
     "name": "stdout",
     "output_type": "stream",
     "text": [
      "Processed OCR for image: 2008246220_01\n",
      "Processed OCR for image: 2008246226_01\n"
     ]
    },
    {
     "name": "stderr",
     "output_type": "stream",
     "text": [
      "Processing Images:  16%|█▌        | 489/3053 [02:18<05:49,  7.33it/s]"
     ]
    },
    {
     "name": "stdout",
     "output_type": "stream",
     "text": [
      "Processed OCR for image: 2008246396_01\n"
     ]
    },
    {
     "name": "stderr",
     "output_type": "stream",
     "text": [
      "Processing Images:  16%|█▌        | 490/3053 [02:19<07:45,  5.51it/s]"
     ]
    },
    {
     "name": "stdout",
     "output_type": "stream",
     "text": [
      "Processed OCR for image: 2008246238_01\n",
      "Processed OCR for image: 2008246372_01\n"
     ]
    },
    {
     "name": "stderr",
     "output_type": "stream",
     "text": [
      "Processing Images:  16%|█▌        | 491/3053 [02:19<07:50,  5.45it/s]"
     ]
    },
    {
     "name": "stdout",
     "output_type": "stream",
     "text": [
      "Processed OCR for image: 2008246237_01\n",
      "Processed OCR for image: 2008246674_01\n",
      "Processed OCR for image: 2008246259_01\n",
      "Processed OCR for image: 2008246669_01\n"
     ]
    },
    {
     "name": "stderr",
     "output_type": "stream",
     "text": [
      "Processing Images:  16%|█▌        | 496/3053 [02:20<07:31,  5.66it/s]"
     ]
    },
    {
     "name": "stdout",
     "output_type": "stream",
     "text": [
      "Processed OCR for image: 2008247123_01\n"
     ]
    },
    {
     "name": "stderr",
     "output_type": "stream",
     "text": [
      "Processing Images:  16%|█▋        | 498/3053 [02:21<10:00,  4.26it/s]"
     ]
    },
    {
     "name": "stdout",
     "output_type": "stream",
     "text": [
      "Processed OCR for image: 2008246368_01\n",
      "Processed OCR for image: 2008246992_01\n",
      "Processed OCR for image: 2008247322_01\n",
      "Processed OCR for image: 2008247140_01\n",
      "Processed OCR for image: 2008247251_01\n",
      "Processed OCR for image: 2008247319_01\n"
     ]
    },
    {
     "name": "stderr",
     "output_type": "stream",
     "text": [
      "Processing Images:  16%|█▋        | 503/3053 [02:22<08:39,  4.91it/s]"
     ]
    },
    {
     "name": "stdout",
     "output_type": "stream",
     "text": [
      "Processed OCR for image: 2008247320_01\n",
      "Processed OCR for image: 2008247490_01\n",
      "Processed OCR for image: 2008247325_01\n"
     ]
    },
    {
     "name": "stderr",
     "output_type": "stream",
     "text": [
      "Processing Images:  17%|█▋        | 507/3053 [02:24<13:35,  3.12it/s]"
     ]
    },
    {
     "name": "stdout",
     "output_type": "stream",
     "text": [
      "Processed OCR for image: 2008247543_01\n",
      "Processed OCR for image: 2008247496_01\n",
      "Processed OCR for image: 2008247547_01\n",
      "Processed OCR for image: 2008247579_01\n",
      "Processed OCR for image: 2008247562_01\n",
      "Processed OCR for image: 2008247604_01\n",
      "Processed OCR for image: 2008247881_01\n",
      "Processed OCR for image: 2008247873_01\n"
     ]
    },
    {
     "name": "stderr",
     "output_type": "stream",
     "text": [
      "Processing Images:  17%|█▋        | 514/3053 [02:25<11:29,  3.68it/s]"
     ]
    },
    {
     "name": "stdout",
     "output_type": "stream",
     "text": [
      "Processed OCR for image: 2008247931_01\n"
     ]
    },
    {
     "name": "stderr",
     "output_type": "stream",
     "text": [
      "Processing Images:  17%|█▋        | 515/3053 [02:26<12:27,  3.40it/s]"
     ]
    },
    {
     "name": "stdout",
     "output_type": "stream",
     "text": [
      "Processed OCR for image: 2008247888_01\n",
      "Processed OCR for image: 2008247932_01\n",
      "Processed OCR for image: 2008247967_01\n",
      "Processed OCR for image: 2008247954_01\n",
      "Processed OCR for image: 2008248004_01\n",
      "Processed OCR for image: 2008248165_01\n",
      "Processed OCR for image: 2008248161_01\n"
     ]
    },
    {
     "name": "stderr",
     "output_type": "stream",
     "text": [
      "Processing Images:  17%|█▋        | 522/3053 [02:27<09:04,  4.65it/s]"
     ]
    },
    {
     "name": "stdout",
     "output_type": "stream",
     "text": [
      "Processed OCR for image: 2008248177_01\n",
      "Processed OCR for image: 2008248348_01\n"
     ]
    },
    {
     "name": "stderr",
     "output_type": "stream",
     "text": [
      "Processing Images:  17%|█▋        | 524/3053 [02:28<12:09,  3.47it/s]"
     ]
    },
    {
     "name": "stdout",
     "output_type": "stream",
     "text": [
      "Processed OCR for image: 2008248385_01\n"
     ]
    },
    {
     "name": "stderr",
     "output_type": "stream",
     "text": [
      "Processing Images:  17%|█▋        | 531/3053 [02:29<07:40,  5.48it/s]"
     ]
    },
    {
     "name": "stdout",
     "output_type": "stream",
     "text": [
      "Processed OCR for image: 2008248311_01\n",
      "Processed OCR for image: 2008248349_01\n",
      "Processed OCR for image: 2008248321_01\n",
      "Processed OCR for image: 2008248386_01\n",
      "Processed OCR for image: 2008248382_01\n",
      "Processed OCR for image: 2008248387_01\n",
      "Processed OCR for image: 2008248393_01\n"
     ]
    },
    {
     "name": "stderr",
     "output_type": "stream",
     "text": [
      "Processing Images:  17%|█▋        | 531/3053 [02:30<07:40,  5.48it/s]"
     ]
    },
    {
     "name": "stdout",
     "output_type": "stream",
     "text": [
      "Processed OCR for image: 2008248398_01\n",
      "Processed OCR for image: 2008248394_01\n"
     ]
    },
    {
     "name": "stderr",
     "output_type": "stream",
     "text": [
      "Processing Images:  17%|█▋        | 534/3053 [02:31<13:51,  3.03it/s]"
     ]
    },
    {
     "name": "stdout",
     "output_type": "stream",
     "text": [
      "Processed OCR for image: 2008248405_01\n",
      "Processed OCR for image: 2008248406_01\n"
     ]
    },
    {
     "name": "stderr",
     "output_type": "stream",
     "text": [
      "Processing Images:  18%|█▊        | 538/3053 [02:32<11:02,  3.80it/s]"
     ]
    },
    {
     "name": "stdout",
     "output_type": "stream",
     "text": [
      "Processed OCR for image: 2008248403_01\n",
      "Processed OCR for image: 2008248421_01\n",
      "Processed OCR for image: 2008248557_01\n",
      "Processed OCR for image: 2008248644_01\n",
      "Processed OCR for image: 2008248829_01\n",
      "Processed OCR for image: 2008248836_01\n",
      "Processed OCR for image: 2008248873_01\n"
     ]
    },
    {
     "name": "stderr",
     "output_type": "stream",
     "text": [
      "Processing Images:  18%|█▊        | 543/3053 [02:33<09:26,  4.43it/s]"
     ]
    },
    {
     "name": "stdout",
     "output_type": "stream",
     "text": [
      "Processed OCR for image: 2008248878_01\n"
     ]
    },
    {
     "name": "stderr",
     "output_type": "stream",
     "text": [
      "                                                                     "
     ]
    },
    {
     "name": "stdout",
     "output_type": "stream",
     "text": [
      "Processed OCR for image: 2008248882_01\n"
     ]
    },
    {
     "name": "stderr",
     "output_type": "stream",
     "text": [
      "Processing Images:  18%|█▊        | 546/3053 [02:34<11:46,  3.55it/s]"
     ]
    },
    {
     "name": "stdout",
     "output_type": "stream",
     "text": [
      "Processed OCR for image: 2008248843_01\n",
      "Processed OCR for image: 2008248953_01\n"
     ]
    },
    {
     "name": "stderr",
     "output_type": "stream",
     "text": [
      "Processing Images:  18%|█▊        | 546/3053 [02:34<11:46,  3.55it/s]"
     ]
    },
    {
     "name": "stdout",
     "output_type": "stream",
     "text": [
      "Processed OCR for image: 2008248885_01\n",
      "Processed OCR for image: 2008248955_01\n",
      "Processed OCR for image: 2008249033_01\n",
      "Processed OCR for image: 2008249097_01\n"
     ]
    },
    {
     "name": "stderr",
     "output_type": "stream",
     "text": [
      "Processing Images:  18%|█▊        | 551/3053 [02:35<10:18,  4.04it/s]"
     ]
    },
    {
     "name": "stdout",
     "output_type": "stream",
     "text": [
      "Processed OCR for image: 2008249167_01\n"
     ]
    },
    {
     "name": "stderr",
     "output_type": "stream",
     "text": [
      "Processing Images:  18%|█▊        | 552/3053 [02:36<13:07,  3.18it/s]"
     ]
    },
    {
     "name": "stdout",
     "output_type": "stream",
     "text": [
      "Processed OCR for image: 2008249259_01\n",
      "Processed OCR for image: 2008249442_01\n",
      "Processed OCR for image: 2008249261_01\n",
      "Processed OCR for image: 2008249120_01\n",
      "Processed OCR for image: 2008249323_01\n",
      "Processed OCR for image: 2008249302_01\n",
      "Processed OCR for image: 2008249277_01\n"
     ]
    },
    {
     "name": "stderr",
     "output_type": "stream",
     "text": [
      "Processing Images:  18%|█▊        | 559/3053 [02:37<07:52,  5.28it/s]"
     ]
    },
    {
     "name": "stdout",
     "output_type": "stream",
     "text": [
      "Processed OCR for image: 2008249550_01\n"
     ]
    },
    {
     "name": "stderr",
     "output_type": "stream",
     "text": [
      "Processing Images:  18%|█▊        | 560/3053 [02:38<12:11,  3.41it/s]"
     ]
    },
    {
     "name": "stdout",
     "output_type": "stream",
     "text": [
      "Processed OCR for image: 2008249708_01\n"
     ]
    },
    {
     "name": "stderr",
     "output_type": "stream",
     "text": [
      "Processing Images:  18%|█▊        | 562/3053 [02:39<13:59,  2.97it/s]"
     ]
    },
    {
     "name": "stdout",
     "output_type": "stream",
     "text": [
      "Processed OCR for image: 2008249784_01\n",
      "Processed OCR for image: 2008249865_01\n"
     ]
    },
    {
     "name": "stderr",
     "output_type": "stream",
     "text": [
      "Processing Images:  18%|█▊        | 562/3053 [02:39<13:59,  2.97it/s]"
     ]
    },
    {
     "name": "stdout",
     "output_type": "stream",
     "text": [
      "Processed OCR for image: 2008250103_01\n",
      "Processed OCR for image: 2008249935_01\n",
      "Processed OCR for image: 2008250146_01\n",
      "Processed OCR for image: 2008250117_01\n",
      "Processed OCR for image: 2008249886_01\n"
     ]
    },
    {
     "name": "stderr",
     "output_type": "stream",
     "text": [
      "                                                                     "
     ]
    },
    {
     "name": "stdout",
     "output_type": "stream",
     "text": [
      "Processed OCR for image: 2008250366_01\n"
     ]
    },
    {
     "name": "stderr",
     "output_type": "stream",
     "text": [
      "                                                                     \r"
     ]
    },
    {
     "name": "stdout",
     "output_type": "stream",
     "text": [
      "Processed OCR for image: 2008250147_01\n"
     ]
    },
    {
     "name": "stderr",
     "output_type": "stream",
     "text": [
      "Processing Images:  19%|█▊        | 570/3053 [02:42<14:39,  2.82it/s]"
     ]
    },
    {
     "name": "stdout",
     "output_type": "stream",
     "text": [
      "Processed OCR for image: 2008250373_01\n",
      "Processed OCR for image: 2008250410_01\n"
     ]
    },
    {
     "name": "stderr",
     "output_type": "stream",
     "text": [
      "Processing Images:  19%|█▉        | 573/3053 [02:43<12:36,  3.28it/s]"
     ]
    },
    {
     "name": "stdout",
     "output_type": "stream",
     "text": [
      "Processed OCR for image: 2008250421_01\n",
      "Processed OCR for image: 2008250389_01\n",
      "Processed OCR for image: 2008250417_01\n"
     ]
    },
    {
     "name": "stderr",
     "output_type": "stream",
     "text": [
      "Processing Images:  19%|█▉        | 576/3053 [02:43<13:29,  3.06it/s]"
     ]
    },
    {
     "name": "stdout",
     "output_type": "stream",
     "text": [
      "Processed OCR for image: 2008250414_01\n",
      "Processed OCR for image: 2008250429_01\n"
     ]
    },
    {
     "name": "stderr",
     "output_type": "stream",
     "text": [
      "Processing Images:  19%|█▉        | 577/3053 [02:44<18:05,  2.28it/s]"
     ]
    },
    {
     "name": "stdout",
     "output_type": "stream",
     "text": [
      "Processed OCR for image: 2008250441_01\n"
     ]
    },
    {
     "name": "stderr",
     "output_type": "stream",
     "text": [
      "Processing Images:  19%|█▉        | 577/3053 [02:45<18:05,  2.28it/s]"
     ]
    },
    {
     "name": "stdout",
     "output_type": "stream",
     "text": [
      "Processed OCR for image: 2008250530_01\n"
     ]
    },
    {
     "name": "stderr",
     "output_type": "stream",
     "text": [
      "Processing Images:  19%|█▉        | 579/3053 [02:46<24:12,  1.70it/s]"
     ]
    },
    {
     "name": "stdout",
     "output_type": "stream",
     "text": [
      "Processed OCR for image: 2008250533_01\n",
      "Processed OCR for image: 2008250544_01\n",
      "Processed OCR for image: 2008250536_01\n",
      "Processed OCR for image: 2008250546_01\n",
      "Processed OCR for image: 2008250538_01\n",
      "Processed OCR for image: 2008250549_01\n",
      "Processed OCR for image: 2008250556_01\n",
      "Processed OCR for image: 2008250908_01\n",
      "Processed OCR for image: 2008250913_01\n",
      "Processed OCR for image: 2008251126_01\n",
      "Processed OCR for image: 2008250951_01\n",
      "Processed OCR for image: 2008250673_01\n",
      "Processed OCR for image: 2008251140_01\n",
      "Processed OCR for image: 2008251169_01\n"
     ]
    },
    {
     "name": "stderr",
     "output_type": "stream",
     "text": [
      "Processing Images:  19%|█▉        | 593/3053 [02:46<04:23,  9.35it/s]"
     ]
    },
    {
     "name": "stdout",
     "output_type": "stream",
     "text": [
      "Processed OCR for image: 2008251262_01\n"
     ]
    },
    {
     "name": "stderr",
     "output_type": "stream",
     "text": [
      "Processing Images:  19%|█▉        | 593/3053 [02:48<04:23,  9.35it/s]"
     ]
    },
    {
     "name": "stdout",
     "output_type": "stream",
     "text": [
      "Processed OCR for image: 2008251394_01\n"
     ]
    },
    {
     "name": "stderr",
     "output_type": "stream",
     "text": [
      "Processing Images:  19%|█▉        | 595/3053 [02:48<09:42,  4.22it/s]"
     ]
    },
    {
     "name": "stdout",
     "output_type": "stream",
     "text": [
      "Processed OCR for image: 2008251458_01\n",
      "Processed OCR for image: 2008251463_01\n",
      "Processed OCR for image: 2008251379_01\n",
      "Processed OCR for image: 2008251448_01\n",
      "Processed OCR for image: 2008251467_01\n"
     ]
    },
    {
     "name": "stderr",
     "output_type": "stream",
     "text": [
      "Processing Images:  20%|█▉        | 600/3053 [02:48<07:11,  5.68it/s]"
     ]
    },
    {
     "name": "stdout",
     "output_type": "stream",
     "text": [
      "Processed OCR for image: 2008251462_01\n",
      "Processed OCR for image: 2008251465_01\n"
     ]
    },
    {
     "name": "stderr",
     "output_type": "stream",
     "text": [
      "                                                                     \r"
     ]
    },
    {
     "name": "stdout",
     "output_type": "stream",
     "text": [
      "Processed OCR for image: 2008251479_01\n"
     ]
    },
    {
     "name": "stderr",
     "output_type": "stream",
     "text": [
      "Processing Images:  20%|█▉        | 603/3053 [02:49<08:38,  4.72it/s]"
     ]
    },
    {
     "name": "stdout",
     "output_type": "stream",
     "text": [
      "Processed OCR for image: 2008251468_01\n"
     ]
    },
    {
     "name": "stderr",
     "output_type": "stream",
     "text": [
      "                                                                     "
     ]
    },
    {
     "name": "stdout",
     "output_type": "stream",
     "text": [
      "Processed OCR for image: 2008251476_01\n"
     ]
    },
    {
     "name": "stderr",
     "output_type": "stream",
     "text": [
      "Processing Images:  20%|█▉        | 605/3053 [02:51<15:33,  2.62it/s]"
     ]
    },
    {
     "name": "stdout",
     "output_type": "stream",
     "text": [
      "Processed OCR for image: 2008251486_01\n"
     ]
    },
    {
     "name": "stderr",
     "output_type": "stream",
     "text": [
      "Processing Images:  20%|█▉        | 606/3053 [02:52<15:35,  2.62it/s]"
     ]
    },
    {
     "name": "stdout",
     "output_type": "stream",
     "text": [
      "Processed OCR for image: 2008251554_01\n",
      "Processed OCR for image: 2008251487_01\n",
      "Processed OCR for image: 2008251531_01\n",
      "Processed OCR for image: 2008251573_01\n",
      "Processed OCR for image: 2008251509_01\n",
      "Processed OCR for image: 2008251557_01\n",
      "Processed OCR for image: 2008251578_01\n",
      "Processed OCR for image: 2008251574_01\n"
     ]
    },
    {
     "name": "stderr",
     "output_type": "stream",
     "text": [
      "Processing Images:  20%|██        | 615/3053 [02:54<13:12,  3.07it/s]"
     ]
    },
    {
     "name": "stdout",
     "output_type": "stream",
     "text": [
      "Processed OCR for image: 2008251591_01\n",
      "Processed OCR for image: 2008251599_01\n"
     ]
    },
    {
     "name": "stderr",
     "output_type": "stream",
     "text": [
      "                                                                     \r"
     ]
    },
    {
     "name": "stdout",
     "output_type": "stream",
     "text": [
      "Processed OCR for image: 2008251726_01\n",
      "Processed OCR for image: 2008251608_01\n"
     ]
    },
    {
     "name": "stderr",
     "output_type": "stream",
     "text": [
      "                                                                     \r"
     ]
    },
    {
     "name": "stdout",
     "output_type": "stream",
     "text": [
      "Processed OCR for image: 2008251601_01\n"
     ]
    },
    {
     "name": "stderr",
     "output_type": "stream",
     "text": [
      "Processing Images:  20%|██        | 619/3053 [02:55<10:09,  4.00it/s]"
     ]
    },
    {
     "name": "stdout",
     "output_type": "stream",
     "text": [
      "Processed OCR for image: 2008251724_01\n",
      "Processed OCR for image: 2008251648_01\n",
      "Processed OCR for image: 2008251585_01\n",
      "Processed OCR for image: 2008251727_01\n"
     ]
    },
    {
     "name": "stderr",
     "output_type": "stream",
     "text": [
      "Processing Images:  20%|██        | 623/3053 [02:55<07:04,  5.72it/s]"
     ]
    },
    {
     "name": "stdout",
     "output_type": "stream",
     "text": [
      "Processed OCR for image: 2008251730_01\n"
     ]
    },
    {
     "name": "stderr",
     "output_type": "stream",
     "text": [
      "Processing Images:  20%|██        | 624/3053 [02:57<15:05,  2.68it/s]"
     ]
    },
    {
     "name": "stdout",
     "output_type": "stream",
     "text": [
      "Processed OCR for image: 2008251745_01\n"
     ]
    },
    {
     "name": "stderr",
     "output_type": "stream",
     "text": [
      "Processing Images:  21%|██        | 626/3053 [02:57<13:02,  3.10it/s]"
     ]
    },
    {
     "name": "stdout",
     "output_type": "stream",
     "text": [
      "Processed OCR for image: 2008251862_01\n",
      "Processed OCR for image: 2008251924_01\n"
     ]
    },
    {
     "name": "stderr",
     "output_type": "stream",
     "text": [
      "Processing Images:  21%|██        | 626/3053 [02:57<13:02,  3.10it/s]"
     ]
    },
    {
     "name": "stdout",
     "output_type": "stream",
     "text": [
      "Processed OCR for image: 2008252046_01\n",
      "Processed OCR for image: 2008251822_01\n",
      "Processed OCR for image: 2008251961_01\n",
      "Processed OCR for image: 2008251889_01\n",
      "Processed OCR for image: 2008252428_01\n"
     ]
    },
    {
     "name": "stderr",
     "output_type": "stream",
     "text": [
      "Processing Images:  21%|██        | 632/3053 [02:58<07:20,  5.50it/s]"
     ]
    },
    {
     "name": "stdout",
     "output_type": "stream",
     "text": [
      "Processed OCR for image: 2008252433_01\n"
     ]
    },
    {
     "name": "stderr",
     "output_type": "stream",
     "text": [
      "Processing Images:  21%|██        | 633/3053 [02:59<12:07,  3.33it/s]"
     ]
    },
    {
     "name": "stdout",
     "output_type": "stream",
     "text": [
      "Processed OCR for image: 2008252434_01\n"
     ]
    },
    {
     "name": "stderr",
     "output_type": "stream",
     "text": [
      "Processing Images:  21%|██        | 635/3053 [03:00<12:53,  3.13it/s]"
     ]
    },
    {
     "name": "stdout",
     "output_type": "stream",
     "text": [
      "Processed OCR for image: 2008252436_01\n",
      "Processed OCR for image: 2008252437_01\n",
      "Processed OCR for image: 2008252455_01\n",
      "Processed OCR for image: 2008252440_01\n",
      "Processed OCR for image: 2008252473_01\n",
      "Processed OCR for image: 2008252443_01\n",
      "Processed OCR for image: 2008252475_01\n"
     ]
    },
    {
     "name": "stderr",
     "output_type": "stream",
     "text": [
      "Processing Images:  21%|██        | 641/3053 [03:00<06:49,  5.89it/s]"
     ]
    },
    {
     "name": "stdout",
     "output_type": "stream",
     "text": [
      "Processed OCR for image: 2008252480_01\n"
     ]
    },
    {
     "name": "stderr",
     "output_type": "stream",
     "text": [
      "                                                                     "
     ]
    },
    {
     "name": "stdout",
     "output_type": "stream",
     "text": [
      "Processed OCR for image: 2008252495_01\n"
     ]
    },
    {
     "name": "stderr",
     "output_type": "stream",
     "text": [
      "                                                                     "
     ]
    },
    {
     "name": "stdout",
     "output_type": "stream",
     "text": [
      "Processed OCR for image: 2008252630_01\n"
     ]
    },
    {
     "name": "stderr",
     "output_type": "stream",
     "text": [
      "                                                                     "
     ]
    },
    {
     "name": "stdout",
     "output_type": "stream",
     "text": [
      "Processed OCR for image: 2008252642_01\n"
     ]
    },
    {
     "name": "stderr",
     "output_type": "stream",
     "text": [
      "                                                                     "
     ]
    },
    {
     "name": "stdout",
     "output_type": "stream",
     "text": [
      "Processed OCR for image: 2008252895_01\n"
     ]
    },
    {
     "name": "stderr",
     "output_type": "stream",
     "text": [
      "                                                                     \r"
     ]
    },
    {
     "name": "stdout",
     "output_type": "stream",
     "text": [
      "Processed OCR for image: 2008252860_01\n"
     ]
    },
    {
     "name": "stderr",
     "output_type": "stream",
     "text": [
      "Processing Images:  21%|██        | 647/3053 [03:05<18:43,  2.14it/s]"
     ]
    },
    {
     "name": "stdout",
     "output_type": "stream",
     "text": [
      "Processed OCR for image: 2008252639_01\n",
      "Processed OCR for image: 2008252490_01\n"
     ]
    },
    {
     "name": "stderr",
     "output_type": "stream",
     "text": [
      "Processing Images:  21%|██▏       | 649/3053 [03:06<18:49,  2.13it/s]"
     ]
    },
    {
     "name": "stdout",
     "output_type": "stream",
     "text": [
      "Processed OCR for image: 2008252923_01\n"
     ]
    },
    {
     "name": "stderr",
     "output_type": "stream",
     "text": [
      "                                                                     "
     ]
    },
    {
     "name": "stdout",
     "output_type": "stream",
     "text": [
      "Processed OCR for image: 2008253026_01\n"
     ]
    },
    {
     "name": "stderr",
     "output_type": "stream",
     "text": [
      "                                                                     "
     ]
    },
    {
     "name": "stdout",
     "output_type": "stream",
     "text": [
      "Processed OCR for image: 2008253159_01\n"
     ]
    },
    {
     "name": "stderr",
     "output_type": "stream",
     "text": [
      "Processing Images:  21%|██▏       | 652/3053 [03:07<21:15,  1.88it/s]"
     ]
    },
    {
     "name": "stdout",
     "output_type": "stream",
     "text": [
      "Processed OCR for image: 2008253220_01\n"
     ]
    },
    {
     "name": "stderr",
     "output_type": "stream",
     "text": [
      "Processing Images:  21%|██▏       | 653/3053 [03:08<21:49,  1.83it/s]"
     ]
    },
    {
     "name": "stdout",
     "output_type": "stream",
     "text": [
      "Processed OCR for image: 2008253195_01\n"
     ]
    },
    {
     "name": "stderr",
     "output_type": "stream",
     "text": [
      "Processing Images:  21%|██▏       | 654/3053 [03:08<17:12,  2.32it/s]"
     ]
    },
    {
     "name": "stdout",
     "output_type": "stream",
     "text": [
      "Processed OCR for image: 2008253464_01\n"
     ]
    },
    {
     "name": "stderr",
     "output_type": "stream",
     "text": [
      "Processing Images:  21%|██▏       | 655/3053 [03:09<25:42,  1.55it/s]"
     ]
    },
    {
     "name": "stdout",
     "output_type": "stream",
     "text": [
      "Processed OCR for image: 2008253586_01\n"
     ]
    },
    {
     "name": "stderr",
     "output_type": "stream",
     "text": [
      "Processing Images:  21%|██▏       | 656/3053 [03:10<28:53,  1.38it/s]"
     ]
    },
    {
     "name": "stdout",
     "output_type": "stream",
     "text": [
      "Processed OCR for image: 2008254223_01\n"
     ]
    },
    {
     "name": "stderr",
     "output_type": "stream",
     "text": [
      "                                                                     \r"
     ]
    },
    {
     "name": "stdout",
     "output_type": "stream",
     "text": [
      "Processed OCR for image: 2008253610_01\n"
     ]
    },
    {
     "name": "stderr",
     "output_type": "stream",
     "text": [
      "                                                                     "
     ]
    },
    {
     "name": "stdout",
     "output_type": "stream",
     "text": [
      "Processed OCR for image: 2008254366_01\n"
     ]
    },
    {
     "name": "stderr",
     "output_type": "stream",
     "text": [
      "Processing Images:  22%|██▏       | 659/3053 [03:12<23:43,  1.68it/s]"
     ]
    },
    {
     "name": "stdout",
     "output_type": "stream",
     "text": [
      "Processed OCR for image: 2008254419_01\n",
      "Processed OCR for image: 2008254457_01\n"
     ]
    },
    {
     "name": "stderr",
     "output_type": "stream",
     "text": [
      "Processing Images:  22%|██▏       | 662/3053 [03:12<13:02,  3.06it/s]"
     ]
    },
    {
     "name": "stdout",
     "output_type": "stream",
     "text": [
      "Processed OCR for image: 2008254513_01\n",
      "Processed OCR for image: 2008254458_01\n",
      "Processed OCR for image: 2008254785_01\n",
      "Processed OCR for image: 2008255190_01\n",
      "Processed OCR for image: 2008255188_01\n",
      "Processed OCR for image: 2008255191_01\n",
      "Processed OCR for image: 2008255212_01\n",
      "Processed OCR for image: 2008255226_01\n",
      "Processed OCR for image: 2008255230_01\n",
      "Processed OCR for image: 2008255232_01\n",
      "Processed OCR for image: 2008255240_01\n",
      "Processed OCR for image: 2008255243_01\n",
      "Processed OCR for image: 2008255241_01\n",
      "Processed OCR for image: 2008255261_01\n",
      "Processed OCR for image: 2008255465_01\n"
     ]
    },
    {
     "name": "stderr",
     "output_type": "stream",
     "text": [
      "Processing Images:  22%|██▏       | 678/3053 [03:13<02:23, 16.51it/s]"
     ]
    },
    {
     "name": "stdout",
     "output_type": "stream",
     "text": [
      "Processed OCR for image: 2008255517_01\n",
      "Processed OCR for image: 2008255571_01\n",
      "Processed OCR for image: 2008255526_01\n",
      "Processed OCR for image: 2008256147_01\n",
      "Processed OCR for image: 2008255645_01\n",
      "Processed OCR for image: 2008255808_01\n",
      "Processed OCR for image: 2008255794_01\n",
      "Processed OCR for image: 2008256148_01\n",
      "Processed OCR for image: 2008256150_01\n",
      "Processed OCR for image: 2008256224_01\n",
      "Processed OCR for image: 2008256236_01\n"
     ]
    },
    {
     "name": "stderr",
     "output_type": "stream",
     "text": [
      "                                                                     "
     ]
    },
    {
     "name": "stdout",
     "output_type": "stream",
     "text": [
      "Processed OCR for image: 2008256565_01\n"
     ]
    },
    {
     "name": "stderr",
     "output_type": "stream",
     "text": [
      "Processing Images:  23%|██▎       | 689/3053 [03:15<05:23,  7.30it/s]"
     ]
    },
    {
     "name": "stdout",
     "output_type": "stream",
     "text": [
      "Processed OCR for image: 2008256233_01\n",
      "Processed OCR for image: 2008256529_01\n",
      "Processed OCR for image: 2008256259_01\n",
      "Processed OCR for image: 2008256635_01\n",
      "Processed OCR for image: 2008256614_01\n",
      "Processed OCR for image: 2008256393_01\n",
      "Processed OCR for image: 2008256650_01\n"
     ]
    },
    {
     "name": "stderr",
     "output_type": "stream",
     "text": [
      "Processing Images:  23%|██▎       | 697/3053 [03:17<08:02,  4.88it/s]"
     ]
    },
    {
     "name": "stdout",
     "output_type": "stream",
     "text": [
      "Processed OCR for image: 2008256659_01\n",
      "Processed OCR for image: 2008256861_01\n",
      "Processed OCR for image: 2008256909_01\n",
      "Processed OCR for image: 2008256885_01\n",
      "Processed OCR for image: 2008256908_01\n",
      "Processed OCR for image: 2008256827_01\n",
      "Processed OCR for image: 2008256858_01\n",
      "Processed OCR for image: 2008256907_01\n"
     ]
    },
    {
     "name": "stderr",
     "output_type": "stream",
     "text": [
      "Processing Images:  23%|██▎       | 703/3053 [03:18<06:28,  6.05it/s]"
     ]
    },
    {
     "name": "stdout",
     "output_type": "stream",
     "text": [
      "Processed OCR for image: 2008257130_01\n",
      "Processed OCR for image: 2008257111_01\n"
     ]
    },
    {
     "name": "stderr",
     "output_type": "stream",
     "text": [
      "Processing Images:  23%|██▎       | 705/3053 [03:19<09:52,  3.96it/s]"
     ]
    },
    {
     "name": "stdout",
     "output_type": "stream",
     "text": [
      "Processed OCR for image: 2008257152_01\n"
     ]
    },
    {
     "name": "stderr",
     "output_type": "stream",
     "text": [
      "Processing Images:  23%|██▎       | 706/3053 [03:20<10:16,  3.81it/s]"
     ]
    },
    {
     "name": "stdout",
     "output_type": "stream",
     "text": [
      "Processed OCR for image: 2008257157_01\n"
     ]
    },
    {
     "name": "stderr",
     "output_type": "stream",
     "text": [
      "                                                                     \r"
     ]
    },
    {
     "name": "stdout",
     "output_type": "stream",
     "text": [
      "Processed OCR for image: 2008257217_01\n"
     ]
    },
    {
     "name": "stderr",
     "output_type": "stream",
     "text": [
      "Processing Images:  23%|██▎       | 709/3053 [03:21<10:50,  3.60it/s]"
     ]
    },
    {
     "name": "stdout",
     "output_type": "stream",
     "text": [
      "Processed OCR for image: 2008257305_01\n",
      "Processed OCR for image: 2008257159_01\n"
     ]
    },
    {
     "name": "stderr",
     "output_type": "stream",
     "text": [
      "                                                                     \r"
     ]
    },
    {
     "name": "stdout",
     "output_type": "stream",
     "text": [
      "Processed OCR for image: 2008257455_01\n",
      "Processed OCR for image: 2008257415_01\n",
      "Processed OCR for image: 2008257129_01\n",
      "Processed OCR for image: 2008257733_01\n"
     ]
    },
    {
     "name": "stderr",
     "output_type": "stream",
     "text": [
      "Processing Images:  23%|██▎       | 714/3053 [03:22<08:20,  4.67it/s]"
     ]
    },
    {
     "name": "stdout",
     "output_type": "stream",
     "text": [
      "Processed OCR for image: 2008257749_01\n"
     ]
    },
    {
     "name": "stderr",
     "output_type": "stream",
     "text": [
      "Processing Images:  23%|██▎       | 716/3053 [03:22<08:56,  4.35it/s]"
     ]
    },
    {
     "name": "stdout",
     "output_type": "stream",
     "text": [
      "Processed OCR for image: 2008257500_01\n",
      "Processed OCR for image: 2008257808_01\n"
     ]
    },
    {
     "name": "stderr",
     "output_type": "stream",
     "text": [
      "                                                                     "
     ]
    },
    {
     "name": "stdout",
     "output_type": "stream",
     "text": [
      "Processed OCR for image: 2008257876_01\n"
     ]
    },
    {
     "name": "stderr",
     "output_type": "stream",
     "text": [
      "Processing Images:  24%|██▎       | 719/3053 [03:23<10:51,  3.58it/s]"
     ]
    },
    {
     "name": "stdout",
     "output_type": "stream",
     "text": [
      "Processed OCR for image: 2008257995_01\n",
      "Processed OCR for image: 2008257900_01\n",
      "Processed OCR for image: 2008258023_01\n",
      "Processed OCR for image: 2008258287_01\n",
      "Processed OCR for image: 2008257846_01\n",
      "Processed OCR for image: 2008258104_01\n",
      "Processed OCR for image: 2008258156_01\n"
     ]
    },
    {
     "name": "stderr",
     "output_type": "stream",
     "text": [
      "Processing Images:  24%|██▎       | 719/3053 [03:25<10:51,  3.58it/s]"
     ]
    },
    {
     "name": "stdout",
     "output_type": "stream",
     "text": [
      "Processed OCR for image: 2008258418_01\n"
     ]
    },
    {
     "name": "stderr",
     "output_type": "stream",
     "text": [
      "Processing Images:  24%|██▍       | 726/3053 [03:26<11:41,  3.32it/s]"
     ]
    },
    {
     "name": "stdout",
     "output_type": "stream",
     "text": [
      "Processed OCR for image: 2008258409_01\n",
      "Processed OCR for image: 2008258413_01\n",
      "Processed OCR for image: 2008258426_01\n",
      "Processed OCR for image: 2008258420_01\n",
      "Processed OCR for image: 2008258423_01\n",
      "Processed OCR for image: 2008258493_01\n",
      "Processed OCR for image: 2008258496_01\n"
     ]
    },
    {
     "name": "stderr",
     "output_type": "stream",
     "text": [
      "Processing Images:  24%|██▍       | 733/3053 [03:27<10:36,  3.64it/s]"
     ]
    },
    {
     "name": "stdout",
     "output_type": "stream",
     "text": [
      "Processed OCR for image: 2008258499_01\n"
     ]
    },
    {
     "name": "stderr",
     "output_type": "stream",
     "text": [
      "Processing Images:  24%|██▍       | 734/3053 [03:28<12:07,  3.19it/s]"
     ]
    },
    {
     "name": "stdout",
     "output_type": "stream",
     "text": [
      "Processed OCR for image: 2008258497_01\n",
      "Processed OCR for image: 2008258696_01\n",
      "Processed OCR for image: 2008258838_01\n",
      "Processed OCR for image: 2008258916_01\n",
      "Processed OCR for image: 2008258506_01\n",
      "Processed OCR for image: 2008258633_01\n",
      "Processed OCR for image: 2008258968_01\n"
     ]
    },
    {
     "name": "stderr",
     "output_type": "stream",
     "text": [
      "Processing Images:  24%|██▍       | 741/3053 [03:29<07:21,  5.24it/s]"
     ]
    },
    {
     "name": "stdout",
     "output_type": "stream",
     "text": [
      "Processed OCR for image: 2008258973_01\n"
     ]
    },
    {
     "name": "stderr",
     "output_type": "stream",
     "text": [
      "Processing Images:  24%|██▍       | 742/3053 [03:29<10:02,  3.84it/s]"
     ]
    },
    {
     "name": "stdout",
     "output_type": "stream",
     "text": [
      "Processed OCR for image: 2008259067_01\n"
     ]
    },
    {
     "name": "stderr",
     "output_type": "stream",
     "text": [
      "                                                                     "
     ]
    },
    {
     "name": "stdout",
     "output_type": "stream",
     "text": [
      "Processed OCR for image: 2008259198_01\n"
     ]
    },
    {
     "name": "stderr",
     "output_type": "stream",
     "text": [
      "Processing Images:  24%|██▍       | 744/3053 [03:30<11:39,  3.30it/s]"
     ]
    },
    {
     "name": "stdout",
     "output_type": "stream",
     "text": [
      "Processed OCR for image: 2008259218_01\n"
     ]
    },
    {
     "name": "stderr",
     "output_type": "stream",
     "text": [
      "                                                                     \r"
     ]
    },
    {
     "name": "stdout",
     "output_type": "stream",
     "text": [
      "Processed OCR for image: 2008259206_01\n"
     ]
    },
    {
     "name": "stderr",
     "output_type": "stream",
     "text": [
      "Processing Images:  24%|██▍       | 746/3053 [03:31<14:49,  2.59it/s]"
     ]
    },
    {
     "name": "stdout",
     "output_type": "stream",
     "text": [
      "Processed OCR for image: 2008259248_01\n"
     ]
    },
    {
     "name": "stderr",
     "output_type": "stream",
     "text": [
      "Processing Images:  24%|██▍       | 747/3053 [03:32<18:40,  2.06it/s]"
     ]
    },
    {
     "name": "stdout",
     "output_type": "stream",
     "text": [
      "Processed OCR for image: 2008259246_01\n"
     ]
    },
    {
     "name": "stderr",
     "output_type": "stream",
     "text": [
      "Processing Images:  25%|██▍       | 748/3053 [03:33<20:48,  1.85it/s]"
     ]
    },
    {
     "name": "stdout",
     "output_type": "stream",
     "text": [
      "Processed OCR for image: 2008259250_01\n",
      "Processed OCR for image: 2008259204_01\n"
     ]
    },
    {
     "name": "stderr",
     "output_type": "stream",
     "text": [
      "                                                                     \r"
     ]
    },
    {
     "name": "stdout",
     "output_type": "stream",
     "text": [
      "Processed OCR for image: 2008259258_01\n",
      "Processed OCR for image: 2008259260_01\n"
     ]
    },
    {
     "name": "stderr",
     "output_type": "stream",
     "text": [
      "Processing Images:  25%|██▍       | 752/3053 [03:34<14:39,  2.62it/s]"
     ]
    },
    {
     "name": "stdout",
     "output_type": "stream",
     "text": [
      "Processed OCR for image: 2008259255_01\n"
     ]
    },
    {
     "name": "stderr",
     "output_type": "stream",
     "text": [
      "Processing Images:  25%|██▍       | 753/3053 [03:35<20:16,  1.89it/s]"
     ]
    },
    {
     "name": "stdout",
     "output_type": "stream",
     "text": [
      "Processed OCR for image: 2008259282_01\n"
     ]
    },
    {
     "name": "stderr",
     "output_type": "stream",
     "text": [
      "Processing Images:  25%|██▍       | 754/3053 [03:37<26:05,  1.47it/s]"
     ]
    },
    {
     "name": "stdout",
     "output_type": "stream",
     "text": [
      "Processed OCR for image: 2008259306_01\n"
     ]
    },
    {
     "name": "stderr",
     "output_type": "stream",
     "text": [
      "Processing Images:  25%|██▍       | 756/3053 [03:37<20:14,  1.89it/s]"
     ]
    },
    {
     "name": "stdout",
     "output_type": "stream",
     "text": [
      "Processed OCR for image: 2008259309_01\n",
      "Processed OCR for image: 2008259315_01\n",
      "Processed OCR for image: 2008259316_01\n",
      "Processed OCR for image: 2008259327_01\n",
      "Processed OCR for image: 2008259337_01\n"
     ]
    },
    {
     "name": "stderr",
     "output_type": "stream",
     "text": [
      "Processing Images:  25%|██▌       | 764/3053 [03:38<05:23,  7.08it/s]"
     ]
    },
    {
     "name": "stdout",
     "output_type": "stream",
     "text": [
      "Processed OCR for image: 2008259345_01\n",
      "Processed OCR for image: 2008259339_01\n",
      "Processed OCR for image: 2008259346_01\n",
      "Processed OCR for image: 2008259343_01\n",
      "Processed OCR for image: 2008259537_01\n"
     ]
    },
    {
     "name": "stderr",
     "output_type": "stream",
     "text": [
      "Processing Images:  25%|██▌       | 764/3053 [03:38<05:23,  7.08it/s]"
     ]
    },
    {
     "name": "stdout",
     "output_type": "stream",
     "text": [
      "Processed OCR for image: 2008259718_01\n"
     ]
    },
    {
     "name": "stderr",
     "output_type": "stream",
     "text": [
      "                                                                     \r"
     ]
    },
    {
     "name": "stdout",
     "output_type": "stream",
     "text": [
      "Processed OCR for image: 2008259499_01\n",
      "Processed OCR for image: 2008259721_01\n"
     ]
    },
    {
     "name": "stderr",
     "output_type": "stream",
     "text": [
      "Processing Images:  25%|██▌       | 768/3053 [03:40<12:09,  3.13it/s]"
     ]
    },
    {
     "name": "stdout",
     "output_type": "stream",
     "text": [
      "Processed OCR for image: 2008259352_01\n"
     ]
    },
    {
     "name": "stderr",
     "output_type": "stream",
     "text": [
      "Processing Images:  25%|██▌       | 769/3053 [03:40<12:41,  3.00it/s]"
     ]
    },
    {
     "name": "stdout",
     "output_type": "stream",
     "text": [
      "Processed OCR for image: 2008259905_01\n"
     ]
    },
    {
     "name": "stderr",
     "output_type": "stream",
     "text": [
      "Processing Images:  25%|██▌       | 770/3053 [03:42<20:07,  1.89it/s]"
     ]
    },
    {
     "name": "stdout",
     "output_type": "stream",
     "text": [
      "Processed OCR for image: 2008259724_01\n"
     ]
    },
    {
     "name": "stderr",
     "output_type": "stream",
     "text": [
      "Processing Images:  25%|██▌       | 771/3053 [03:43<21:50,  1.74it/s]"
     ]
    },
    {
     "name": "stdout",
     "output_type": "stream",
     "text": [
      "Processed OCR for image: 2008259725_01\n"
     ]
    },
    {
     "name": "stderr",
     "output_type": "stream",
     "text": [
      "Processing Images:  25%|██▌       | 772/3053 [03:43<20:33,  1.85it/s]"
     ]
    },
    {
     "name": "stdout",
     "output_type": "stream",
     "text": [
      "Processed OCR for image: 2008260293_01\n"
     ]
    },
    {
     "name": "stderr",
     "output_type": "stream",
     "text": [
      "Processing Images:  25%|██▌       | 773/3053 [03:44<23:19,  1.63it/s]"
     ]
    },
    {
     "name": "stdout",
     "output_type": "stream",
     "text": [
      "Processed OCR for image: 2008260281_01\n"
     ]
    },
    {
     "name": "stderr",
     "output_type": "stream",
     "text": [
      "                                                                     \r"
     ]
    },
    {
     "name": "stdout",
     "output_type": "stream",
     "text": [
      "Processed OCR for image: 2008259930_01\n",
      "Processed OCR for image: 2008261381_01\n",
      "Processed OCR for image: 2008260981_01\n",
      "Processed OCR for image: 2008260315_01\n",
      "Processed OCR for image: 2008261752_01\n",
      "Processed OCR for image: 2008261753_01\n",
      "Processed OCR for image: 2008261762_01\n",
      "Processed OCR for image: 2008261766_01\n",
      "Processed OCR for image: 2008261770_01\n",
      "Processed OCR for image: 2008261764_01\n",
      "Processed OCR for image: 2008261775_01\n",
      "Processed OCR for image: 2008261774_01\n",
      "Processed OCR for image: 2008261787_01\n",
      "Processed OCR for image: 2008261795_01\n",
      "Processed OCR for image: 2008261801_01\n"
     ]
    },
    {
     "name": "stderr",
     "output_type": "stream",
     "text": [
      "Processing Images:  26%|██▌       | 795/3053 [03:45<02:50, 13.21it/s]"
     ]
    },
    {
     "name": "stdout",
     "output_type": "stream",
     "text": [
      "Processed OCR for image: 2008261856_01\n",
      "Processed OCR for image: 2008261853_01\n",
      "Processed OCR for image: 2008261859_01\n",
      "Processed OCR for image: 2008261857_01\n",
      "Processed OCR for image: 2008261929_01\n",
      "Processed OCR for image: 2008262093_01\n",
      "Processed OCR for image: 2008262112_01\n"
     ]
    },
    {
     "name": "stderr",
     "output_type": "stream",
     "text": [
      "                                                                     "
     ]
    },
    {
     "name": "stdout",
     "output_type": "stream",
     "text": [
      "Processed OCR for image: 2008262114_01\n"
     ]
    },
    {
     "name": "stderr",
     "output_type": "stream",
     "text": [
      "Processing Images:  26%|██▌       | 798/3053 [03:47<06:51,  5.48it/s]"
     ]
    },
    {
     "name": "stdout",
     "output_type": "stream",
     "text": [
      "Processed OCR for image: 2008262506_01\n",
      "Processed OCR for image: 2008262816_01\n",
      "Processed OCR for image: 2008262632_01\n",
      "Processed OCR for image: 2008262949_01\n",
      "Processed OCR for image: 2008262992_01\n",
      "Processed OCR for image: 2008262974_01\n",
      "Processed OCR for image: 2008263093_01\n",
      "Processed OCR for image: 2008263378_01\n",
      "Processed OCR for image: 2008263297_01\n",
      "Processed OCR for image: 2008263381_01\n",
      "Processed OCR for image: 2008263333_01\n",
      "Processed OCR for image: 2008263349_01\n",
      "Processed OCR for image: 2008263384_01\n"
     ]
    },
    {
     "name": "stderr",
     "output_type": "stream",
     "text": [
      "Processing Images:  27%|██▋       | 810/3053 [03:50<08:06,  4.61it/s]"
     ]
    },
    {
     "name": "stdout",
     "output_type": "stream",
     "text": [
      "Processed OCR for image: 2008263399_01\n"
     ]
    },
    {
     "name": "stderr",
     "output_type": "stream",
     "text": [
      "Processing Images:  27%|██▋       | 812/3053 [03:50<08:15,  4.52it/s]"
     ]
    },
    {
     "name": "stdout",
     "output_type": "stream",
     "text": [
      "Processed OCR for image: 2008263410_01\n",
      "Processed OCR for image: 2008263412_01\n"
     ]
    },
    {
     "name": "stderr",
     "output_type": "stream",
     "text": [
      "Processing Images:  27%|██▋       | 813/3053 [03:50<08:24,  4.44it/s]"
     ]
    },
    {
     "name": "stdout",
     "output_type": "stream",
     "text": [
      "Processed OCR for image: 2008263411_01\n",
      "Processed OCR for image: 2008263408_01\n",
      "Processed OCR for image: 2008263415_01\n",
      "Processed OCR for image: 2008263414_01\n",
      "Processed OCR for image: 2008263514_01\n",
      "Processed OCR for image: 2008263529_01\n"
     ]
    },
    {
     "name": "stderr",
     "output_type": "stream",
     "text": [
      "Processing Images:  27%|██▋       | 819/3053 [03:51<07:13,  5.15it/s]"
     ]
    },
    {
     "name": "stdout",
     "output_type": "stream",
     "text": [
      "Processed OCR for image: 2008263962_01\n"
     ]
    },
    {
     "name": "stderr",
     "output_type": "stream",
     "text": [
      "Processing Images:  27%|██▋       | 820/3053 [03:52<10:16,  3.62it/s]"
     ]
    },
    {
     "name": "stdout",
     "output_type": "stream",
     "text": [
      "Processed OCR for image: 2008263896_01\n"
     ]
    },
    {
     "name": "stderr",
     "output_type": "stream",
     "text": [
      "Processing Images:  27%|██▋       | 821/3053 [03:53<10:16,  3.62it/s]"
     ]
    },
    {
     "name": "stdout",
     "output_type": "stream",
     "text": [
      "Processed OCR for image: 2008264084_01\n",
      "Processed OCR for image: 2008264018_01\n",
      "Processed OCR for image: 2008264178_01\n",
      "Processed OCR for image: 2008263964_01\n",
      "Processed OCR for image: 2008264085_01\n",
      "Processed OCR for image: 2008264304_01\n",
      "Processed OCR for image: 2008264392_01\n"
     ]
    },
    {
     "name": "stderr",
     "output_type": "stream",
     "text": [
      "Processing Images:  27%|██▋       | 828/3053 [03:53<06:55,  5.36it/s]"
     ]
    },
    {
     "name": "stdout",
     "output_type": "stream",
     "text": [
      "Processed OCR for image: 2008264534_01\n"
     ]
    },
    {
     "name": "stderr",
     "output_type": "stream",
     "text": [
      "Processing Images:  27%|██▋       | 829/3053 [03:55<11:13,  3.30it/s]"
     ]
    },
    {
     "name": "stdout",
     "output_type": "stream",
     "text": [
      "Processed OCR for image: 2008264586_01\n"
     ]
    },
    {
     "name": "stderr",
     "output_type": "stream",
     "text": [
      "Processing Images:  27%|██▋       | 831/3053 [03:55<10:49,  3.42it/s]"
     ]
    },
    {
     "name": "stdout",
     "output_type": "stream",
     "text": [
      "Processed OCR for image: 2008264720_01\n",
      "Processed OCR for image: 2008264964_01\n",
      "Processed OCR for image: 2008264697_01\n",
      "Processed OCR for image: 2008265008_01\n"
     ]
    },
    {
     "name": "stderr",
     "output_type": "stream",
     "text": [
      "Processing Images:  27%|██▋       | 831/3053 [03:55<10:49,  3.42it/s]"
     ]
    },
    {
     "name": "stdout",
     "output_type": "stream",
     "text": [
      "Processed OCR for image: 2008265029_01\n",
      "Processed OCR for image: 2008265024_01\n",
      "Processed OCR for image: 2008265031_01\n"
     ]
    },
    {
     "name": "stderr",
     "output_type": "stream",
     "text": [
      "Processing Images:  27%|██▋       | 837/3053 [03:56<05:59,  6.17it/s]"
     ]
    },
    {
     "name": "stdout",
     "output_type": "stream",
     "text": [
      "Processed OCR for image: 2008265116_01\n"
     ]
    },
    {
     "name": "stderr",
     "output_type": "stream",
     "text": [
      "Processing Images:  27%|██▋       | 838/3053 [03:56<07:54,  4.67it/s]"
     ]
    },
    {
     "name": "stdout",
     "output_type": "stream",
     "text": [
      "Processed OCR for image: 2008265454_01\n"
     ]
    },
    {
     "name": "stderr",
     "output_type": "stream",
     "text": [
      "                                                                     "
     ]
    },
    {
     "name": "stdout",
     "output_type": "stream",
     "text": [
      "Processed OCR for image: 2008265217_01\n"
     ]
    },
    {
     "name": "stderr",
     "output_type": "stream",
     "text": [
      "                                                                     \r"
     ]
    },
    {
     "name": "stdout",
     "output_type": "stream",
     "text": [
      "Processed OCR for image: 2008265415_01\n",
      "Processed OCR for image: 2008265461_01\n"
     ]
    },
    {
     "name": "stderr",
     "output_type": "stream",
     "text": [
      "                                                                     \r"
     ]
    },
    {
     "name": "stdout",
     "output_type": "stream",
     "text": [
      "Processed OCR for image: 2008265702_01\n"
     ]
    },
    {
     "name": "stderr",
     "output_type": "stream",
     "text": [
      "Processing Images:  28%|██▊       | 843/3053 [03:59<13:48,  2.67it/s]"
     ]
    },
    {
     "name": "stdout",
     "output_type": "stream",
     "text": [
      "Processed OCR for image: 2008265043_01\n"
     ]
    },
    {
     "name": "stderr",
     "output_type": "stream",
     "text": [
      "Processing Images:  28%|██▊       | 843/3053 [04:00<13:48,  2.67it/s]"
     ]
    },
    {
     "name": "stdout",
     "output_type": "stream",
     "text": [
      "Processed OCR for image: 2008265743_01\n"
     ]
    },
    {
     "name": "stderr",
     "output_type": "stream",
     "text": [
      "                                                                     \r"
     ]
    },
    {
     "name": "stdout",
     "output_type": "stream",
     "text": [
      "Processed OCR for image: 2008265811_01\n",
      "Processed OCR for image: 2008265857_01\n",
      "Processed OCR for image: 2008266130_01\n",
      "Processed OCR for image: 2008265906_01\n"
     ]
    },
    {
     "name": "stderr",
     "output_type": "stream",
     "text": [
      "Processing Images:  28%|██▊       | 849/3053 [04:01<08:56,  4.11it/s]"
     ]
    },
    {
     "name": "stdout",
     "output_type": "stream",
     "text": [
      "Processed OCR for image: 2008266007_01\n",
      "Processed OCR for image: 2008266195_01\n"
     ]
    },
    {
     "name": "stderr",
     "output_type": "stream",
     "text": [
      "Processing Images:  28%|██▊       | 850/3053 [04:01<09:04,  4.04it/s]"
     ]
    },
    {
     "name": "stdout",
     "output_type": "stream",
     "text": [
      "Processed OCR for image: 2008266390_01\n",
      "Processed OCR for image: 2008266299_01\n",
      "Processed OCR for image: 2008266418_01\n",
      "Processed OCR for image: 2008266529_01\n",
      "Processed OCR for image: 2008266515_01\n",
      "Processed OCR for image: 2008266614_01\n",
      "Processed OCR for image: 2008266684_01\n"
     ]
    },
    {
     "name": "stderr",
     "output_type": "stream",
     "text": [
      "Processing Images:  28%|██▊       | 858/3053 [04:02<06:40,  5.48it/s]"
     ]
    },
    {
     "name": "stdout",
     "output_type": "stream",
     "text": [
      "Processed OCR for image: 2008266680_01\n"
     ]
    },
    {
     "name": "stderr",
     "output_type": "stream",
     "text": [
      "Processing Images:  28%|██▊       | 859/3053 [04:03<09:03,  4.04it/s]"
     ]
    },
    {
     "name": "stdout",
     "output_type": "stream",
     "text": [
      "Processed OCR for image: 2008266727_01\n"
     ]
    },
    {
     "name": "stderr",
     "output_type": "stream",
     "text": [
      "Processing Images:  28%|██▊       | 865/3053 [04:03<05:07,  7.11it/s]"
     ]
    },
    {
     "name": "stdout",
     "output_type": "stream",
     "text": [
      "Processed OCR for image: 2008266835_01\n",
      "Processed OCR for image: 2008266698_01\n",
      "Processed OCR for image: 2008266855_01\n",
      "Processed OCR for image: 2008266696_01\n",
      "Processed OCR for image: 2008266831_01\n",
      "Processed OCR for image: 2008266880_01\n",
      "Processed OCR for image: 2008266909_01\n"
     ]
    },
    {
     "name": "stderr",
     "output_type": "stream",
     "text": [
      "Processing Images:  28%|██▊       | 867/3053 [04:04<06:52,  5.30it/s]"
     ]
    },
    {
     "name": "stdout",
     "output_type": "stream",
     "text": [
      "Processed OCR for image: 2008266942_01\n",
      "Processed OCR for image: 2008266937_01\n"
     ]
    },
    {
     "name": "stderr",
     "output_type": "stream",
     "text": [
      "Processing Images:  28%|██▊       | 869/3053 [04:05<07:33,  4.82it/s]"
     ]
    },
    {
     "name": "stdout",
     "output_type": "stream",
     "text": [
      "Processed OCR for image: 2008266915_01\n"
     ]
    },
    {
     "name": "stderr",
     "output_type": "stream",
     "text": [
      "Processing Images:  28%|██▊       | 869/3053 [04:05<07:33,  4.82it/s]"
     ]
    },
    {
     "name": "stdout",
     "output_type": "stream",
     "text": [
      "Processed OCR for image: 2008267004_01\n"
     ]
    },
    {
     "name": "stderr",
     "output_type": "stream",
     "text": [
      "Processing Images:  29%|██▊       | 871/3053 [04:06<12:36,  2.88it/s]"
     ]
    },
    {
     "name": "stdout",
     "output_type": "stream",
     "text": [
      "Processed OCR for image: 2008267071_01\n"
     ]
    },
    {
     "name": "stderr",
     "output_type": "stream",
     "text": [
      "Processing Images:  29%|██▊       | 872/3053 [04:07<14:19,  2.54it/s]"
     ]
    },
    {
     "name": "stdout",
     "output_type": "stream",
     "text": [
      "Processed OCR for image: 2008267005_01\n"
     ]
    },
    {
     "name": "stderr",
     "output_type": "stream",
     "text": [
      "Processing Images:  29%|██▊       | 873/3053 [04:07<14:13,  2.56it/s]"
     ]
    },
    {
     "name": "stdout",
     "output_type": "stream",
     "text": [
      "Processed OCR for image: 2008266994_01\n"
     ]
    },
    {
     "name": "stderr",
     "output_type": "stream",
     "text": [
      "Processing Images:  29%|██▊       | 874/3053 [04:07<13:07,  2.77it/s]"
     ]
    },
    {
     "name": "stdout",
     "output_type": "stream",
     "text": [
      "Processed OCR for image: 2008267006_01\n"
     ]
    },
    {
     "name": "stderr",
     "output_type": "stream",
     "text": [
      "                                                                     \r"
     ]
    },
    {
     "name": "stdout",
     "output_type": "stream",
     "text": [
      "Processed OCR for image: 2008267174_01\n"
     ]
    },
    {
     "name": "stderr",
     "output_type": "stream",
     "text": [
      "Processing Images:  29%|██▊       | 876/3053 [04:09<16:33,  2.19it/s]"
     ]
    },
    {
     "name": "stdout",
     "output_type": "stream",
     "text": [
      "Processed OCR for image: 2008267177_01\n"
     ]
    },
    {
     "name": "stderr",
     "output_type": "stream",
     "text": [
      "Processing Images:  29%|██▊       | 877/3053 [04:09<15:28,  2.34it/s]"
     ]
    },
    {
     "name": "stdout",
     "output_type": "stream",
     "text": [
      "Processed OCR for image: 2008267178_01\n"
     ]
    },
    {
     "name": "stderr",
     "output_type": "stream",
     "text": [
      "                                                                     "
     ]
    },
    {
     "name": "stdout",
     "output_type": "stream",
     "text": [
      "Processed OCR for image: 2008267201_01\n"
     ]
    },
    {
     "name": "stderr",
     "output_type": "stream",
     "text": [
      "Processing Images:  29%|██▉       | 879/3053 [04:10<18:31,  1.96it/s]"
     ]
    },
    {
     "name": "stdout",
     "output_type": "stream",
     "text": [
      "Processed OCR for image: 2008267212_01\n"
     ]
    },
    {
     "name": "stderr",
     "output_type": "stream",
     "text": [
      "Processing Images:  29%|██▉       | 880/3053 [04:11<22:34,  1.60it/s]"
     ]
    },
    {
     "name": "stdout",
     "output_type": "stream",
     "text": [
      "Processed OCR for image: 2008267206_01\n"
     ]
    },
    {
     "name": "stderr",
     "output_type": "stream",
     "text": [
      "                                                                     "
     ]
    },
    {
     "name": "stdout",
     "output_type": "stream",
     "text": [
      "Processed OCR for image: 2008267268_01\n"
     ]
    },
    {
     "name": "stderr",
     "output_type": "stream",
     "text": [
      "Processing Images:  29%|██▉       | 882/3053 [04:12<19:11,  1.88it/s]"
     ]
    },
    {
     "name": "stdout",
     "output_type": "stream",
     "text": [
      "Processed OCR for image: 2008267263_01\n",
      "Processed OCR for image: 2008267297_01\n",
      "Processed OCR for image: 2008267264_01\n",
      "Processed OCR for image: 2008267303_01\n",
      "Processed OCR for image: 2008267293_01\n",
      "Processed OCR for image: 2008267308_01\n",
      "Processed OCR for image: 2008267340_01\n",
      "Processed OCR for image: 2008267396_01\n",
      "Processed OCR for image: 2008267538_01\n",
      "Processed OCR for image: 2008267470_01\n",
      "Processed OCR for image: 2008267539_01\n",
      "Processed OCR for image: 2008267599_01\n",
      "Processed OCR for image: 2008267465_01\n",
      "Processed OCR for image: 2008267619_01\n",
      "Processed OCR for image: 2008267944_01\n",
      "Processed OCR for image: 2008267947_01\n",
      "Processed OCR for image: 2008267951_01\n"
     ]
    },
    {
     "name": "stderr",
     "output_type": "stream",
     "text": [
      "Processing Images:  29%|██▉       | 899/3053 [04:13<04:29,  7.99it/s]"
     ]
    },
    {
     "name": "stdout",
     "output_type": "stream",
     "text": [
      "Processed OCR for image: 2008267954_01\n"
     ]
    },
    {
     "name": "stderr",
     "output_type": "stream",
     "text": [
      "Processing Images:  29%|██▉       | 900/3053 [04:14<06:35,  5.45it/s]"
     ]
    },
    {
     "name": "stdout",
     "output_type": "stream",
     "text": [
      "Processed OCR for image: 2008267952_01\n",
      "Processed OCR for image: 2008267959_01\n",
      "Processed OCR for image: 2008267955_01\n",
      "Processed OCR for image: 2008267960_01\n",
      "Processed OCR for image: 2008267961_01\n",
      "Processed OCR for image: 2008267956_01\n",
      "Processed OCR for image: 2008267962_01\n"
     ]
    },
    {
     "name": "stderr",
     "output_type": "stream",
     "text": [
      "Processing Images:  30%|██▉       | 907/3053 [04:15<05:22,  6.66it/s]"
     ]
    },
    {
     "name": "stdout",
     "output_type": "stream",
     "text": [
      "Processed OCR for image: 2008267971_01\n"
     ]
    },
    {
     "name": "stderr",
     "output_type": "stream",
     "text": [
      "Processing Images:  30%|██▉       | 908/3053 [04:16<08:19,  4.30it/s]"
     ]
    },
    {
     "name": "stdout",
     "output_type": "stream",
     "text": [
      "Processed OCR for image: 2008267966_01\n"
     ]
    },
    {
     "name": "stderr",
     "output_type": "stream",
     "text": [
      "Processing Images:  30%|██▉       | 909/3053 [04:17<10:08,  3.53it/s]"
     ]
    },
    {
     "name": "stdout",
     "output_type": "stream",
     "text": [
      "Processed OCR for image: 2008267965_01\n"
     ]
    },
    {
     "name": "stderr",
     "output_type": "stream",
     "text": [
      "Processing Images:  30%|██▉       | 914/3053 [04:17<06:13,  5.73it/s]"
     ]
    },
    {
     "name": "stdout",
     "output_type": "stream",
     "text": [
      "Processed OCR for image: 2008267976_01\n",
      "Processed OCR for image: 2008267974_01\n",
      "Processed OCR for image: 2008267963_01\n",
      "Processed OCR for image: 2008267969_01\n",
      "Processed OCR for image: 2008267973_01\n",
      "Processed OCR for image: 2008267987_01\n"
     ]
    },
    {
     "name": "stderr",
     "output_type": "stream",
     "text": [
      "Processing Images:  30%|███       | 916/3053 [04:18<07:57,  4.47it/s]"
     ]
    },
    {
     "name": "stdout",
     "output_type": "stream",
     "text": [
      "Processed OCR for image: 2008268000_01\n"
     ]
    },
    {
     "name": "stderr",
     "output_type": "stream",
     "text": [
      "Processing Images:  30%|███       | 916/3053 [04:18<07:57,  4.47it/s]"
     ]
    },
    {
     "name": "stdout",
     "output_type": "stream",
     "text": [
      "Processed OCR for image: 2008267998_01\n"
     ]
    },
    {
     "name": "stderr",
     "output_type": "stream",
     "text": [
      "Processing Images:  30%|███       | 918/3053 [04:20<12:14,  2.91it/s]"
     ]
    },
    {
     "name": "stdout",
     "output_type": "stream",
     "text": [
      "Processed OCR for image: 2008268001_01\n",
      "Processed OCR for image: 2008268210_01\n"
     ]
    },
    {
     "name": "stderr",
     "output_type": "stream",
     "text": [
      "                                                                     \r"
     ]
    },
    {
     "name": "stdout",
     "output_type": "stream",
     "text": [
      "Processed OCR for image: 2008268192_01\n",
      "Processed OCR for image: 2008268204_01\n",
      "Processed OCR for image: 2008268234_01\n",
      "Processed OCR for image: 2008268211_01\n",
      "Processed OCR for image: 2008268065_01\n"
     ]
    },
    {
     "name": "stderr",
     "output_type": "stream",
     "text": [
      "                                                                     "
     ]
    },
    {
     "name": "stdout",
     "output_type": "stream",
     "text": [
      "Processed OCR for image: 2008268003_01\n"
     ]
    },
    {
     "name": "stderr",
     "output_type": "stream",
     "text": [
      "                                                                     "
     ]
    },
    {
     "name": "stdout",
     "output_type": "stream",
     "text": [
      "Processed OCR for image: 2008268317_01\n"
     ]
    },
    {
     "name": "stderr",
     "output_type": "stream",
     "text": [
      "                                                                     "
     ]
    },
    {
     "name": "stdout",
     "output_type": "stream",
     "text": [
      "Processed OCR for image: 2008268377_01\n",
      "Processed OCR for image: 2008268491_01\n",
      "Processed OCR for image: 2008268625_01\n"
     ]
    },
    {
     "name": "stderr",
     "output_type": "stream",
     "text": [
      "Processing Images:  30%|███       | 930/3053 [04:23<10:59,  3.22it/s]"
     ]
    },
    {
     "name": "stdout",
     "output_type": "stream",
     "text": [
      "Processed OCR for image: 2008268556_01\n"
     ]
    },
    {
     "name": "stderr",
     "output_type": "stream",
     "text": [
      "Processing Images:  30%|███       | 931/3053 [04:24<11:53,  2.97it/s]"
     ]
    },
    {
     "name": "stdout",
     "output_type": "stream",
     "text": [
      "Processed OCR for image: 2008269316_01\n"
     ]
    },
    {
     "name": "stderr",
     "output_type": "stream",
     "text": [
      "Processing Images:  31%|███       | 932/3053 [04:24<15:10,  2.33it/s]"
     ]
    },
    {
     "name": "stdout",
     "output_type": "stream",
     "text": [
      "Processed OCR for image: 2008268773_01\n"
     ]
    },
    {
     "name": "stderr",
     "output_type": "stream",
     "text": [
      "Processing Images:  31%|███       | 933/3053 [04:25<19:26,  1.82it/s]"
     ]
    },
    {
     "name": "stdout",
     "output_type": "stream",
     "text": [
      "Processed OCR for image: 2008268798_01\n"
     ]
    },
    {
     "name": "stderr",
     "output_type": "stream",
     "text": [
      "                                                                     "
     ]
    },
    {
     "name": "stdout",
     "output_type": "stream",
     "text": [
      "Processed OCR for image: 2008269348_01\n",
      "Processed OCR for image: 2008269349_01\n",
      "Processed OCR for image: 2008269358_01\n"
     ]
    },
    {
     "name": "stderr",
     "output_type": "stream",
     "text": [
      "                                                                     \r"
     ]
    },
    {
     "name": "stdout",
     "output_type": "stream",
     "text": [
      "Processed OCR for image: 2008269382_01\n",
      "Processed OCR for image: 2008269381_01\n"
     ]
    },
    {
     "name": "stderr",
     "output_type": "stream",
     "text": [
      "Processing Images:  31%|███       | 938/3053 [04:27<09:43,  3.62it/s]"
     ]
    },
    {
     "name": "stdout",
     "output_type": "stream",
     "text": [
      "Processed OCR for image: 2008269380_01\n"
     ]
    },
    {
     "name": "stderr",
     "output_type": "stream",
     "text": [
      "                                                                     \r"
     ]
    },
    {
     "name": "stdout",
     "output_type": "stream",
     "text": [
      "Processed OCR for image: 2008269359_01\n"
     ]
    },
    {
     "name": "stderr",
     "output_type": "stream",
     "text": [
      "Processing Images:  31%|███       | 945/3053 [04:29<07:40,  4.57it/s]"
     ]
    },
    {
     "name": "stdout",
     "output_type": "stream",
     "text": [
      "Processed OCR for image: 2008269395_01\n",
      "Processed OCR for image: 2008269536_01\n",
      "Processed OCR for image: 2008269647_01\n",
      "Processed OCR for image: 2008269716_01\n",
      "Processed OCR for image: 2008269394_01\n"
     ]
    },
    {
     "name": "stderr",
     "output_type": "stream",
     "text": [
      "Processing Images:  31%|███       | 946/3053 [04:29<10:19,  3.40it/s]"
     ]
    },
    {
     "name": "stdout",
     "output_type": "stream",
     "text": [
      "Processed OCR for image: 2008269831_01\n"
     ]
    },
    {
     "name": "stderr",
     "output_type": "stream",
     "text": [
      "Processing Images:  31%|███       | 947/3053 [04:30<14:56,  2.35it/s]"
     ]
    },
    {
     "name": "stdout",
     "output_type": "stream",
     "text": [
      "Processed OCR for image: 2008269731_01\n"
     ]
    },
    {
     "name": "stderr",
     "output_type": "stream",
     "text": [
      "Processing Images:  31%|███       | 948/3053 [04:31<14:05,  2.49it/s]"
     ]
    },
    {
     "name": "stdout",
     "output_type": "stream",
     "text": [
      "Processed OCR for image: 2008270011_01\n",
      "Processed OCR for image: 2008270107_01\n",
      "Processed OCR for image: 2008270380_01\n",
      "Processed OCR for image: 2008270405_01\n",
      "Processed OCR for image: 2008270191_01\n",
      "Processed OCR for image: 2008271329_01\n",
      "Processed OCR for image: 2008270775_01\n",
      "Processed OCR for image: 2008270747_01\n",
      "Processed OCR for image: 2008270649_01\n",
      "Processed OCR for image: 2008271330_01\n",
      "Processed OCR for image: 2008271350_01\n",
      "Processed OCR for image: 2008271379_01\n",
      "Processed OCR for image: 2008271380_01\n",
      "Processed OCR for image: 2008271383_01\n",
      "Processed OCR for image: 2008271378_01\n",
      "Processed OCR for image: 2008271384_01\n",
      "Processed OCR for image: 2008271457_01\n",
      "Processed OCR for image: 2008271503_01\n",
      "Processed OCR for image: 2008271646_01\n"
     ]
    },
    {
     "name": "stderr",
     "output_type": "stream",
     "text": [
      "                                                                     "
     ]
    },
    {
     "name": "stdout",
     "output_type": "stream",
     "text": [
      "Processed OCR for image: 2008271649_01\n"
     ]
    },
    {
     "name": "stderr",
     "output_type": "stream",
     "text": [
      "                                                                     "
     ]
    },
    {
     "name": "stdout",
     "output_type": "stream",
     "text": [
      "Processed OCR for image: 2008271880_01\n"
     ]
    },
    {
     "name": "stderr",
     "output_type": "stream",
     "text": [
      "                                                                     "
     ]
    },
    {
     "name": "stdout",
     "output_type": "stream",
     "text": [
      "Processed OCR for image: 2008271920_01\n"
     ]
    },
    {
     "name": "stderr",
     "output_type": "stream",
     "text": [
      "                                                                     "
     ]
    },
    {
     "name": "stdout",
     "output_type": "stream",
     "text": [
      "Processed OCR for image: 2008272569_01\n"
     ]
    },
    {
     "name": "stderr",
     "output_type": "stream",
     "text": [
      "                                                                     \r"
     ]
    },
    {
     "name": "stdout",
     "output_type": "stream",
     "text": [
      "Processed OCR for image: 2008272372_01\n"
     ]
    },
    {
     "name": "stderr",
     "output_type": "stream",
     "text": [
      "Processing Images:  32%|███▏      | 971/3053 [04:34<07:56,  4.37it/s]"
     ]
    },
    {
     "name": "stdout",
     "output_type": "stream",
     "text": [
      "Processed OCR for image: 2008272133_01\n"
     ]
    },
    {
     "name": "stderr",
     "output_type": "stream",
     "text": [
      "Processing Images:  32%|███▏      | 973/3053 [04:35<08:58,  3.86it/s]"
     ]
    },
    {
     "name": "stdout",
     "output_type": "stream",
     "text": [
      "Processed OCR for image: 2008272612_01\n"
     ]
    },
    {
     "name": "stderr",
     "output_type": "stream",
     "text": [
      "                                                                     "
     ]
    },
    {
     "name": "stdout",
     "output_type": "stream",
     "text": [
      "Processed OCR for image: 2008272376_01\n"
     ]
    },
    {
     "name": "stderr",
     "output_type": "stream",
     "text": [
      "                                                                     "
     ]
    },
    {
     "name": "stdout",
     "output_type": "stream",
     "text": [
      "Processed OCR for image: 2008272614_01\n"
     ]
    },
    {
     "name": "stderr",
     "output_type": "stream",
     "text": [
      "Processing Images:  32%|███▏      | 977/3053 [04:37<10:10,  3.40it/s]"
     ]
    },
    {
     "name": "stdout",
     "output_type": "stream",
     "text": [
      "Processed OCR for image: 2008273107_01\n",
      "Processed OCR for image: 2008272721_01\n"
     ]
    },
    {
     "name": "stderr",
     "output_type": "stream",
     "text": [
      "Processing Images:  32%|███▏      | 978/3053 [04:37<09:51,  3.51it/s]"
     ]
    },
    {
     "name": "stdout",
     "output_type": "stream",
     "text": [
      "Processed OCR for image: 2008273159_01\n"
     ]
    },
    {
     "name": "stderr",
     "output_type": "stream",
     "text": [
      "Processing Images:  32%|███▏      | 979/3053 [04:38<15:20,  2.25it/s]"
     ]
    },
    {
     "name": "stdout",
     "output_type": "stream",
     "text": [
      "Processed OCR for image: 2008273137_01\n"
     ]
    },
    {
     "name": "stderr",
     "output_type": "stream",
     "text": [
      "Processing Images:  32%|███▏      | 981/3053 [04:39<13:39,  2.53it/s]"
     ]
    },
    {
     "name": "stdout",
     "output_type": "stream",
     "text": [
      "Processed OCR for image: 2008273322_01\n",
      "Processed OCR for image: 2008273374_01\n",
      "Processed OCR for image: 2008273377_01\n",
      "Processed OCR for image: 2008273378_01\n",
      "Processed OCR for image: 2008273184_01\n",
      "Processed OCR for image: 2008273668_01\n",
      "Processed OCR for image: 2008273729_01\n",
      "Processed OCR for image: 2008273772_01\n",
      "Processed OCR for image: 2008273958_01\n",
      "Processed OCR for image: 2008273959_01\n",
      "Processed OCR for image: 2008273941_01\n",
      "Processed OCR for image: 2008274041_01\n",
      "Processed OCR for image: 2008274112_01\n",
      "Processed OCR for image: 2008274070_01\n",
      "Processed OCR for image: 2008273969_01\n",
      "Processed OCR for image: 2008274117_01\n"
     ]
    },
    {
     "name": "stderr",
     "output_type": "stream",
     "text": [
      "Processing Images:  33%|███▎      | 996/3053 [04:40<04:06,  8.34it/s]"
     ]
    },
    {
     "name": "stdout",
     "output_type": "stream",
     "text": [
      "Processed OCR for image: 2008274194_01\n"
     ]
    },
    {
     "name": "stderr",
     "output_type": "stream",
     "text": [
      "                                                                     "
     ]
    },
    {
     "name": "stdout",
     "output_type": "stream",
     "text": [
      "Processed OCR for image: 2008274311_01\n"
     ]
    },
    {
     "name": "stderr",
     "output_type": "stream",
     "text": [
      "Processing Images:  33%|███▎      | 998/3053 [04:41<07:07,  4.81it/s]"
     ]
    },
    {
     "name": "stdout",
     "output_type": "stream",
     "text": [
      "Processed OCR for image: 2008274493_01\n"
     ]
    },
    {
     "name": "stderr",
     "output_type": "stream",
     "text": [
      "Processing Images:  33%|███▎      | 1003/3053 [04:42<04:57,  6.89it/s]"
     ]
    },
    {
     "name": "stdout",
     "output_type": "stream",
     "text": [
      "Processed OCR for image: 2008274198_01\n",
      "Processed OCR for image: 2008274419_01\n",
      "Processed OCR for image: 2008274589_01\n",
      "Processed OCR for image: 2008274590_01\n",
      "Processed OCR for image: 2008274275_01\n"
     ]
    },
    {
     "name": "stderr",
     "output_type": "stream",
     "text": [
      "                                                                      \r"
     ]
    },
    {
     "name": "stdout",
     "output_type": "stream",
     "text": [
      "Processed OCR for image: 2008274611_01\n"
     ]
    },
    {
     "name": "stderr",
     "output_type": "stream",
     "text": [
      "Processing Images:  33%|███▎      | 1005/3053 [04:43<08:20,  4.09it/s]"
     ]
    },
    {
     "name": "stdout",
     "output_type": "stream",
     "text": [
      "Processed OCR for image: 2008274616_01\n"
     ]
    },
    {
     "name": "stderr",
     "output_type": "stream",
     "text": [
      "Processing Images:  33%|███▎      | 1005/3053 [04:44<08:20,  4.09it/s]"
     ]
    },
    {
     "name": "stdout",
     "output_type": "stream",
     "text": [
      "Processed OCR for image: 2008274617_01\n",
      "Processed OCR for image: 2008274660_01\n"
     ]
    },
    {
     "name": "stderr",
     "output_type": "stream",
     "text": [
      "Processing Images:  33%|███▎      | 1008/3053 [04:44<11:51,  2.87it/s]"
     ]
    },
    {
     "name": "stdout",
     "output_type": "stream",
     "text": [
      "Processed OCR for image: 2008274689_01\n"
     ]
    },
    {
     "name": "stderr",
     "output_type": "stream",
     "text": [
      "Processing Images:  33%|███▎      | 1009/3053 [04:45<13:50,  2.46it/s]"
     ]
    },
    {
     "name": "stdout",
     "output_type": "stream",
     "text": [
      "Processed OCR for image: 2008274767_01\n"
     ]
    },
    {
     "name": "stderr",
     "output_type": "stream",
     "text": [
      "                                                                      \r"
     ]
    },
    {
     "name": "stdout",
     "output_type": "stream",
     "text": [
      "Processed OCR for image: 2008274900_01\n"
     ]
    },
    {
     "name": "stderr",
     "output_type": "stream",
     "text": [
      "Processing Images:  33%|███▎      | 1011/3053 [04:46<13:25,  2.53it/s]"
     ]
    },
    {
     "name": "stdout",
     "output_type": "stream",
     "text": [
      "Processed OCR for image: 2008274908_01\n"
     ]
    },
    {
     "name": "stderr",
     "output_type": "stream",
     "text": [
      "Processing Images:  33%|███▎      | 1012/3053 [04:46<13:55,  2.44it/s]"
     ]
    },
    {
     "name": "stdout",
     "output_type": "stream",
     "text": [
      "Processed OCR for image: 2008275026_01\n"
     ]
    },
    {
     "name": "stderr",
     "output_type": "stream",
     "text": [
      "Processing Images:  33%|███▎      | 1013/3053 [04:47<16:00,  2.12it/s]"
     ]
    },
    {
     "name": "stdout",
     "output_type": "stream",
     "text": [
      "Processed OCR for image: 2008275039_01\n"
     ]
    },
    {
     "name": "stderr",
     "output_type": "stream",
     "text": [
      "Processing Images:  33%|███▎      | 1014/3053 [04:47<15:56,  2.13it/s]"
     ]
    },
    {
     "name": "stdout",
     "output_type": "stream",
     "text": [
      "Processed OCR for image: 2008275064_01\n"
     ]
    },
    {
     "name": "stderr",
     "output_type": "stream",
     "text": [
      "                                                                      "
     ]
    },
    {
     "name": "stdout",
     "output_type": "stream",
     "text": [
      "Processed OCR for image: 2008275134_01\n"
     ]
    },
    {
     "name": "stderr",
     "output_type": "stream",
     "text": [
      "Processing Images:  33%|███▎      | 1015/3053 [04:48<16:35,  2.05it/s]"
     ]
    },
    {
     "name": "stdout",
     "output_type": "stream",
     "text": [
      "Processed OCR for image: 2008275141_01\n"
     ]
    },
    {
     "name": "stderr",
     "output_type": "stream",
     "text": [
      "                                                                      "
     ]
    },
    {
     "name": "stdout",
     "output_type": "stream",
     "text": [
      "Processed OCR for image: 2008275084_01\n"
     ]
    },
    {
     "name": "stderr",
     "output_type": "stream",
     "text": [
      "                                                                      \r"
     ]
    },
    {
     "name": "stdout",
     "output_type": "stream",
     "text": [
      "Processed OCR for image: 2008275151_01\n"
     ]
    },
    {
     "name": "stderr",
     "output_type": "stream",
     "text": [
      "Processing Images:  33%|███▎      | 1019/3053 [04:50<15:26,  2.20it/s]"
     ]
    },
    {
     "name": "stdout",
     "output_type": "stream",
     "text": [
      "Processed OCR for image: 2008275215_01\n"
     ]
    },
    {
     "name": "stderr",
     "output_type": "stream",
     "text": [
      "Processing Images:  33%|███▎      | 1020/3053 [04:51<17:01,  1.99it/s]"
     ]
    },
    {
     "name": "stdout",
     "output_type": "stream",
     "text": [
      "Processed OCR for image: 2008275372_01\n"
     ]
    },
    {
     "name": "stderr",
     "output_type": "stream",
     "text": [
      "                                                                      "
     ]
    },
    {
     "name": "stdout",
     "output_type": "stream",
     "text": [
      "Processed OCR for image: 2008275364_01\n"
     ]
    },
    {
     "name": "stderr",
     "output_type": "stream",
     "text": [
      "Processing Images:  34%|███▎      | 1023/3053 [04:52<14:19,  2.36it/s]"
     ]
    },
    {
     "name": "stdout",
     "output_type": "stream",
     "text": [
      "Processed OCR for image: 2008275329_01\n",
      "Processed OCR for image: 2008275375_01\n"
     ]
    },
    {
     "name": "stderr",
     "output_type": "stream",
     "text": [
      "Processing Images:  34%|███▎      | 1024/3053 [04:52<12:29,  2.71it/s]"
     ]
    },
    {
     "name": "stdout",
     "output_type": "stream",
     "text": [
      "Processed OCR for image: 2008275373_01\n",
      "Processed OCR for image: 2008275374_01\n",
      "Processed OCR for image: 2008275393_01\n",
      "Processed OCR for image: 2008275490_01\n",
      "Processed OCR for image: 2008275466_01\n",
      "Processed OCR for image: 2008275602_01\n",
      "Processed OCR for image: 2008275840_01\n",
      "Processed OCR for image: 2008275702_01\n",
      "Processed OCR for image: 2008275760_01\n",
      "Processed OCR for image: 2008275806_01\n",
      "Processed OCR for image: 2008275843_01\n",
      "Processed OCR for image: 2008275874_01\n",
      "Processed OCR for image: 2008275878_01\n",
      "Processed OCR for image: 2008276189_01\n",
      "Processed OCR for image: 2008276190_01\n",
      "Processed OCR for image: 2008275891_01\n",
      "Processed OCR for image: 2008276194_01\n",
      "Processed OCR for image: 2008276216_01\n",
      "Processed OCR for image: 2008276218_01\n",
      "Processed OCR for image: 2008276221_01\n",
      "Processed OCR for image: 2008276222_01\n"
     ]
    },
    {
     "name": "stderr",
     "output_type": "stream",
     "text": [
      "Processing Images:  34%|███▎      | 1024/3053 [04:54<12:29,  2.71it/s]"
     ]
    },
    {
     "name": "stdout",
     "output_type": "stream",
     "text": [
      "Processed OCR for image: 2008276231_01\n"
     ]
    },
    {
     "name": "stderr",
     "output_type": "stream",
     "text": [
      "                                                                      \r"
     ]
    },
    {
     "name": "stdout",
     "output_type": "stream",
     "text": [
      "Processed OCR for image: 2008276225_01\n"
     ]
    },
    {
     "name": "stderr",
     "output_type": "stream",
     "text": [
      "Processing Images:  34%|███▍      | 1047/3053 [04:55<05:17,  6.31it/s]"
     ]
    },
    {
     "name": "stdout",
     "output_type": "stream",
     "text": [
      "Processed OCR for image: 2008276248_01\n",
      "Processed OCR for image: 2008276245_01\n",
      "Processed OCR for image: 2008276247_01\n",
      "Processed OCR for image: 2008276250_01\n",
      "Processed OCR for image: 2008276243_01\n",
      "Processed OCR for image: 2008276249_01\n",
      "Processed OCR for image: 2008276261_01\n",
      "Processed OCR for image: 2008276262_01\n"
     ]
    },
    {
     "name": "stderr",
     "output_type": "stream",
     "text": [
      "                                                                      \r"
     ]
    },
    {
     "name": "stdout",
     "output_type": "stream",
     "text": [
      "Processed OCR for image: 2008276270_01\n"
     ]
    },
    {
     "name": "stderr",
     "output_type": "stream",
     "text": [
      "Processing Images:  35%|███▍      | 1056/3053 [04:58<08:53,  3.74it/s]"
     ]
    },
    {
     "name": "stdout",
     "output_type": "stream",
     "text": [
      "Processed OCR for image: 2008276264_01\n",
      "Processed OCR for image: 2008276271_01\n",
      "Processed OCR for image: 2008276278_01\n",
      "Processed OCR for image: 2008276269_01\n",
      "Processed OCR for image: 2008276263_01\n",
      "Processed OCR for image: 2008276265_01\n",
      "Processed OCR for image: 2008276279_01\n"
     ]
    },
    {
     "name": "stderr",
     "output_type": "stream",
     "text": [
      "Processing Images:  35%|███▍      | 1063/3053 [04:59<06:25,  5.17it/s]"
     ]
    },
    {
     "name": "stdout",
     "output_type": "stream",
     "text": [
      "Processed OCR for image: 2008276426_01\n",
      "Processed OCR for image: 2008276525_01\n"
     ]
    },
    {
     "name": "stderr",
     "output_type": "stream",
     "text": [
      "                                                                      "
     ]
    },
    {
     "name": "stdout",
     "output_type": "stream",
     "text": [
      "Processed OCR for image: 2008276692_01\n"
     ]
    },
    {
     "name": "stderr",
     "output_type": "stream",
     "text": [
      "Processing Images:  35%|███▍      | 1066/3053 [05:01<08:49,  3.75it/s]"
     ]
    },
    {
     "name": "stdout",
     "output_type": "stream",
     "text": [
      "Processed OCR for image: 2008276322_01\n"
     ]
    },
    {
     "name": "stderr",
     "output_type": "stream",
     "text": [
      "                                                                      \r"
     ]
    },
    {
     "name": "stdout",
     "output_type": "stream",
     "text": [
      "Processed OCR for image: 2008276526_01\n",
      "Processed OCR for image: 2008276890_01\n"
     ]
    },
    {
     "name": "stderr",
     "output_type": "stream",
     "text": [
      "Processing Images:  35%|███▌      | 1070/3053 [05:01<07:48,  4.24it/s]"
     ]
    },
    {
     "name": "stdout",
     "output_type": "stream",
     "text": [
      "Processed OCR for image: 2008276892_01\n",
      "Processed OCR for image: 2008276885_01\n"
     ]
    },
    {
     "name": "stderr",
     "output_type": "stream",
     "text": [
      "Processing Images:  35%|███▌      | 1071/3053 [05:02<07:46,  4.25it/s]"
     ]
    },
    {
     "name": "stdout",
     "output_type": "stream",
     "text": [
      "Processed OCR for image: 2008276893_01\n"
     ]
    },
    {
     "name": "stderr",
     "output_type": "stream",
     "text": [
      "Processing Images:  35%|███▌      | 1072/3053 [05:02<08:01,  4.11it/s]"
     ]
    },
    {
     "name": "stdout",
     "output_type": "stream",
     "text": [
      "Processed OCR for image: 2008276910_01\n"
     ]
    },
    {
     "name": "stderr",
     "output_type": "stream",
     "text": [
      "Processing Images:  35%|███▌      | 1073/3053 [05:03<12:34,  2.62it/s]"
     ]
    },
    {
     "name": "stdout",
     "output_type": "stream",
     "text": [
      "Processed OCR for image: 2008276925_01\n"
     ]
    },
    {
     "name": "stderr",
     "output_type": "stream",
     "text": [
      "Processing Images:  35%|███▌      | 1074/3053 [05:03<15:10,  2.17it/s]"
     ]
    },
    {
     "name": "stdout",
     "output_type": "stream",
     "text": [
      "Processed OCR for image: 2008276929_01\n"
     ]
    },
    {
     "name": "stderr",
     "output_type": "stream",
     "text": [
      "Processing Images:  35%|███▌      | 1075/3053 [05:04<15:44,  2.09it/s]"
     ]
    },
    {
     "name": "stdout",
     "output_type": "stream",
     "text": [
      "Processed OCR for image: 2008276967_01\n"
     ]
    },
    {
     "name": "stderr",
     "output_type": "stream",
     "text": [
      "                                                                      \r"
     ]
    },
    {
     "name": "stdout",
     "output_type": "stream",
     "text": [
      "Processed OCR for image: 2008277183_01\n",
      "Processed OCR for image: 2008276928_01\n"
     ]
    },
    {
     "name": "stderr",
     "output_type": "stream",
     "text": [
      "Processing Images:  35%|███▌      | 1078/3053 [05:06<18:36,  1.77it/s]"
     ]
    },
    {
     "name": "stdout",
     "output_type": "stream",
     "text": [
      "Processed OCR for image: 2008278009_01\n"
     ]
    },
    {
     "name": "stderr",
     "output_type": "stream",
     "text": [
      "Processing Images:  35%|███▌      | 1079/3053 [05:06<19:09,  1.72it/s]"
     ]
    },
    {
     "name": "stdout",
     "output_type": "stream",
     "text": [
      "Processed OCR for image: 2008278532_01\n"
     ]
    },
    {
     "name": "stderr",
     "output_type": "stream",
     "text": [
      "Processing Images:  35%|███▌      | 1080/3053 [05:07<21:25,  1.53it/s]"
     ]
    },
    {
     "name": "stdout",
     "output_type": "stream",
     "text": [
      "Processed OCR for image: 2008277923_01\n"
     ]
    },
    {
     "name": "stderr",
     "output_type": "stream",
     "text": [
      "Processing Images:  35%|███▌      | 1080/3053 [05:08<21:25,  1.53it/s]"
     ]
    },
    {
     "name": "stdout",
     "output_type": "stream",
     "text": [
      "Processed OCR for image: 2008278823_01\n"
     ]
    },
    {
     "name": "stderr",
     "output_type": "stream",
     "text": [
      "                                                                      \r"
     ]
    },
    {
     "name": "stdout",
     "output_type": "stream",
     "text": [
      "Processed OCR for image: 2008279274_01\n",
      "Processed OCR for image: 2008279098_01\n"
     ]
    },
    {
     "name": "stderr",
     "output_type": "stream",
     "text": [
      "Processing Images:  36%|███▌      | 1084/3053 [05:09<14:35,  2.25it/s]"
     ]
    },
    {
     "name": "stdout",
     "output_type": "stream",
     "text": [
      "Processed OCR for image: 2008279277_01\n",
      "Processed OCR for image: 2008279275_01\n",
      "Processed OCR for image: 2008279280_01\n",
      "Processed OCR for image: 2008279283_01\n",
      "Processed OCR for image: 2008279290_01\n",
      "Processed OCR for image: 2008279291_01\n",
      "Processed OCR for image: 2008279288_01\n",
      "Processed OCR for image: 2008279300_01\n",
      "Processed OCR for image: 2008279297_01\n",
      "Processed OCR for image: 2008279294_01\n",
      "Processed OCR for image: 2008279305_01\n",
      "Processed OCR for image: 2008279310_01\n",
      "Processed OCR for image: 2008279307_01\n",
      "Processed OCR for image: 2008279313_01\n",
      "Processed OCR for image: 2008279337_01\n",
      "Processed OCR for image: 2008279345_01\n",
      "Processed OCR for image: 2008279409_01\n",
      "Processed OCR for image: 2008279427_01\n"
     ]
    },
    {
     "name": "stderr",
     "output_type": "stream",
     "text": [
      "Processing Images:  36%|███▌      | 1102/3053 [05:09<02:03, 15.75it/s]"
     ]
    },
    {
     "name": "stdout",
     "output_type": "stream",
     "text": [
      "Processed OCR for image: 2008279461_01\n"
     ]
    },
    {
     "name": "stderr",
     "output_type": "stream",
     "text": [
      "Processing Images:  36%|███▌      | 1102/3053 [05:10<02:03, 15.75it/s]"
     ]
    },
    {
     "name": "stdout",
     "output_type": "stream",
     "text": [
      "Processed OCR for image: 2008280010_01\n"
     ]
    },
    {
     "name": "stderr",
     "output_type": "stream",
     "text": [
      "                                                                      \r"
     ]
    },
    {
     "name": "stdout",
     "output_type": "stream",
     "text": [
      "Processed OCR for image: 2008279494_01\n"
     ]
    },
    {
     "name": "stderr",
     "output_type": "stream",
     "text": [
      "Processing Images:  36%|███▌      | 1102/3053 [05:11<02:03, 15.75it/s]"
     ]
    },
    {
     "name": "stdout",
     "output_type": "stream",
     "text": [
      "Processed OCR for image: 2008280386_01\n"
     ]
    },
    {
     "name": "stderr",
     "output_type": "stream",
     "text": [
      "Processing Images:  36%|███▌      | 1105/3053 [05:12<05:45,  5.64it/s]"
     ]
    },
    {
     "name": "stdout",
     "output_type": "stream",
     "text": [
      "Processed OCR for image: 2008281251_01\n",
      "Processed OCR for image: 2008280550_01\n"
     ]
    },
    {
     "name": "stderr",
     "output_type": "stream",
     "text": [
      "Processing Images:  36%|███▋      | 1107/3053 [05:13<06:43,  4.82it/s]"
     ]
    },
    {
     "name": "stdout",
     "output_type": "stream",
     "text": [
      "Processed OCR for image: 2008279641_01\n"
     ]
    },
    {
     "name": "stderr",
     "output_type": "stream",
     "text": [
      "Processing Images:  36%|███▋      | 1109/3053 [05:14<10:16,  3.15it/s]"
     ]
    },
    {
     "name": "stdout",
     "output_type": "stream",
     "text": [
      "Processed OCR for image: 2008280636_01\n",
      "Processed OCR for image: 2008281117_01\n",
      "Processed OCR for image: 2008281512_01\n",
      "Processed OCR for image: 2008281737_01\n",
      "Processed OCR for image: 2008281774_01\n",
      "Processed OCR for image: 2008281655_01\n"
     ]
    },
    {
     "name": "stderr",
     "output_type": "stream",
     "text": [
      "Processing Images:  37%|███▋      | 1115/3053 [05:15<06:55,  4.67it/s]"
     ]
    },
    {
     "name": "stdout",
     "output_type": "stream",
     "text": [
      "Processed OCR for image: 2008281956_01\n"
     ]
    },
    {
     "name": "stderr",
     "output_type": "stream",
     "text": [
      "Processing Images:  37%|███▋      | 1115/3053 [05:15<06:55,  4.67it/s]"
     ]
    },
    {
     "name": "stdout",
     "output_type": "stream",
     "text": [
      "Processed OCR for image: 2008281901_01\n"
     ]
    },
    {
     "name": "stderr",
     "output_type": "stream",
     "text": [
      "Processing Images:  37%|███▋      | 1117/3053 [05:16<08:27,  3.81it/s]"
     ]
    },
    {
     "name": "stdout",
     "output_type": "stream",
     "text": [
      "Processed OCR for image: 2008281846_01\n"
     ]
    },
    {
     "name": "stderr",
     "output_type": "stream",
     "text": [
      "                                                                      "
     ]
    },
    {
     "name": "stdout",
     "output_type": "stream",
     "text": [
      "Processed OCR for image: 2008281845_01\n"
     ]
    },
    {
     "name": "stderr",
     "output_type": "stream",
     "text": [
      "Processing Images:  37%|███▋      | 1120/3053 [05:17<08:46,  3.67it/s]"
     ]
    },
    {
     "name": "stdout",
     "output_type": "stream",
     "text": [
      "Processed OCR for image: 2008282089_01\n",
      "Processed OCR for image: 2008282107_01\n"
     ]
    },
    {
     "name": "stderr",
     "output_type": "stream",
     "text": [
      "Processing Images:  37%|███▋      | 1120/3053 [05:17<08:46,  3.67it/s]"
     ]
    },
    {
     "name": "stdout",
     "output_type": "stream",
     "text": [
      "Processed OCR for image: 2008282090_01\n",
      "Processed OCR for image: 2008282129_01\n",
      "Processed OCR for image: 2008282131_01\n",
      "Processed OCR for image: 2008282138_01\n",
      "Processed OCR for image: 2008282141_01\n",
      "Processed OCR for image: 2008282134_01\n",
      "Processed OCR for image: 2008282140_01\n",
      "Processed OCR for image: 2008282143_01\n"
     ]
    },
    {
     "name": "stderr",
     "output_type": "stream",
     "text": [
      "Processing Images:  37%|███▋      | 1129/3053 [05:17<03:51,  8.32it/s]"
     ]
    },
    {
     "name": "stdout",
     "output_type": "stream",
     "text": [
      "Processed OCR for image: 2008282146_01\n"
     ]
    },
    {
     "name": "stderr",
     "output_type": "stream",
     "text": [
      "Processing Images:  37%|███▋      | 1129/3053 [05:17<03:51,  8.32it/s]"
     ]
    },
    {
     "name": "stdout",
     "output_type": "stream",
     "text": [
      "Processed OCR for image: 2008282148_01\n"
     ]
    },
    {
     "name": "stderr",
     "output_type": "stream",
     "text": [
      "Processing Images:  37%|███▋      | 1131/3053 [05:18<06:49,  4.69it/s]"
     ]
    },
    {
     "name": "stdout",
     "output_type": "stream",
     "text": [
      "Processed OCR for image: 2008282204_01\n"
     ]
    },
    {
     "name": "stderr",
     "output_type": "stream",
     "text": [
      "Processing Images:  37%|███▋      | 1132/3053 [05:19<09:16,  3.45it/s]"
     ]
    },
    {
     "name": "stdout",
     "output_type": "stream",
     "text": [
      "Processed OCR for image: 2008282234_01\n"
     ]
    },
    {
     "name": "stderr",
     "output_type": "stream",
     "text": [
      "                                                                      "
     ]
    },
    {
     "name": "stdout",
     "output_type": "stream",
     "text": [
      "Processed OCR for image: 2008282314_01\n"
     ]
    },
    {
     "name": "stderr",
     "output_type": "stream",
     "text": [
      "Processing Images:  37%|███▋      | 1134/3053 [05:20<09:49,  3.25it/s]"
     ]
    },
    {
     "name": "stdout",
     "output_type": "stream",
     "text": [
      "Processed OCR for image: 2008282318_01\n",
      "Processed OCR for image: 2008282391_01\n",
      "Processed OCR for image: 2008282232_01\n",
      "Processed OCR for image: 2008282229_01\n",
      "Processed OCR for image: 2008282233_01\n",
      "Processed OCR for image: 2008282402_01\n"
     ]
    },
    {
     "name": "stderr",
     "output_type": "stream",
     "text": [
      "Processing Images:  37%|███▋      | 1140/3053 [05:21<08:29,  3.76it/s]"
     ]
    },
    {
     "name": "stdout",
     "output_type": "stream",
     "text": [
      "Processed OCR for image: 2008282523_01\n"
     ]
    },
    {
     "name": "stderr",
     "output_type": "stream",
     "text": [
      "Processing Images:  37%|███▋      | 1141/3053 [05:22<09:53,  3.22it/s]"
     ]
    },
    {
     "name": "stdout",
     "output_type": "stream",
     "text": [
      "Processed OCR for image: 2008282509_01\n",
      "Processed OCR for image: 2008282414_01\n"
     ]
    },
    {
     "name": "stderr",
     "output_type": "stream",
     "text": [
      "Processing Images:  37%|███▋      | 1143/3053 [05:22<09:04,  3.51it/s]"
     ]
    },
    {
     "name": "stdout",
     "output_type": "stream",
     "text": [
      "Processed OCR for image: 2008282554_01\n",
      "Processed OCR for image: 2008282442_01\n",
      "Processed OCR for image: 2008282553_01\n",
      "Processed OCR for image: 2008282513_01\n",
      "Processed OCR for image: 2008282562_01\n"
     ]
    },
    {
     "name": "stderr",
     "output_type": "stream",
     "text": [
      "Processing Images:  38%|███▊      | 1148/3053 [05:23<05:40,  5.60it/s]"
     ]
    },
    {
     "name": "stdout",
     "output_type": "stream",
     "text": [
      "Processed OCR for image: 2008282571_01\n"
     ]
    },
    {
     "name": "stderr",
     "output_type": "stream",
     "text": [
      "Processing Images:  38%|███▊      | 1150/3053 [05:25<11:34,  2.74it/s]"
     ]
    },
    {
     "name": "stdout",
     "output_type": "stream",
     "text": [
      "Processed OCR for image: 2008282570_01\n",
      "Processed OCR for image: 2008282581_01\n",
      "Processed OCR for image: 2008282595_01\n",
      "Processed OCR for image: 2008282593_01\n",
      "Processed OCR for image: 2008282660_01\n",
      "Processed OCR for image: 2008282739_01\n",
      "Processed OCR for image: 2008282564_01\n",
      "Processed OCR for image: 2008282740_01\n"
     ]
    },
    {
     "name": "stderr",
     "output_type": "stream",
     "text": [
      "Processing Images:  38%|███▊      | 1157/3053 [05:25<05:47,  5.45it/s]"
     ]
    },
    {
     "name": "stdout",
     "output_type": "stream",
     "text": [
      "Processed OCR for image: 2008282768_01\n"
     ]
    },
    {
     "name": "stderr",
     "output_type": "stream",
     "text": [
      "Processing Images:  38%|███▊      | 1158/3053 [05:27<10:02,  3.15it/s]"
     ]
    },
    {
     "name": "stdout",
     "output_type": "stream",
     "text": [
      "Processed OCR for image: 2008282798_01\n"
     ]
    },
    {
     "name": "stderr",
     "output_type": "stream",
     "text": [
      "Processing Images:  38%|███▊      | 1159/3053 [05:27<11:06,  2.84it/s]"
     ]
    },
    {
     "name": "stdout",
     "output_type": "stream",
     "text": [
      "Processed OCR for image: 2008282843_01\n"
     ]
    },
    {
     "name": "stderr",
     "output_type": "stream",
     "text": [
      "Processing Images:  38%|███▊      | 1160/3053 [05:28<10:22,  3.04it/s]"
     ]
    },
    {
     "name": "stdout",
     "output_type": "stream",
     "text": [
      "Processed OCR for image: 2008282765_01\n",
      "Processed OCR for image: 2008282741_01\n",
      "Processed OCR for image: 2008282935_01\n",
      "Processed OCR for image: 2008283025_01\n",
      "Processed OCR for image: 2008282876_01\n",
      "Processed OCR for image: 2008282922_01\n"
     ]
    },
    {
     "name": "stderr",
     "output_type": "stream",
     "text": [
      "Processing Images:  38%|███▊      | 1166/3053 [05:28<06:37,  4.75it/s]"
     ]
    },
    {
     "name": "stdout",
     "output_type": "stream",
     "text": [
      "Processed OCR for image: 2008283054_01\n"
     ]
    },
    {
     "name": "stderr",
     "output_type": "stream",
     "text": [
      "                                                                      "
     ]
    },
    {
     "name": "stdout",
     "output_type": "stream",
     "text": [
      "Processed OCR for image: 2008283053_01\n"
     ]
    },
    {
     "name": "stderr",
     "output_type": "stream",
     "text": [
      "Processing Images:  38%|███▊      | 1168/3053 [05:29<09:06,  3.45it/s]"
     ]
    },
    {
     "name": "stdout",
     "output_type": "stream",
     "text": [
      "Processed OCR for image: 2008283026_01\n"
     ]
    },
    {
     "name": "stderr",
     "output_type": "stream",
     "text": [
      "Processing Images:  38%|███▊      | 1169/3053 [05:30<13:02,  2.41it/s]"
     ]
    },
    {
     "name": "stdout",
     "output_type": "stream",
     "text": [
      "Processed OCR for image: 2008283081_01\n"
     ]
    },
    {
     "name": "stderr",
     "output_type": "stream",
     "text": [
      "                                                                      "
     ]
    },
    {
     "name": "stdout",
     "output_type": "stream",
     "text": [
      "Processed OCR for image: 2008283104_01\n"
     ]
    },
    {
     "name": "stderr",
     "output_type": "stream",
     "text": [
      "Processing Images:  38%|███▊      | 1172/3053 [05:32<12:07,  2.58it/s]"
     ]
    },
    {
     "name": "stdout",
     "output_type": "stream",
     "text": [
      "Processed OCR for image: 2008283137_01\n",
      "Processed OCR for image: 2008283305_01\n"
     ]
    },
    {
     "name": "stderr",
     "output_type": "stream",
     "text": [
      "                                                                      "
     ]
    },
    {
     "name": "stdout",
     "output_type": "stream",
     "text": [
      "Processed OCR for image: 2008283108_01\n"
     ]
    },
    {
     "name": "stderr",
     "output_type": "stream",
     "text": [
      "Processing Images:  38%|███▊      | 1174/3053 [05:33<13:01,  2.40it/s]"
     ]
    },
    {
     "name": "stdout",
     "output_type": "stream",
     "text": [
      "Processed OCR for image: 2008283415_01\n"
     ]
    },
    {
     "name": "stderr",
     "output_type": "stream",
     "text": [
      "Processing Images:  38%|███▊      | 1175/3053 [05:34<21:29,  1.46it/s]"
     ]
    },
    {
     "name": "stdout",
     "output_type": "stream",
     "text": [
      "Processed OCR for image: 2008283413_01\n"
     ]
    },
    {
     "name": "stderr",
     "output_type": "stream",
     "text": [
      "Processing Images:  39%|███▊      | 1176/3053 [05:35<19:40,  1.59it/s]"
     ]
    },
    {
     "name": "stdout",
     "output_type": "stream",
     "text": [
      "Processed OCR for image: 2008283437_01\n",
      "Processed OCR for image: 2008283411_01\n"
     ]
    },
    {
     "name": "stderr",
     "output_type": "stream",
     "text": [
      "Processing Images:  39%|███▊      | 1177/3053 [05:35<16:03,  1.95it/s]"
     ]
    },
    {
     "name": "stdout",
     "output_type": "stream",
     "text": [
      "Processed OCR for image: 2008283436_01\n",
      "Processed OCR for image: 2008283488_01\n",
      "Processed OCR for image: 2008283483_01\n",
      "Processed OCR for image: 2008283496_01\n",
      "Processed OCR for image: 2008283562_01\n",
      "Processed OCR for image: 2008283654_01\n",
      "Processed OCR for image: 2008283731_01\n",
      "Processed OCR for image: 2008283639_01\n",
      "Processed OCR for image: 2008283766_01\n",
      "Processed OCR for image: 2008283770_01\n",
      "Processed OCR for image: 2008283680_01\n",
      "Processed OCR for image: 2008283779_01\n",
      "Processed OCR for image: 2008283775_01\n",
      "Processed OCR for image: 2008283798_01\n"
     ]
    },
    {
     "name": "stderr",
     "output_type": "stream",
     "text": [
      "Processing Images:  39%|███▉      | 1192/3053 [05:35<02:50, 10.93it/s]"
     ]
    },
    {
     "name": "stdout",
     "output_type": "stream",
     "text": [
      "Processed OCR for image: 2008283858_01\n"
     ]
    },
    {
     "name": "stderr",
     "output_type": "stream",
     "text": [
      "Processing Images:  39%|███▉      | 1192/3053 [05:37<02:50, 10.93it/s]"
     ]
    },
    {
     "name": "stdout",
     "output_type": "stream",
     "text": [
      "Processed OCR for image: 2008283904_01\n",
      "Processed OCR for image: 2008283817_01\n"
     ]
    },
    {
     "name": "stderr",
     "output_type": "stream",
     "text": [
      "Processing Images:  39%|███▉      | 1194/3053 [05:37<06:41,  4.63it/s]"
     ]
    },
    {
     "name": "stdout",
     "output_type": "stream",
     "text": [
      "Processed OCR for image: 2008283912_01\n",
      "Processed OCR for image: 2008283911_01\n"
     ]
    },
    {
     "name": "stderr",
     "output_type": "stream",
     "text": [
      "Processing Images:  39%|███▉      | 1201/3053 [05:38<04:49,  6.41it/s]"
     ]
    },
    {
     "name": "stdout",
     "output_type": "stream",
     "text": [
      "Processed OCR for image: 2008283937_01\n",
      "Processed OCR for image: 2008283916_01\n",
      "Processed OCR for image: 2008283914_01\n",
      "Processed OCR for image: 2008283959_01\n",
      "Processed OCR for image: 2008283965_01\n"
     ]
    },
    {
     "name": "stderr",
     "output_type": "stream",
     "text": [
      "Processing Images:  39%|███▉      | 1201/3053 [05:38<04:49,  6.41it/s]"
     ]
    },
    {
     "name": "stdout",
     "output_type": "stream",
     "text": [
      "Processed OCR for image: 2008283960_01\n"
     ]
    },
    {
     "name": "stderr",
     "output_type": "stream",
     "text": [
      "Processing Images:  39%|███▉      | 1203/3053 [05:39<06:41,  4.60it/s]"
     ]
    },
    {
     "name": "stdout",
     "output_type": "stream",
     "text": [
      "Processed OCR for image: 2008283966_01\n"
     ]
    },
    {
     "name": "stderr",
     "output_type": "stream",
     "text": [
      "Processing Images:  39%|███▉      | 1205/3053 [05:40<09:31,  3.23it/s]"
     ]
    },
    {
     "name": "stdout",
     "output_type": "stream",
     "text": [
      "Processed OCR for image: 2008283989_01\n",
      "Processed OCR for image: 2008284291_01\n",
      "Processed OCR for image: 2008284205_01\n",
      "Processed OCR for image: 2008284037_01\n",
      "Processed OCR for image: 2008284106_01\n",
      "Processed OCR for image: 2008284029_01\n",
      "Processed OCR for image: 2008284331_01\n",
      "Processed OCR for image: 2008284413_01\n"
     ]
    },
    {
     "name": "stderr",
     "output_type": "stream",
     "text": [
      "Processing Images:  40%|███▉      | 1212/3053 [05:42<08:17,  3.70it/s]"
     ]
    },
    {
     "name": "stdout",
     "output_type": "stream",
     "text": [
      "Processed OCR for image: 2008284472_01\n"
     ]
    },
    {
     "name": "stderr",
     "output_type": "stream",
     "text": [
      "                                                                      "
     ]
    },
    {
     "name": "stdout",
     "output_type": "stream",
     "text": [
      "Processed OCR for image: 2008284493_01\n"
     ]
    },
    {
     "name": "stderr",
     "output_type": "stream",
     "text": [
      "                                                                      "
     ]
    },
    {
     "name": "stdout",
     "output_type": "stream",
     "text": [
      "Processed OCR for image: 2008284519_01\n"
     ]
    },
    {
     "name": "stderr",
     "output_type": "stream",
     "text": [
      "Processing Images:  40%|███▉      | 1215/3053 [05:43<11:04,  2.77it/s]"
     ]
    },
    {
     "name": "stdout",
     "output_type": "stream",
     "text": [
      "Processed OCR for image: 2008284479_01\n"
     ]
    },
    {
     "name": "stderr",
     "output_type": "stream",
     "text": [
      "                                                                      "
     ]
    },
    {
     "name": "stdout",
     "output_type": "stream",
     "text": [
      "Processed OCR for image: 2008284432_01\n"
     ]
    },
    {
     "name": "stderr",
     "output_type": "stream",
     "text": [
      "                                                                      \r"
     ]
    },
    {
     "name": "stdout",
     "output_type": "stream",
     "text": [
      "Processed OCR for image: 2008284559_01\n"
     ]
    },
    {
     "name": "stderr",
     "output_type": "stream",
     "text": [
      "Processing Images:  40%|███▉      | 1218/3053 [05:45<13:35,  2.25it/s]"
     ]
    },
    {
     "name": "stdout",
     "output_type": "stream",
     "text": [
      "Processed OCR for image: 2008284611_01\n"
     ]
    },
    {
     "name": "stderr",
     "output_type": "stream",
     "text": [
      "Processing Images:  40%|███▉      | 1219/3053 [05:46<12:38,  2.42it/s]"
     ]
    },
    {
     "name": "stdout",
     "output_type": "stream",
     "text": [
      "Processed OCR for image: 2008284482_01\n"
     ]
    },
    {
     "name": "stderr",
     "output_type": "stream",
     "text": [
      "Processing Images:  40%|███▉      | 1220/3053 [05:47<18:17,  1.67it/s]"
     ]
    },
    {
     "name": "stdout",
     "output_type": "stream",
     "text": [
      "Processed OCR for image: 2008284652_01\n",
      "Processed OCR for image: 2008284707_01\n"
     ]
    },
    {
     "name": "stderr",
     "output_type": "stream",
     "text": [
      "Processing Images:  40%|████      | 1222/3053 [05:47<13:16,  2.30it/s]"
     ]
    },
    {
     "name": "stdout",
     "output_type": "stream",
     "text": [
      "Processed OCR for image: 2008284654_01\n"
     ]
    },
    {
     "name": "stderr",
     "output_type": "stream",
     "text": [
      "                                                                      \r"
     ]
    },
    {
     "name": "stdout",
     "output_type": "stream",
     "text": [
      "Processed OCR for image: 2008284759_01\n",
      "Processed OCR for image: 2008285012_01\n",
      "Processed OCR for image: 2008285066_01\n",
      "Processed OCR for image: 2008284815_01\n",
      "Processed OCR for image: 2008285185_01\n",
      "Processed OCR for image: 2008285341_01\n",
      "Processed OCR for image: 2008285342_01\n",
      "Processed OCR for image: 2008285362_01\n",
      "Processed OCR for image: 2008285368_01\n",
      "Processed OCR for image: 2008285426_01\n",
      "Processed OCR for image: 2008285589_01\n",
      "Processed OCR for image: 2008285568_01\n",
      "Processed OCR for image: 2008285596_01\n"
     ]
    },
    {
     "name": "stderr",
     "output_type": "stream",
     "text": [
      "Processing Images:  40%|████      | 1236/3053 [05:49<06:25,  4.72it/s]"
     ]
    },
    {
     "name": "stdout",
     "output_type": "stream",
     "text": [
      "Processed OCR for image: 2008285607_01\n"
     ]
    },
    {
     "name": "stderr",
     "output_type": "stream",
     "text": [
      "Processing Images:  41%|████      | 1238/3053 [05:50<07:19,  4.13it/s]"
     ]
    },
    {
     "name": "stdout",
     "output_type": "stream",
     "text": [
      "Processed OCR for image: 2008285600_01\n",
      "Processed OCR for image: 2008285608_01\n"
     ]
    },
    {
     "name": "stderr",
     "output_type": "stream",
     "text": [
      "                                                                      \r"
     ]
    },
    {
     "name": "stdout",
     "output_type": "stream",
     "text": [
      "Processed OCR for image: 2008285613_01\n"
     ]
    },
    {
     "name": "stderr",
     "output_type": "stream",
     "text": [
      "Processing Images:  41%|████      | 1240/3053 [05:51<08:48,  3.43it/s]"
     ]
    },
    {
     "name": "stdout",
     "output_type": "stream",
     "text": [
      "Processed OCR for image: 2008285610_01\n"
     ]
    },
    {
     "name": "stderr",
     "output_type": "stream",
     "text": [
      "Processing Images:  41%|████      | 1241/3053 [05:51<09:56,  3.04it/s]"
     ]
    },
    {
     "name": "stdout",
     "output_type": "stream",
     "text": [
      "Processed OCR for image: 2008285622_01\n"
     ]
    },
    {
     "name": "stderr",
     "output_type": "stream",
     "text": [
      "Processing Images:  41%|████      | 1242/3053 [05:52<11:55,  2.53it/s]"
     ]
    },
    {
     "name": "stdout",
     "output_type": "stream",
     "text": [
      "Processed OCR for image: 2008285640_01\n"
     ]
    },
    {
     "name": "stderr",
     "output_type": "stream",
     "text": [
      "Processing Images:  41%|████      | 1243/3053 [05:52<11:34,  2.60it/s]"
     ]
    },
    {
     "name": "stdout",
     "output_type": "stream",
     "text": [
      "Processed OCR for image: 2008285614_01\n"
     ]
    },
    {
     "name": "stderr",
     "output_type": "stream",
     "text": [
      "Processing Images:  41%|████      | 1244/3053 [05:53<12:45,  2.36it/s]"
     ]
    },
    {
     "name": "stdout",
     "output_type": "stream",
     "text": [
      "Processed OCR for image: 2008285618_01\n"
     ]
    },
    {
     "name": "stderr",
     "output_type": "stream",
     "text": [
      "Processing Images:  41%|████      | 1245/3053 [05:53<13:19,  2.26it/s]"
     ]
    },
    {
     "name": "stdout",
     "output_type": "stream",
     "text": [
      "Processed OCR for image: 2008285641_01\n"
     ]
    },
    {
     "name": "stderr",
     "output_type": "stream",
     "text": [
      "Processing Images:  41%|████      | 1246/3053 [05:54<14:27,  2.08it/s]"
     ]
    },
    {
     "name": "stdout",
     "output_type": "stream",
     "text": [
      "Processed OCR for image: 2008285643_01\n"
     ]
    },
    {
     "name": "stderr",
     "output_type": "stream",
     "text": [
      "Processing Images:  41%|████      | 1247/3053 [05:55<16:18,  1.85it/s]"
     ]
    },
    {
     "name": "stdout",
     "output_type": "stream",
     "text": [
      "Processed OCR for image: 2008285676_01\n",
      "Processed OCR for image: 2008285677_01\n"
     ]
    },
    {
     "name": "stderr",
     "output_type": "stream",
     "text": [
      "Processing Images:  41%|████      | 1249/3053 [05:56<18:18,  1.64it/s]"
     ]
    },
    {
     "name": "stdout",
     "output_type": "stream",
     "text": [
      "Processed OCR for image: 2008285678_01\n"
     ]
    },
    {
     "name": "stderr",
     "output_type": "stream",
     "text": [
      "                                                                      "
     ]
    },
    {
     "name": "stdout",
     "output_type": "stream",
     "text": [
      "Processed OCR for image: 2008285688_01\n"
     ]
    },
    {
     "name": "stderr",
     "output_type": "stream",
     "text": [
      "Processing Images:  41%|████      | 1252/3053 [05:57<14:19,  2.09it/s]"
     ]
    },
    {
     "name": "stdout",
     "output_type": "stream",
     "text": [
      "Processed OCR for image: 2008285823_01\n",
      "Processed OCR for image: 2008285814_01\n"
     ]
    },
    {
     "name": "stderr",
     "output_type": "stream",
     "text": [
      "                                                                      "
     ]
    },
    {
     "name": "stdout",
     "output_type": "stream",
     "text": [
      "Processed OCR for image: 2008286015_01\n",
      "Processed OCR for image: 2008285679_01\n"
     ]
    },
    {
     "name": "stderr",
     "output_type": "stream",
     "text": [
      "Processing Images:  42%|████▏     | 1275/3053 [05:58<01:09, 25.59it/s]"
     ]
    },
    {
     "name": "stdout",
     "output_type": "stream",
     "text": [
      "Processed OCR for image: 2008286254_01\n",
      "Processed OCR for image: 2008286135_01\n",
      "Processed OCR for image: 2008286260_01\n",
      "Processed OCR for image: 2008286258_01\n",
      "Processed OCR for image: 2008286285_01\n",
      "Processed OCR for image: 2008286291_01\n",
      "Processed OCR for image: 2008286312_01\n",
      "Processed OCR for image: 2008286297_01\n",
      "Processed OCR for image: 2008286313_01\n",
      "Processed OCR for image: 2008286308_01\n",
      "Processed OCR for image: 2008286353_01\n",
      "Processed OCR for image: 2008286351_01\n",
      "Processed OCR for image: 2008286358_01\n",
      "Processed OCR for image: 2008286377_01\n",
      "Processed OCR for image: 2008286359_01\n",
      "Processed OCR for image: 2008286379_01\n",
      "Processed OCR for image: 2008286380_01\n",
      "Processed OCR for image: 2008286401_01\n",
      "Processed OCR for image: 2008287204_01\n",
      "Processed OCR for image: 2008286741_01\n",
      "Processed OCR for image: 2008286784_01\n"
     ]
    },
    {
     "name": "stderr",
     "output_type": "stream",
     "text": [
      "                                                                      \r"
     ]
    },
    {
     "name": "stdout",
     "output_type": "stream",
     "text": [
      "Processed OCR for image: 2008287238_01\n"
     ]
    },
    {
     "name": "stderr",
     "output_type": "stream",
     "text": [
      "Processing Images:  42%|████▏     | 1275/3053 [06:00<01:09, 25.59it/s]"
     ]
    },
    {
     "name": "stdout",
     "output_type": "stream",
     "text": [
      "Processed OCR for image: 2008287234_01\n",
      "Processed OCR for image: 2008287244_01\n"
     ]
    },
    {
     "name": "stderr",
     "output_type": "stream",
     "text": [
      "Processing Images:  42%|████▏     | 1275/3053 [06:00<01:09, 25.59it/s]"
     ]
    },
    {
     "name": "stdout",
     "output_type": "stream",
     "text": [
      "Processed OCR for image: 2008287229_01\n",
      "Processed OCR for image: 2008287239_01\n"
     ]
    },
    {
     "name": "stderr",
     "output_type": "stream",
     "text": [
      "Processing Images:  42%|████▏     | 1275/3053 [06:01<01:09, 25.59it/s]"
     ]
    },
    {
     "name": "stdout",
     "output_type": "stream",
     "text": [
      "Processed OCR for image: 2008287248_01\n"
     ]
    },
    {
     "name": "stderr",
     "output_type": "stream",
     "text": [
      "                                                                      "
     ]
    },
    {
     "name": "stdout",
     "output_type": "stream",
     "text": [
      "Processed OCR for image: 2008287243_01\n"
     ]
    },
    {
     "name": "stderr",
     "output_type": "stream",
     "text": [
      "Processing Images:  42%|████▏     | 1287/3053 [06:02<05:32,  5.31it/s]"
     ]
    },
    {
     "name": "stdout",
     "output_type": "stream",
     "text": [
      "Processed OCR for image: 2008287247_01\n",
      "Processed OCR for image: 2008287249_01\n",
      "Processed OCR for image: 2008287250_01\n",
      "Processed OCR for image: 2008287295_01\n",
      "Processed OCR for image: 2008287252_01\n"
     ]
    },
    {
     "name": "stderr",
     "output_type": "stream",
     "text": [
      "Processing Images:  42%|████▏     | 1287/3053 [06:02<05:32,  5.31it/s]"
     ]
    },
    {
     "name": "stdout",
     "output_type": "stream",
     "text": [
      "Processed OCR for image: 2008287297_01\n",
      "Processed OCR for image: 2008287696_01\n",
      "Processed OCR for image: 2008287674_01\n",
      "Processed OCR for image: 2008287298_01\n",
      "Processed OCR for image: 2008287736_01\n"
     ]
    },
    {
     "name": "stderr",
     "output_type": "stream",
     "text": [
      "Processing Images:  42%|████▏     | 1293/3053 [06:04<06:47,  4.31it/s]"
     ]
    },
    {
     "name": "stdout",
     "output_type": "stream",
     "text": [
      "Processed OCR for image: 2008288226_01\n"
     ]
    },
    {
     "name": "stderr",
     "output_type": "stream",
     "text": [
      "Processing Images:  42%|████▏     | 1293/3053 [06:05<06:47,  4.31it/s]"
     ]
    },
    {
     "name": "stdout",
     "output_type": "stream",
     "text": [
      "Processed OCR for image: 2008288374_01\n",
      "Processed OCR for image: 2008287918_01\n"
     ]
    },
    {
     "name": "stderr",
     "output_type": "stream",
     "text": [
      "Processing Images:  43%|████▎     | 1298/3053 [06:05<06:17,  4.65it/s]"
     ]
    },
    {
     "name": "stdout",
     "output_type": "stream",
     "text": [
      "Processed OCR for image: 2008287831_01\n",
      "Processed OCR for image: 2008288305_01\n",
      "Processed OCR for image: 2008289064_01\n",
      "Processed OCR for image: 2008289028_01\n",
      "Processed OCR for image: 2008288994_01\n",
      "Processed OCR for image: 2008289089_01\n",
      "Processed OCR for image: 2008289101_01\n"
     ]
    },
    {
     "name": "stderr",
     "output_type": "stream",
     "text": [
      "Processing Images:  43%|████▎     | 1303/3053 [06:06<04:58,  5.87it/s]"
     ]
    },
    {
     "name": "stdout",
     "output_type": "stream",
     "text": [
      "Processed OCR for image: 2008289147_01\n"
     ]
    },
    {
     "name": "stderr",
     "output_type": "stream",
     "text": [
      "Processing Images:  43%|████▎     | 1303/3053 [06:07<04:58,  5.87it/s]"
     ]
    },
    {
     "name": "stdout",
     "output_type": "stream",
     "text": [
      "Processed OCR for image: 2008289149_01\n"
     ]
    },
    {
     "name": "stderr",
     "output_type": "stream",
     "text": [
      "Processing Images:  43%|████▎     | 1305/3053 [06:08<08:37,  3.38it/s]"
     ]
    },
    {
     "name": "stdout",
     "output_type": "stream",
     "text": [
      "Processed OCR for image: 2008289163_01\n",
      "Processed OCR for image: 2008289156_01\n"
     ]
    },
    {
     "name": "stderr",
     "output_type": "stream",
     "text": [
      "                                                                      \r"
     ]
    },
    {
     "name": "stdout",
     "output_type": "stream",
     "text": [
      "Processed OCR for image: 2008289155_01\n",
      "Processed OCR for image: 2008289242_01\n",
      "Processed OCR for image: 2008289162_01\n",
      "Processed OCR for image: 2008289154_01\n",
      "Processed OCR for image: 2008289244_01\n"
     ]
    },
    {
     "name": "stderr",
     "output_type": "stream",
     "text": [
      "Processing Images:  43%|████▎     | 1310/3053 [06:08<05:53,  4.93it/s]"
     ]
    },
    {
     "name": "stdout",
     "output_type": "stream",
     "text": [
      "Processed OCR for image: 2008289593_01\n"
     ]
    },
    {
     "name": "stderr",
     "output_type": "stream",
     "text": [
      "Processing Images:  43%|████▎     | 1313/3053 [06:09<06:14,  4.64it/s]"
     ]
    },
    {
     "name": "stdout",
     "output_type": "stream",
     "text": [
      "Processed OCR for image: 2008289648_01\n"
     ]
    },
    {
     "name": "stderr",
     "output_type": "stream",
     "text": [
      "                                                                      \r"
     ]
    },
    {
     "name": "stdout",
     "output_type": "stream",
     "text": [
      "Processed OCR for image: 2008289670_01\n"
     ]
    },
    {
     "name": "stderr",
     "output_type": "stream",
     "text": [
      "Processing Images:  43%|████▎     | 1315/3053 [06:10<09:17,  3.12it/s]"
     ]
    },
    {
     "name": "stdout",
     "output_type": "stream",
     "text": [
      "Processed OCR for image: 2008289943_01\n",
      "Processed OCR for image: 2008289887_01\n"
     ]
    },
    {
     "name": "stderr",
     "output_type": "stream",
     "text": [
      "                                                                      \r"
     ]
    },
    {
     "name": "stdout",
     "output_type": "stream",
     "text": [
      "Processed OCR for image: 2008289780_01\n",
      "Processed OCR for image: 2008289925_01\n",
      "Processed OCR for image: 2008290072_01\n"
     ]
    },
    {
     "name": "stderr",
     "output_type": "stream",
     "text": [
      "Processing Images:  43%|████▎     | 1320/3053 [06:11<06:07,  4.72it/s]"
     ]
    },
    {
     "name": "stdout",
     "output_type": "stream",
     "text": [
      "Processed OCR for image: 2008289940_01\n"
     ]
    },
    {
     "name": "stderr",
     "output_type": "stream",
     "text": [
      "Processing Images:  43%|████▎     | 1321/3053 [06:12<10:17,  2.80it/s]"
     ]
    },
    {
     "name": "stdout",
     "output_type": "stream",
     "text": [
      "Processed OCR for image: 2008290176_01\n"
     ]
    },
    {
     "name": "stderr",
     "output_type": "stream",
     "text": [
      "Processing Images:  43%|████▎     | 1323/3053 [06:13<09:10,  3.14it/s]"
     ]
    },
    {
     "name": "stdout",
     "output_type": "stream",
     "text": [
      "Processed OCR for image: 2008290216_01\n",
      "Processed OCR for image: 2008290299_01\n",
      "Processed OCR for image: 2008290419_01\n",
      "Processed OCR for image: 2008290410_01\n",
      "Processed OCR for image: 2008290256_01\n"
     ]
    },
    {
     "name": "stderr",
     "output_type": "stream",
     "text": [
      "Processing Images:  43%|████▎     | 1327/3053 [06:13<05:22,  5.35it/s]"
     ]
    },
    {
     "name": "stdout",
     "output_type": "stream",
     "text": [
      "Processed OCR for image: 2008290444_01\n",
      "Processed OCR for image: 2008290443_01\n",
      "Processed OCR for image: 2008290765_01\n",
      "Processed OCR for image: 2008290883_01\n"
     ]
    },
    {
     "name": "stderr",
     "output_type": "stream",
     "text": [
      "Processing Images:  44%|████▎     | 1331/3053 [06:14<07:49,  3.67it/s]"
     ]
    },
    {
     "name": "stdout",
     "output_type": "stream",
     "text": [
      "Processed OCR for image: 2008291185_01\n"
     ]
    },
    {
     "name": "stderr",
     "output_type": "stream",
     "text": [
      "                                                                      "
     ]
    },
    {
     "name": "stdout",
     "output_type": "stream",
     "text": [
      "Processed OCR for image: 2008291369_01\n"
     ]
    },
    {
     "name": "stderr",
     "output_type": "stream",
     "text": [
      "Processing Images:  44%|████▍     | 1337/3053 [06:15<04:15,  6.71it/s]"
     ]
    },
    {
     "name": "stdout",
     "output_type": "stream",
     "text": [
      "Processed OCR for image: 2008291099_01\n",
      "Processed OCR for image: 2008291305_01\n",
      "Processed OCR for image: 2008291024_01\n",
      "Processed OCR for image: 2008290886_01\n",
      "Processed OCR for image: 2008291234_01\n",
      "Processed OCR for image: 2008291284_01\n"
     ]
    },
    {
     "name": "stderr",
     "output_type": "stream",
     "text": [
      "Processing Images:  44%|████▍     | 1339/3053 [06:15<04:35,  6.22it/s]"
     ]
    },
    {
     "name": "stdout",
     "output_type": "stream",
     "text": [
      "Processed OCR for image: 2008291509_01\n"
     ]
    },
    {
     "name": "stderr",
     "output_type": "stream",
     "text": [
      "Processing Images:  44%|████▍     | 1339/3053 [06:18<04:35,  6.22it/s]"
     ]
    },
    {
     "name": "stdout",
     "output_type": "stream",
     "text": [
      "Processed OCR for image: 2008291555_01\n"
     ]
    },
    {
     "name": "stderr",
     "output_type": "stream",
     "text": [
      "Processing Images:  44%|████▍     | 1341/3053 [06:19<16:45,  1.70it/s]"
     ]
    },
    {
     "name": "stdout",
     "output_type": "stream",
     "text": [
      "Processed OCR for image: 2008291516_01\n",
      "Processed OCR for image: 2008291569_01\n",
      "Processed OCR for image: 2008291568_01\n",
      "Processed OCR for image: 2008291736_01\n",
      "Processed OCR for image: 2008291593_01\n",
      "Processed OCR for image: 2008291863_01\n",
      "Processed OCR for image: 2008291633_01\n"
     ]
    },
    {
     "name": "stderr",
     "output_type": "stream",
     "text": [
      "                                                                      "
     ]
    },
    {
     "name": "stdout",
     "output_type": "stream",
     "text": [
      "Processed OCR for image: 2008291865_01\n"
     ]
    },
    {
     "name": "stderr",
     "output_type": "stream",
     "text": [
      "                                                                      "
     ]
    },
    {
     "name": "stdout",
     "output_type": "stream",
     "text": [
      "Processed OCR for image: 2008291873_01\n"
     ]
    },
    {
     "name": "stderr",
     "output_type": "stream",
     "text": [
      "Processing Images:  44%|████▍     | 1350/3053 [06:22<10:43,  2.65it/s]"
     ]
    },
    {
     "name": "stdout",
     "output_type": "stream",
     "text": [
      "Processed OCR for image: 2008291867_01\n",
      "Processed OCR for image: 2008291882_01\n",
      "Processed OCR for image: 2008291885_01\n",
      "Processed OCR for image: 2008291866_01\n",
      "Processed OCR for image: 2008291892_01\n",
      "Processed OCR for image: 2008291894_01\n"
     ]
    },
    {
     "name": "stderr",
     "output_type": "stream",
     "text": [
      "Processing Images:  44%|████▍     | 1356/3053 [06:22<06:05,  4.64it/s]"
     ]
    },
    {
     "name": "stdout",
     "output_type": "stream",
     "text": [
      "Processed OCR for image: 2008291903_01\n"
     ]
    },
    {
     "name": "stderr",
     "output_type": "stream",
     "text": [
      "Processing Images:  44%|████▍     | 1356/3053 [06:23<06:05,  4.64it/s]"
     ]
    },
    {
     "name": "stdout",
     "output_type": "stream",
     "text": [
      "Processed OCR for image: 2008291901_01\n"
     ]
    },
    {
     "name": "stderr",
     "output_type": "stream",
     "text": [
      "Processing Images:  45%|████▍     | 1359/3053 [06:24<10:02,  2.81it/s]"
     ]
    },
    {
     "name": "stdout",
     "output_type": "stream",
     "text": [
      "Processed OCR for image: 2008291902_01\n",
      "Processed OCR for image: 2008291908_01\n"
     ]
    },
    {
     "name": "stderr",
     "output_type": "stream",
     "text": [
      "Processing Images:  45%|████▍     | 1360/3053 [06:25<09:30,  2.97it/s]"
     ]
    },
    {
     "name": "stdout",
     "output_type": "stream",
     "text": [
      "Processed OCR for image: 2008292089_01\n",
      "Processed OCR for image: 2008292012_01\n",
      "Processed OCR for image: 2008292189_01\n",
      "Processed OCR for image: 2008291906_01\n",
      "Processed OCR for image: 2008291904_01\n",
      "Processed OCR for image: 2008292210_01\n",
      "Processed OCR for image: 2008292215_01\n"
     ]
    },
    {
     "name": "stderr",
     "output_type": "stream",
     "text": [
      "                                                                      "
     ]
    },
    {
     "name": "stdout",
     "output_type": "stream",
     "text": [
      "Processed OCR for image: 2008292219_01\n"
     ]
    },
    {
     "name": "stderr",
     "output_type": "stream",
     "text": [
      "                                                                      \r"
     ]
    },
    {
     "name": "stdout",
     "output_type": "stream",
     "text": [
      "Processed OCR for image: 2008292221_01\n"
     ]
    },
    {
     "name": "stderr",
     "output_type": "stream",
     "text": [
      "                                                                      "
     ]
    },
    {
     "name": "stdout",
     "output_type": "stream",
     "text": [
      "Processed OCR for image: 2008292236_01\n"
     ]
    },
    {
     "name": "stderr",
     "output_type": "stream",
     "text": [
      "                                                                      \r"
     ]
    },
    {
     "name": "stdout",
     "output_type": "stream",
     "text": [
      "Processed OCR for image: 2008292224_01\n"
     ]
    },
    {
     "name": "stderr",
     "output_type": "stream",
     "text": [
      "Processing Images:  45%|████▍     | 1371/3053 [06:28<10:22,  2.70it/s]"
     ]
    },
    {
     "name": "stdout",
     "output_type": "stream",
     "text": [
      "Processed OCR for image: 2008292298_01\n"
     ]
    },
    {
     "name": "stderr",
     "output_type": "stream",
     "text": [
      "Processing Images:  45%|████▍     | 1372/3053 [06:29<12:40,  2.21it/s]"
     ]
    },
    {
     "name": "stdout",
     "output_type": "stream",
     "text": [
      "Processed OCR for image: 2008292239_01\n"
     ]
    },
    {
     "name": "stderr",
     "output_type": "stream",
     "text": [
      "Processing Images:  45%|████▍     | 1373/3053 [06:30<16:00,  1.75it/s]"
     ]
    },
    {
     "name": "stdout",
     "output_type": "stream",
     "text": [
      "Processed OCR for image: 2008292217_01\n"
     ]
    },
    {
     "name": "stderr",
     "output_type": "stream",
     "text": [
      "                                                                      "
     ]
    },
    {
     "name": "stdout",
     "output_type": "stream",
     "text": [
      "Processed OCR for image: 2008292273_01\n",
      "Processed OCR for image: 2008292299_01\n",
      "Processed OCR for image: 2008292301_01\n",
      "Processed OCR for image: 2008292304_01\n",
      "Processed OCR for image: 2008292330_01\n",
      "Processed OCR for image: 2008292305_01\n",
      "Processed OCR for image: 2008292332_01\n",
      "Processed OCR for image: 2008292316_01\n",
      "Processed OCR for image: 2008292315_01\n",
      "Processed OCR for image: 2008292496_01\n",
      "Processed OCR for image: 2008292334_01\n"
     ]
    },
    {
     "name": "stderr",
     "output_type": "stream",
     "text": [
      "Processing Images:  45%|████▌     | 1374/3053 [06:30<12:48,  2.19it/s]"
     ]
    },
    {
     "name": "stdout",
     "output_type": "stream",
     "text": [
      "Processed OCR for image: 2008292526_01\n"
     ]
    },
    {
     "name": "stderr",
     "output_type": "stream",
     "text": [
      "Processing Images:  45%|████▌     | 1386/3053 [06:32<06:22,  4.36it/s]"
     ]
    },
    {
     "name": "stdout",
     "output_type": "stream",
     "text": [
      "Processed OCR for image: 2008292611_01\n"
     ]
    },
    {
     "name": "stderr",
     "output_type": "stream",
     "text": [
      "Processing Images:  45%|████▌     | 1387/3053 [06:32<06:18,  4.40it/s]"
     ]
    },
    {
     "name": "stdout",
     "output_type": "stream",
     "text": [
      "Processed OCR for image: 2008292755_01\n",
      "Processed OCR for image: 2008292746_01\n",
      "Processed OCR for image: 2008292808_01\n",
      "Processed OCR for image: 2008292758_01\n",
      "Processed OCR for image: 2008292744_01\n",
      "Processed OCR for image: 2008292889_01\n",
      "Processed OCR for image: 2008292527_01\n"
     ]
    },
    {
     "name": "stderr",
     "output_type": "stream",
     "text": [
      "Processing Images:  46%|████▌     | 1394/3053 [06:33<04:15,  6.50it/s]"
     ]
    },
    {
     "name": "stdout",
     "output_type": "stream",
     "text": [
      "Processed OCR for image: 2008292922_01\n"
     ]
    },
    {
     "name": "stderr",
     "output_type": "stream",
     "text": [
      "Processing Images:  46%|████▌     | 1395/3053 [06:34<06:45,  4.09it/s]"
     ]
    },
    {
     "name": "stdout",
     "output_type": "stream",
     "text": [
      "Processed OCR for image: 2008292924_01\n"
     ]
    },
    {
     "name": "stderr",
     "output_type": "stream",
     "text": [
      "Processing Images:  46%|████▌     | 1397/3053 [06:35<07:25,  3.71it/s]"
     ]
    },
    {
     "name": "stdout",
     "output_type": "stream",
     "text": [
      "Processed OCR for image: 2008292952_01\n",
      "Processed OCR for image: 2008292955_01\n"
     ]
    },
    {
     "name": "stderr",
     "output_type": "stream",
     "text": [
      "Processing Images:  46%|████▌     | 1397/3053 [06:35<07:25,  3.71it/s]"
     ]
    },
    {
     "name": "stdout",
     "output_type": "stream",
     "text": [
      "Processed OCR for image: 2008292961_01\n",
      "Processed OCR for image: 2008292956_01\n",
      "Processed OCR for image: 2008292982_01\n",
      "Processed OCR for image: 2008293057_01\n",
      "Processed OCR for image: 2008293061_01\n"
     ]
    },
    {
     "name": "stderr",
     "output_type": "stream",
     "text": [
      "                                                                      \r"
     ]
    },
    {
     "name": "stdout",
     "output_type": "stream",
     "text": [
      "Processed OCR for image: 2008293209_01\n"
     ]
    },
    {
     "name": "stderr",
     "output_type": "stream",
     "text": [
      "                                                                      "
     ]
    },
    {
     "name": "stdout",
     "output_type": "stream",
     "text": [
      "Processed OCR for image: 2008293273_01\n"
     ]
    },
    {
     "name": "stderr",
     "output_type": "stream",
     "text": [
      "                                                                      "
     ]
    },
    {
     "name": "stdout",
     "output_type": "stream",
     "text": [
      "Processed OCR for image: 2008293691_01\n"
     ]
    },
    {
     "name": "stderr",
     "output_type": "stream",
     "text": [
      "Processing Images:  46%|████▌     | 1406/3053 [06:37<08:21,  3.29it/s]"
     ]
    },
    {
     "name": "stdout",
     "output_type": "stream",
     "text": [
      "Processed OCR for image: 2008293673_01\n"
     ]
    },
    {
     "name": "stderr",
     "output_type": "stream",
     "text": [
      "                                                                      \r"
     ]
    },
    {
     "name": "stdout",
     "output_type": "stream",
     "text": [
      "Processed OCR for image: 2008293756_01\n"
     ]
    },
    {
     "name": "stderr",
     "output_type": "stream",
     "text": [
      "Processing Images:  46%|████▌     | 1408/3053 [06:38<09:01,  3.04it/s]"
     ]
    },
    {
     "name": "stdout",
     "output_type": "stream",
     "text": [
      "Processed OCR for image: 2008293692_01\n"
     ]
    },
    {
     "name": "stderr",
     "output_type": "stream",
     "text": [
      "Processing Images:  46%|████▌     | 1409/3053 [06:38<08:51,  3.10it/s]"
     ]
    },
    {
     "name": "stdout",
     "output_type": "stream",
     "text": [
      "Processed OCR for image: 2008293755_01\n"
     ]
    },
    {
     "name": "stderr",
     "output_type": "stream",
     "text": [
      "Processing Images:  46%|████▌     | 1410/3053 [06:39<11:18,  2.42it/s]"
     ]
    },
    {
     "name": "stdout",
     "output_type": "stream",
     "text": [
      "Processed OCR for image: 2008293754_01\n"
     ]
    },
    {
     "name": "stderr",
     "output_type": "stream",
     "text": [
      "                                                                      \r"
     ]
    },
    {
     "name": "stdout",
     "output_type": "stream",
     "text": [
      "Processed OCR for image: 2008293757_01\n"
     ]
    },
    {
     "name": "stderr",
     "output_type": "stream",
     "text": [
      "Processing Images:  46%|████▌     | 1412/3053 [06:41<13:25,  2.04it/s]"
     ]
    },
    {
     "name": "stdout",
     "output_type": "stream",
     "text": [
      "Processed OCR for image: 2008293774_01\n",
      "Processed OCR for image: 2008293776_01\n"
     ]
    },
    {
     "name": "stderr",
     "output_type": "stream",
     "text": [
      "                                                                      "
     ]
    },
    {
     "name": "stdout",
     "output_type": "stream",
     "text": [
      "Processed OCR for image: 2008293772_01\n"
     ]
    },
    {
     "name": "stderr",
     "output_type": "stream",
     "text": [
      "Processing Images:  46%|████▋     | 1415/3053 [06:42<14:42,  1.86it/s]"
     ]
    },
    {
     "name": "stdout",
     "output_type": "stream",
     "text": [
      "Processed OCR for image: 2008293778_01\n"
     ]
    },
    {
     "name": "stderr",
     "output_type": "stream",
     "text": [
      "Processing Images:  46%|████▋     | 1417/3053 [06:42<09:24,  2.90it/s]"
     ]
    },
    {
     "name": "stdout",
     "output_type": "stream",
     "text": [
      "Processed OCR for image: 2008293782_01\n",
      "Processed OCR for image: 2008293779_01\n"
     ]
    },
    {
     "name": "stderr",
     "output_type": "stream",
     "text": [
      "Processing Images:  46%|████▋     | 1418/3053 [06:43<13:13,  2.06it/s]"
     ]
    },
    {
     "name": "stdout",
     "output_type": "stream",
     "text": [
      "Processed OCR for image: 2008293780_01\n",
      "Processed OCR for image: 2008293800_01\n",
      "Processed OCR for image: 2008293801_01\n",
      "Processed OCR for image: 2008293783_01\n",
      "Processed OCR for image: 2008293784_01\n",
      "Processed OCR for image: 2008293802_01\n",
      "Processed OCR for image: 2008294421_01\n",
      "Processed OCR for image: 2008293997_01\n",
      "Processed OCR for image: 2008293978_01\n",
      "Processed OCR for image: 2008294447_01\n",
      "Processed OCR for image: 2008294162_01\n",
      "Processed OCR for image: 2008294443_01\n",
      "Processed OCR for image: 2008294448_01\n",
      "Processed OCR for image: 2008294453_01\n",
      "Processed OCR for image: 2008294459_01\n",
      "Processed OCR for image: 2008294456_01\n",
      "Processed OCR for image: 2008294481_01\n"
     ]
    },
    {
     "name": "stderr",
     "output_type": "stream",
     "text": [
      "Processing Images:  47%|████▋     | 1435/3053 [06:44<03:22,  7.99it/s]"
     ]
    },
    {
     "name": "stdout",
     "output_type": "stream",
     "text": [
      "Processed OCR for image: 2008294483_01\n"
     ]
    },
    {
     "name": "stderr",
     "output_type": "stream",
     "text": [
      "Processing Images:  47%|████▋     | 1436/3053 [06:45<04:16,  6.29it/s]"
     ]
    },
    {
     "name": "stdout",
     "output_type": "stream",
     "text": [
      "Processed OCR for image: 2008294487_01\n",
      "Processed OCR for image: 2008294490_01\n",
      "Processed OCR for image: 2008294484_01\n",
      "Processed OCR for image: 2008294579_01\n",
      "Processed OCR for image: 2008294491_01\n"
     ]
    },
    {
     "name": "stderr",
     "output_type": "stream",
     "text": [
      "                                                                      "
     ]
    },
    {
     "name": "stdout",
     "output_type": "stream",
     "text": [
      "Processed OCR for image: 2008294583_01\n",
      "Processed OCR for image: 2008294585_01\n"
     ]
    },
    {
     "name": "stderr",
     "output_type": "stream",
     "text": [
      "Processing Images:  47%|████▋     | 1443/3053 [06:46<04:28,  5.99it/s]"
     ]
    },
    {
     "name": "stdout",
     "output_type": "stream",
     "text": [
      "Processed OCR for image: 2008294495_01\n"
     ]
    },
    {
     "name": "stderr",
     "output_type": "stream",
     "text": [
      "Processing Images:  47%|████▋     | 1444/3053 [06:46<05:37,  4.76it/s]"
     ]
    },
    {
     "name": "stdout",
     "output_type": "stream",
     "text": [
      "Processed OCR for image: 2008294587_01\n"
     ]
    },
    {
     "name": "stderr",
     "output_type": "stream",
     "text": [
      "Processing Images:  47%|████▋     | 1445/3053 [06:47<09:25,  2.84it/s]"
     ]
    },
    {
     "name": "stdout",
     "output_type": "stream",
     "text": [
      "Processed OCR for image: 2008294712_01\n"
     ]
    },
    {
     "name": "stderr",
     "output_type": "stream",
     "text": [
      "Processing Images:  47%|████▋     | 1446/3053 [06:48<10:21,  2.59it/s]"
     ]
    },
    {
     "name": "stdout",
     "output_type": "stream",
     "text": [
      "Processed OCR for image: 2008294805_01\n",
      "Processed OCR for image: 2008294811_01\n"
     ]
    },
    {
     "name": "stderr",
     "output_type": "stream",
     "text": [
      "                                                                      \r"
     ]
    },
    {
     "name": "stdout",
     "output_type": "stream",
     "text": [
      "Processed OCR for image: 2008294815_01\n",
      "Processed OCR for image: 2008294586_01\n",
      "Processed OCR for image: 2008294787_01\n"
     ]
    },
    {
     "name": "stderr",
     "output_type": "stream",
     "text": [
      "Processing Images:  48%|████▊     | 1452/3053 [06:49<05:10,  5.16it/s]"
     ]
    },
    {
     "name": "stdout",
     "output_type": "stream",
     "text": [
      "Processed OCR for image: 2008294877_01\n",
      "Processed OCR for image: 2008294892_01\n",
      "Processed OCR for image: 2008294961_01\n",
      "Processed OCR for image: 2008294960_01\n",
      "Processed OCR for image: 2008294970_01\n",
      "Processed OCR for image: 2008295423_01\n"
     ]
    },
    {
     "name": "stderr",
     "output_type": "stream",
     "text": [
      "                                                                      "
     ]
    },
    {
     "name": "stdout",
     "output_type": "stream",
     "text": [
      "Processed OCR for image: 2008295757_01\n"
     ]
    },
    {
     "name": "stderr",
     "output_type": "stream",
     "text": [
      "                                                                      "
     ]
    },
    {
     "name": "stdout",
     "output_type": "stream",
     "text": [
      "Processed OCR for image: 2008295662_01\n",
      "Processed OCR for image: 2008295611_01\n",
      "Processed OCR for image: 2008295182_01\n",
      "Processed OCR for image: 2008295762_01\n",
      "Processed OCR for image: 2008295761_01\n",
      "Processed OCR for image: 2008295765_01\n"
     ]
    },
    {
     "name": "stderr",
     "output_type": "stream",
     "text": [
      "Processing Images:  48%|████▊     | 1464/3053 [06:51<04:03,  6.52it/s]"
     ]
    },
    {
     "name": "stdout",
     "output_type": "stream",
     "text": [
      "Processed OCR for image: 2008295767_01\n"
     ]
    },
    {
     "name": "stderr",
     "output_type": "stream",
     "text": [
      "Processing Images:  48%|████▊     | 1464/3053 [06:52<04:03,  6.52it/s]"
     ]
    },
    {
     "name": "stdout",
     "output_type": "stream",
     "text": [
      "Processed OCR for image: 2008295811_01\n"
     ]
    },
    {
     "name": "stderr",
     "output_type": "stream",
     "text": [
      "Processing Images:  48%|████▊     | 1466/3053 [06:53<07:39,  3.45it/s]"
     ]
    },
    {
     "name": "stdout",
     "output_type": "stream",
     "text": [
      "Processed OCR for image: 2008295828_01\n"
     ]
    },
    {
     "name": "stderr",
     "output_type": "stream",
     "text": [
      "Processing Images:  48%|████▊     | 1466/3053 [06:53<07:39,  3.45it/s]"
     ]
    },
    {
     "name": "stdout",
     "output_type": "stream",
     "text": [
      "Processed OCR for image: 2008296050_01\n"
     ]
    },
    {
     "name": "stderr",
     "output_type": "stream",
     "text": [
      "Processing Images:  48%|████▊     | 1468/3053 [06:54<10:56,  2.41it/s]"
     ]
    },
    {
     "name": "stdout",
     "output_type": "stream",
     "text": [
      "Processed OCR for image: 2008295836_01\n"
     ]
    },
    {
     "name": "stderr",
     "output_type": "stream",
     "text": [
      "                                                                      "
     ]
    },
    {
     "name": "stdout",
     "output_type": "stream",
     "text": [
      "Processed OCR for image: 2008296635_01\n"
     ]
    },
    {
     "name": "stderr",
     "output_type": "stream",
     "text": [
      "Processing Images:  48%|████▊     | 1470/3053 [06:56<12:37,  2.09it/s]"
     ]
    },
    {
     "name": "stdout",
     "output_type": "stream",
     "text": [
      "Processed OCR for image: 2008296435_01\n"
     ]
    },
    {
     "name": "stderr",
     "output_type": "stream",
     "text": [
      "Processing Images:  48%|████▊     | 1471/3053 [06:57<17:09,  1.54it/s]"
     ]
    },
    {
     "name": "stdout",
     "output_type": "stream",
     "text": [
      "Processed OCR for image: 2008296599_01\n"
     ]
    },
    {
     "name": "stderr",
     "output_type": "stream",
     "text": [
      "Processing Images:  48%|████▊     | 1472/3053 [06:57<15:48,  1.67it/s]"
     ]
    },
    {
     "name": "stdout",
     "output_type": "stream",
     "text": [
      "Processed OCR for image: 2008296458_01\n",
      "Processed OCR for image: 2008296912_01\n",
      "Processed OCR for image: 2008297193_01\n",
      "Processed OCR for image: 2008297201_01\n",
      "Processed OCR for image: 2008297285_01\n",
      "Processed OCR for image: 2008297315_01\n",
      "Processed OCR for image: 2008297305_01\n",
      "Processed OCR for image: 2008297304_01\n"
     ]
    },
    {
     "name": "stderr",
     "output_type": "stream",
     "text": [
      "Processing Images:  48%|████▊     | 1472/3053 [06:58<15:48,  1.67it/s]"
     ]
    },
    {
     "name": "stdout",
     "output_type": "stream",
     "text": [
      "Processed OCR for image: 2008297320_01\n"
     ]
    },
    {
     "name": "stderr",
     "output_type": "stream",
     "text": [
      "Processing Images:  49%|████▊     | 1481/3053 [06:59<08:54,  2.94it/s]"
     ]
    },
    {
     "name": "stdout",
     "output_type": "stream",
     "text": [
      "Processed OCR for image: 2008297318_01\n",
      "Processed OCR for image: 2008297409_01\n"
     ]
    },
    {
     "name": "stderr",
     "output_type": "stream",
     "text": [
      "Processing Images:  49%|████▊     | 1487/3053 [07:00<04:42,  5.55it/s]"
     ]
    },
    {
     "name": "stdout",
     "output_type": "stream",
     "text": [
      "Processed OCR for image: 2008297411_01\n",
      "Processed OCR for image: 2008297433_01\n",
      "Processed OCR for image: 2008297434_01\n",
      "Processed OCR for image: 2008297435_01\n",
      "Processed OCR for image: 2008297651_01\n",
      "Processed OCR for image: 2008297441_01\n",
      "Processed OCR for image: 2008297436_01\n",
      "Processed OCR for image: 2008297442_01\n",
      "Processed OCR for image: 2008297672_01\n",
      "Processed OCR for image: 2008297697_01\n",
      "Processed OCR for image: 2008297654_01\n"
     ]
    },
    {
     "name": "stderr",
     "output_type": "stream",
     "text": [
      "Processing Images:  49%|████▊     | 1487/3053 [07:00<04:42,  5.55it/s]"
     ]
    },
    {
     "name": "stdout",
     "output_type": "stream",
     "text": [
      "Processed OCR for image: 2008297652_01\n"
     ]
    },
    {
     "name": "stderr",
     "output_type": "stream",
     "text": [
      "Processing Images:  49%|████▉     | 1495/3053 [07:00<02:48,  9.27it/s]"
     ]
    },
    {
     "name": "stdout",
     "output_type": "stream",
     "text": [
      "Processed OCR for image: 2008297852_01\n"
     ]
    },
    {
     "name": "stderr",
     "output_type": "stream",
     "text": [
      "                                                                      \r"
     ]
    },
    {
     "name": "stdout",
     "output_type": "stream",
     "text": [
      "Processed OCR for image: 2008297815_01\n"
     ]
    },
    {
     "name": "stderr",
     "output_type": "stream",
     "text": [
      "Processing Images:  49%|████▉     | 1497/3053 [07:01<05:30,  4.71it/s]"
     ]
    },
    {
     "name": "stdout",
     "output_type": "stream",
     "text": [
      "Processed OCR for image: 2008298377_01\n"
     ]
    },
    {
     "name": "stderr",
     "output_type": "stream",
     "text": [
      "                                                                      "
     ]
    },
    {
     "name": "stdout",
     "output_type": "stream",
     "text": [
      "Processed OCR for image: 2008297929_01\n"
     ]
    },
    {
     "name": "stderr",
     "output_type": "stream",
     "text": [
      "Processing Images:  49%|████▉     | 1499/3053 [07:02<06:29,  3.99it/s]"
     ]
    },
    {
     "name": "stdout",
     "output_type": "stream",
     "text": [
      "Processed OCR for image: 2008298540_01\n"
     ]
    },
    {
     "name": "stderr",
     "output_type": "stream",
     "text": [
      "Processing Images:  49%|████▉     | 1500/3053 [07:03<07:20,  3.53it/s]"
     ]
    },
    {
     "name": "stdout",
     "output_type": "stream",
     "text": [
      "Processed OCR for image: 2008298400_01\n"
     ]
    },
    {
     "name": "stderr",
     "output_type": "stream",
     "text": [
      "Processing Images:  49%|████▉     | 1501/3053 [07:04<09:23,  2.75it/s]"
     ]
    },
    {
     "name": "stdout",
     "output_type": "stream",
     "text": [
      "Processed OCR for image: 2008298517_01\n"
     ]
    },
    {
     "name": "stderr",
     "output_type": "stream",
     "text": [
      "                                                                      "
     ]
    },
    {
     "name": "stdout",
     "output_type": "stream",
     "text": [
      "Processed OCR for image: 2008298594_01\n"
     ]
    },
    {
     "name": "stderr",
     "output_type": "stream",
     "text": [
      "\r"
     ]
    },
    {
     "name": "stdout",
     "output_type": "stream",
     "text": [
      "Processed OCR for image: 2008298600_01\n"
     ]
    },
    {
     "name": "stderr",
     "output_type": "stream",
     "text": [
      "Processing Images:  49%|████▉     | 1503/3053 [07:05<10:23,  2.48it/s]"
     ]
    },
    {
     "name": "stdout",
     "output_type": "stream",
     "text": [
      "Processed OCR for image: 2008298973_01\n",
      "Processed OCR for image: 2008299101_01\n",
      "Processed OCR for image: 2008299310_01\n",
      "Processed OCR for image: 2008299404_01\n",
      "Processed OCR for image: 2008299436_01\n",
      "Processed OCR for image: 2008299434_01\n",
      "Processed OCR for image: 2008299458_01\n",
      "Processed OCR for image: 2008299637_01\n",
      "Processed OCR for image: 2008299657_01\n",
      "Processed OCR for image: 2008299616_01\n"
     ]
    },
    {
     "name": "stderr",
     "output_type": "stream",
     "text": [
      "Processing Images:  50%|████▉     | 1514/3053 [07:06<04:27,  5.75it/s]"
     ]
    },
    {
     "name": "stdout",
     "output_type": "stream",
     "text": [
      "Processed OCR for image: 2008299659_01\n"
     ]
    },
    {
     "name": "stderr",
     "output_type": "stream",
     "text": [
      "Processing Images:  50%|████▉     | 1514/3053 [07:07<04:27,  5.75it/s]"
     ]
    },
    {
     "name": "stdout",
     "output_type": "stream",
     "text": [
      "Processed OCR for image: 2008299660_01\n"
     ]
    },
    {
     "name": "stderr",
     "output_type": "stream",
     "text": [
      "Processing Images:  50%|████▉     | 1516/3053 [07:07<07:08,  3.59it/s]"
     ]
    },
    {
     "name": "stdout",
     "output_type": "stream",
     "text": [
      "Processed OCR for image: 2008299783_01\n",
      "Processed OCR for image: 2008299789_01\n",
      "Processed OCR for image: 2008299787_01\n",
      "Processed OCR for image: 2008299688_01\n",
      "Processed OCR for image: 2008299763_01\n",
      "Processed OCR for image: 2008299792_01\n",
      "Processed OCR for image: 2008299793_01\n",
      "Processed OCR for image: 2008299790_01\n"
     ]
    },
    {
     "name": "stderr",
     "output_type": "stream",
     "text": [
      "Processing Images:  50%|████▉     | 1524/3053 [07:08<04:44,  5.37it/s]"
     ]
    },
    {
     "name": "stdout",
     "output_type": "stream",
     "text": [
      "Processed OCR for image: 2008299947_01\n"
     ]
    },
    {
     "name": "stderr",
     "output_type": "stream",
     "text": [
      "Processing Images:  50%|████▉     | 1525/3053 [07:09<06:17,  4.05it/s]"
     ]
    },
    {
     "name": "stdout",
     "output_type": "stream",
     "text": [
      "Processed OCR for image: 2008299822_01\n"
     ]
    },
    {
     "name": "stderr",
     "output_type": "stream",
     "text": [
      "                                                                      \r"
     ]
    },
    {
     "name": "stdout",
     "output_type": "stream",
     "text": [
      "Processed OCR for image: 2008299856_01\n"
     ]
    },
    {
     "name": "stderr",
     "output_type": "stream",
     "text": [
      "Processing Images:  50%|█████     | 1527/3053 [07:10<08:13,  3.10it/s]"
     ]
    },
    {
     "name": "stdout",
     "output_type": "stream",
     "text": [
      "Processed OCR for image: 2008299885_01\n"
     ]
    },
    {
     "name": "stderr",
     "output_type": "stream",
     "text": [
      "Processing Images:  50%|█████     | 1528/3053 [07:11<10:09,  2.50it/s]"
     ]
    },
    {
     "name": "stdout",
     "output_type": "stream",
     "text": [
      "Processed OCR for image: 2008299983_01\n"
     ]
    },
    {
     "name": "stderr",
     "output_type": "stream",
     "text": [
      "Processing Images:  50%|█████     | 1529/3053 [07:12<11:42,  2.17it/s]"
     ]
    },
    {
     "name": "stdout",
     "output_type": "stream",
     "text": [
      "Processed OCR for image: 2008299961_01\n"
     ]
    },
    {
     "name": "stderr",
     "output_type": "stream",
     "text": [
      "Processing Images:  50%|█████     | 1530/3053 [07:13<12:10,  2.08it/s]"
     ]
    },
    {
     "name": "stdout",
     "output_type": "stream",
     "text": [
      "Processed OCR for image: 2008299997_01\n"
     ]
    },
    {
     "name": "stderr",
     "output_type": "stream",
     "text": [
      "                                                                      \r"
     ]
    },
    {
     "name": "stdout",
     "output_type": "stream",
     "text": [
      "Processed OCR for image: 2008300084_01\n"
     ]
    },
    {
     "name": "stderr",
     "output_type": "stream",
     "text": [
      "Processing Images:  50%|█████     | 1532/3053 [07:14<14:06,  1.80it/s]"
     ]
    },
    {
     "name": "stdout",
     "output_type": "stream",
     "text": [
      "Processed OCR for image: 2008300102_01\n",
      "Processed OCR for image: 2008300119_01\n",
      "Processed OCR for image: 2008300196_01\n",
      "Processed OCR for image: 2008300149_01\n",
      "Processed OCR for image: 2008300130_01\n",
      "Processed OCR for image: 2008300227_01\n",
      "Processed OCR for image: 2008300310_01\n"
     ]
    },
    {
     "name": "stderr",
     "output_type": "stream",
     "text": [
      "Processing Images:  51%|█████     | 1542/3053 [07:14<03:19,  7.56it/s]"
     ]
    },
    {
     "name": "stdout",
     "output_type": "stream",
     "text": [
      "Processed OCR for image: 2008300502_01\n",
      "Processed OCR for image: 2008300516_01\n",
      "Processed OCR for image: 2008300680_01\n",
      "Processed OCR for image: 2008300729_01\n",
      "Processed OCR for image: 2008300715_01\n",
      "Processed OCR for image: 2008301320_01\n",
      "Processed OCR for image: 2008300891_01\n",
      "Processed OCR for image: 2008301469_01\n",
      "Processed OCR for image: 2008301563_01\n",
      "Processed OCR for image: 2008301697_01\n"
     ]
    },
    {
     "name": "stderr",
     "output_type": "stream",
     "text": [
      "Processing Images:  51%|█████     | 1549/3053 [07:15<03:20,  7.49it/s]"
     ]
    },
    {
     "name": "stdout",
     "output_type": "stream",
     "text": [
      "Processed OCR for image: 2008301715_01\n"
     ]
    },
    {
     "name": "stderr",
     "output_type": "stream",
     "text": [
      "                                                                      \r"
     ]
    },
    {
     "name": "stdout",
     "output_type": "stream",
     "text": [
      "Processed OCR for image: 2008301603_01\n"
     ]
    },
    {
     "name": "stderr",
     "output_type": "stream",
     "text": [
      "                                                                      "
     ]
    },
    {
     "name": "stdout",
     "output_type": "stream",
     "text": [
      "Processed OCR for image: 2008301699_01\n"
     ]
    },
    {
     "name": "stderr",
     "output_type": "stream",
     "text": [
      "                                                                      "
     ]
    },
    {
     "name": "stdout",
     "output_type": "stream",
     "text": [
      "Processed OCR for image: 2008301720_01\n"
     ]
    },
    {
     "name": "stderr",
     "output_type": "stream",
     "text": [
      "Processing Images:  51%|█████     | 1553/3053 [07:17<06:29,  3.85it/s]"
     ]
    },
    {
     "name": "stdout",
     "output_type": "stream",
     "text": [
      "Processed OCR for image: 2008301743_01\n"
     ]
    },
    {
     "name": "stderr",
     "output_type": "stream",
     "text": [
      "Processing Images:  51%|█████     | 1555/3053 [07:18<06:53,  3.62it/s]"
     ]
    },
    {
     "name": "stdout",
     "output_type": "stream",
     "text": [
      "Processed OCR for image: 2008301721_01\n",
      "Processed OCR for image: 2008301742_01\n"
     ]
    },
    {
     "name": "stderr",
     "output_type": "stream",
     "text": [
      "Processing Images:  51%|█████     | 1556/3053 [07:18<07:18,  3.41it/s]"
     ]
    },
    {
     "name": "stdout",
     "output_type": "stream",
     "text": [
      "Processed OCR for image: 2008301745_01\n"
     ]
    },
    {
     "name": "stderr",
     "output_type": "stream",
     "text": [
      "                                                                      \r"
     ]
    },
    {
     "name": "stdout",
     "output_type": "stream",
     "text": [
      "Processed OCR for image: 2008301746_01\n"
     ]
    },
    {
     "name": "stderr",
     "output_type": "stream",
     "text": [
      "Processing Images:  51%|█████     | 1558/3053 [07:20<11:51,  2.10it/s]"
     ]
    },
    {
     "name": "stdout",
     "output_type": "stream",
     "text": [
      "Processed OCR for image: 2008301755_01\n"
     ]
    },
    {
     "name": "stderr",
     "output_type": "stream",
     "text": [
      "Processing Images:  51%|█████     | 1559/3053 [07:20<11:04,  2.25it/s]"
     ]
    },
    {
     "name": "stdout",
     "output_type": "stream",
     "text": [
      "Processed OCR for image: 2008301761_01\n",
      "Processed OCR for image: 2008301768_01\n",
      "Processed OCR for image: 2008301758_01\n",
      "Processed OCR for image: 2008301775_01\n",
      "Processed OCR for image: 2008301769_01\n",
      "Processed OCR for image: 2008301776_01\n",
      "Processed OCR for image: 2008301777_01\n",
      "Processed OCR for image: 2008301963_01\n",
      "Processed OCR for image: 2008301904_01\n",
      "Processed OCR for image: 2008301908_01\n",
      "Processed OCR for image: 2008301946_01\n",
      "Processed OCR for image: 2008302052_01\n",
      "Processed OCR for image: 2008302267_01\n"
     ]
    },
    {
     "name": "stderr",
     "output_type": "stream",
     "text": [
      "                                                                      \r"
     ]
    },
    {
     "name": "stdout",
     "output_type": "stream",
     "text": [
      "Processed OCR for image: 2008303533_01\n"
     ]
    },
    {
     "name": "stderr",
     "output_type": "stream",
     "text": [
      "Processing Images:  52%|█████▏    | 1574/3053 [07:21<03:23,  7.26it/s]"
     ]
    },
    {
     "name": "stdout",
     "output_type": "stream",
     "text": [
      "Processed OCR for image: 2008303172_01\n",
      "Processed OCR for image: 2008303529_01\n"
     ]
    },
    {
     "name": "stderr",
     "output_type": "stream",
     "text": [
      "Processing Images:  52%|█████▏    | 1575/3053 [07:22<04:28,  5.50it/s]"
     ]
    },
    {
     "name": "stdout",
     "output_type": "stream",
     "text": [
      "Processed OCR for image: 2008303541_01\n",
      "Processed OCR for image: 2008303540_01\n",
      "Processed OCR for image: 2008303544_01\n"
     ]
    },
    {
     "name": "stderr",
     "output_type": "stream",
     "text": [
      "Processing Images:  52%|█████▏    | 1578/3053 [07:23<06:02,  4.07it/s]"
     ]
    },
    {
     "name": "stdout",
     "output_type": "stream",
     "text": [
      "Processed OCR for image: 2008303121_01\n"
     ]
    },
    {
     "name": "stderr",
     "output_type": "stream",
     "text": [
      "                                                                      \r"
     ]
    },
    {
     "name": "stdout",
     "output_type": "stream",
     "text": [
      "Processed OCR for image: 2008303411_01\n"
     ]
    },
    {
     "name": "stderr",
     "output_type": "stream",
     "text": [
      "Processing Images:  52%|█████▏    | 1580/3053 [07:24<07:50,  3.13it/s]"
     ]
    },
    {
     "name": "stdout",
     "output_type": "stream",
     "text": [
      "Processed OCR for image: 2008303548_01\n"
     ]
    },
    {
     "name": "stderr",
     "output_type": "stream",
     "text": [
      "Processing Images:  52%|█████▏    | 1581/3053 [07:24<08:07,  3.02it/s]"
     ]
    },
    {
     "name": "stdout",
     "output_type": "stream",
     "text": [
      "Processed OCR for image: 2008303551_01\n"
     ]
    },
    {
     "name": "stderr",
     "output_type": "stream",
     "text": [
      "Processing Images:  52%|█████▏    | 1582/3053 [07:25<09:53,  2.48it/s]"
     ]
    },
    {
     "name": "stdout",
     "output_type": "stream",
     "text": [
      "Processed OCR for image: 2008303545_01\n"
     ]
    },
    {
     "name": "stderr",
     "output_type": "stream",
     "text": [
      "                                                                      "
     ]
    },
    {
     "name": "stdout",
     "output_type": "stream",
     "text": [
      "Processed OCR for image: 2008303558_01\n"
     ]
    },
    {
     "name": "stderr",
     "output_type": "stream",
     "text": [
      "Processing Images:  52%|█████▏    | 1591/3053 [07:26<03:32,  6.87it/s]"
     ]
    },
    {
     "name": "stdout",
     "output_type": "stream",
     "text": [
      "Processed OCR for image: 2008303556_01\n",
      "Processed OCR for image: 2008303560_01\n",
      "Processed OCR for image: 2008303567_01\n",
      "Processed OCR for image: 2008303554_01\n",
      "Processed OCR for image: 2008303571_01\n",
      "Processed OCR for image: 2008303870_01\n",
      "Processed OCR for image: 2008303576_01\n",
      "Processed OCR for image: 2008303577_01\n"
     ]
    },
    {
     "name": "stderr",
     "output_type": "stream",
     "text": [
      "Processing Images:  52%|█████▏    | 1593/3053 [07:27<03:49,  6.36it/s]"
     ]
    },
    {
     "name": "stdout",
     "output_type": "stream",
     "text": [
      "Processed OCR for image: 2008303583_01\n",
      "Processed OCR for image: 2008304683_01\n"
     ]
    },
    {
     "name": "stderr",
     "output_type": "stream",
     "text": [
      "Processing Images:  52%|█████▏    | 1593/3053 [07:28<03:49,  6.36it/s]"
     ]
    },
    {
     "name": "stdout",
     "output_type": "stream",
     "text": [
      "Processed OCR for image: 2008305074_01\n",
      "Processed OCR for image: 2008305330_01\n"
     ]
    },
    {
     "name": "stderr",
     "output_type": "stream",
     "text": [
      "Processing Images:  52%|█████▏    | 1596/3053 [07:29<07:54,  3.07it/s]"
     ]
    },
    {
     "name": "stdout",
     "output_type": "stream",
     "text": [
      "Processed OCR for image: 2008305335_01\n",
      "Processed OCR for image: 2008305341_01\n",
      "Processed OCR for image: 2008305106_01\n",
      "Processed OCR for image: 2008305356_01\n",
      "Processed OCR for image: 2008305358_01\n",
      "Processed OCR for image: 2008305352_01\n",
      "Processed OCR for image: 2008305362_01\n"
     ]
    },
    {
     "name": "stderr",
     "output_type": "stream",
     "text": [
      "                                                                      "
     ]
    },
    {
     "name": "stdout",
     "output_type": "stream",
     "text": [
      "Processed OCR for image: 2008305373_01\n"
     ]
    },
    {
     "name": "stderr",
     "output_type": "stream",
     "text": [
      "Processing Images:  53%|█████▎    | 1603/3053 [07:30<04:35,  5.25it/s]"
     ]
    },
    {
     "name": "stdout",
     "output_type": "stream",
     "text": [
      "Processed OCR for image: 2008305370_01\n"
     ]
    },
    {
     "name": "stderr",
     "output_type": "stream",
     "text": [
      "Processing Images:  53%|█████▎    | 1605/3053 [07:31<08:49,  2.74it/s]"
     ]
    },
    {
     "name": "stdout",
     "output_type": "stream",
     "text": [
      "Processed OCR for image: 2008305392_01\n",
      "Processed OCR for image: 2008305583_01\n",
      "Processed OCR for image: 2008305509_01\n",
      "Processed OCR for image: 2008305386_01\n",
      "Processed OCR for image: 2008305568_01\n",
      "Processed OCR for image: 2008305595_01\n",
      "Processed OCR for image: 2008305600_01\n",
      "Processed OCR for image: 2008305611_01\n"
     ]
    },
    {
     "name": "stderr",
     "output_type": "stream",
     "text": [
      "Processing Images:  53%|█████▎    | 1613/3053 [07:32<04:36,  5.20it/s]"
     ]
    },
    {
     "name": "stdout",
     "output_type": "stream",
     "text": [
      "Processed OCR for image: 2008305625_01\n",
      "Processed OCR for image: 2008305739_01\n"
     ]
    },
    {
     "name": "stderr",
     "output_type": "stream",
     "text": [
      "                                                                      \r"
     ]
    },
    {
     "name": "stdout",
     "output_type": "stream",
     "text": [
      "Processed OCR for image: 2008306042_01\n",
      "Processed OCR for image: 2008305868_01\n"
     ]
    },
    {
     "name": "stderr",
     "output_type": "stream",
     "text": [
      "                                                                      "
     ]
    },
    {
     "name": "stdout",
     "output_type": "stream",
     "text": [
      "Processed OCR for image: 2008305924_01\n"
     ]
    },
    {
     "name": "stderr",
     "output_type": "stream",
     "text": [
      "Processing Images:  53%|█████▎    | 1618/3053 [07:34<07:03,  3.39it/s]"
     ]
    },
    {
     "name": "stdout",
     "output_type": "stream",
     "text": [
      "Processed OCR for image: 2008306135_01\n",
      "Processed OCR for image: 2008306057_01\n",
      "Processed OCR for image: 2008306043_01\n",
      "Processed OCR for image: 2008306457_01\n",
      "Processed OCR for image: 2008306451_01\n"
     ]
    },
    {
     "name": "stderr",
     "output_type": "stream",
     "text": [
      "Processing Images:  53%|█████▎    | 1623/3053 [07:35<04:47,  4.97it/s]"
     ]
    },
    {
     "name": "stdout",
     "output_type": "stream",
     "text": [
      "Processed OCR for image: 2008306680_01\n"
     ]
    },
    {
     "name": "stderr",
     "output_type": "stream",
     "text": [
      "Processing Images:  53%|█████▎    | 1624/3053 [07:36<07:28,  3.19it/s]"
     ]
    },
    {
     "name": "stdout",
     "output_type": "stream",
     "text": [
      "Processed OCR for image: 2008306759_01\n"
     ]
    },
    {
     "name": "stderr",
     "output_type": "stream",
     "text": [
      "Processing Images:  53%|█████▎    | 1625/3053 [07:36<08:17,  2.87it/s]"
     ]
    },
    {
     "name": "stdout",
     "output_type": "stream",
     "text": [
      "Processed OCR for image: 2008306849_01\n"
     ]
    },
    {
     "name": "stderr",
     "output_type": "stream",
     "text": [
      "                                                                      "
     ]
    },
    {
     "name": "stdout",
     "output_type": "stream",
     "text": [
      "Processed OCR for image: 2008306898_01\n"
     ]
    },
    {
     "name": "stderr",
     "output_type": "stream",
     "text": [
      "                                                                      \r"
     ]
    },
    {
     "name": "stdout",
     "output_type": "stream",
     "text": [
      "Processed OCR for image: 2008306907_01\n"
     ]
    },
    {
     "name": "stderr",
     "output_type": "stream",
     "text": [
      "Processing Images:  53%|█████▎    | 1628/3053 [07:38<13:11,  1.80it/s]"
     ]
    },
    {
     "name": "stdout",
     "output_type": "stream",
     "text": [
      "Processed OCR for image: 2008306906_01\n"
     ]
    },
    {
     "name": "stderr",
     "output_type": "stream",
     "text": [
      "Processing Images:  53%|█████▎    | 1628/3053 [07:39<13:11,  1.80it/s]"
     ]
    },
    {
     "name": "stdout",
     "output_type": "stream",
     "text": [
      "Processed OCR for image: 2008306897_01\n"
     ]
    },
    {
     "name": "stderr",
     "output_type": "stream",
     "text": [
      "Processing Images:  53%|█████▎    | 1629/3053 [07:39<14:46,  1.61it/s]"
     ]
    },
    {
     "name": "stdout",
     "output_type": "stream",
     "text": [
      "Processed OCR for image: 2008306905_01\n",
      "Processed OCR for image: 2008306910_01\n",
      "Processed OCR for image: 2008307041_01\n",
      "Processed OCR for image: 2008307045_01\n",
      "Processed OCR for image: 2008307451_01\n",
      "Processed OCR for image: 2008307220_01\n"
     ]
    },
    {
     "name": "stderr",
     "output_type": "stream",
     "text": [
      "Processing Images:  54%|█████▎    | 1635/3053 [07:39<05:21,  4.41it/s]"
     ]
    },
    {
     "name": "stdout",
     "output_type": "stream",
     "text": [
      "Processed OCR for image: 2008307565_01\n",
      "Processed OCR for image: 2008307379_01\n",
      "Processed OCR for image: 2008307369_01\n",
      "Processed OCR for image: 2008307590_01\n",
      "Processed OCR for image: 2008307698_01\n",
      "Processed OCR for image: 2008307787_01\n"
     ]
    },
    {
     "name": "stderr",
     "output_type": "stream",
     "text": [
      "                                                                      "
     ]
    },
    {
     "name": "stdout",
     "output_type": "stream",
     "text": [
      "Processed OCR for image: 2008308219_01\n"
     ]
    },
    {
     "name": "stderr",
     "output_type": "stream",
     "text": [
      "Processing Images:  54%|█████▍    | 1643/3053 [07:42<06:17,  3.73it/s]"
     ]
    },
    {
     "name": "stdout",
     "output_type": "stream",
     "text": [
      "Processed OCR for image: 2008308592_01\n"
     ]
    },
    {
     "name": "stderr",
     "output_type": "stream",
     "text": [
      "                                                                      \r"
     ]
    },
    {
     "name": "stdout",
     "output_type": "stream",
     "text": [
      "Processed OCR for image: 2008308650_01\n"
     ]
    },
    {
     "name": "stderr",
     "output_type": "stream",
     "text": [
      "Processing Images:  54%|█████▍    | 1644/3053 [07:42<06:43,  3.49it/s]"
     ]
    },
    {
     "name": "stdout",
     "output_type": "stream",
     "text": [
      "Processed OCR for image: 2008307867_01\n",
      "Processed OCR for image: 2008308559_01\n",
      "Processed OCR for image: 2008308193_01\n",
      "Processed OCR for image: 2008308556_01\n",
      "Processed OCR for image: 2008308593_01\n",
      "Processed OCR for image: 2008308709_01\n"
     ]
    },
    {
     "name": "stderr",
     "output_type": "stream",
     "text": [
      "                                                                      \r"
     ]
    },
    {
     "name": "stdout",
     "output_type": "stream",
     "text": [
      "Processed OCR for image: 2008308782_01\n"
     ]
    },
    {
     "name": "stderr",
     "output_type": "stream",
     "text": [
      "Processing Images:  54%|█████▍    | 1652/3053 [07:45<06:42,  3.48it/s]"
     ]
    },
    {
     "name": "stdout",
     "output_type": "stream",
     "text": [
      "Processed OCR for image: 2008308781_01\n",
      "Processed OCR for image: 2008308778_01\n",
      "Processed OCR for image: 2008308780_01\n",
      "Processed OCR for image: 2008308785_01\n",
      "Processed OCR for image: 2008308832_01\n",
      "Processed OCR for image: 2008308787_01\n",
      "Processed OCR for image: 2008308837_01\n"
     ]
    },
    {
     "name": "stderr",
     "output_type": "stream",
     "text": [
      "Processing Images:  54%|█████▍    | 1659/3053 [07:46<05:29,  4.23it/s]"
     ]
    },
    {
     "name": "stdout",
     "output_type": "stream",
     "text": [
      "Processed OCR for image: 2008309137_01\n"
     ]
    },
    {
     "name": "stderr",
     "output_type": "stream",
     "text": [
      "Processing Images:  54%|█████▍    | 1660/3053 [07:46<06:26,  3.61it/s]"
     ]
    },
    {
     "name": "stdout",
     "output_type": "stream",
     "text": [
      "Processed OCR for image: 2008308897_01\n"
     ]
    },
    {
     "name": "stderr",
     "output_type": "stream",
     "text": [
      "Processing Images:  54%|█████▍    | 1661/3053 [07:47<07:11,  3.22it/s]"
     ]
    },
    {
     "name": "stdout",
     "output_type": "stream",
     "text": [
      "Processed OCR for image: 2008308894_01\n",
      "Processed OCR for image: 2008309183_01\n",
      "Processed OCR for image: 2008309436_01\n",
      "Processed OCR for image: 2008309202_01\n",
      "Processed OCR for image: 2008309185_01\n",
      "Processed OCR for image: 2008309291_01\n",
      "Processed OCR for image: 2008309437_01\n"
     ]
    },
    {
     "name": "stderr",
     "output_type": "stream",
     "text": [
      "                                                                      "
     ]
    },
    {
     "name": "stdout",
     "output_type": "stream",
     "text": [
      "Processed OCR for image: 2008309464_01\n"
     ]
    },
    {
     "name": "stderr",
     "output_type": "stream",
     "text": [
      "Processing Images:  55%|█████▍    | 1669/3053 [07:49<06:38,  3.47it/s]"
     ]
    },
    {
     "name": "stdout",
     "output_type": "stream",
     "text": [
      "Processed OCR for image: 2008309463_01\n"
     ]
    },
    {
     "name": "stderr",
     "output_type": "stream",
     "text": [
      "                                                                      "
     ]
    },
    {
     "name": "stdout",
     "output_type": "stream",
     "text": [
      "Processed OCR for image: 2008309457_01\n",
      "Processed OCR for image: 2008309469_01\n",
      "Processed OCR for image: 2008309707_01\n",
      "Processed OCR for image: 2008309717_01\n",
      "Processed OCR for image: 2008309774_01\n",
      "Processed OCR for image: 2008309533_01\n"
     ]
    },
    {
     "name": "stderr",
     "output_type": "stream",
     "text": [
      "                                                                      \r"
     ]
    },
    {
     "name": "stdout",
     "output_type": "stream",
     "text": [
      "Processed OCR for image: 2008309738_01\n"
     ]
    },
    {
     "name": "stderr",
     "output_type": "stream",
     "text": [
      "Processing Images:  55%|█████▍    | 1677/3053 [07:51<04:54,  4.67it/s]"
     ]
    },
    {
     "name": "stdout",
     "output_type": "stream",
     "text": [
      "Processed OCR for image: 2008309757_01\n",
      "Processed OCR for image: 2008309804_01\n"
     ]
    },
    {
     "name": "stderr",
     "output_type": "stream",
     "text": [
      "Processing Images:  55%|█████▍    | 1679/3053 [07:51<06:57,  3.29it/s]"
     ]
    },
    {
     "name": "stdout",
     "output_type": "stream",
     "text": [
      "Processed OCR for image: 2008309810_01\n"
     ]
    },
    {
     "name": "stderr",
     "output_type": "stream",
     "text": [
      "Processing Images:  55%|█████▌    | 1680/3053 [07:52<08:58,  2.55it/s]"
     ]
    },
    {
     "name": "stdout",
     "output_type": "stream",
     "text": [
      "Processed OCR for image: 2008310309_01\n"
     ]
    },
    {
     "name": "stderr",
     "output_type": "stream",
     "text": [
      "Processing Images:  55%|█████▌    | 1681/3053 [07:52<08:12,  2.79it/s]"
     ]
    },
    {
     "name": "stdout",
     "output_type": "stream",
     "text": [
      "Processed OCR for image: 2008310323_01\n"
     ]
    },
    {
     "name": "stderr",
     "output_type": "stream",
     "text": [
      "Processing Images:  55%|█████▌    | 1681/3053 [07:53<08:12,  2.79it/s]"
     ]
    },
    {
     "name": "stdout",
     "output_type": "stream",
     "text": [
      "Processed OCR for image: 2008310310_01\n"
     ]
    },
    {
     "name": "stderr",
     "output_type": "stream",
     "text": [
      "Processing Images:  55%|█████▌    | 1683/3053 [07:53<08:14,  2.77it/s]"
     ]
    },
    {
     "name": "stdout",
     "output_type": "stream",
     "text": [
      "Processed OCR for image: 2008310338_01\n"
     ]
    },
    {
     "name": "stderr",
     "output_type": "stream",
     "text": [
      "Processing Images:  55%|█████▌    | 1683/3053 [07:56<08:14,  2.77it/s]"
     ]
    },
    {
     "name": "stdout",
     "output_type": "stream",
     "text": [
      "Processed OCR for image: 2008310340_01\n"
     ]
    },
    {
     "name": "stderr",
     "output_type": "stream",
     "text": [
      "Processing Images:  55%|█████▌    | 1685/3053 [07:57<21:34,  1.06it/s]"
     ]
    },
    {
     "name": "stdout",
     "output_type": "stream",
     "text": [
      "Processed OCR for image: 2008310327_01\n"
     ]
    },
    {
     "name": "stderr",
     "output_type": "stream",
     "text": [
      "Processing Images:  55%|█████▌    | 1689/3053 [07:57<08:46,  2.59it/s]"
     ]
    },
    {
     "name": "stdout",
     "output_type": "stream",
     "text": [
      "Processed OCR for image: 2008310325_01\n",
      "Processed OCR for image: 2008310345_01\n",
      "Processed OCR for image: 2008310352_01\n",
      "Processed OCR for image: 2008310347_01\n"
     ]
    },
    {
     "name": "stderr",
     "output_type": "stream",
     "text": [
      "Processing Images:  55%|█████▌    | 1690/3053 [07:58<08:22,  2.71it/s]"
     ]
    },
    {
     "name": "stdout",
     "output_type": "stream",
     "text": [
      "Processed OCR for image: 2008310364_01\n"
     ]
    },
    {
     "name": "stderr",
     "output_type": "stream",
     "text": [
      "Processing Images:  55%|█████▌    | 1691/3053 [07:59<15:20,  1.48it/s]"
     ]
    },
    {
     "name": "stdout",
     "output_type": "stream",
     "text": [
      "Processed OCR for image: 2008310774_01\n"
     ]
    },
    {
     "name": "stderr",
     "output_type": "stream",
     "text": [
      "Processing Images:  55%|█████▌    | 1693/3053 [08:00<10:47,  2.10it/s]"
     ]
    },
    {
     "name": "stdout",
     "output_type": "stream",
     "text": [
      "Processed OCR for image: 2008310999_01\n",
      "Processed OCR for image: 2008310927_01\n",
      "Processed OCR for image: 2008310887_01\n",
      "Processed OCR for image: 2008311073_01\n",
      "Processed OCR for image: 2008311026_01\n",
      "Processed OCR for image: 2008311047_01\n",
      "Processed OCR for image: 2008311078_01\n",
      "Processed OCR for image: 2008311138_01\n",
      "Processed OCR for image: 2008311156_01\n",
      "Processed OCR for image: 2008311144_01\n",
      "Processed OCR for image: 2008311290_01\n",
      "Processed OCR for image: 2008311287_01\n",
      "Processed OCR for image: 2008311289_01\n",
      "Processed OCR for image: 2008311282_01\n",
      "Processed OCR for image: 2008311312_01\n",
      "Processed OCR for image: 2008311291_01\n"
     ]
    },
    {
     "name": "stderr",
     "output_type": "stream",
     "text": [
      "Processing Images:  56%|█████▌    | 1708/3053 [08:01<02:21,  9.50it/s]"
     ]
    },
    {
     "name": "stdout",
     "output_type": "stream",
     "text": [
      "Processed OCR for image: 2008311380_01\n",
      "Processed OCR for image: 2008311320_01\n"
     ]
    },
    {
     "name": "stderr",
     "output_type": "stream",
     "text": [
      "Processing Images:  56%|█████▌    | 1710/3053 [08:02<04:00,  5.58it/s]"
     ]
    },
    {
     "name": "stdout",
     "output_type": "stream",
     "text": [
      "Processed OCR for image: 2008311600_01\n"
     ]
    },
    {
     "name": "stderr",
     "output_type": "stream",
     "text": [
      "Processing Images:  56%|█████▌    | 1711/3053 [08:02<04:46,  4.68it/s]"
     ]
    },
    {
     "name": "stdout",
     "output_type": "stream",
     "text": [
      "Processed OCR for image: 2008311441_01\n"
     ]
    },
    {
     "name": "stderr",
     "output_type": "stream",
     "text": [
      "Processing Images:  56%|█████▌    | 1712/3053 [08:03<05:17,  4.22it/s]"
     ]
    },
    {
     "name": "stdout",
     "output_type": "stream",
     "text": [
      "Processed OCR for image: 2008311974_01\n"
     ]
    },
    {
     "name": "stderr",
     "output_type": "stream",
     "text": [
      "Processing Images:  56%|█████▌    | 1713/3053 [08:04<06:45,  3.30it/s]"
     ]
    },
    {
     "name": "stdout",
     "output_type": "stream",
     "text": [
      "Processed OCR for image: 2008311970_01\n",
      "Processed OCR for image: 2008311968_01\n"
     ]
    },
    {
     "name": "stderr",
     "output_type": "stream",
     "text": [
      "Processing Images:  56%|█████▌    | 1715/3053 [08:05<08:36,  2.59it/s]"
     ]
    },
    {
     "name": "stdout",
     "output_type": "stream",
     "text": [
      "Processed OCR for image: 2008311943_01\n"
     ]
    },
    {
     "name": "stderr",
     "output_type": "stream",
     "text": [
      "Processing Images:  56%|█████▌    | 1715/3053 [08:05<08:36,  2.59it/s]"
     ]
    },
    {
     "name": "stdout",
     "output_type": "stream",
     "text": [
      "Processed OCR for image: 2008311983_01\n"
     ]
    },
    {
     "name": "stderr",
     "output_type": "stream",
     "text": [
      "Processing Images:  56%|█████▋    | 1718/3053 [08:06<07:14,  3.07it/s]"
     ]
    },
    {
     "name": "stdout",
     "output_type": "stream",
     "text": [
      "Processed OCR for image: 2008311985_01\n",
      "Processed OCR for image: 2008311999_01\n"
     ]
    },
    {
     "name": "stderr",
     "output_type": "stream",
     "text": [
      "Processing Images:  56%|█████▋    | 1719/3053 [08:06<08:21,  2.66it/s]"
     ]
    },
    {
     "name": "stdout",
     "output_type": "stream",
     "text": [
      "Processed OCR for image: 2008311997_01\n"
     ]
    },
    {
     "name": "stderr",
     "output_type": "stream",
     "text": [
      "Processing Images:  56%|█████▋    | 1720/3053 [08:07<12:11,  1.82it/s]"
     ]
    },
    {
     "name": "stdout",
     "output_type": "stream",
     "text": [
      "Processed OCR for image: 2008312103_01\n"
     ]
    },
    {
     "name": "stderr",
     "output_type": "stream",
     "text": [
      "Processing Images:  56%|█████▋    | 1722/3053 [08:08<09:29,  2.34it/s]"
     ]
    },
    {
     "name": "stdout",
     "output_type": "stream",
     "text": [
      "Processed OCR for image: 2008312474_01\n",
      "Processed OCR for image: 2008312470_01\n",
      "Processed OCR for image: 2008312010_01\n",
      "Processed OCR for image: 2008312472_01\n"
     ]
    },
    {
     "name": "stderr",
     "output_type": "stream",
     "text": [
      "Processing Images:  57%|█████▋    | 1730/3053 [08:08<02:29,  8.84it/s]"
     ]
    },
    {
     "name": "stdout",
     "output_type": "stream",
     "text": [
      "Processed OCR for image: 2008312471_01\n",
      "Processed OCR for image: 2008312481_01\n",
      "Processed OCR for image: 2008312478_01\n",
      "Processed OCR for image: 2008312483_01\n",
      "Processed OCR for image: 2008312498_01\n",
      "Processed OCR for image: 2008312581_01\n",
      "Processed OCR for image: 2008312499_01\n",
      "Processed OCR for image: 2008312485_01\n",
      "Processed OCR for image: 2008312570_01\n",
      "Processed OCR for image: 2008312895_01\n",
      "Processed OCR for image: 2008312896_01\n",
      "Processed OCR for image: 2008312901_01\n"
     ]
    },
    {
     "name": "stderr",
     "output_type": "stream",
     "text": [
      "Processing Images:  57%|█████▋    | 1737/3053 [08:10<03:52,  5.66it/s]"
     ]
    },
    {
     "name": "stdout",
     "output_type": "stream",
     "text": [
      "Processed OCR for image: 2008313609_01\n"
     ]
    },
    {
     "name": "stderr",
     "output_type": "stream",
     "text": [
      "Processing Images:  57%|█████▋    | 1737/3053 [08:10<03:52,  5.66it/s]"
     ]
    },
    {
     "name": "stdout",
     "output_type": "stream",
     "text": [
      "Processed OCR for image: 2008312907_01\n",
      "Processed OCR for image: 2008313019_01\n"
     ]
    },
    {
     "name": "stderr",
     "output_type": "stream",
     "text": [
      "                                                                      \r"
     ]
    },
    {
     "name": "stdout",
     "output_type": "stream",
     "text": [
      "Processed OCR for image: 2008313625_01\n"
     ]
    },
    {
     "name": "stderr",
     "output_type": "stream",
     "text": [
      "Processing Images:  57%|█████▋    | 1741/3053 [08:11<06:06,  3.58it/s]"
     ]
    },
    {
     "name": "stdout",
     "output_type": "stream",
     "text": [
      "Processed OCR for image: 2008314357_01\n"
     ]
    },
    {
     "name": "stderr",
     "output_type": "stream",
     "text": [
      "Processing Images:  57%|█████▋    | 1742/3053 [08:12<06:47,  3.22it/s]"
     ]
    },
    {
     "name": "stdout",
     "output_type": "stream",
     "text": [
      "Processed OCR for image: 2008313627_01\n"
     ]
    },
    {
     "name": "stderr",
     "output_type": "stream",
     "text": [
      "Processing Images:  57%|█████▋    | 1743/3053 [08:13<08:03,  2.71it/s]"
     ]
    },
    {
     "name": "stdout",
     "output_type": "stream",
     "text": [
      "Processed OCR for image: 2008313025_01\n",
      "Processed OCR for image: 2008313956_01\n"
     ]
    },
    {
     "name": "stderr",
     "output_type": "stream",
     "text": [
      "Processing Images:  57%|█████▋    | 1754/3053 [08:14<02:34,  8.43it/s]"
     ]
    },
    {
     "name": "stdout",
     "output_type": "stream",
     "text": [
      "Processed OCR for image: 2008314533_01\n",
      "Processed OCR for image: 2008314575_01\n",
      "Processed OCR for image: 2008314561_01\n",
      "Processed OCR for image: 2008314608_01\n",
      "Processed OCR for image: 2008314594_01\n",
      "Processed OCR for image: 2008314567_01\n",
      "Processed OCR for image: 2008314731_01\n",
      "Processed OCR for image: 2008314653_01\n",
      "Processed OCR for image: 2008314636_01\n",
      "Processed OCR for image: 2008315023_01\n",
      "Processed OCR for image: 2008314747_01\n",
      "Processed OCR for image: 2008315037_01\n",
      "Processed OCR for image: 2008315039_01\n",
      "Processed OCR for image: 2008315339_01\n"
     ]
    },
    {
     "name": "stderr",
     "output_type": "stream",
     "text": [
      "                                                                      "
     ]
    },
    {
     "name": "stdout",
     "output_type": "stream",
     "text": [
      "Processed OCR for image: 2008315618_01\n"
     ]
    },
    {
     "name": "stderr",
     "output_type": "stream",
     "text": [
      "Processing Images:  58%|█████▊    | 1759/3053 [08:16<04:29,  4.80it/s]"
     ]
    },
    {
     "name": "stdout",
     "output_type": "stream",
     "text": [
      "Processed OCR for image: 2008315558_01\n",
      "Processed OCR for image: 2008315636_01\n"
     ]
    },
    {
     "name": "stderr",
     "output_type": "stream",
     "text": [
      "Processing Images:  58%|█████▊    | 1762/3053 [08:16<04:43,  4.55it/s]"
     ]
    },
    {
     "name": "stdout",
     "output_type": "stream",
     "text": [
      "Processed OCR for image: 2008315509_01\n",
      "Processed OCR for image: 2008315837_01\n",
      "Processed OCR for image: 2008315524_01\n",
      "Processed OCR for image: 2008315642_01\n",
      "Processed OCR for image: 2008315825_01\n",
      "Processed OCR for image: 2008315902_01\n"
     ]
    },
    {
     "name": "stderr",
     "output_type": "stream",
     "text": [
      "                                                                      \r"
     ]
    },
    {
     "name": "stdout",
     "output_type": "stream",
     "text": [
      "Processed OCR for image: 2008315915_01\n"
     ]
    },
    {
     "name": "stderr",
     "output_type": "stream",
     "text": [
      "Processing Images:  58%|█████▊    | 1770/3053 [08:19<05:25,  3.94it/s]"
     ]
    },
    {
     "name": "stdout",
     "output_type": "stream",
     "text": [
      "Processed OCR for image: 2008316302_01\n",
      "Processed OCR for image: 2008316109_01\n"
     ]
    },
    {
     "name": "stderr",
     "output_type": "stream",
     "text": [
      "Processing Images:  58%|█████▊    | 1771/3053 [08:19<05:13,  4.09it/s]"
     ]
    },
    {
     "name": "stdout",
     "output_type": "stream",
     "text": [
      "Processed OCR for image: 2008316060_01\n",
      "Processed OCR for image: 2008316442_01\n",
      "Processed OCR for image: 2008316200_01\n",
      "Processed OCR for image: 2008316508_01\n",
      "Processed OCR for image: 2008316359_01\n",
      "Processed OCR for image: 2008316540_01\n"
     ]
    },
    {
     "name": "stderr",
     "output_type": "stream",
     "text": [
      "                                                                      \r"
     ]
    },
    {
     "name": "stdout",
     "output_type": "stream",
     "text": [
      "Processed OCR for image: 2008316554_01\n"
     ]
    },
    {
     "name": "stderr",
     "output_type": "stream",
     "text": [
      "Processing Images:  58%|█████▊    | 1778/3053 [08:21<05:22,  3.96it/s]"
     ]
    },
    {
     "name": "stdout",
     "output_type": "stream",
     "text": [
      "Processed OCR for image: 2008316615_01\n"
     ]
    },
    {
     "name": "stderr",
     "output_type": "stream",
     "text": [
      "Processing Images:  58%|█████▊    | 1779/3053 [08:21<05:42,  3.72it/s]"
     ]
    },
    {
     "name": "stdout",
     "output_type": "stream",
     "text": [
      "Processed OCR for image: 2008316595_01\n",
      "Processed OCR for image: 2008316547_01\n",
      "Processed OCR for image: 2008316611_01\n",
      "Processed OCR for image: 2008316618_01\n",
      "Processed OCR for image: 2008316632_01\n",
      "Processed OCR for image: 2008316648_01\n"
     ]
    },
    {
     "name": "stderr",
     "output_type": "stream",
     "text": [
      "Processing Images:  58%|█████▊    | 1785/3053 [08:23<05:49,  3.63it/s]"
     ]
    },
    {
     "name": "stdout",
     "output_type": "stream",
     "text": [
      "Processed OCR for image: 2008316704_01\n"
     ]
    },
    {
     "name": "stderr",
     "output_type": "stream",
     "text": [
      "Processing Images:  58%|█████▊    | 1786/3053 [08:23<06:27,  3.27it/s]"
     ]
    },
    {
     "name": "stdout",
     "output_type": "stream",
     "text": [
      "Processed OCR for image: 2008316699_01\n",
      "Processed OCR for image: 2008316709_01\n",
      "Processed OCR for image: 2008316689_01\n",
      "Processed OCR for image: 2008316857_01\n",
      "Processed OCR for image: 2008316746_01\n",
      "Processed OCR for image: 2008316850_01\n",
      "Processed OCR for image: 2008316719_01\n"
     ]
    },
    {
     "name": "stderr",
     "output_type": "stream",
     "text": [
      "Processing Images:  59%|█████▊    | 1793/3053 [08:24<04:40,  4.49it/s]"
     ]
    },
    {
     "name": "stdout",
     "output_type": "stream",
     "text": [
      "Processed OCR for image: 2008317007_01\n"
     ]
    },
    {
     "name": "stderr",
     "output_type": "stream",
     "text": [
      "Processing Images:  59%|█████▉    | 1794/3053 [08:26<06:44,  3.12it/s]"
     ]
    },
    {
     "name": "stdout",
     "output_type": "stream",
     "text": [
      "Processed OCR for image: 2008317009_01\n"
     ]
    },
    {
     "name": "stderr",
     "output_type": "stream",
     "text": [
      "Processing Images:  59%|█████▉    | 1795/3053 [08:26<07:12,  2.91it/s]"
     ]
    },
    {
     "name": "stdout",
     "output_type": "stream",
     "text": [
      "Processed OCR for image: 2008316879_01\n"
     ]
    },
    {
     "name": "stderr",
     "output_type": "stream",
     "text": [
      "                                                                      "
     ]
    },
    {
     "name": "stdout",
     "output_type": "stream",
     "text": [
      "Processed OCR for image: 2008317051_01\n"
     ]
    },
    {
     "name": "stderr",
     "output_type": "stream",
     "text": [
      "Processing Images:  59%|█████▉    | 1797/3053 [08:27<07:24,  2.83it/s]"
     ]
    },
    {
     "name": "stdout",
     "output_type": "stream",
     "text": [
      "Processed OCR for image: 2008317116_01\n"
     ]
    },
    {
     "name": "stderr",
     "output_type": "stream",
     "text": [
      "Processing Images:  59%|█████▉    | 1799/3053 [08:28<07:14,  2.89it/s]"
     ]
    },
    {
     "name": "stdout",
     "output_type": "stream",
     "text": [
      "Processed OCR for image: 2008317132_01\n",
      "Processed OCR for image: 2008317008_01\n"
     ]
    },
    {
     "name": "stderr",
     "output_type": "stream",
     "text": [
      "Processing Images:  59%|█████▉    | 1800/3053 [08:28<08:14,  2.54it/s]"
     ]
    },
    {
     "name": "stdout",
     "output_type": "stream",
     "text": [
      "Processed OCR for image: 2008317138_01\n"
     ]
    },
    {
     "name": "stderr",
     "output_type": "stream",
     "text": [
      "Processing Images:  59%|█████▉    | 1801/3053 [08:29<12:24,  1.68it/s]"
     ]
    },
    {
     "name": "stdout",
     "output_type": "stream",
     "text": [
      "Processed OCR for image: 2008317160_01\n"
     ]
    },
    {
     "name": "stderr",
     "output_type": "stream",
     "text": [
      "Processing Images:  59%|█████▉    | 1802/3053 [08:30<13:28,  1.55it/s]"
     ]
    },
    {
     "name": "stdout",
     "output_type": "stream",
     "text": [
      "Processed OCR for image: 2008317125_01\n",
      "Processed OCR for image: 2008317167_01\n"
     ]
    },
    {
     "name": "stderr",
     "output_type": "stream",
     "text": [
      "Processing Images:  60%|█████▉    | 1817/3053 [08:31<01:31, 13.55it/s]"
     ]
    },
    {
     "name": "stdout",
     "output_type": "stream",
     "text": [
      "Processed OCR for image: 2008317181_01\n",
      "Processed OCR for image: 2008317352_01\n",
      "Processed OCR for image: 2008317351_01\n",
      "Processed OCR for image: 2008317348_01\n",
      "Processed OCR for image: 2008317382_01\n",
      "Processed OCR for image: 2008317377_01\n",
      "Processed OCR for image: 2008317383_01\n",
      "Processed OCR for image: 2008317459_01\n",
      "Processed OCR for image: 2008317389_01\n",
      "Processed OCR for image: 2008317771_01\n",
      "Processed OCR for image: 2008317396_01\n",
      "Processed OCR for image: 2008317996_01\n",
      "Processed OCR for image: 2008318002_01\n",
      "Processed OCR for image: 2008318007_01\n"
     ]
    },
    {
     "name": "stderr",
     "output_type": "stream",
     "text": [
      "Processing Images:  60%|█████▉    | 1817/3053 [08:32<01:31, 13.55it/s]"
     ]
    },
    {
     "name": "stdout",
     "output_type": "stream",
     "text": [
      "Processed OCR for image: 2008318010_01\n"
     ]
    },
    {
     "name": "stderr",
     "output_type": "stream",
     "text": [
      "                                                                      "
     ]
    },
    {
     "name": "stdout",
     "output_type": "stream",
     "text": [
      "Processed OCR for image: 2008318032_01\n"
     ]
    },
    {
     "name": "stderr",
     "output_type": "stream",
     "text": [
      "Processing Images:  60%|█████▉    | 1817/3053 [08:33<01:31, 13.55it/s]"
     ]
    },
    {
     "name": "stdout",
     "output_type": "stream",
     "text": [
      "Processed OCR for image: 2008318043_01\n"
     ]
    },
    {
     "name": "stderr",
     "output_type": "stream",
     "text": [
      "                                                                      "
     ]
    },
    {
     "name": "stdout",
     "output_type": "stream",
     "text": [
      "Processed OCR for image: 2008318038_01\n"
     ]
    },
    {
     "name": "stderr",
     "output_type": "stream",
     "text": [
      "                                                                      "
     ]
    },
    {
     "name": "stdout",
     "output_type": "stream",
     "text": [
      "Processed OCR for image: 2008318024_01\n"
     ]
    },
    {
     "name": "stderr",
     "output_type": "stream",
     "text": [
      "                                                                      "
     ]
    },
    {
     "name": "stdout",
     "output_type": "stream",
     "text": [
      "Processed OCR for image: 2008318046_01\n"
     ]
    },
    {
     "name": "stderr",
     "output_type": "stream",
     "text": [
      "Processing Images:  60%|█████▉    | 1822/3053 [08:36<05:45,  3.56it/s]"
     ]
    },
    {
     "name": "stdout",
     "output_type": "stream",
     "text": [
      "Processed OCR for image: 2008318048_01\n",
      "Processed OCR for image: 2008318049_01\n"
     ]
    },
    {
     "name": "stderr",
     "output_type": "stream",
     "text": [
      "                                                                      \r"
     ]
    },
    {
     "name": "stdout",
     "output_type": "stream",
     "text": [
      "Processed OCR for image: 2008318086_01\n"
     ]
    },
    {
     "name": "stderr",
     "output_type": "stream",
     "text": [
      "Processing Images:  60%|█████▉    | 1825/3053 [08:37<07:04,  2.89it/s]"
     ]
    },
    {
     "name": "stdout",
     "output_type": "stream",
     "text": [
      "Processed OCR for image: 2008318091_01\n",
      "Processed OCR for image: 2008318095_01\n"
     ]
    },
    {
     "name": "stderr",
     "output_type": "stream",
     "text": [
      "                                                                      "
     ]
    },
    {
     "name": "stdout",
     "output_type": "stream",
     "text": [
      "Processed OCR for image: 2008318094_01\n",
      "Processed OCR for image: 2008318097_01\n",
      "Processed OCR for image: 2008318096_01\n"
     ]
    },
    {
     "name": "stderr",
     "output_type": "stream",
     "text": [
      "Processing Images:  60%|██████    | 1832/3053 [08:38<06:42,  3.03it/s]"
     ]
    },
    {
     "name": "stdout",
     "output_type": "stream",
     "text": [
      "Processed OCR for image: 2008318100_01\n"
     ]
    },
    {
     "name": "stderr",
     "output_type": "stream",
     "text": [
      "Processing Images:  60%|██████    | 1832/3053 [08:39<06:42,  3.03it/s]"
     ]
    },
    {
     "name": "stdout",
     "output_type": "stream",
     "text": [
      "Processed OCR for image: 2008318098_01\n"
     ]
    },
    {
     "name": "stderr",
     "output_type": "stream",
     "text": [
      "Processing Images:  60%|██████    | 1834/3053 [08:39<07:26,  2.73it/s]"
     ]
    },
    {
     "name": "stdout",
     "output_type": "stream",
     "text": [
      "Processed OCR for image: 2008318104_01\n",
      "Processed OCR for image: 2008318263_01\n",
      "Processed OCR for image: 2008318268_01\n",
      "Processed OCR for image: 2008318269_01\n",
      "Processed OCR for image: 2008318372_01\n",
      "Processed OCR for image: 2008318581_01\n",
      "Processed OCR for image: 2008318543_01\n",
      "Processed OCR for image: 2008318660_01\n",
      "Processed OCR for image: 2008318587_01\n",
      "Processed OCR for image: 2008318724_01\n"
     ]
    },
    {
     "name": "stderr",
     "output_type": "stream",
     "text": [
      "Processing Images:  60%|██████    | 1846/3053 [08:40<03:00,  6.67it/s]"
     ]
    },
    {
     "name": "stdout",
     "output_type": "stream",
     "text": [
      "Processed OCR for image: 2008318666_01\n",
      "Processed OCR for image: 2008318947_01\n",
      "Processed OCR for image: 2008319059_01\n",
      "Processed OCR for image: 2008319052_01\n",
      "Processed OCR for image: 2008318779_01\n",
      "Processed OCR for image: 2008319048_01\n",
      "Processed OCR for image: 2008319350_01\n"
     ]
    },
    {
     "name": "stderr",
     "output_type": "stream",
     "text": [
      "Processing Images:  60%|██████    | 1846/3053 [08:41<03:00,  6.67it/s]"
     ]
    },
    {
     "name": "stdout",
     "output_type": "stream",
     "text": [
      "Processed OCR for image: 2008319414_01\n"
     ]
    },
    {
     "name": "stderr",
     "output_type": "stream",
     "text": [
      "                                                                      "
     ]
    },
    {
     "name": "stdout",
     "output_type": "stream",
     "text": [
      "Processed OCR for image: 2008319451_01\n"
     ]
    },
    {
     "name": "stderr",
     "output_type": "stream",
     "text": [
      "                                                                      "
     ]
    },
    {
     "name": "stdout",
     "output_type": "stream",
     "text": [
      "Processed OCR for image: 2008319819_01\n"
     ]
    },
    {
     "name": "stderr",
     "output_type": "stream",
     "text": [
      "                                                                      "
     ]
    },
    {
     "name": "stdout",
     "output_type": "stream",
     "text": [
      "Processed OCR for image: 2008319821_01\n",
      "Processed OCR for image: 2008319528_01\n"
     ]
    },
    {
     "name": "stderr",
     "output_type": "stream",
     "text": [
      "Processing Images:  61%|██████    | 1856/3053 [08:43<05:11,  3.84it/s]"
     ]
    },
    {
     "name": "stdout",
     "output_type": "stream",
     "text": [
      "Processed OCR for image: 2008319816_01\n"
     ]
    },
    {
     "name": "stderr",
     "output_type": "stream",
     "text": [
      "Processing Images:  61%|██████    | 1857/3053 [08:44<07:23,  2.69it/s]"
     ]
    },
    {
     "name": "stdout",
     "output_type": "stream",
     "text": [
      "Processed OCR for image: 2008319567_01\n"
     ]
    },
    {
     "name": "stderr",
     "output_type": "stream",
     "text": [
      "Processing Images:  61%|██████    | 1858/3053 [08:45<08:34,  2.32it/s]"
     ]
    },
    {
     "name": "stdout",
     "output_type": "stream",
     "text": [
      "Processed OCR for image: 2008319053_01\n"
     ]
    },
    {
     "name": "stderr",
     "output_type": "stream",
     "text": [
      "Processing Images:  61%|██████    | 1859/3053 [08:45<08:44,  2.28it/s]"
     ]
    },
    {
     "name": "stdout",
     "output_type": "stream",
     "text": [
      "Processed OCR for image: 2008319824_01\n",
      "Processed OCR for image: 2008319876_01\n",
      "Processed OCR for image: 2008319894_01\n",
      "Processed OCR for image: 2008319907_01\n",
      "Processed OCR for image: 2008319902_01\n",
      "Processed OCR for image: 2008319905_01\n",
      "Processed OCR for image: 2008319900_01\n",
      "Processed OCR for image: 2008320096_01\n",
      "Processed OCR for image: 2008320073_01\n",
      "Processed OCR for image: 2008320060_01\n",
      "Processed OCR for image: 2008320100_01\n",
      "Processed OCR for image: 2008320097_01\n"
     ]
    },
    {
     "name": "stderr",
     "output_type": "stream",
     "text": [
      "Processing Images:  61%|██████▏   | 1871/3053 [08:46<02:58,  6.64it/s]"
     ]
    },
    {
     "name": "stdout",
     "output_type": "stream",
     "text": [
      "Processed OCR for image: 2008320215_01\n"
     ]
    },
    {
     "name": "stderr",
     "output_type": "stream",
     "text": [
      "Processing Images:  61%|██████▏   | 1872/3053 [08:47<03:43,  5.29it/s]"
     ]
    },
    {
     "name": "stdout",
     "output_type": "stream",
     "text": [
      "Processed OCR for image: 2008320105_01\n"
     ]
    },
    {
     "name": "stderr",
     "output_type": "stream",
     "text": [
      "Processing Images:  61%|██████▏   | 1873/3053 [08:47<05:00,  3.93it/s]"
     ]
    },
    {
     "name": "stdout",
     "output_type": "stream",
     "text": [
      "Processed OCR for image: 2008320321_01\n"
     ]
    },
    {
     "name": "stderr",
     "output_type": "stream",
     "text": [
      "Processing Images:  61%|██████▏   | 1874/3053 [08:48<06:28,  3.03it/s]"
     ]
    },
    {
     "name": "stdout",
     "output_type": "stream",
     "text": [
      "Processed OCR for image: 2008320485_01\n",
      "Processed OCR for image: 2008320852_01\n"
     ]
    },
    {
     "name": "stderr",
     "output_type": "stream",
     "text": [
      "Processing Images:  61%|██████▏   | 1874/3053 [08:48<06:28,  3.03it/s]"
     ]
    },
    {
     "name": "stdout",
     "output_type": "stream",
     "text": [
      "Processed OCR for image: 2008320741_01\n",
      "Processed OCR for image: 2008320862_01\n",
      "Processed OCR for image: 2008320870_01\n",
      "Processed OCR for image: 2008320864_01\n",
      "Processed OCR for image: 2008320867_01\n",
      "Processed OCR for image: 2008321014_01\n"
     ]
    },
    {
     "name": "stderr",
     "output_type": "stream",
     "text": [
      "Processing Images:  62%|██████▏   | 1882/3053 [08:49<03:15,  6.00it/s]"
     ]
    },
    {
     "name": "stdout",
     "output_type": "stream",
     "text": [
      "Processed OCR for image: 2008321528_01\n"
     ]
    },
    {
     "name": "stderr",
     "output_type": "stream",
     "text": [
      "Processing Images:  62%|██████▏   | 1883/3053 [08:50<05:06,  3.81it/s]"
     ]
    },
    {
     "name": "stdout",
     "output_type": "stream",
     "text": [
      "Processed OCR for image: 2008321459_01\n"
     ]
    },
    {
     "name": "stderr",
     "output_type": "stream",
     "text": [
      "Processing Images:  62%|██████▏   | 1884/3053 [08:51<06:16,  3.10it/s]"
     ]
    },
    {
     "name": "stdout",
     "output_type": "stream",
     "text": [
      "Processed OCR for image: 2008321537_01\n",
      "Processed OCR for image: 2008321314_01\n"
     ]
    },
    {
     "name": "stderr",
     "output_type": "stream",
     "text": [
      "Processing Images:  62%|██████▏   | 1885/3053 [08:51<05:59,  3.25it/s]"
     ]
    },
    {
     "name": "stdout",
     "output_type": "stream",
     "text": [
      "Processed OCR for image: 2008321616_01\n",
      "Processed OCR for image: 2008321247_01\n",
      "Processed OCR for image: 2008321586_01\n",
      "Processed OCR for image: 2008321591_01\n",
      "Processed OCR for image: 2008321618_01\n"
     ]
    },
    {
     "name": "stderr",
     "output_type": "stream",
     "text": [
      "Processing Images:  62%|██████▏   | 1891/3053 [08:51<03:11,  6.05it/s]"
     ]
    },
    {
     "name": "stdout",
     "output_type": "stream",
     "text": [
      "Processed OCR for image: 2008321876_01\n"
     ]
    },
    {
     "name": "stderr",
     "output_type": "stream",
     "text": [
      "Processing Images:  62%|██████▏   | 1892/3053 [08:52<05:31,  3.51it/s]"
     ]
    },
    {
     "name": "stdout",
     "output_type": "stream",
     "text": [
      "Processed OCR for image: 2009013747_01\n"
     ]
    },
    {
     "name": "stderr",
     "output_type": "stream",
     "text": [
      "Processing Images:  62%|██████▏   | 1893/3053 [08:53<05:25,  3.57it/s]"
     ]
    },
    {
     "name": "stdout",
     "output_type": "stream",
     "text": [
      "Processed OCR for image: 2008322074_01\n"
     ]
    },
    {
     "name": "stderr",
     "output_type": "stream",
     "text": [
      "Processing Images:  62%|██████▏   | 1895/3053 [08:53<05:06,  3.77it/s]"
     ]
    },
    {
     "name": "stdout",
     "output_type": "stream",
     "text": [
      "Processed OCR for image: 2009013756_01\n",
      "Processed OCR for image: 2009013752_01\n"
     ]
    },
    {
     "name": "stderr",
     "output_type": "stream",
     "text": [
      "                                                                      "
     ]
    },
    {
     "name": "stdout",
     "output_type": "stream",
     "text": [
      "Processed OCR for image: 2009013769_01\n"
     ]
    },
    {
     "name": "stderr",
     "output_type": "stream",
     "text": [
      "Processing Images:  62%|██████▏   | 1896/3053 [08:54<05:23,  3.57it/s]"
     ]
    },
    {
     "name": "stdout",
     "output_type": "stream",
     "text": [
      "Processed OCR for image: 2009013960_01\n"
     ]
    },
    {
     "name": "stderr",
     "output_type": "stream",
     "text": [
      "                                                                      "
     ]
    },
    {
     "name": "stdout",
     "output_type": "stream",
     "text": [
      "Processed OCR for image: 2009013761_01\n"
     ]
    },
    {
     "name": "stderr",
     "output_type": "stream",
     "text": [
      "Processing Images:  62%|██████▏   | 1899/3053 [08:55<08:39,  2.22it/s]"
     ]
    },
    {
     "name": "stdout",
     "output_type": "stream",
     "text": [
      "Processed OCR for image: 2009013967_01\n"
     ]
    },
    {
     "name": "stderr",
     "output_type": "stream",
     "text": [
      "                                                                      \r"
     ]
    },
    {
     "name": "stdout",
     "output_type": "stream",
     "text": [
      "Processed OCR for image: 2009014104_01\n",
      "Processed OCR for image: 2008322020_01\n"
     ]
    },
    {
     "name": "stderr",
     "output_type": "stream",
     "text": [
      "                                                                      "
     ]
    },
    {
     "name": "stdout",
     "output_type": "stream",
     "text": [
      "Processed OCR for image: 2009014095_01\n",
      "Processed OCR for image: 2009014393_01\n",
      "Processed OCR for image: 2009014473_01\n",
      "Processed OCR for image: 2009014441_01\n",
      "Processed OCR for image: 2009014608_01\n",
      "Processed OCR for image: 2009014484_01\n"
     ]
    },
    {
     "name": "stderr",
     "output_type": "stream",
     "text": [
      "Processing Images:  62%|██████▏   | 1908/3053 [08:56<02:22,  8.05it/s]"
     ]
    },
    {
     "name": "stdout",
     "output_type": "stream",
     "text": [
      "Processed OCR for image: 2009014848_01\n"
     ]
    },
    {
     "name": "stderr",
     "output_type": "stream",
     "text": [
      "Processing Images:  62%|██████▏   | 1908/3053 [08:56<02:22,  8.05it/s]"
     ]
    },
    {
     "name": "stdout",
     "output_type": "stream",
     "text": [
      "Processed OCR for image: 2009015631_01\n"
     ]
    },
    {
     "name": "stderr",
     "output_type": "stream",
     "text": [
      "                                                                      "
     ]
    },
    {
     "name": "stdout",
     "output_type": "stream",
     "text": [
      "Processed OCR for image: 2009015138_01\n"
     ]
    },
    {
     "name": "stderr",
     "output_type": "stream",
     "text": [
      "                                                                      \r"
     ]
    },
    {
     "name": "stdout",
     "output_type": "stream",
     "text": [
      "Processed OCR for image: 2009016005_01\n"
     ]
    },
    {
     "name": "stderr",
     "output_type": "stream",
     "text": [
      "                                                                      "
     ]
    },
    {
     "name": "stdout",
     "output_type": "stream",
     "text": [
      "Processed OCR for image: 2009016007_01\n",
      "Processed OCR for image: 2009016000_01\n"
     ]
    },
    {
     "name": "stderr",
     "output_type": "stream",
     "text": [
      "Processing Images:  63%|██████▎   | 1914/3053 [08:59<06:07,  3.10it/s]"
     ]
    },
    {
     "name": "stdout",
     "output_type": "stream",
     "text": [
      "Processed OCR for image: 2009016020_01\n"
     ]
    },
    {
     "name": "stderr",
     "output_type": "stream",
     "text": [
      "Processing Images:  63%|██████▎   | 1914/3053 [09:00<06:07,  3.10it/s]"
     ]
    },
    {
     "name": "stdout",
     "output_type": "stream",
     "text": [
      "Processed OCR for image: 2009016064_01\n"
     ]
    },
    {
     "name": "stderr",
     "output_type": "stream",
     "text": [
      "Processing Images:  63%|██████▎   | 1917/3053 [09:01<07:18,  2.59it/s]"
     ]
    },
    {
     "name": "stdout",
     "output_type": "stream",
     "text": [
      "Processed OCR for image: 2009016060_01\n",
      "Processed OCR for image: 2009016077_01\n",
      "Processed OCR for image: 2009016660_01\n",
      "Processed OCR for image: 2009016306_01\n",
      "Processed OCR for image: 2009017013_01\n",
      "Processed OCR for image: 2009016490_01\n",
      "Processed OCR for image: 2009016998_01\n",
      "Processed OCR for image: 2009016913_01\n",
      "Processed OCR for image: 2009017121_01\n",
      "Processed OCR for image: 2009017136_01\n",
      "Processed OCR for image: 2009017142_01\n",
      "Processed OCR for image: 2009017139_01\n"
     ]
    },
    {
     "name": "stderr",
     "output_type": "stream",
     "text": [
      "                                                                      \r"
     ]
    },
    {
     "name": "stdout",
     "output_type": "stream",
     "text": [
      "Processed OCR for image: 2009017188_01\n"
     ]
    },
    {
     "name": "stderr",
     "output_type": "stream",
     "text": [
      "Processing Images:  63%|██████▎   | 1930/3053 [09:03<03:56,  4.74it/s]"
     ]
    },
    {
     "name": "stdout",
     "output_type": "stream",
     "text": [
      "Processed OCR for image: 2009017146_01\n",
      "Processed OCR for image: 2009017215_01\n"
     ]
    },
    {
     "name": "stderr",
     "output_type": "stream",
     "text": [
      "Processing Images:  63%|██████▎   | 1930/3053 [09:03<03:56,  4.74it/s]"
     ]
    },
    {
     "name": "stdout",
     "output_type": "stream",
     "text": [
      "Processed OCR for image: 2009017210_01\n",
      "Processed OCR for image: 2009017144_01\n",
      "Processed OCR for image: 2009017214_01\n",
      "Processed OCR for image: 2009017223_01\n",
      "Processed OCR for image: 2009017232_01\n"
     ]
    },
    {
     "name": "stderr",
     "output_type": "stream",
     "text": [
      "Processing Images:  63%|██████▎   | 1936/3053 [09:03<02:29,  7.47it/s]"
     ]
    },
    {
     "name": "stdout",
     "output_type": "stream",
     "text": [
      "Processed OCR for image: 2009017254_01\n"
     ]
    },
    {
     "name": "stderr",
     "output_type": "stream",
     "text": [
      "                                                                      "
     ]
    },
    {
     "name": "stdout",
     "output_type": "stream",
     "text": [
      "Processed OCR for image: 2009017257_01\n"
     ]
    },
    {
     "name": "stderr",
     "output_type": "stream",
     "text": [
      "Processing Images:  63%|██████▎   | 1938/3053 [09:05<05:17,  3.51it/s]"
     ]
    },
    {
     "name": "stdout",
     "output_type": "stream",
     "text": [
      "Processed OCR for image: 2009017395_01\n"
     ]
    },
    {
     "name": "stderr",
     "output_type": "stream",
     "text": [
      "Processing Images:  64%|██████▎   | 1943/3053 [09:06<03:24,  5.44it/s]"
     ]
    },
    {
     "name": "stdout",
     "output_type": "stream",
     "text": [
      "Processed OCR for image: 2009017502_01\n",
      "Processed OCR for image: 2009017268_01\n",
      "Processed OCR for image: 2009017347_01\n",
      "Processed OCR for image: 2009017342_01\n",
      "Processed OCR for image: 2009017498_01\n",
      "Processed OCR for image: 2009017508_01\n"
     ]
    },
    {
     "name": "stderr",
     "output_type": "stream",
     "text": [
      "Processing Images:  64%|██████▎   | 1943/3053 [09:06<03:24,  5.44it/s]"
     ]
    },
    {
     "name": "stdout",
     "output_type": "stream",
     "text": [
      "Processed OCR for image: 2009017539_01\n"
     ]
    },
    {
     "name": "stderr",
     "output_type": "stream",
     "text": [
      "Processing Images:  64%|██████▎   | 1946/3053 [09:07<05:18,  3.47it/s]"
     ]
    },
    {
     "name": "stdout",
     "output_type": "stream",
     "text": [
      "Processed OCR for image: 2009017542_01\n"
     ]
    },
    {
     "name": "stderr",
     "output_type": "stream",
     "text": [
      "Processing Images:  64%|██████▍   | 1947/3053 [09:08<06:16,  2.93it/s]"
     ]
    },
    {
     "name": "stdout",
     "output_type": "stream",
     "text": [
      "Processed OCR for image: 2009017610_01\n"
     ]
    },
    {
     "name": "stderr",
     "output_type": "stream",
     "text": [
      "Processing Images:  64%|██████▍   | 1948/3053 [09:08<05:42,  3.23it/s]"
     ]
    },
    {
     "name": "stdout",
     "output_type": "stream",
     "text": [
      "Processed OCR for image: 2009017788_01\n",
      "Processed OCR for image: 2009017686_01\n"
     ]
    },
    {
     "name": "stderr",
     "output_type": "stream",
     "text": [
      "Processing Images:  64%|██████▍   | 1950/3053 [09:08<05:18,  3.47it/s]"
     ]
    },
    {
     "name": "stdout",
     "output_type": "stream",
     "text": [
      "Processed OCR for image: 2009017779_01\n"
     ]
    },
    {
     "name": "stderr",
     "output_type": "stream",
     "text": [
      "                                                                      \r"
     ]
    },
    {
     "name": "stdout",
     "output_type": "stream",
     "text": [
      "Processed OCR for image: 2009017789_01"
     ]
    },
    {
     "name": "stderr",
     "output_type": "stream",
     "text": [
      "Processing Images:  64%|██████▍   | 1951/3053 [09:09<07:22,  2.49it/s]"
     ]
    },
    {
     "name": "stdout",
     "output_type": "stream",
     "text": [
      "\n"
     ]
    },
    {
     "name": "stderr",
     "output_type": "stream",
     "text": [
      "                                                                      "
     ]
    },
    {
     "name": "stdout",
     "output_type": "stream",
     "text": [
      "Processed OCR for image: 2009017858_01\n"
     ]
    },
    {
     "name": "stderr",
     "output_type": "stream",
     "text": [
      "Processing Images:  64%|██████▍   | 1953/3053 [09:11<09:30,  1.93it/s]"
     ]
    },
    {
     "name": "stdout",
     "output_type": "stream",
     "text": [
      "Processed OCR for image: 2009017909_01\n",
      "Processed OCR for image: 2009017919_01\n"
     ]
    },
    {
     "name": "stderr",
     "output_type": "stream",
     "text": [
      "Processing Images:  64%|██████▍   | 1955/3053 [09:12<10:15,  1.78it/s]"
     ]
    },
    {
     "name": "stdout",
     "output_type": "stream",
     "text": [
      "Processed OCR for image: 2009017957_01\n"
     ]
    },
    {
     "name": "stderr",
     "output_type": "stream",
     "text": [
      "                                                                      \r"
     ]
    },
    {
     "name": "stdout",
     "output_type": "stream",
     "text": [
      "Processed OCR for image: 2009017931_01"
     ]
    },
    {
     "name": "stderr",
     "output_type": "stream",
     "text": [
      "Processing Images:  64%|██████▍   | 1956/3053 [09:13<12:52,  1.42it/s]"
     ]
    },
    {
     "name": "stdout",
     "output_type": "stream",
     "text": [
      "\n"
     ]
    },
    {
     "name": "stderr",
     "output_type": "stream",
     "text": [
      "                                                                      \r"
     ]
    },
    {
     "name": "stdout",
     "output_type": "stream",
     "text": [
      "Processed OCR for image: 2009017991_01\n"
     ]
    },
    {
     "name": "stderr",
     "output_type": "stream",
     "text": [
      "Processing Images:  64%|██████▍   | 1958/3053 [09:14<10:10,  1.79it/s]"
     ]
    },
    {
     "name": "stdout",
     "output_type": "stream",
     "text": [
      "Processed OCR for image: 2009018055_01\n"
     ]
    },
    {
     "name": "stderr",
     "output_type": "stream",
     "text": [
      "                                                                      "
     ]
    },
    {
     "name": "stdout",
     "output_type": "stream",
     "text": [
      "Processed OCR for image: 2009018108_01\n"
     ]
    },
    {
     "name": "stderr",
     "output_type": "stream",
     "text": [
      "Processing Images:  64%|██████▍   | 1960/3053 [09:15<10:30,  1.73it/s]"
     ]
    },
    {
     "name": "stdout",
     "output_type": "stream",
     "text": [
      "Processed OCR for image: 2009018008_01\n"
     ]
    },
    {
     "name": "stderr",
     "output_type": "stream",
     "text": [
      "Processing Images:  64%|██████▍   | 1961/3053 [09:15<08:59,  2.02it/s]"
     ]
    },
    {
     "name": "stdout",
     "output_type": "stream",
     "text": [
      "Processed OCR for image: 2009018204_01\n"
     ]
    },
    {
     "name": "stderr",
     "output_type": "stream",
     "text": [
      "                                                                      \r"
     ]
    },
    {
     "name": "stdout",
     "output_type": "stream",
     "text": [
      "Processed OCR for image: 2009018056_01\n"
     ]
    },
    {
     "name": "stderr",
     "output_type": "stream",
     "text": [
      "Processing Images:  64%|██████▍   | 1963/3053 [09:16<08:28,  2.14it/s]"
     ]
    },
    {
     "name": "stdout",
     "output_type": "stream",
     "text": [
      "Processed OCR for image: 2009018269_01\n"
     ]
    },
    {
     "name": "stderr",
     "output_type": "stream",
     "text": [
      "Processing Images:  64%|██████▍   | 1965/3053 [09:17<06:34,  2.76it/s]"
     ]
    },
    {
     "name": "stdout",
     "output_type": "stream",
     "text": [
      "Processed OCR for image: 2009018365_01\n",
      "Processed OCR for image: 2009018344_01\n"
     ]
    },
    {
     "name": "stderr",
     "output_type": "stream",
     "text": [
      "                                                                      \r"
     ]
    },
    {
     "name": "stdout",
     "output_type": "stream",
     "text": [
      "Processed OCR for image: 2009018431_01\n"
     ]
    },
    {
     "name": "stderr",
     "output_type": "stream",
     "text": [
      "Processing Images:  64%|██████▍   | 1967/3053 [09:18<10:28,  1.73it/s]"
     ]
    },
    {
     "name": "stdout",
     "output_type": "stream",
     "text": [
      "Processed OCR for image: 2009018411_01\n"
     ]
    },
    {
     "name": "stderr",
     "output_type": "stream",
     "text": [
      "                                                                      \r"
     ]
    },
    {
     "name": "stdout",
     "output_type": "stream",
     "text": [
      "Processed OCR for image: 2009018483_01\n"
     ]
    },
    {
     "name": "stderr",
     "output_type": "stream",
     "text": [
      "Processing Images:  64%|██████▍   | 1968/3053 [09:19<11:10,  1.62it/s]"
     ]
    },
    {
     "name": "stdout",
     "output_type": "stream",
     "text": [
      "Processed OCR for image: 2009018481_01\n"
     ]
    },
    {
     "name": "stderr",
     "output_type": "stream",
     "text": [
      "Processing Images:  65%|██████▍   | 1970/3053 [09:20<09:54,  1.82it/s]"
     ]
    },
    {
     "name": "stdout",
     "output_type": "stream",
     "text": [
      "Processed OCR for image: 2009018441_01\n"
     ]
    },
    {
     "name": "stderr",
     "output_type": "stream",
     "text": [
      "Processing Images:  65%|██████▍   | 1971/3053 [09:21<11:58,  1.51it/s]"
     ]
    },
    {
     "name": "stdout",
     "output_type": "stream",
     "text": [
      "Processed OCR for image: 2009018485_01\n"
     ]
    },
    {
     "name": "stderr",
     "output_type": "stream",
     "text": [
      "Processing Images:  65%|██████▍   | 1972/3053 [09:22<12:26,  1.45it/s]"
     ]
    },
    {
     "name": "stdout",
     "output_type": "stream",
     "text": [
      "Processed OCR for image: 2009018497_01\n",
      "Processed OCR for image: 2009018585_01\n"
     ]
    },
    {
     "name": "stderr",
     "output_type": "stream",
     "text": [
      "                                                                      "
     ]
    },
    {
     "name": "stdout",
     "output_type": "stream",
     "text": [
      "Processed OCR for image: 2009018553_01\n",
      "Processed OCR for image: 2009018629_01\n",
      "Processed OCR for image: 2009018654_01\n",
      "Processed OCR for image: 2009018827_01\n",
      "Processed OCR for image: 2009018691_01\n",
      "Processed OCR for image: 2009019026_01\n",
      "Processed OCR for image: 2009019025_01\n",
      "Processed OCR for image: 2009019123_01\n",
      "Processed OCR for image: 2009019167_01\n",
      "Processed OCR for image: 2009019365_01\n",
      "Processed OCR for image: 2009019367_01\n"
     ]
    },
    {
     "name": "stderr",
     "output_type": "stream",
     "text": [
      "Processing Images:  65%|██████▌   | 1985/3053 [09:22<02:07,  8.35it/s]"
     ]
    },
    {
     "name": "stdout",
     "output_type": "stream",
     "text": [
      "Processed OCR for image: 2009019332_01\n"
     ]
    },
    {
     "name": "stderr",
     "output_type": "stream",
     "text": [
      "Processing Images:  65%|██████▌   | 1985/3053 [09:24<02:07,  8.35it/s]"
     ]
    },
    {
     "name": "stdout",
     "output_type": "stream",
     "text": [
      "Processed OCR for image: 2009019389_01\n"
     ]
    },
    {
     "name": "stderr",
     "output_type": "stream",
     "text": [
      "Processing Images:  65%|██████▌   | 1987/3053 [09:24<04:36,  3.86it/s]"
     ]
    },
    {
     "name": "stdout",
     "output_type": "stream",
     "text": [
      "Processed OCR for image: 2009019399_01\n"
     ]
    },
    {
     "name": "stderr",
     "output_type": "stream",
     "text": [
      "                                                                      \r"
     ]
    },
    {
     "name": "stdout",
     "output_type": "stream",
     "text": [
      "Processed OCR for image: 2009019426_01\n"
     ]
    },
    {
     "name": "stderr",
     "output_type": "stream",
     "text": [
      "Processing Images:  65%|██████▌   | 1989/3053 [09:25<05:03,  3.50it/s]"
     ]
    },
    {
     "name": "stdout",
     "output_type": "stream",
     "text": [
      "Processed OCR for image: 2009019410_01\n"
     ]
    },
    {
     "name": "stderr",
     "output_type": "stream",
     "text": [
      "Processing Images:  65%|██████▌   | 1990/3053 [09:25<05:33,  3.19it/s]"
     ]
    },
    {
     "name": "stdout",
     "output_type": "stream",
     "text": [
      "Processed OCR for image: 2009019414_01\n"
     ]
    },
    {
     "name": "stderr",
     "output_type": "stream",
     "text": [
      "Processing Images:  65%|██████▌   | 1995/3053 [09:27<04:45,  3.71it/s]"
     ]
    },
    {
     "name": "stdout",
     "output_type": "stream",
     "text": [
      "Processed OCR for image: 2009019417_01\n",
      "Processed OCR for image: 2009020046_01\n",
      "Processed OCR for image: 2009019842_01\n",
      "Processed OCR for image: 2009019855_01\n",
      "Processed OCR for image: 2009020055_01\n",
      "Processed OCR for image: 2009020062_01\n",
      "Processed OCR for image: 2009020071_01\n",
      "Processed OCR for image: 2009020069_01\n",
      "Processed OCR for image: 2009020093_01\n",
      "Processed OCR for image: 2009020100_01\n",
      "Processed OCR for image: 2009020119_01\n",
      "Processed OCR for image: 2009020098_01\n"
     ]
    },
    {
     "name": "stderr",
     "output_type": "stream",
     "text": [
      "Processing Images:  66%|██████▌   | 2003/3053 [09:27<02:24,  7.28it/s]"
     ]
    },
    {
     "name": "stdout",
     "output_type": "stream",
     "text": [
      "Processed OCR for image: 2009020104_01\n",
      "Processed OCR for image: 2009020193_01\n"
     ]
    },
    {
     "name": "stderr",
     "output_type": "stream",
     "text": [
      "Processing Images:  66%|██████▌   | 2005/3053 [09:28<02:18,  7.57it/s]"
     ]
    },
    {
     "name": "stdout",
     "output_type": "stream",
     "text": [
      "Processed OCR for image: 2009020337_01\n",
      "Processed OCR for image: 2009020340_01\n",
      "Processed OCR for image: 2009020345_01\n",
      "Processed OCR for image: 2009020348_01\n",
      "Processed OCR for image: 2009020353_01\n",
      "Processed OCR for image: 2009020358_01\n",
      "Processed OCR for image: 2009020379_01\n",
      "Processed OCR for image: 2009020351_01\n",
      "Processed OCR for image: 2009020374_01\n",
      "Processed OCR for image: 2009020383_01\n",
      "Processed OCR for image: 2009020382_01\n",
      "Processed OCR for image: 2009020387_01\n",
      "Processed OCR for image: 2009020394_01\n"
     ]
    },
    {
     "name": "stderr",
     "output_type": "stream",
     "text": [
      "Processing Images:  66%|██████▌   | 2018/3053 [09:28<01:43, 10.01it/s]"
     ]
    },
    {
     "name": "stdout",
     "output_type": "stream",
     "text": [
      "Processed OCR for image: 2009020402_01\n"
     ]
    },
    {
     "name": "stderr",
     "output_type": "stream",
     "text": [
      "                                                                      "
     ]
    },
    {
     "name": "stdout",
     "output_type": "stream",
     "text": [
      "Processed OCR for image: 2009020404_01\n"
     ]
    },
    {
     "name": "stderr",
     "output_type": "stream",
     "text": [
      "                                                                      "
     ]
    },
    {
     "name": "stdout",
     "output_type": "stream",
     "text": [
      "Processed OCR for image: 2009020406_01\n"
     ]
    },
    {
     "name": "stderr",
     "output_type": "stream",
     "text": [
      "                                                                      \r"
     ]
    },
    {
     "name": "stdout",
     "output_type": "stream",
     "text": [
      "Processed OCR for image: 2009020410_01\n"
     ]
    },
    {
     "name": "stderr",
     "output_type": "stream",
     "text": [
      "Processing Images:  66%|██████▌   | 2022/3053 [09:30<03:13,  5.34it/s]"
     ]
    },
    {
     "name": "stdout",
     "output_type": "stream",
     "text": [
      "Processed OCR for image: 2009020425_01\n"
     ]
    },
    {
     "name": "stderr",
     "output_type": "stream",
     "text": [
      "                                                                      "
     ]
    },
    {
     "name": "stdout",
     "output_type": "stream",
     "text": [
      "Processed OCR for image: 2009020415_01\n"
     ]
    },
    {
     "name": "stderr",
     "output_type": "stream",
     "text": [
      "Processing Images:  66%|██████▋   | 2024/3053 [09:32<05:09,  3.33it/s]"
     ]
    },
    {
     "name": "stdout",
     "output_type": "stream",
     "text": [
      "Processed OCR for image: 2009020433_01\n",
      "Processed OCR for image: 2009020411_01\n"
     ]
    },
    {
     "name": "stderr",
     "output_type": "stream",
     "text": [
      "Processing Images:  66%|██████▋   | 2026/3053 [09:33<06:30,  2.63it/s]"
     ]
    },
    {
     "name": "stdout",
     "output_type": "stream",
     "text": [
      "Processed OCR for image: 2009020441_01\n"
     ]
    },
    {
     "name": "stderr",
     "output_type": "stream",
     "text": [
      "Processing Images:  66%|██████▋   | 2028/3053 [09:33<06:23,  2.67it/s]"
     ]
    },
    {
     "name": "stdout",
     "output_type": "stream",
     "text": [
      "Processed OCR for image: 2009020446_01\n",
      "Processed OCR for image: 2009020597_01\n"
     ]
    },
    {
     "name": "stderr",
     "output_type": "stream",
     "text": [
      "Processing Images:  66%|██████▋   | 2029/3053 [09:34<07:48,  2.19it/s]"
     ]
    },
    {
     "name": "stdout",
     "output_type": "stream",
     "text": [
      "Processed OCR for image: 2009020924_01\n"
     ]
    },
    {
     "name": "stderr",
     "output_type": "stream",
     "text": [
      "Processing Images:  66%|██████▋   | 2030/3053 [09:35<10:19,  1.65it/s]"
     ]
    },
    {
     "name": "stdout",
     "output_type": "stream",
     "text": [
      "Processed OCR for image: 2009020769_01\n"
     ]
    },
    {
     "name": "stderr",
     "output_type": "stream",
     "text": [
      "                                                                      "
     ]
    },
    {
     "name": "stdout",
     "output_type": "stream",
     "text": [
      "Processed OCR for image: 2009020796_01\n",
      "Processed OCR for image: 2009021025_01\n",
      "Processed OCR for image: 2009021125_01\n",
      "Processed OCR for image: 2009021423_01\n",
      "Processed OCR for image: 2009021419_01\n",
      "Processed OCR for image: 2009021576_01\n",
      "Processed OCR for image: 2009021424_01\n",
      "Processed OCR for image: 2009021664_01\n",
      "Processed OCR for image: 2009021705_01\n",
      "Processed OCR for image: 2009021836_01\n",
      "Processed OCR for image: 2009021790_01\n",
      "Processed OCR for image: 2009021798_01\n",
      "Processed OCR for image: 2009021720_01\n",
      "Processed OCR for image: 2009021884_01\n",
      "Processed OCR for image: 2009022081_01\n",
      "Processed OCR for image: 2009021962_01\n"
     ]
    },
    {
     "name": "stderr",
     "output_type": "stream",
     "text": [
      "Processing Images:  67%|██████▋   | 2054/3053 [09:36<00:47, 21.12it/s]"
     ]
    },
    {
     "name": "stdout",
     "output_type": "stream",
     "text": [
      "Processed OCR for image: 2009022107_01\n",
      "Processed OCR for image: 2009022266_01\n",
      "Processed OCR for image: 2009022676_01\n",
      "Processed OCR for image: 2009022837_01\n",
      "Processed OCR for image: 2009022604_01\n",
      "Processed OCR for image: 2009022838_01\n",
      "Processed OCR for image: 2009022839_01\n",
      "Processed OCR for image: 2009022834_01\n",
      "Processed OCR for image: 2009022842_01\n",
      "Processed OCR for image: 2009022843_01\n"
     ]
    },
    {
     "name": "stderr",
     "output_type": "stream",
     "text": [
      "Processing Images:  67%|██████▋   | 2054/3053 [09:37<00:47, 21.12it/s]"
     ]
    },
    {
     "name": "stdout",
     "output_type": "stream",
     "text": [
      "Processed OCR for image: 2009022875_01\n"
     ]
    },
    {
     "name": "stderr",
     "output_type": "stream",
     "text": [
      "Processing Images:  68%|██████▊   | 2061/3053 [09:38<01:58,  8.39it/s]"
     ]
    },
    {
     "name": "stdout",
     "output_type": "stream",
     "text": [
      "Processed OCR for image: 2009022853_01\n",
      "Processed OCR for image: 2009022937_01\n",
      "Processed OCR for image: 2009023182_01\n",
      "Processed OCR for image: 2009023180_01\n",
      "Processed OCR for image: 2009022878_01\n",
      "Processed OCR for image: 2009022876_01\n",
      "Processed OCR for image: 2009023236_01\n"
     ]
    },
    {
     "name": "stderr",
     "output_type": "stream",
     "text": [
      "                                                                      "
     ]
    },
    {
     "name": "stdout",
     "output_type": "stream",
     "text": [
      "Processed OCR for image: 2009023249_01\n"
     ]
    },
    {
     "name": "stderr",
     "output_type": "stream",
     "text": [
      "Processing Images:  68%|██████▊   | 2066/3053 [09:40<03:03,  5.39it/s]"
     ]
    },
    {
     "name": "stdout",
     "output_type": "stream",
     "text": [
      "Processed OCR for image: 2009023268_01\n"
     ]
    },
    {
     "name": "stderr",
     "output_type": "stream",
     "text": [
      "Processing Images:  68%|██████▊   | 2070/3053 [09:41<03:28,  4.71it/s]"
     ]
    },
    {
     "name": "stdout",
     "output_type": "stream",
     "text": [
      "Processed OCR for image: 2009023285_01\n",
      "Processed OCR for image: 2009023367_01\n",
      "Processed OCR for image: 2009023289_01\n",
      "Processed OCR for image: 2009023665_01\n",
      "Processed OCR for image: 2009023669_01\n",
      "Processed OCR for image: 2009023438_01\n",
      "Processed OCR for image: 2009023699_01\n",
      "Processed OCR for image: 2009023319_01\n",
      "Processed OCR for image: 2009023827_01\n"
     ]
    },
    {
     "name": "stderr",
     "output_type": "stream",
     "text": [
      "                                                                      "
     ]
    },
    {
     "name": "stdout",
     "output_type": "stream",
     "text": [
      "Processed OCR for image: 2009023762_01\n"
     ]
    },
    {
     "name": "stderr",
     "output_type": "stream",
     "text": [
      "Processing Images:  68%|██████▊   | 2078/3053 [09:43<03:52,  4.19it/s]"
     ]
    },
    {
     "name": "stdout",
     "output_type": "stream",
     "text": [
      "Processed OCR for image: 2009023850_01\n",
      "Processed OCR for image: 2009023988_01\n",
      "Processed OCR for image: 2009023966_01\n",
      "Processed OCR for image: 2009023761_01\n",
      "Processed OCR for image: 2009024148_01\n",
      "Processed OCR for image: 2009024227_01\n",
      "Processed OCR for image: 2009024063_01\n"
     ]
    },
    {
     "name": "stderr",
     "output_type": "stream",
     "text": [
      "Processing Images:  68%|██████▊   | 2084/3053 [09:43<02:51,  5.64it/s]"
     ]
    },
    {
     "name": "stdout",
     "output_type": "stream",
     "text": [
      "Processed OCR for image: 2009024280_01\n"
     ]
    },
    {
     "name": "stderr",
     "output_type": "stream",
     "text": [
      "Processing Images:  68%|██████▊   | 2084/3053 [09:44<02:51,  5.64it/s]"
     ]
    },
    {
     "name": "stdout",
     "output_type": "stream",
     "text": [
      "Processed OCR for image: 2009024273_01\n"
     ]
    },
    {
     "name": "stderr",
     "output_type": "stream",
     "text": [
      "Processing Images:  68%|██████▊   | 2086/3053 [09:45<03:54,  4.12it/s]"
     ]
    },
    {
     "name": "stdout",
     "output_type": "stream",
     "text": [
      "Processed OCR for image: 2009024307_01\n"
     ]
    },
    {
     "name": "stderr",
     "output_type": "stream",
     "text": [
      "Processing Images:  68%|██████▊   | 2086/3053 [09:45<03:54,  4.12it/s]"
     ]
    },
    {
     "name": "stdout",
     "output_type": "stream",
     "text": [
      "Processed OCR for image: 2009024503_01\n",
      "Processed OCR for image: 2009024475_01\n"
     ]
    },
    {
     "name": "stderr",
     "output_type": "stream",
     "text": [
      "Processing Images:  68%|██████▊   | 2089/3053 [09:46<05:11,  3.09it/s]"
     ]
    },
    {
     "name": "stdout",
     "output_type": "stream",
     "text": [
      "Processed OCR for image: 2009024535_01\n",
      "Processed OCR for image: 2009024540_01\n"
     ]
    },
    {
     "name": "stderr",
     "output_type": "stream",
     "text": [
      "Processing Images:  68%|██████▊   | 2091/3053 [09:47<05:59,  2.68it/s]"
     ]
    },
    {
     "name": "stdout",
     "output_type": "stream",
     "text": [
      "Processed OCR for image: 2009024534_01\n"
     ]
    },
    {
     "name": "stderr",
     "output_type": "stream",
     "text": [
      "Processing Images:  69%|██████▊   | 2092/3053 [09:48<07:03,  2.27it/s]"
     ]
    },
    {
     "name": "stdout",
     "output_type": "stream",
     "text": [
      "Processed OCR for image: 2009024536_01\n"
     ]
    },
    {
     "name": "stderr",
     "output_type": "stream",
     "text": [
      "Processing Images:  69%|██████▊   | 2093/3053 [09:49<07:42,  2.08it/s]"
     ]
    },
    {
     "name": "stdout",
     "output_type": "stream",
     "text": [
      "Processed OCR for image: 2009024559_01\n",
      "Processed OCR for image: 2009024725_01\n"
     ]
    },
    {
     "name": "stderr",
     "output_type": "stream",
     "text": [
      "Processing Images:  69%|██████▊   | 2095/3053 [09:53<20:04,  1.26s/it]"
     ]
    },
    {
     "name": "stdout",
     "output_type": "stream",
     "text": [
      "Processed OCR for image: 2009024809_01\n"
     ]
    },
    {
     "name": "stderr",
     "output_type": "stream",
     "text": [
      "Processing Images:  69%|██████▊   | 2097/3053 [09:53<12:26,  1.28it/s]"
     ]
    },
    {
     "name": "stdout",
     "output_type": "stream",
     "text": [
      "Processed OCR for image: 2009024817_01\n",
      "Processed OCR for image: 2009024818_01\n"
     ]
    },
    {
     "name": "stderr",
     "output_type": "stream",
     "text": [
      "Processing Images:  69%|██████▉   | 2110/3053 [09:53<02:07,  7.40it/s]"
     ]
    },
    {
     "name": "stdout",
     "output_type": "stream",
     "text": [
      "Processed OCR for image: 2009024824_01\n",
      "Processed OCR for image: 2009024831_01\n",
      "Processed OCR for image: 2009024957_01\n",
      "Processed OCR for image: 2009024958_01\n",
      "Processed OCR for image: 2009024856_01\n",
      "Processed OCR for image: 2009024960_01\n",
      "Processed OCR for image: 2009025121_01\n",
      "Processed OCR for image: 2009024986_01\n",
      "Processed OCR for image: 2009025338_01\n",
      "Processed OCR for image: 2009025332_01\n",
      "Processed OCR for image: 2009026367_01\n",
      "Processed OCR for image: 2009026308_01\n",
      "Processed OCR for image: 2009025232_01\n",
      "Processed OCR for image: 2009025130_01\n"
     ]
    },
    {
     "name": "stderr",
     "output_type": "stream",
     "text": [
      "Processing Images:  69%|██████▉   | 2110/3053 [09:55<02:07,  7.40it/s]"
     ]
    },
    {
     "name": "stdout",
     "output_type": "stream",
     "text": [
      "Processed OCR for image: 2009026523_01\n",
      "Processed OCR for image: 2009026391_01\n"
     ]
    },
    {
     "name": "stderr",
     "output_type": "stream",
     "text": [
      "Processing Images:  69%|██████▉   | 2115/3053 [09:56<03:53,  4.01it/s]"
     ]
    },
    {
     "name": "stdout",
     "output_type": "stream",
     "text": [
      "Processed OCR for image: 2009026553_01\n",
      "Processed OCR for image: 2009026527_01\n",
      "Processed OCR for image: 2009026879_01\n",
      "Processed OCR for image: 2009026499_01\n",
      "Processed OCR for image: 2009026551_01\n",
      "Processed OCR for image: 2009026682_01\n"
     ]
    },
    {
     "name": "stderr",
     "output_type": "stream",
     "text": [
      "                                                                      \r"
     ]
    },
    {
     "name": "stdout",
     "output_type": "stream",
     "text": [
      "Processed OCR for image: 2009027040_01\n",
      "Processed OCR for image: 2009027259_01\n"
     ]
    },
    {
     "name": "stderr",
     "output_type": "stream",
     "text": [
      "Processing Images:  70%|██████▉   | 2123/3053 [09:58<04:17,  3.61it/s]"
     ]
    },
    {
     "name": "stdout",
     "output_type": "stream",
     "text": [
      "Processed OCR for image: 2009027284_01\n",
      "Processed OCR for image: 2009027355_01\n",
      "Processed OCR for image: 2009027369_01\n",
      "Processed OCR for image: 2009027286_01\n",
      "Processed OCR for image: 2009027580_01\n",
      "Processed OCR for image: 2009027257_01\n",
      "Processed OCR for image: 2009027582_01\n"
     ]
    },
    {
     "name": "stderr",
     "output_type": "stream",
     "text": [
      "Processing Images:  70%|██████▉   | 2123/3053 [09:59<04:17,  3.61it/s]"
     ]
    },
    {
     "name": "stdout",
     "output_type": "stream",
     "text": [
      "Processed OCR for image: 2009027684_01\n"
     ]
    },
    {
     "name": "stderr",
     "output_type": "stream",
     "text": [
      "                                                                      \r"
     ]
    },
    {
     "name": "stdout",
     "output_type": "stream",
     "text": [
      "Processed OCR for image: 2009027599_01\n"
     ]
    },
    {
     "name": "stderr",
     "output_type": "stream",
     "text": [
      "                                                                      "
     ]
    },
    {
     "name": "stdout",
     "output_type": "stream",
     "text": [
      "Processed OCR for image: 2009028461_01\n"
     ]
    },
    {
     "name": "stderr",
     "output_type": "stream",
     "text": [
      "Processing Images:  70%|██████▉   | 2132/3053 [10:02<05:04,  3.03it/s]"
     ]
    },
    {
     "name": "stdout",
     "output_type": "stream",
     "text": [
      "Processed OCR for image: 2009028573_01\n",
      "Processed OCR for image: 2009028571_01\n",
      "Processed OCR for image: 2009028457_01\n",
      "Processed OCR for image: 2009028433_01\n",
      "Processed OCR for image: 2009028569_01\n",
      "Processed OCR for image: 2009028574_01\n",
      "Processed OCR for image: 2009028589_01\n",
      "Processed OCR for image: 2009028595_01\n"
     ]
    },
    {
     "name": "stderr",
     "output_type": "stream",
     "text": [
      "Processing Images:  70%|███████   | 2140/3053 [10:02<02:41,  5.65it/s]"
     ]
    },
    {
     "name": "stdout",
     "output_type": "stream",
     "text": [
      "Processed OCR for image: 2009028597_01\n"
     ]
    },
    {
     "name": "stderr",
     "output_type": "stream",
     "text": [
      "Processing Images:  70%|███████   | 2140/3053 [10:03<02:41,  5.65it/s]"
     ]
    },
    {
     "name": "stdout",
     "output_type": "stream",
     "text": [
      "Processed OCR for image: 2009029169_01\n"
     ]
    },
    {
     "name": "stderr",
     "output_type": "stream",
     "text": [
      "                                                                      \r"
     ]
    },
    {
     "name": "stdout",
     "output_type": "stream",
     "text": [
      "Processed OCR for image: 2009028656_01\n"
     ]
    },
    {
     "name": "stderr",
     "output_type": "stream",
     "text": [
      "Processing Images:  70%|███████   | 2143/3053 [10:05<05:03,  3.00it/s]"
     ]
    },
    {
     "name": "stdout",
     "output_type": "stream",
     "text": [
      "Processed OCR for image: 2009029189_01\n"
     ]
    },
    {
     "name": "stderr",
     "output_type": "stream",
     "text": [
      "Processing Images:  70%|███████   | 2144/3053 [10:05<05:05,  2.98it/s]"
     ]
    },
    {
     "name": "stdout",
     "output_type": "stream",
     "text": [
      "Processed OCR for image: 2009029046_01\n"
     ]
    },
    {
     "name": "stderr",
     "output_type": "stream",
     "text": [
      "Processing Images:  70%|███████   | 2145/3053 [10:05<05:26,  2.78it/s]"
     ]
    },
    {
     "name": "stdout",
     "output_type": "stream",
     "text": [
      "Processed OCR for image: 2009029229_01\n"
     ]
    },
    {
     "name": "stderr",
     "output_type": "stream",
     "text": [
      "                                                                      "
     ]
    },
    {
     "name": "stdout",
     "output_type": "stream",
     "text": [
      "Processed OCR for image: 2009029175_01\n"
     ]
    },
    {
     "name": "stderr",
     "output_type": "stream",
     "text": [
      "Processing Images:  70%|███████   | 2147/3053 [10:07<06:51,  2.20it/s]"
     ]
    },
    {
     "name": "stdout",
     "output_type": "stream",
     "text": [
      "Processed OCR for image: 2009029308_01\n",
      "Processed OCR for image: 2009029231_01\n"
     ]
    },
    {
     "name": "stderr",
     "output_type": "stream",
     "text": [
      "                                                                      \r"
     ]
    },
    {
     "name": "stdout",
     "output_type": "stream",
     "text": [
      "Processed OCR for image: 2009029535_01\n",
      "Processed OCR for image: 2009029526_01\n"
     ]
    },
    {
     "name": "stderr",
     "output_type": "stream",
     "text": [
      "                                                                      "
     ]
    },
    {
     "name": "stdout",
     "output_type": "stream",
     "text": [
      "Processed OCR for image: 2009029964_01\n"
     ]
    },
    {
     "name": "stderr",
     "output_type": "stream",
     "text": [
      "                                                                      "
     ]
    },
    {
     "name": "stdout",
     "output_type": "stream",
     "text": [
      "Processed OCR for image: 2009029739_01\n"
     ]
    },
    {
     "name": "stderr",
     "output_type": "stream",
     "text": [
      "Processing Images:  71%|███████   | 2153/3053 [10:09<07:13,  2.08it/s]"
     ]
    },
    {
     "name": "stdout",
     "output_type": "stream",
     "text": [
      "Processed OCR for image: 2009030673_01\n"
     ]
    },
    {
     "name": "stderr",
     "output_type": "stream",
     "text": [
      "Processing Images:  71%|███████   | 2154/3053 [10:10<06:52,  2.18it/s]"
     ]
    },
    {
     "name": "stdout",
     "output_type": "stream",
     "text": [
      "Processed OCR for image: 2009031137_01\n",
      "Processed OCR for image: 2009031081_01\n"
     ]
    },
    {
     "name": "stderr",
     "output_type": "stream",
     "text": [
      "Processing Images:  71%|███████   | 2157/3053 [10:10<04:40,  3.19it/s]"
     ]
    },
    {
     "name": "stdout",
     "output_type": "stream",
     "text": [
      "Processed OCR for image: 2009030567_01\n",
      "Processed OCR for image: 2009031074_01\n"
     ]
    },
    {
     "name": "stderr",
     "output_type": "stream",
     "text": [
      "Processing Images:  71%|███████   | 2157/3053 [10:11<04:40,  3.19it/s]"
     ]
    },
    {
     "name": "stdout",
     "output_type": "stream",
     "text": [
      "Processed OCR for image: 2009031186_01\n"
     ]
    },
    {
     "name": "stderr",
     "output_type": "stream",
     "text": [
      "Processing Images:  71%|███████   | 2159/3053 [10:12<08:55,  1.67it/s]"
     ]
    },
    {
     "name": "stdout",
     "output_type": "stream",
     "text": [
      "Processed OCR for image: 2009031235_01\n"
     ]
    },
    {
     "name": "stderr",
     "output_type": "stream",
     "text": [
      "Processing Images:  71%|███████   | 2160/3053 [10:13<09:36,  1.55it/s]"
     ]
    },
    {
     "name": "stdout",
     "output_type": "stream",
     "text": [
      "Processed OCR for image: 2009031239_01\n"
     ]
    },
    {
     "name": "stderr",
     "output_type": "stream",
     "text": [
      "                                                                      "
     ]
    },
    {
     "name": "stdout",
     "output_type": "stream",
     "text": [
      "Processed OCR for image: 2009031270_01\n"
     ]
    },
    {
     "name": "stderr",
     "output_type": "stream",
     "text": [
      "Processing Images:  71%|███████   | 2161/3053 [10:13<08:06,  1.83it/s]"
     ]
    },
    {
     "name": "stdout",
     "output_type": "stream",
     "text": [
      "Processed OCR for image: 2009031274_01\n"
     ]
    },
    {
     "name": "stderr",
     "output_type": "stream",
     "text": [
      "Processing Images:  71%|███████   | 2163/3053 [10:14<09:02,  1.64it/s]"
     ]
    },
    {
     "name": "stdout",
     "output_type": "stream",
     "text": [
      "Processed OCR for image: 2009031284_01\n"
     ]
    },
    {
     "name": "stderr",
     "output_type": "stream",
     "text": [
      "Processing Images:  71%|███████   | 2164/3053 [10:15<09:32,  1.55it/s]"
     ]
    },
    {
     "name": "stdout",
     "output_type": "stream",
     "text": [
      "Processed OCR for image: 2009031339_01\n"
     ]
    },
    {
     "name": "stderr",
     "output_type": "stream",
     "text": [
      "                                                                      "
     ]
    },
    {
     "name": "stdout",
     "output_type": "stream",
     "text": [
      "Processed OCR for image: 2009031381_01\n"
     ]
    },
    {
     "name": "stderr",
     "output_type": "stream",
     "text": [
      "                                                                      "
     ]
    },
    {
     "name": "stdout",
     "output_type": "stream",
     "text": [
      "Processed OCR for image: 2009031612_01\n"
     ]
    },
    {
     "name": "stderr",
     "output_type": "stream",
     "text": [
      "Processing Images:  71%|███████   | 2167/3053 [10:17<08:21,  1.77it/s]"
     ]
    },
    {
     "name": "stdout",
     "output_type": "stream",
     "text": [
      "Processed OCR for image: 2009031619_01\n",
      "Processed OCR for image: 2009031620_01\n"
     ]
    },
    {
     "name": "stderr",
     "output_type": "stream",
     "text": [
      "Processing Images:  71%|███████   | 2169/3053 [10:18<08:13,  1.79it/s]"
     ]
    },
    {
     "name": "stdout",
     "output_type": "stream",
     "text": [
      "Processed OCR for image: 2009031623_01\n",
      "Processed OCR for image: 2009031638_01\n"
     ]
    },
    {
     "name": "stderr",
     "output_type": "stream",
     "text": [
      "                                                                      \r"
     ]
    },
    {
     "name": "stdout",
     "output_type": "stream",
     "text": [
      "Processed OCR for image: 2009031624_01\n"
     ]
    },
    {
     "name": "stderr",
     "output_type": "stream",
     "text": [
      "Processing Images:  71%|███████   | 2172/3053 [10:19<07:35,  1.93it/s]"
     ]
    },
    {
     "name": "stdout",
     "output_type": "stream",
     "text": [
      "Processed OCR for image: 2009031721_01\n"
     ]
    },
    {
     "name": "stderr",
     "output_type": "stream",
     "text": [
      "                                                                      \r"
     ]
    },
    {
     "name": "stdout",
     "output_type": "stream",
     "text": [
      "Processed OCR for image: 2009031930_01\n"
     ]
    },
    {
     "name": "stderr",
     "output_type": "stream",
     "text": [
      "Processing Images:  71%|███████   | 2174/3053 [10:20<08:43,  1.68it/s]"
     ]
    },
    {
     "name": "stdout",
     "output_type": "stream",
     "text": [
      "Processed OCR for image: 2009032216_01\n"
     ]
    },
    {
     "name": "stderr",
     "output_type": "stream",
     "text": [
      "                                                                      \r"
     ]
    },
    {
     "name": "stdout",
     "output_type": "stream",
     "text": [
      "Processed OCR for image: 2009031995_01\n",
      "Processed OCR for image: 2009032243_01\n",
      "Processed OCR for image: 2009032263_01\n",
      "Processed OCR for image: 2009032246_01\n",
      "Processed OCR for image: 2009032636_01\n",
      "Processed OCR for image: 2009032618_01\n",
      "Processed OCR for image: 2009032265_01\n",
      "Processed OCR for image: 2009032817_01\n",
      "Processed OCR for image: 2009032928_01\n",
      "Processed OCR for image: 2009032940_01\n",
      "Processed OCR for image: 2009032865_01\n"
     ]
    },
    {
     "name": "stderr",
     "output_type": "stream",
     "text": [
      "                                                                      \r"
     ]
    },
    {
     "name": "stdout",
     "output_type": "stream",
     "text": [
      "Processed OCR for image: 2009032932_01\n",
      "Processed OCR for image: 2009033046_01\n",
      "Processed OCR for image: 2009033054_01\n"
     ]
    },
    {
     "name": "stderr",
     "output_type": "stream",
     "text": [
      "Processing Images:  72%|███████▏  | 2189/3053 [10:21<01:35,  9.05it/s]"
     ]
    },
    {
     "name": "stdout",
     "output_type": "stream",
     "text": [
      "Processed OCR for image: 2009032956_01\n"
     ]
    },
    {
     "name": "stderr",
     "output_type": "stream",
     "text": [
      "                                                                      \r"
     ]
    },
    {
     "name": "stdout",
     "output_type": "stream",
     "text": [
      "Processed OCR for image: 2009033142_01\n"
     ]
    },
    {
     "name": "stderr",
     "output_type": "stream",
     "text": [
      "Processing Images:  72%|███████▏  | 2191/3053 [10:22<02:47,  5.13it/s]"
     ]
    },
    {
     "name": "stdout",
     "output_type": "stream",
     "text": [
      "Processed OCR for image: 2009033059_01\n"
     ]
    },
    {
     "name": "stderr",
     "output_type": "stream",
     "text": [
      "Processing Images:  72%|███████▏  | 2192/3053 [10:23<03:28,  4.12it/s]"
     ]
    },
    {
     "name": "stdout",
     "output_type": "stream",
     "text": [
      "Processed OCR for image: 2009033123_01\n",
      "Processed OCR for image: 2009033297_01\n"
     ]
    },
    {
     "name": "stderr",
     "output_type": "stream",
     "text": [
      "Processing Images:  72%|███████▏  | 2194/3053 [10:24<03:46,  3.80it/s]"
     ]
    },
    {
     "name": "stdout",
     "output_type": "stream",
     "text": [
      "Processed OCR for image: 2009033193_01\n",
      "Processed OCR for image: 2009033501_01\n",
      "Processed OCR for image: 2009033391_01\n"
     ]
    },
    {
     "name": "stderr",
     "output_type": "stream",
     "text": [
      "Processing Images:  72%|███████▏  | 2197/3053 [10:24<03:51,  3.70it/s]"
     ]
    },
    {
     "name": "stdout",
     "output_type": "stream",
     "text": [
      "Processed OCR for image: 2009033522_01\n"
     ]
    },
    {
     "name": "stderr",
     "output_type": "stream",
     "text": [
      "Processing Images:  72%|███████▏  | 2198/3053 [10:26<06:52,  2.07it/s]"
     ]
    },
    {
     "name": "stdout",
     "output_type": "stream",
     "text": [
      "Processed OCR for image: 2009033525_01\n",
      "Processed OCR for image: 2009033317_01\n"
     ]
    },
    {
     "name": "stderr",
     "output_type": "stream",
     "text": [
      "Processing Images:  72%|███████▏  | 2200/3053 [10:27<06:53,  2.06it/s]"
     ]
    },
    {
     "name": "stdout",
     "output_type": "stream",
     "text": [
      "Processed OCR for image: 2009033594_01\n"
     ]
    },
    {
     "name": "stderr",
     "output_type": "stream",
     "text": [
      "Processing Images:  72%|███████▏  | 2201/3053 [10:27<07:30,  1.89it/s]"
     ]
    },
    {
     "name": "stdout",
     "output_type": "stream",
     "text": [
      "Processed OCR for image: 2009033528_01\n",
      "Processed OCR for image: 2009033524_01\n"
     ]
    },
    {
     "name": "stderr",
     "output_type": "stream",
     "text": [
      "Processing Images:  72%|███████▏  | 2203/3053 [10:28<06:04,  2.33it/s]"
     ]
    },
    {
     "name": "stdout",
     "output_type": "stream",
     "text": [
      "Processed OCR for image: 2009033620_01\n"
     ]
    },
    {
     "name": "stderr",
     "output_type": "stream",
     "text": [
      "Processing Images:  72%|███████▏  | 2204/3053 [10:28<05:58,  2.37it/s]"
     ]
    },
    {
     "name": "stdout",
     "output_type": "stream",
     "text": [
      "Processed OCR for image: 2009033623_01\n"
     ]
    },
    {
     "name": "stderr",
     "output_type": "stream",
     "text": [
      "Processing Images:  72%|███████▏  | 2205/3053 [10:29<06:28,  2.18it/s]"
     ]
    },
    {
     "name": "stdout",
     "output_type": "stream",
     "text": [
      "Processed OCR for image: 2009033684_01\n"
     ]
    },
    {
     "name": "stderr",
     "output_type": "stream",
     "text": [
      "Processing Images:  72%|███████▏  | 2206/3053 [10:30<07:58,  1.77it/s]"
     ]
    },
    {
     "name": "stdout",
     "output_type": "stream",
     "text": [
      "Processed OCR for image: 2009033702_01\n"
     ]
    },
    {
     "name": "stderr",
     "output_type": "stream",
     "text": [
      "Processing Images:  72%|███████▏  | 2207/3053 [10:30<08:03,  1.75it/s]"
     ]
    },
    {
     "name": "stdout",
     "output_type": "stream",
     "text": [
      "Processed OCR for image: 2009033713_01\n"
     ]
    },
    {
     "name": "stderr",
     "output_type": "stream",
     "text": [
      "                                                                      \r"
     ]
    },
    {
     "name": "stdout",
     "output_type": "stream",
     "text": [
      "Processed OCR for image: 2009033622_01\n",
      "Processed OCR for image: 2009033807_01\n",
      "Processed OCR for image: 2009033754_01\n",
      "Processed OCR for image: 2009033833_01\n",
      "Processed OCR for image: 2009033836_01\n",
      "Processed OCR for image: 2009033845_01\n",
      "Processed OCR for image: 2009033974_01\n",
      "Processed OCR for image: 2009033972_01\n",
      "Processed OCR for image: 2009034003_01\n",
      "Processed OCR for image: 2009033876_01\n",
      "Processed OCR for image: 2009033851_01\n",
      "Processed OCR for image: 2009034017_01\n",
      "Processed OCR for image: 2009034019_01\n",
      "Processed OCR for image: 2009034234_01\n",
      "Processed OCR for image: 2009034255_01\n",
      "Processed OCR for image: 2009034363_01\n",
      "Processed OCR for image: 2009034427_01\n",
      "Processed OCR for image: 2009034572_01\n",
      "Processed OCR for image: 2009034498_01\n",
      "Processed OCR for image: 2009034960_01\n",
      "Processed OCR for image: 2009034972_01\n"
     ]
    },
    {
     "name": "stderr",
     "output_type": "stream",
     "text": [
      "Processing Images:  73%|███████▎  | 2229/3053 [10:31<00:42, 19.18it/s]"
     ]
    },
    {
     "name": "stdout",
     "output_type": "stream",
     "text": [
      "Processed OCR for image: 2009035115_01\n",
      "Processed OCR for image: 2009035125_01\n",
      "Processed OCR for image: 2009035193_01\n",
      "Processed OCR for image: 2009035200_01\n"
     ]
    },
    {
     "name": "stderr",
     "output_type": "stream",
     "text": [
      "Processing Images:  73%|███████▎  | 2229/3053 [10:31<00:42, 19.18it/s]"
     ]
    },
    {
     "name": "stdout",
     "output_type": "stream",
     "text": [
      "Processed OCR for image: 2009035416_01\n"
     ]
    },
    {
     "name": "stderr",
     "output_type": "stream",
     "text": [
      "Processing Images:  73%|███████▎  | 2234/3053 [10:32<01:17, 10.56it/s]"
     ]
    },
    {
     "name": "stdout",
     "output_type": "stream",
     "text": [
      "Processed OCR for image: 2009035370_01\n"
     ]
    },
    {
     "name": "stderr",
     "output_type": "stream",
     "text": [
      "Processing Images:  73%|███████▎  | 2234/3053 [10:33<01:17, 10.56it/s]"
     ]
    },
    {
     "name": "stdout",
     "output_type": "stream",
     "text": [
      "Processed OCR for image: 2009035428_01\n",
      "Processed OCR for image: 2009035455_01\n",
      "Processed OCR for image: 2009035433_01\n"
     ]
    },
    {
     "name": "stderr",
     "output_type": "stream",
     "text": [
      "Processing Images:  73%|███████▎  | 2238/3053 [10:33<02:00,  6.78it/s]"
     ]
    },
    {
     "name": "stdout",
     "output_type": "stream",
     "text": [
      "Processed OCR for image: 2009035468_01\n",
      "Processed OCR for image: 2009035497_01\n",
      "Processed OCR for image: 2009035567_01\n",
      "Processed OCR for image: 2009035606_01\n",
      "Processed OCR for image: 2009035574_01\n",
      "Processed OCR for image: 2009035612_01\n",
      "Processed OCR for image: 2009035619_01\n",
      "Processed OCR for image: 2009035617_01\n",
      "Processed OCR for image: 2009035848_01\n",
      "Processed OCR for image: 2009036534_01\n",
      "Processed OCR for image: 2009037031_01\n",
      "Processed OCR for image: 2009036926_01\n",
      "Processed OCR for image: 2009037068_01\n",
      "Processed OCR for image: 2009037489_01\n",
      "Processed OCR for image: 2009037478_01\n",
      "Processed OCR for image: 2009037330_01\n",
      "Processed OCR for image: 2009037146_01\n",
      "Processed OCR for image: 2009037882_01\n",
      "Processed OCR for image: 2009037904_01\n"
     ]
    },
    {
     "name": "stderr",
     "output_type": "stream",
     "text": [
      "Processing Images:  74%|███████▍  | 2257/3053 [10:34<01:15, 10.54it/s]"
     ]
    },
    {
     "name": "stdout",
     "output_type": "stream",
     "text": [
      "Processed OCR for image: 2009038019_01\n"
     ]
    },
    {
     "name": "stderr",
     "output_type": "stream",
     "text": [
      "Processing Images:  74%|███████▍  | 2260/3053 [10:35<01:39,  7.99it/s]"
     ]
    },
    {
     "name": "stdout",
     "output_type": "stream",
     "text": [
      "Processed OCR for image: 2009037908_01\n",
      "Processed OCR for image: 2009037970_01\n",
      "Processed OCR for image: 2009038141_01\n",
      "Processed OCR for image: 2009038334_01\n",
      "Processed OCR for image: 2009038266_01\n",
      "Processed OCR for image: 2009038333_01\n",
      "Processed OCR for image: 2009038335_01\n"
     ]
    },
    {
     "name": "stderr",
     "output_type": "stream",
     "text": [
      "Processing Images:  74%|███████▍  | 2265/3053 [10:37<02:13,  5.91it/s]"
     ]
    },
    {
     "name": "stdout",
     "output_type": "stream",
     "text": [
      "Processed OCR for image: 2009038438_01\n"
     ]
    },
    {
     "name": "stderr",
     "output_type": "stream",
     "text": [
      "                                                                      \r"
     ]
    },
    {
     "name": "stdout",
     "output_type": "stream",
     "text": [
      "Processed OCR for image: 2009038336_01\n"
     ]
    },
    {
     "name": "stderr",
     "output_type": "stream",
     "text": [
      "Processing Images:  74%|███████▍  | 2267/3053 [10:38<02:39,  4.92it/s]"
     ]
    },
    {
     "name": "stdout",
     "output_type": "stream",
     "text": [
      "Processed OCR for image: 2009038864_01\n",
      "Processed OCR for image: 2009038745_01\n",
      "Processed OCR for image: 2009038659_01\n",
      "Processed OCR for image: 2009039062_01\n",
      "Processed OCR for image: 2009038648_01\n",
      "Processed OCR for image: 2009039010_01\n",
      "Processed OCR for image: 2009039249_01\n"
     ]
    },
    {
     "name": "stderr",
     "output_type": "stream",
     "text": [
      "Processing Images:  74%|███████▍  | 2274/3053 [10:40<02:42,  4.81it/s]"
     ]
    },
    {
     "name": "stdout",
     "output_type": "stream",
     "text": [
      "Processed OCR for image: 2009039345_01\n"
     ]
    },
    {
     "name": "stderr",
     "output_type": "stream",
     "text": [
      "Processing Images:  75%|███████▍  | 2275/3053 [10:40<03:05,  4.20it/s]"
     ]
    },
    {
     "name": "stdout",
     "output_type": "stream",
     "text": [
      "Processed OCR for image: 2009039583_01\n",
      "Processed OCR for image: 2009039163_01\n",
      "Processed OCR for image: 2009039824_01\n",
      "Processed OCR for image: 2009039726_01\n",
      "Processed OCR for image: 2009039828_01\n",
      "Processed OCR for image: 2009040359_01\n"
     ]
    },
    {
     "name": "stderr",
     "output_type": "stream",
     "text": [
      "Processing Images:  75%|███████▍  | 2280/3053 [10:40<02:18,  5.59it/s]"
     ]
    },
    {
     "name": "stdout",
     "output_type": "stream",
     "text": [
      "Processed OCR for image: 2009040286_01\n"
     ]
    },
    {
     "name": "stderr",
     "output_type": "stream",
     "text": [
      "Processing Images:  75%|███████▍  | 2282/3053 [10:42<03:46,  3.40it/s]"
     ]
    },
    {
     "name": "stdout",
     "output_type": "stream",
     "text": [
      "Processed OCR for image: 2009040389_01\n"
     ]
    },
    {
     "name": "stderr",
     "output_type": "stream",
     "text": [
      "Processing Images:  75%|███████▍  | 2283/3053 [10:43<04:08,  3.10it/s]"
     ]
    },
    {
     "name": "stdout",
     "output_type": "stream",
     "text": [
      "Processed OCR for image: 2009040481_01\n"
     ]
    },
    {
     "name": "stderr",
     "output_type": "stream",
     "text": [
      "Processing Images:  75%|███████▍  | 2284/3053 [10:43<04:23,  2.92it/s]"
     ]
    },
    {
     "name": "stdout",
     "output_type": "stream",
     "text": [
      "Processed OCR for image: 2009040808_01\n"
     ]
    },
    {
     "name": "stderr",
     "output_type": "stream",
     "text": [
      "Processing Images:  75%|███████▍  | 2285/3053 [10:44<05:38,  2.27it/s]"
     ]
    },
    {
     "name": "stdout",
     "output_type": "stream",
     "text": [
      "Processed OCR for image: 2009040774_01\n"
     ]
    },
    {
     "name": "stderr",
     "output_type": "stream",
     "text": [
      "                                                                      \r"
     ]
    },
    {
     "name": "stdout",
     "output_type": "stream",
     "text": [
      "Processed OCR for image: 2009040773_01\n",
      "Processed OCR for image: 2009040662_01\n",
      "Processed OCR for image: 2009040666_01\n",
      "Processed OCR for image: 2009040367_01\n",
      "Processed OCR for image: 2009040890_01\n"
     ]
    },
    {
     "name": "stderr",
     "output_type": "stream",
     "text": [
      "Processing Images:  75%|███████▌  | 2291/3053 [10:46<03:31,  3.61it/s]"
     ]
    },
    {
     "name": "stdout",
     "output_type": "stream",
     "text": [
      "Processed OCR for image: 2009040962_01\n"
     ]
    },
    {
     "name": "stderr",
     "output_type": "stream",
     "text": [
      "                                                                      \r"
     ]
    },
    {
     "name": "stdout",
     "output_type": "stream",
     "text": [
      "Processed OCR for image: 2009041071_01\n"
     ]
    },
    {
     "name": "stderr",
     "output_type": "stream",
     "text": [
      "Processing Images:  75%|███████▌  | 2293/3053 [10:46<03:52,  3.26it/s]"
     ]
    },
    {
     "name": "stdout",
     "output_type": "stream",
     "text": [
      "Processed OCR for image: 2009041217_01\n"
     ]
    },
    {
     "name": "stderr",
     "output_type": "stream",
     "text": [
      "Processing Images:  75%|███████▌  | 2294/3053 [10:48<05:32,  2.28it/s]"
     ]
    },
    {
     "name": "stdout",
     "output_type": "stream",
     "text": [
      "Processed OCR for image: 2009041302_01\n",
      "Processed OCR for image: 2009041273_01\n"
     ]
    },
    {
     "name": "stderr",
     "output_type": "stream",
     "text": [
      "Processing Images:  75%|███████▌  | 2298/3053 [10:48<03:17,  3.83it/s]"
     ]
    },
    {
     "name": "stdout",
     "output_type": "stream",
     "text": [
      "Processed OCR for image: 2009041215_01\n",
      "Processed OCR for image: 2009041314_01\n",
      "Processed OCR for image: 2009041413_01\n",
      "Processed OCR for image: 2009041410_01\n",
      "Processed OCR for image: 2009041453_01\n",
      "Processed OCR for image: 2009041440_01\n",
      "Processed OCR for image: 2009041548_01\n",
      "Processed OCR for image: 2009041541_01\n",
      "Processed OCR for image: 2009041787_01\n",
      "Processed OCR for image: 2009041692_01\n",
      "Processed OCR for image: 2009042196_01\n",
      "Processed OCR for image: 2009041957_01\n",
      "Processed OCR for image: 2009042305_01\n"
     ]
    },
    {
     "name": "stderr",
     "output_type": "stream",
     "text": [
      "                                                                      \r"
     ]
    },
    {
     "name": "stdout",
     "output_type": "stream",
     "text": [
      "Processed OCR for image: 2009042512_01\n"
     ]
    },
    {
     "name": "stderr",
     "output_type": "stream",
     "text": [
      "Processing Images:  76%|███████▌  | 2310/3053 [10:51<02:47,  4.45it/s]"
     ]
    },
    {
     "name": "stdout",
     "output_type": "stream",
     "text": [
      "Processed OCR for image: 2009042548_01\n",
      "Processed OCR for image: 2009042358_01\n"
     ]
    },
    {
     "name": "stderr",
     "output_type": "stream",
     "text": [
      "Processing Images:  76%|███████▌  | 2311/3053 [10:51<02:44,  4.51it/s]"
     ]
    },
    {
     "name": "stdout",
     "output_type": "stream",
     "text": [
      "Processed OCR for image: 2009042643_01\n",
      "Processed OCR for image: 2009042333_01\n",
      "Processed OCR for image: 2009042647_01\n",
      "Processed OCR for image: 2009042595_01\n",
      "Processed OCR for image: 2009042332_01\n",
      "Processed OCR for image: 2009042726_01\n"
     ]
    },
    {
     "name": "stderr",
     "output_type": "stream",
     "text": [
      "Processing Images:  76%|███████▌  | 2318/3053 [10:52<02:40,  4.59it/s]"
     ]
    },
    {
     "name": "stdout",
     "output_type": "stream",
     "text": [
      "Processed OCR for image: 2009042791_01\n"
     ]
    },
    {
     "name": "stderr",
     "output_type": "stream",
     "text": [
      "                                                                      "
     ]
    },
    {
     "name": "stdout",
     "output_type": "stream",
     "text": [
      "Processed OCR for image: 2009042735_01\n"
     ]
    },
    {
     "name": "stderr",
     "output_type": "stream",
     "text": [
      "Processing Images:  76%|███████▌  | 2321/3053 [10:54<03:14,  3.76it/s]"
     ]
    },
    {
     "name": "stdout",
     "output_type": "stream",
     "text": [
      "Processed OCR for image: 2009042731_01\n",
      "Processed OCR for image: 2009043009_01\n"
     ]
    },
    {
     "name": "stderr",
     "output_type": "stream",
     "text": [
      "Processing Images:  76%|███████▌  | 2322/3053 [10:54<02:55,  4.16it/s]"
     ]
    },
    {
     "name": "stdout",
     "output_type": "stream",
     "text": [
      "Processed OCR for image: 2009042776_01\n",
      "Processed OCR for image: 2009042729_01\n",
      "Processed OCR for image: 2009042799_01\n",
      "Processed OCR for image: 2009042990_01\n",
      "Processed OCR for image: 2009043154_01\n"
     ]
    },
    {
     "name": "stderr",
     "output_type": "stream",
     "text": [
      "Processing Images:  76%|███████▌  | 2327/3053 [10:55<02:52,  4.20it/s]"
     ]
    },
    {
     "name": "stdout",
     "output_type": "stream",
     "text": [
      "Processed OCR for image: 2009043156_01\n"
     ]
    },
    {
     "name": "stderr",
     "output_type": "stream",
     "text": [
      "Processing Images:  76%|███████▋  | 2328/3053 [10:56<03:56,  3.06it/s]"
     ]
    },
    {
     "name": "stdout",
     "output_type": "stream",
     "text": [
      "Processed OCR for image: 2009043244_01\n",
      "Processed OCR for image: 2009043751_01\n",
      "Processed OCR for image: 2009043330_01\n",
      "Processed OCR for image: 2009043956_01\n",
      "Processed OCR for image: 2009044489_01\n",
      "Processed OCR for image: 2009043977_01\n",
      "Processed OCR for image: 2009044488_01\n"
     ]
    },
    {
     "name": "stderr",
     "output_type": "stream",
     "text": [
      "Processing Images:  76%|███████▋  | 2335/3053 [10:56<02:13,  5.39it/s]"
     ]
    },
    {
     "name": "stdout",
     "output_type": "stream",
     "text": [
      "Processed OCR for image: 2009044559_01\n"
     ]
    },
    {
     "name": "stderr",
     "output_type": "stream",
     "text": [
      "Processing Images:  77%|███████▋  | 2336/3053 [10:57<03:11,  3.75it/s]"
     ]
    },
    {
     "name": "stdout",
     "output_type": "stream",
     "text": [
      "Processed OCR for image: 2009044516_01\n"
     ]
    },
    {
     "name": "stderr",
     "output_type": "stream",
     "text": [
      "Processing Images:  77%|███████▋  | 2338/3053 [10:58<03:34,  3.34it/s]"
     ]
    },
    {
     "name": "stdout",
     "output_type": "stream",
     "text": [
      "Processed OCR for image: 2009044679_01\n",
      "Processed OCR for image: 2009044903_01\n"
     ]
    },
    {
     "name": "stderr",
     "output_type": "stream",
     "text": [
      "Processing Images:  77%|███████▋  | 2339/3053 [10:59<03:51,  3.08it/s]"
     ]
    },
    {
     "name": "stdout",
     "output_type": "stream",
     "text": [
      "Processed OCR for image: 2009044952_01\n"
     ]
    },
    {
     "name": "stderr",
     "output_type": "stream",
     "text": [
      "                                                                      "
     ]
    },
    {
     "name": "stdout",
     "output_type": "stream",
     "text": [
      "Processed OCR for image: 2009045047_01\n"
     ]
    },
    {
     "name": "stderr",
     "output_type": "stream",
     "text": [
      "Processing Images:  77%|███████▋  | 2341/3053 [11:00<05:00,  2.37it/s]"
     ]
    },
    {
     "name": "stdout",
     "output_type": "stream",
     "text": [
      "Processed OCR for image: 2009045112_01\n"
     ]
    },
    {
     "name": "stderr",
     "output_type": "stream",
     "text": [
      "Processing Images:  77%|███████▋  | 2342/3053 [11:00<05:06,  2.32it/s]"
     ]
    },
    {
     "name": "stdout",
     "output_type": "stream",
     "text": [
      "Processed OCR for image: 2009044936_01\n",
      "Processed OCR for image: 2009044991_01\n"
     ]
    },
    {
     "name": "stderr",
     "output_type": "stream",
     "text": [
      "Processing Images:  77%|███████▋  | 2343/3053 [11:01<05:09,  2.29it/s]"
     ]
    },
    {
     "name": "stdout",
     "output_type": "stream",
     "text": [
      "Processed OCR for image: 2009045139_01\n"
     ]
    },
    {
     "name": "stderr",
     "output_type": "stream",
     "text": [
      "                                                                      "
     ]
    },
    {
     "name": "stdout",
     "output_type": "stream",
     "text": [
      "Processed OCR for image: 2009045116_01\n"
     ]
    },
    {
     "name": "stderr",
     "output_type": "stream",
     "text": [
      "Processing Images:  77%|███████▋  | 2346/3053 [11:02<05:43,  2.06it/s]"
     ]
    },
    {
     "name": "stdout",
     "output_type": "stream",
     "text": [
      "Processed OCR for image: 2009045149_01\n"
     ]
    },
    {
     "name": "stderr",
     "output_type": "stream",
     "text": [
      "                                                                      "
     ]
    },
    {
     "name": "stdout",
     "output_type": "stream",
     "text": [
      "Processed OCR for image: 2009045220_01\n"
     ]
    },
    {
     "name": "stderr",
     "output_type": "stream",
     "text": [
      "Processing Images:  77%|███████▋  | 2348/3053 [11:03<05:29,  2.14it/s]"
     ]
    },
    {
     "name": "stdout",
     "output_type": "stream",
     "text": [
      "Processed OCR for image: 2009045195_01\n"
     ]
    },
    {
     "name": "stderr",
     "output_type": "stream",
     "text": [
      "                                                                      "
     ]
    },
    {
     "name": "stdout",
     "output_type": "stream",
     "text": [
      "Processed OCR for image: 2009045334_01\n"
     ]
    },
    {
     "name": "stderr",
     "output_type": "stream",
     "text": [
      "Processing Images:  77%|███████▋  | 2350/3053 [11:05<06:46,  1.73it/s]"
     ]
    },
    {
     "name": "stdout",
     "output_type": "stream",
     "text": [
      "Processed OCR for image: 2009045151_01\n",
      "Processed OCR for image: 2009045653_01\n"
     ]
    },
    {
     "name": "stderr",
     "output_type": "stream",
     "text": [
      "Processing Images:  77%|███████▋  | 2352/3053 [11:05<05:06,  2.29it/s]"
     ]
    },
    {
     "name": "stdout",
     "output_type": "stream",
     "text": [
      "Processed OCR for image: 2009045655_01\n"
     ]
    },
    {
     "name": "stderr",
     "output_type": "stream",
     "text": [
      "                                                                      \r"
     ]
    },
    {
     "name": "stdout",
     "output_type": "stream",
     "text": [
      "Processed OCR for image: 2009045657_01\n"
     ]
    },
    {
     "name": "stderr",
     "output_type": "stream",
     "text": [
      "                                                                      "
     ]
    },
    {
     "name": "stdout",
     "output_type": "stream",
     "text": [
      "Processed OCR for image: 2009045659_01\n"
     ]
    },
    {
     "name": "stderr",
     "output_type": "stream",
     "text": [
      "Processing Images:  77%|███████▋  | 2355/3053 [11:07<05:25,  2.14it/s]"
     ]
    },
    {
     "name": "stdout",
     "output_type": "stream",
     "text": [
      "Processed OCR for image: 2009045671_01\n"
     ]
    },
    {
     "name": "stderr",
     "output_type": "stream",
     "text": [
      "Processing Images:  77%|███████▋  | 2356/3053 [11:07<06:01,  1.93it/s]"
     ]
    },
    {
     "name": "stdout",
     "output_type": "stream",
     "text": [
      "Processed OCR for image: 2009045663_01\n"
     ]
    },
    {
     "name": "stderr",
     "output_type": "stream",
     "text": [
      "                                                                      \r"
     ]
    },
    {
     "name": "stdout",
     "output_type": "stream",
     "text": [
      "Processed OCR for image: 2009045674_01\n"
     ]
    },
    {
     "name": "stderr",
     "output_type": "stream",
     "text": [
      "Processing Images:  77%|███████▋  | 2358/3053 [11:08<05:16,  2.19it/s]"
     ]
    },
    {
     "name": "stdout",
     "output_type": "stream",
     "text": [
      "Processed OCR for image: 2009045672_01\n",
      "Processed OCR for image: 2009045832_01\n"
     ]
    },
    {
     "name": "stderr",
     "output_type": "stream",
     "text": [
      "                                                                      \r"
     ]
    },
    {
     "name": "stdout",
     "output_type": "stream",
     "text": [
      "Processed OCR for image: 2009045820_01\n",
      "Processed OCR for image: 2009045900_01\n",
      "Processed OCR for image: 2009045831_01\n",
      "Processed OCR for image: 2009045926_01\n",
      "Processed OCR for image: 2009045922_01\n",
      "Processed OCR for image: 2009046172_01\n",
      "Processed OCR for image: 2009046132_01\n",
      "Processed OCR for image: 2009045998_01\n",
      "Processed OCR for image: 2009046190_01\n",
      "Processed OCR for image: 2009046178_01\n",
      "Processed OCR for image: 2009046215_01\n",
      "Processed OCR for image: 2009046451_01\n",
      "Processed OCR for image: 2009046204_01\n"
     ]
    },
    {
     "name": "stderr",
     "output_type": "stream",
     "text": [
      "Processing Images:  78%|███████▊  | 2373/3053 [11:09<00:57, 11.73it/s]"
     ]
    },
    {
     "name": "stdout",
     "output_type": "stream",
     "text": [
      "Processed OCR for image: 2009046456_01\n"
     ]
    },
    {
     "name": "stderr",
     "output_type": "stream",
     "text": [
      "                                                                      \r"
     ]
    },
    {
     "name": "stdout",
     "output_type": "stream",
     "text": [
      "Processed OCR for image: 2009046595_01\n"
     ]
    },
    {
     "name": "stderr",
     "output_type": "stream",
     "text": [
      "Processing Images:  78%|███████▊  | 2375/3053 [11:11<02:14,  5.04it/s]"
     ]
    },
    {
     "name": "stdout",
     "output_type": "stream",
     "text": [
      "Processed OCR for image: 2009046457_01\n",
      "Processed OCR for image: 2009046973_01\n",
      "Processed OCR for image: 2009046893_01\n",
      "Processed OCR for image: 2009047164_01\n",
      "Processed OCR for image: 2009046850_01\n",
      "Processed OCR for image: 2009047001_01\n",
      "Processed OCR for image: 2009047297_01\n",
      "Processed OCR for image: 2009047356_01\n",
      "Processed OCR for image: 2009047889_01\n",
      "Processed OCR for image: 2009047920_01\n",
      "Processed OCR for image: 2009047938_01\n",
      "Processed OCR for image: 2009047690_01\n",
      "Processed OCR for image: 2009047403_01\n",
      "Processed OCR for image: 2009047948_01\n",
      "Processed OCR for image: 2009047942_01\n",
      "Processed OCR for image: 2009048016_01\n"
     ]
    },
    {
     "name": "stderr",
     "output_type": "stream",
     "text": [
      "Processing Images:  78%|███████▊  | 2391/3053 [11:11<01:03, 10.43it/s]"
     ]
    },
    {
     "name": "stdout",
     "output_type": "stream",
     "text": [
      "Processed OCR for image: 2009048018_01\n"
     ]
    },
    {
     "name": "stderr",
     "output_type": "stream",
     "text": [
      "Processing Images:  78%|███████▊  | 2391/3053 [11:12<01:03, 10.43it/s]"
     ]
    },
    {
     "name": "stdout",
     "output_type": "stream",
     "text": [
      "Processed OCR for image: 2009048020_01\n"
     ]
    },
    {
     "name": "stderr",
     "output_type": "stream",
     "text": [
      "Processing Images:  78%|███████▊  | 2393/3053 [11:14<02:00,  5.47it/s]"
     ]
    },
    {
     "name": "stdout",
     "output_type": "stream",
     "text": [
      "Processed OCR for image: 2009048051_01\n",
      "Processed OCR for image: 2009048049_01\n"
     ]
    },
    {
     "name": "stderr",
     "output_type": "stream",
     "text": [
      "Processing Images:  79%|███████▊  | 2400/3053 [11:14<01:21,  7.99it/s]"
     ]
    },
    {
     "name": "stdout",
     "output_type": "stream",
     "text": [
      "Processed OCR for image: 2009048035_01\n",
      "Processed OCR for image: 2009048022_01\n",
      "Processed OCR for image: 2009048115_01\n",
      "Processed OCR for image: 2009048151_01\n",
      "Processed OCR for image: 2009048099_01\n",
      "Processed OCR for image: 2009048187_01\n"
     ]
    },
    {
     "name": "stderr",
     "output_type": "stream",
     "text": [
      "Processing Images:  79%|███████▊  | 2400/3053 [11:14<01:21,  7.99it/s]"
     ]
    },
    {
     "name": "stdout",
     "output_type": "stream",
     "text": [
      "Processed OCR for image: 2009048331_01\n",
      "Processed OCR for image: 2009048276_01\n"
     ]
    },
    {
     "name": "stderr",
     "output_type": "stream",
     "text": [
      "                                                                      "
     ]
    },
    {
     "name": "stdout",
     "output_type": "stream",
     "text": [
      "Processed OCR for image: 2009048661_01\n"
     ]
    },
    {
     "name": "stderr",
     "output_type": "stream",
     "text": [
      "Processing Images:  79%|███████▊  | 2403/3053 [11:16<01:57,  5.55it/s]"
     ]
    },
    {
     "name": "stdout",
     "output_type": "stream",
     "text": [
      "Processed OCR for image: 2009048706_01\n"
     ]
    },
    {
     "name": "stderr",
     "output_type": "stream",
     "text": [
      "Processing Images:  79%|███████▊  | 2403/3053 [11:17<01:57,  5.55it/s]"
     ]
    },
    {
     "name": "stdout",
     "output_type": "stream",
     "text": [
      "Processed OCR for image: 2009048619_01\n"
     ]
    },
    {
     "name": "stderr",
     "output_type": "stream",
     "text": [
      "Processing Images:  79%|███████▉  | 2407/3053 [11:17<02:45,  3.91it/s]"
     ]
    },
    {
     "name": "stdout",
     "output_type": "stream",
     "text": [
      "Processed OCR for image: 2009048667_01\n",
      "Processed OCR for image: 2009048708_01\n",
      "Processed OCR for image: 2009048732_01\n"
     ]
    },
    {
     "name": "stderr",
     "output_type": "stream",
     "text": [
      "                                                                      \r"
     ]
    },
    {
     "name": "stdout",
     "output_type": "stream",
     "text": [
      "Processed OCR for image: 2009048863_01\n"
     ]
    },
    {
     "name": "stderr",
     "output_type": "stream",
     "text": [
      "Processing Images:  79%|███████▉  | 2411/3053 [11:18<02:38,  4.05it/s]"
     ]
    },
    {
     "name": "stdout",
     "output_type": "stream",
     "text": [
      "Processed OCR for image: 2009048722_01\n",
      "Processed OCR for image: 2009048730_01\n"
     ]
    },
    {
     "name": "stderr",
     "output_type": "stream",
     "text": [
      "Processing Images:  79%|███████▉  | 2412/3053 [11:19<03:39,  2.92it/s]"
     ]
    },
    {
     "name": "stdout",
     "output_type": "stream",
     "text": [
      "Processed OCR for image: 2009048886_01\n"
     ]
    },
    {
     "name": "stderr",
     "output_type": "stream",
     "text": [
      "Processing Images:  79%|███████▉  | 2413/3053 [11:20<04:33,  2.34it/s]"
     ]
    },
    {
     "name": "stdout",
     "output_type": "stream",
     "text": [
      "Processed OCR for image: 2009048971_01\n"
     ]
    },
    {
     "name": "stderr",
     "output_type": "stream",
     "text": [
      "Processing Images:  79%|███████▉  | 2414/3053 [11:20<04:46,  2.23it/s]"
     ]
    },
    {
     "name": "stdout",
     "output_type": "stream",
     "text": [
      "Processed OCR for image: 2009048950_01\n"
     ]
    },
    {
     "name": "stderr",
     "output_type": "stream",
     "text": [
      "                                                                      "
     ]
    },
    {
     "name": "stdout",
     "output_type": "stream",
     "text": [
      "Processed OCR for image: 2009048919_01\n"
     ]
    },
    {
     "name": "stderr",
     "output_type": "stream",
     "text": [
      "Processing Images:  79%|███████▉  | 2416/3053 [11:21<04:58,  2.13it/s]"
     ]
    },
    {
     "name": "stdout",
     "output_type": "stream",
     "text": [
      "Processed OCR for image: 2009049128_01\n"
     ]
    },
    {
     "name": "stderr",
     "output_type": "stream",
     "text": [
      "                                                                      "
     ]
    },
    {
     "name": "stdout",
     "output_type": "stream",
     "text": [
      "Processed OCR for image: 2009049016_01\n"
     ]
    },
    {
     "name": "stderr",
     "output_type": "stream",
     "text": [
      "Processing Images:  79%|███████▉  | 2418/3053 [11:22<05:20,  1.98it/s]"
     ]
    },
    {
     "name": "stdout",
     "output_type": "stream",
     "text": [
      "Processed OCR for image: 2009049122_01\n"
     ]
    },
    {
     "name": "stderr",
     "output_type": "stream",
     "text": [
      "Processing Images:  79%|███████▉  | 2419/3053 [11:23<05:31,  1.91it/s]"
     ]
    },
    {
     "name": "stdout",
     "output_type": "stream",
     "text": [
      "Processed OCR for image: 2009049021_01\n",
      "Processed OCR for image: 2009049194_01\n"
     ]
    },
    {
     "name": "stderr",
     "output_type": "stream",
     "text": [
      "Processing Images:  79%|███████▉  | 2421/3053 [11:24<05:37,  1.87it/s]"
     ]
    },
    {
     "name": "stdout",
     "output_type": "stream",
     "text": [
      "Processed OCR for image: 2009049084_01\n"
     ]
    },
    {
     "name": "stderr",
     "output_type": "stream",
     "text": [
      "                                                                      "
     ]
    },
    {
     "name": "stdout",
     "output_type": "stream",
     "text": [
      "Processed OCR for image: 2009049192_01\n"
     ]
    },
    {
     "name": "stderr",
     "output_type": "stream",
     "text": [
      "                                                                      \r"
     ]
    },
    {
     "name": "stdout",
     "output_type": "stream",
     "text": [
      "Processed OCR for image: 2009049206_01\n"
     ]
    },
    {
     "name": "stderr",
     "output_type": "stream",
     "text": [
      "Processing Images:  79%|███████▉  | 2424/3053 [11:25<05:32,  1.89it/s]"
     ]
    },
    {
     "name": "stdout",
     "output_type": "stream",
     "text": [
      "Processed OCR for image: 2009049157_01\n"
     ]
    },
    {
     "name": "stderr",
     "output_type": "stream",
     "text": [
      "Processing Images:  79%|███████▉  | 2425/3053 [11:26<07:10,  1.46it/s]"
     ]
    },
    {
     "name": "stdout",
     "output_type": "stream",
     "text": [
      "Processed OCR for image: 2009049217_01\n"
     ]
    },
    {
     "name": "stderr",
     "output_type": "stream",
     "text": [
      "                                                                      \r"
     ]
    },
    {
     "name": "stdout",
     "output_type": "stream",
     "text": [
      "Processed OCR for image: 2009049263_01\n",
      "Processed OCR for image: 2009049264_01\n",
      "Processed OCR for image: 2009049267_01\n",
      "Processed OCR for image: 2009049311_01\n",
      "Processed OCR for image: 2009049234_01\n",
      "Processed OCR for image: 2009049563_01\n",
      "Processed OCR for image: 2009049532_01\n",
      "Processed OCR for image: 2009049430_01\n",
      "Processed OCR for image: 2009049628_01\n",
      "Processed OCR for image: 2009049893_01\n",
      "Processed OCR for image: 2009049710_01\n",
      "Processed OCR for image: 2009050024_01\n",
      "Processed OCR for image: 2009050055_01\n",
      "Processed OCR for image: 2009049627_01\n",
      "Processed OCR for image: 2009050104_01\n",
      "Processed OCR for image: 2009050130_01\n",
      "Processed OCR for image: 2009050256_01\n",
      "Processed OCR for image: 2009050286_01\n",
      "Processed OCR for image: 2009050314_01\n",
      "Processed OCR for image: 2009050318_01\n",
      "Processed OCR for image: 2009050377_01\n",
      "Processed OCR for image: 2009050372_01\n"
     ]
    },
    {
     "name": "stderr",
     "output_type": "stream",
     "text": [
      "Processing Images:  80%|████████  | 2448/3053 [11:27<00:39, 15.36it/s]"
     ]
    },
    {
     "name": "stdout",
     "output_type": "stream",
     "text": [
      "Processed OCR for image: 2009050383_01\n"
     ]
    },
    {
     "name": "stderr",
     "output_type": "stream",
     "text": [
      "                                                                      \r"
     ]
    },
    {
     "name": "stdout",
     "output_type": "stream",
     "text": [
      "Processed OCR for image: 2009050381_01"
     ]
    },
    {
     "name": "stderr",
     "output_type": "stream",
     "text": [
      "                                                                      \r"
     ]
    },
    {
     "name": "stdout",
     "output_type": "stream",
     "text": [
      "\n"
     ]
    },
    {
     "name": "stderr",
     "output_type": "stream",
     "text": [
      "                                                                      "
     ]
    },
    {
     "name": "stdout",
     "output_type": "stream",
     "text": [
      "Processed OCR for image: 2009050386_01\n"
     ]
    },
    {
     "name": "stderr",
     "output_type": "stream",
     "text": [
      "Processing Images:  80%|████████  | 2451/3053 [11:29<01:36,  6.27it/s]"
     ]
    },
    {
     "name": "stdout",
     "output_type": "stream",
     "text": [
      "Processed OCR for image: 2009050390_01\n",
      "Processed OCR for image: 2009050405_01\n"
     ]
    },
    {
     "name": "stderr",
     "output_type": "stream",
     "text": [
      "Processing Images:  80%|████████  | 2454/3053 [11:30<01:29,  6.68it/s]"
     ]
    },
    {
     "name": "stdout",
     "output_type": "stream",
     "text": [
      "Processed OCR for image: 2009050406_01\n",
      "Processed OCR for image: 2009050398_01\n",
      "Processed OCR for image: 2009050471_01\n",
      "Processed OCR for image: 2009050401_01\n",
      "Processed OCR for image: 2009050446_01\n",
      "Processed OCR for image: 2009050473_01\n"
     ]
    },
    {
     "name": "stderr",
     "output_type": "stream",
     "text": [
      "Processing Images:  81%|████████  | 2459/3053 [11:31<01:59,  4.98it/s]"
     ]
    },
    {
     "name": "stdout",
     "output_type": "stream",
     "text": [
      "Processed OCR for image: 2009050492_01\n"
     ]
    },
    {
     "name": "stderr",
     "output_type": "stream",
     "text": [
      "                                                                      \r"
     ]
    },
    {
     "name": "stdout",
     "output_type": "stream",
     "text": [
      "Processed OCR for image: 2009050491_01\n"
     ]
    },
    {
     "name": "stderr",
     "output_type": "stream",
     "text": [
      "Processing Images:  81%|████████  | 2461/3053 [11:32<02:16,  4.33it/s]"
     ]
    },
    {
     "name": "stdout",
     "output_type": "stream",
     "text": [
      "Processed OCR for image: 2009050496_01\n",
      "Processed OCR for image: 2009050598_01\n",
      "Processed OCR for image: 2009050570_01\n",
      "Processed OCR for image: 2009050574_01\n",
      "Processed OCR for image: 2009050616_01\n",
      "Processed OCR for image: 2009050597_01\n"
     ]
    },
    {
     "name": "stderr",
     "output_type": "stream",
     "text": [
      "Processing Images:  81%|████████  | 2467/3053 [11:33<02:16,  4.30it/s]"
     ]
    },
    {
     "name": "stdout",
     "output_type": "stream",
     "text": [
      "Processed OCR for image: 2009050663_01\n",
      "Processed OCR for image: 2009050724_01\n"
     ]
    },
    {
     "name": "stderr",
     "output_type": "stream",
     "text": [
      "Processing Images:  81%|████████  | 2469/3053 [11:34<02:29,  3.90it/s]"
     ]
    },
    {
     "name": "stdout",
     "output_type": "stream",
     "text": [
      "Processed OCR for image: 2009050736_01\n",
      "Processed OCR for image: 2009050757_01\n",
      "Processed OCR for image: 2009050631_01\n",
      "Processed OCR for image: 2009050750_01\n",
      "Processed OCR for image: 2009050819_01\n",
      "Processed OCR for image: 2009050837_01\n"
     ]
    },
    {
     "name": "stderr",
     "output_type": "stream",
     "text": [
      "Processing Images:  81%|████████  | 2475/3053 [11:36<02:30,  3.84it/s]"
     ]
    },
    {
     "name": "stdout",
     "output_type": "stream",
     "text": [
      "Processed OCR for image: 2009050941_01\n"
     ]
    },
    {
     "name": "stderr",
     "output_type": "stream",
     "text": [
      "Processing Images:  81%|████████  | 2476/3053 [11:36<02:54,  3.30it/s]"
     ]
    },
    {
     "name": "stdout",
     "output_type": "stream",
     "text": [
      "Processed OCR for image: 2009051003_01\n",
      "Processed OCR for image: 2009051131_01\n",
      "Processed OCR for image: 2009051308_01\n",
      "Processed OCR for image: 2009051312_01\n",
      "Processed OCR for image: 2009051387_01\n",
      "Processed OCR for image: 2009051341_01\n",
      "Processed OCR for image: 2009051707_01\n"
     ]
    },
    {
     "name": "stderr",
     "output_type": "stream",
     "text": [
      "Processing Images:  81%|████████▏ | 2483/3053 [11:38<02:22,  4.00it/s]"
     ]
    },
    {
     "name": "stdout",
     "output_type": "stream",
     "text": [
      "Processed OCR for image: 2009052028_01\n"
     ]
    },
    {
     "name": "stderr",
     "output_type": "stream",
     "text": [
      "Processing Images:  81%|████████▏ | 2485/3053 [11:38<02:34,  3.67it/s]"
     ]
    },
    {
     "name": "stdout",
     "output_type": "stream",
     "text": [
      "Processed OCR for image: 2009052104_01\n",
      "Processed OCR for image: 2009051817_01\n"
     ]
    },
    {
     "name": "stderr",
     "output_type": "stream",
     "text": [
      "Processing Images:  81%|████████▏ | 2486/3053 [11:39<02:20,  4.02it/s]"
     ]
    },
    {
     "name": "stdout",
     "output_type": "stream",
     "text": [
      "Processed OCR for image: 2009052101_01\n",
      "Processed OCR for image: 2009052119_01\n",
      "Processed OCR for image: 2009052195_01\n",
      "Processed OCR for image: 2009051910_01\n",
      "Processed OCR for image: 2009052136_01\n"
     ]
    },
    {
     "name": "stderr",
     "output_type": "stream",
     "text": [
      "Processing Images:  82%|████████▏ | 2491/3053 [11:39<02:01,  4.62it/s]"
     ]
    },
    {
     "name": "stdout",
     "output_type": "stream",
     "text": [
      "Processed OCR for image: 2009052411_01\n"
     ]
    },
    {
     "name": "stderr",
     "output_type": "stream",
     "text": [
      "                                                                      \r"
     ]
    },
    {
     "name": "stdout",
     "output_type": "stream",
     "text": [
      "Processed OCR for image: 2009052346_01\n"
     ]
    },
    {
     "name": "stderr",
     "output_type": "stream",
     "text": [
      "Processing Images:  82%|████████▏ | 2493/3053 [11:41<03:00,  3.11it/s]"
     ]
    },
    {
     "name": "stdout",
     "output_type": "stream",
     "text": [
      "Processed OCR for image: 2009052539_01\n",
      "Processed OCR for image: 2009052416_01\n",
      "Processed OCR for image: 2009052566_01\n",
      "Processed OCR for image: 2009052563_01\n",
      "Processed OCR for image: 2009052413_01\n",
      "Processed OCR for image: 2009052257_01\n"
     ]
    },
    {
     "name": "stderr",
     "output_type": "stream",
     "text": [
      "Processing Images:  82%|████████▏ | 2499/3053 [11:41<01:45,  5.24it/s]"
     ]
    },
    {
     "name": "stdout",
     "output_type": "stream",
     "text": [
      "Processed OCR for image: 2009052569_01\n"
     ]
    },
    {
     "name": "stderr",
     "output_type": "stream",
     "text": [
      "                                                                      \r"
     ]
    },
    {
     "name": "stdout",
     "output_type": "stream",
     "text": [
      "Processed OCR for image: 2009052589_01\n"
     ]
    },
    {
     "name": "stderr",
     "output_type": "stream",
     "text": [
      "Processing Images:  82%|████████▏ | 2502/3053 [11:43<02:47,  3.29it/s]"
     ]
    },
    {
     "name": "stdout",
     "output_type": "stream",
     "text": [
      "Processed OCR for image: 2009052661_01\n",
      "Processed OCR for image: 2009052570_01\n"
     ]
    },
    {
     "name": "stderr",
     "output_type": "stream",
     "text": [
      "Processing Images:  82%|████████▏ | 2503/3053 [11:43<02:39,  3.44it/s]"
     ]
    },
    {
     "name": "stdout",
     "output_type": "stream",
     "text": [
      "Processed OCR for image: 2009052587_01\n"
     ]
    },
    {
     "name": "stderr",
     "output_type": "stream",
     "text": [
      "                                                                      \r"
     ]
    },
    {
     "name": "stdout",
     "output_type": "stream",
     "text": [
      "Processed OCR for image: 2009052675_01\n"
     ]
    },
    {
     "name": "stderr",
     "output_type": "stream",
     "text": [
      "Processing Images:  82%|████████▏ | 2505/3053 [11:45<04:57,  1.84it/s]"
     ]
    },
    {
     "name": "stdout",
     "output_type": "stream",
     "text": [
      "Processed OCR for image: 2009052667_01\n"
     ]
    },
    {
     "name": "stderr",
     "output_type": "stream",
     "text": [
      "Processing Images:  82%|████████▏ | 2508/3053 [11:46<03:01,  2.99it/s]"
     ]
    },
    {
     "name": "stdout",
     "output_type": "stream",
     "text": [
      "Processed OCR for image: 2009052735_01\n",
      "Processed OCR for image: 2009052695_01\n",
      "Processed OCR for image: 2009052741_01\n"
     ]
    },
    {
     "name": "stderr",
     "output_type": "stream",
     "text": [
      "Processing Images:  82%|████████▏ | 2509/3053 [11:47<04:30,  2.01it/s]"
     ]
    },
    {
     "name": "stdout",
     "output_type": "stream",
     "text": [
      "Processed OCR for image: 2009053068_01\n"
     ]
    },
    {
     "name": "stderr",
     "output_type": "stream",
     "text": [
      "                                                                      \r"
     ]
    },
    {
     "name": "stdout",
     "output_type": "stream",
     "text": [
      "Processed OCR for image: 2009053012_01\n"
     ]
    },
    {
     "name": "stderr",
     "output_type": "stream",
     "text": [
      "Processing Images:  82%|████████▏ | 2512/3053 [11:48<03:58,  2.27it/s]"
     ]
    },
    {
     "name": "stdout",
     "output_type": "stream",
     "text": [
      "Processed OCR for image: 2009053088_01\n",
      "Processed OCR for image: 2009053138_01\n"
     ]
    },
    {
     "name": "stderr",
     "output_type": "stream",
     "text": [
      "Processing Images:  82%|████████▏ | 2513/3053 [11:49<03:38,  2.47it/s]"
     ]
    },
    {
     "name": "stdout",
     "output_type": "stream",
     "text": [
      "Processed OCR for image: 2009053114_01\n"
     ]
    },
    {
     "name": "stderr",
     "output_type": "stream",
     "text": [
      "Processing Images:  82%|████████▏ | 2514/3053 [11:50<05:39,  1.59it/s]"
     ]
    },
    {
     "name": "stdout",
     "output_type": "stream",
     "text": [
      "Processed OCR for image: 2009053301_01\n"
     ]
    },
    {
     "name": "stderr",
     "output_type": "stream",
     "text": [
      "Processing Images:  82%|████████▏ | 2515/3053 [11:50<05:11,  1.73it/s]"
     ]
    },
    {
     "name": "stdout",
     "output_type": "stream",
     "text": [
      "Processed OCR for image: 2009053312_01\n"
     ]
    },
    {
     "name": "stderr",
     "output_type": "stream",
     "text": [
      "Processing Images:  82%|████████▏ | 2517/3053 [11:51<04:08,  2.16it/s]"
     ]
    },
    {
     "name": "stdout",
     "output_type": "stream",
     "text": [
      "Processed OCR for image: 2009053875_01\n",
      "Processed OCR for image: 2009053986_01\n"
     ]
    },
    {
     "name": "stderr",
     "output_type": "stream",
     "text": [
      "                                                                      \r"
     ]
    },
    {
     "name": "stdout",
     "output_type": "stream",
     "text": [
      "Processed OCR for image: 2009053909_01\n"
     ]
    },
    {
     "name": "stderr",
     "output_type": "stream",
     "text": [
      "                                                                      "
     ]
    },
    {
     "name": "stdout",
     "output_type": "stream",
     "text": [
      "Processed OCR for image: 2009054107_01\n"
     ]
    },
    {
     "name": "stderr",
     "output_type": "stream",
     "text": [
      "                                                                      \r"
     ]
    },
    {
     "name": "stdout",
     "output_type": "stream",
     "text": [
      "Processed OCR for image: 2009053364_01\n"
     ]
    },
    {
     "name": "stderr",
     "output_type": "stream",
     "text": [
      "Processing Images:  83%|████████▎ | 2521/3053 [11:53<04:43,  1.88it/s]"
     ]
    },
    {
     "name": "stdout",
     "output_type": "stream",
     "text": [
      "Processed OCR for image: 2009054133_01\n"
     ]
    },
    {
     "name": "stderr",
     "output_type": "stream",
     "text": [
      "Processing Images:  83%|████████▎ | 2522/3053 [11:54<04:28,  1.98it/s]"
     ]
    },
    {
     "name": "stdout",
     "output_type": "stream",
     "text": [
      "Processed OCR for image: 2009054130_01\n",
      "Processed OCR for image: 2009054137_01\n",
      "Processed OCR for image: 2009054134_01\n",
      "Processed OCR for image: 2009054141_01\n",
      "Processed OCR for image: 2009054142_01\n",
      "Processed OCR for image: 2009054143_01\n",
      "Processed OCR for image: 2009054139_01\n",
      "Processed OCR for image: 2009054151_01\n",
      "Processed OCR for image: 2009054145_01\n",
      "Processed OCR for image: 2009054144_01\n",
      "Processed OCR for image: 2009054161_01\n",
      "Processed OCR for image: 2009054155_01\n",
      "Processed OCR for image: 2009054166_01\n"
     ]
    },
    {
     "name": "stderr",
     "output_type": "stream",
     "text": [
      "Processing Images:  83%|████████▎ | 2535/3053 [11:54<00:47, 11.02it/s]"
     ]
    },
    {
     "name": "stdout",
     "output_type": "stream",
     "text": [
      "Processed OCR for image: 2009054168_01\n",
      "Processed OCR for image: 2009054177_01\n",
      "Processed OCR for image: 2009054189_01\n",
      "Processed OCR for image: 2009054181_01\n",
      "Processed OCR for image: 2009054179_01\n",
      "Processed OCR for image: 2009054192_01\n",
      "Processed OCR for image: 2009054204_01\n",
      "Processed OCR for image: 2009054212_01\n",
      "Processed OCR for image: 2009054198_01\n",
      "Processed OCR for image: 2009054208_01\n",
      "Processed OCR for image: 2009054221_01\n",
      "Processed OCR for image: 2009054219_01\n"
     ]
    },
    {
     "name": "stderr",
     "output_type": "stream",
     "text": [
      "                                                                      "
     ]
    },
    {
     "name": "stdout",
     "output_type": "stream",
     "text": [
      "Processed OCR for image: 2009054229_01\n"
     ]
    },
    {
     "name": "stderr",
     "output_type": "stream",
     "text": [
      "Processing Images:  83%|████████▎ | 2547/3053 [11:56<00:52,  9.61it/s]"
     ]
    },
    {
     "name": "stdout",
     "output_type": "stream",
     "text": [
      "Processed OCR for image: 2009054239_01\n"
     ]
    },
    {
     "name": "stderr",
     "output_type": "stream",
     "text": [
      "Processing Images:  83%|████████▎ | 2549/3053 [11:56<01:07,  7.42it/s]"
     ]
    },
    {
     "name": "stdout",
     "output_type": "stream",
     "text": [
      "Processed OCR for image: 2009054238_01\n",
      "Processed OCR for image: 2009054236_01\n",
      "Processed OCR for image: 2009054227_01\n",
      "Processed OCR for image: 2009054311_01\n",
      "Processed OCR for image: 2009054449_01\n",
      "Processed OCR for image: 2009054356_01\n"
     ]
    },
    {
     "name": "stderr",
     "output_type": "stream",
     "text": [
      "                                                                      "
     ]
    },
    {
     "name": "stdout",
     "output_type": "stream",
     "text": [
      "Processed OCR for image: 2009054496_01\n"
     ]
    },
    {
     "name": "stderr",
     "output_type": "stream",
     "text": [
      "                                                                      "
     ]
    },
    {
     "name": "stdout",
     "output_type": "stream",
     "text": [
      "Processed OCR for image: 2009054539_01\n"
     ]
    },
    {
     "name": "stderr",
     "output_type": "stream",
     "text": [
      "                                                                      \r"
     ]
    },
    {
     "name": "stdout",
     "output_type": "stream",
     "text": [
      "Processed OCR for image: 2009054686_01\n"
     ]
    },
    {
     "name": "stderr",
     "output_type": "stream",
     "text": [
      "Processing Images:  84%|████████▍ | 2558/3053 [11:59<02:01,  4.09it/s]"
     ]
    },
    {
     "name": "stdout",
     "output_type": "stream",
     "text": [
      "Processed OCR for image: 2009054519_01\n",
      "Processed OCR for image: 2009054938_01\n"
     ]
    },
    {
     "name": "stderr",
     "output_type": "stream",
     "text": [
      "Processing Images:  84%|████████▍ | 2560/3053 [11:59<01:54,  4.30it/s]"
     ]
    },
    {
     "name": "stdout",
     "output_type": "stream",
     "text": [
      "Processed OCR for image: 2009054965_01\n",
      "Processed OCR for image: 2009054473_01\n",
      "Processed OCR for image: 2009054960_01\n",
      "Processed OCR for image: 2009054882_01\n",
      "Processed OCR for image: 2009054966_01\n",
      "Processed OCR for image: 2009054969_01\n"
     ]
    },
    {
     "name": "stderr",
     "output_type": "stream",
     "text": [
      "                                                                      \r"
     ]
    },
    {
     "name": "stdout",
     "output_type": "stream",
     "text": [
      "Processed OCR for image: 2009055346_01"
     ]
    },
    {
     "name": "stderr",
     "output_type": "stream",
     "text": [
      "Processing Images:  84%|████████▍ | 2566/3053 [12:01<01:55,  4.22it/s]"
     ]
    },
    {
     "name": "stdout",
     "output_type": "stream",
     "text": [
      "\n"
     ]
    },
    {
     "name": "stderr",
     "output_type": "stream",
     "text": [
      "Processing Images:  84%|████████▍ | 2567/3053 [12:02<02:14,  3.60it/s]"
     ]
    },
    {
     "name": "stdout",
     "output_type": "stream",
     "text": [
      "Processed OCR for image: 2009055742_01\n",
      "Processed OCR for image: 2009055721_01\n"
     ]
    },
    {
     "name": "stderr",
     "output_type": "stream",
     "text": [
      "Processing Images:  84%|████████▍ | 2568/3053 [12:02<02:16,  3.56it/s]"
     ]
    },
    {
     "name": "stdout",
     "output_type": "stream",
     "text": [
      "Processed OCR for image: 2009055965_01\n",
      "Processed OCR for image: 2009055978_01\n",
      "Processed OCR for image: 2009055968_01\n",
      "Processed OCR for image: 2009054990_01\n",
      "Processed OCR for image: 2009055981_01\n",
      "Processed OCR for image: 2009055985_01\n"
     ]
    },
    {
     "name": "stderr",
     "output_type": "stream",
     "text": [
      "Processing Images:  84%|████████▍ | 2575/3053 [12:03<01:30,  5.31it/s]"
     ]
    },
    {
     "name": "stdout",
     "output_type": "stream",
     "text": [
      "Processed OCR for image: 2009055993_01\n"
     ]
    },
    {
     "name": "stderr",
     "output_type": "stream",
     "text": [
      "Processing Images:  84%|████████▍ | 2576/3053 [12:03<02:04,  3.85it/s]"
     ]
    },
    {
     "name": "stdout",
     "output_type": "stream",
     "text": [
      "Processed OCR for image: 2009055989_01\n"
     ]
    },
    {
     "name": "stderr",
     "output_type": "stream",
     "text": [
      "Processing Images:  84%|████████▍ | 2577/3053 [12:04<02:44,  2.90it/s]"
     ]
    },
    {
     "name": "stdout",
     "output_type": "stream",
     "text": [
      "Processed OCR for image: 2009055995_01\n"
     ]
    },
    {
     "name": "stderr",
     "output_type": "stream",
     "text": [
      "Processing Images:  84%|████████▍ | 2578/3053 [12:05<02:50,  2.78it/s]"
     ]
    },
    {
     "name": "stdout",
     "output_type": "stream",
     "text": [
      "Processed OCR for image: 2009056010_01\n"
     ]
    },
    {
     "name": "stderr",
     "output_type": "stream",
     "text": [
      "Processing Images:  84%|████████▍ | 2579/3053 [12:05<02:45,  2.86it/s]"
     ]
    },
    {
     "name": "stdout",
     "output_type": "stream",
     "text": [
      "Processed OCR for image: 2009056049_01\n"
     ]
    },
    {
     "name": "stderr",
     "output_type": "stream",
     "text": [
      "Processing Images:  85%|████████▍ | 2580/3053 [12:06<04:01,  1.96it/s]"
     ]
    },
    {
     "name": "stdout",
     "output_type": "stream",
     "text": [
      "Processed OCR for image: 2009055990_01\n"
     ]
    },
    {
     "name": "stderr",
     "output_type": "stream",
     "text": [
      "Processing Images:  85%|████████▍ | 2581/3053 [12:07<04:34,  1.72it/s]"
     ]
    },
    {
     "name": "stdout",
     "output_type": "stream",
     "text": [
      "Processed OCR for image: 2009056036_01\n",
      "Processed OCR for image: 2009056033_01\n"
     ]
    },
    {
     "name": "stderr",
     "output_type": "stream",
     "text": [
      "                                                                      "
     ]
    },
    {
     "name": "stdout",
     "output_type": "stream",
     "text": [
      "Processed OCR for image: 2009056059_01\n"
     ]
    },
    {
     "name": "stderr",
     "output_type": "stream",
     "text": [
      "Processing Images:  85%|████████▍ | 2584/3053 [12:08<04:10,  1.87it/s]"
     ]
    },
    {
     "name": "stdout",
     "output_type": "stream",
     "text": [
      "Processed OCR for image: 2009056060_01\n"
     ]
    },
    {
     "name": "stderr",
     "output_type": "stream",
     "text": [
      "                                                                      "
     ]
    },
    {
     "name": "stdout",
     "output_type": "stream",
     "text": [
      "Processed OCR for image: 2009056073_01\n"
     ]
    },
    {
     "name": "stderr",
     "output_type": "stream",
     "text": [
      "Processing Images:  85%|████████▍ | 2586/3053 [12:13<11:51,  1.52s/it]"
     ]
    },
    {
     "name": "stdout",
     "output_type": "stream",
     "text": [
      "Processed OCR for image: 2009056074_01\n"
     ]
    },
    {
     "name": "stderr",
     "output_type": "stream",
     "text": [
      "Processing Images:  85%|████████▍ | 2587/3053 [12:14<10:02,  1.29s/it]"
     ]
    },
    {
     "name": "stdout",
     "output_type": "stream",
     "text": [
      "Processed OCR for image: 2009056162_01\n"
     ]
    },
    {
     "name": "stderr",
     "output_type": "stream",
     "text": [
      "Processing Images:  85%|████████▍ | 2589/3053 [12:14<05:42,  1.35it/s]"
     ]
    },
    {
     "name": "stdout",
     "output_type": "stream",
     "text": [
      "Processed OCR for image: 2009056446_01\n",
      "Processed OCR for image: 2009056328_01\n"
     ]
    },
    {
     "name": "stderr",
     "output_type": "stream",
     "text": [
      "                                                                      \r"
     ]
    },
    {
     "name": "stdout",
     "output_type": "stream",
     "text": [
      "Processed OCR for image: 2009056105_01\n"
     ]
    },
    {
     "name": "stderr",
     "output_type": "stream",
     "text": [
      "Processing Images:  85%|████████▍ | 2590/3053 [12:15<04:16,  1.80it/s]"
     ]
    },
    {
     "name": "stdout",
     "output_type": "stream",
     "text": [
      "Processed OCR for image: 2009056100_01\n"
     ]
    },
    {
     "name": "stderr",
     "output_type": "stream",
     "text": [
      "                                                                      "
     ]
    },
    {
     "name": "stdout",
     "output_type": "stream",
     "text": [
      "Processed OCR for image: 2009056462_01\n"
     ]
    },
    {
     "name": "stderr",
     "output_type": "stream",
     "text": [
      "Processing Images:  85%|████████▍ | 2593/3053 [12:17<05:07,  1.50it/s]"
     ]
    },
    {
     "name": "stdout",
     "output_type": "stream",
     "text": [
      "Processed OCR for image: 2009056469_01\n",
      "Processed OCR for image: 2009056452_01\n",
      "Processed OCR for image: 2009056516_01\n",
      "Processed OCR for image: 2009056521_01\n",
      "Processed OCR for image: 2009056475_01\n",
      "Processed OCR for image: 2009056525_01\n",
      "Processed OCR for image: 2009056585_01\n",
      "Processed OCR for image: 2009056586_01\n",
      "Processed OCR for image: 2009056587_01\n",
      "Processed OCR for image: 2009056612_01\n",
      "Processed OCR for image: 2009056527_01\n",
      "Processed OCR for image: 2009056589_01\n",
      "Processed OCR for image: 2009056590_01\n"
     ]
    },
    {
     "name": "stderr",
     "output_type": "stream",
     "text": [
      "Processing Images:  85%|████████▌ | 2605/3053 [12:17<00:59,  7.57it/s]"
     ]
    },
    {
     "name": "stdout",
     "output_type": "stream",
     "text": [
      "Processed OCR for image: 2009056613_01\n",
      "Processed OCR for image: 2009056614_01\n"
     ]
    },
    {
     "name": "stderr",
     "output_type": "stream",
     "text": [
      "                                                                      \r"
     ]
    },
    {
     "name": "stdout",
     "output_type": "stream",
     "text": [
      "Processed OCR for image: 2009056654_01\n"
     ]
    },
    {
     "name": "stderr",
     "output_type": "stream",
     "text": [
      "                                                                      "
     ]
    },
    {
     "name": "stdout",
     "output_type": "stream",
     "text": [
      "Processed OCR for image: 2009056707_01\n"
     ]
    },
    {
     "name": "stderr",
     "output_type": "stream",
     "text": [
      "Processing Images:  86%|████████▌ | 2613/3053 [12:19<01:29,  4.92it/s]"
     ]
    },
    {
     "name": "stdout",
     "output_type": "stream",
     "text": [
      "Processed OCR for image: 2009056713_01\n",
      "Processed OCR for image: 2009056714_01\n",
      "Processed OCR for image: 2009056729_01\n",
      "Processed OCR for image: 2009056801_01\n"
     ]
    },
    {
     "name": "stderr",
     "output_type": "stream",
     "text": [
      "                                                                      "
     ]
    },
    {
     "name": "stdout",
     "output_type": "stream",
     "text": [
      "Processed OCR for image: 2009056798_01\n"
     ]
    },
    {
     "name": "stderr",
     "output_type": "stream",
     "text": [
      "Processing Images:  86%|████████▌ | 2615/3053 [12:21<02:15,  3.22it/s]"
     ]
    },
    {
     "name": "stdout",
     "output_type": "stream",
     "text": [
      "Processed OCR for image: 2009056809_01\n"
     ]
    },
    {
     "name": "stderr",
     "output_type": "stream",
     "text": [
      "                                                                      "
     ]
    },
    {
     "name": "stdout",
     "output_type": "stream",
     "text": [
      "Processed OCR for image: 2009056807_01\n",
      "Processed OCR for image: 2009056849_01\n"
     ]
    },
    {
     "name": "stderr",
     "output_type": "stream",
     "text": [
      "                                                                      \r"
     ]
    },
    {
     "name": "stdout",
     "output_type": "stream",
     "text": [
      "Processed OCR for image: 2009056957_01\n",
      "Processed OCR for image: 2009056960_01\n",
      "Processed OCR for image: 2009057082_01\n",
      "Processed OCR for image: 2009057112_01\n",
      "Processed OCR for image: 2009057111_01\n"
     ]
    },
    {
     "name": "stderr",
     "output_type": "stream",
     "text": [
      "Processing Images:  86%|████████▌ | 2623/3053 [12:22<01:15,  5.72it/s]"
     ]
    },
    {
     "name": "stdout",
     "output_type": "stream",
     "text": [
      "Processed OCR for image: 2009056994_01\n",
      "Processed OCR for image: 2009057144_01\n",
      "Processed OCR for image: 2009057074_01\n",
      "Processed OCR for image: 2009057150_01\n",
      "Processed OCR for image: 2009057116_01\n",
      "Processed OCR for image: 2009057153_01\n",
      "Processed OCR for image: 2009057160_01\n",
      "Processed OCR for image: 2009057176_01\n",
      "Processed OCR for image: 2009057156_01\n",
      "Processed OCR for image: 2009057199_01\n",
      "Processed OCR for image: 2009057202_01\n",
      "Processed OCR for image: 2009057200_01\n",
      "Processed OCR for image: 2009057233_01\n",
      "Processed OCR for image: 2009057253_01\n",
      "Processed OCR for image: 2009057254_01\n"
     ]
    },
    {
     "name": "stderr",
     "output_type": "stream",
     "text": [
      "Processing Images:  86%|████████▋ | 2638/3053 [12:22<00:34, 12.17it/s]"
     ]
    },
    {
     "name": "stdout",
     "output_type": "stream",
     "text": [
      "Processed OCR for image: 2009057285_01\n"
     ]
    },
    {
     "name": "stderr",
     "output_type": "stream",
     "text": [
      "                                                                      "
     ]
    },
    {
     "name": "stdout",
     "output_type": "stream",
     "text": [
      "Processed OCR for image: 2009057262_01\n"
     ]
    },
    {
     "name": "stderr",
     "output_type": "stream",
     "text": [
      "Processing Images:  86%|████████▋ | 2640/3053 [12:23<00:58,  7.01it/s]"
     ]
    },
    {
     "name": "stdout",
     "output_type": "stream",
     "text": [
      "Processed OCR for image: 2009057284_01\n"
     ]
    },
    {
     "name": "stderr",
     "output_type": "stream",
     "text": [
      "Processing Images:  87%|████████▋ | 2642/3053 [12:24<01:11,  5.76it/s]"
     ]
    },
    {
     "name": "stdout",
     "output_type": "stream",
     "text": [
      "Processed OCR for image: 2009057301_01\n",
      "Processed OCR for image: 2009057256_01\n"
     ]
    },
    {
     "name": "stderr",
     "output_type": "stream",
     "text": [
      "                                                                      \r"
     ]
    },
    {
     "name": "stdout",
     "output_type": "stream",
     "text": [
      "Processed OCR for image: 2009057306_01\n",
      "Processed OCR for image: 2009057318_01\n",
      "Processed OCR for image: 2009057304_01\n",
      "Processed OCR for image: 2009057288_01\n"
     ]
    },
    {
     "name": "stderr",
     "output_type": "stream",
     "text": [
      "Processing Images:  87%|████████▋ | 2647/3053 [12:25<01:00,  6.67it/s]"
     ]
    },
    {
     "name": "stdout",
     "output_type": "stream",
     "text": [
      "Processed OCR for image: 2009057321_01\n",
      "Processed OCR for image: 2009057389_01\n",
      "Processed OCR for image: 2009057446_01\n"
     ]
    },
    {
     "name": "stderr",
     "output_type": "stream",
     "text": [
      "Processing Images:  87%|████████▋ | 2650/3053 [12:26<01:45,  3.81it/s]"
     ]
    },
    {
     "name": "stdout",
     "output_type": "stream",
     "text": [
      "Processed OCR for image: 2009057436_01\n"
     ]
    },
    {
     "name": "stderr",
     "output_type": "stream",
     "text": [
      "Processing Images:  87%|████████▋ | 2652/3053 [12:27<01:57,  3.42it/s]"
     ]
    },
    {
     "name": "stdout",
     "output_type": "stream",
     "text": [
      "Processed OCR for image: 2009057479_01\n",
      "Processed OCR for image: 2009057605_01\n"
     ]
    },
    {
     "name": "stderr",
     "output_type": "stream",
     "text": [
      "Processing Images:  87%|████████▋ | 2653/3053 [12:27<01:47,  3.72it/s]"
     ]
    },
    {
     "name": "stdout",
     "output_type": "stream",
     "text": [
      "Processed OCR for image: 2009057558_01\n",
      "Processed OCR for image: 2009057751_01\n",
      "Processed OCR for image: 2009057434_01\n",
      "Processed OCR for image: 2009057784_01\n",
      "Processed OCR for image: 2009057640_01\n",
      "Processed OCR for image: 2009057850_01\n"
     ]
    },
    {
     "name": "stderr",
     "output_type": "stream",
     "text": [
      "                                                                      \r"
     ]
    },
    {
     "name": "stdout",
     "output_type": "stream",
     "text": [
      "Processed OCR for image: 2009057958_01\n",
      "Processed OCR for image: 2009057934_01\n"
     ]
    },
    {
     "name": "stderr",
     "output_type": "stream",
     "text": [
      "Processing Images:  87%|████████▋ | 2660/3053 [12:30<01:56,  3.36it/s]"
     ]
    },
    {
     "name": "stdout",
     "output_type": "stream",
     "text": [
      "Processed OCR for image: 2009057872_01\n",
      "Processed OCR for image: 2009058243_01\n",
      "Processed OCR for image: 2009058195_01\n",
      "Processed OCR for image: 2009058261_01\n",
      "Processed OCR for image: 2009058274_01\n",
      "Processed OCR for image: 2009058297_01\n"
     ]
    },
    {
     "name": "stderr",
     "output_type": "stream",
     "text": [
      "Processing Images:  87%|████████▋ | 2667/3053 [12:31<01:28,  4.37it/s]"
     ]
    },
    {
     "name": "stdout",
     "output_type": "stream",
     "text": [
      "Processed OCR for image: 2009058364_01\n"
     ]
    },
    {
     "name": "stderr",
     "output_type": "stream",
     "text": [
      "Processing Images:  87%|████████▋ | 2668/3053 [12:31<01:41,  3.78it/s]"
     ]
    },
    {
     "name": "stdout",
     "output_type": "stream",
     "text": [
      "Processed OCR for image: 2009058389_01\n"
     ]
    },
    {
     "name": "stderr",
     "output_type": "stream",
     "text": [
      "Processing Images:  87%|████████▋ | 2669/3053 [12:32<01:50,  3.46it/s]"
     ]
    },
    {
     "name": "stdout",
     "output_type": "stream",
     "text": [
      "Processed OCR for image: 2009058298_01\n"
     ]
    },
    {
     "name": "stderr",
     "output_type": "stream",
     "text": [
      "Processing Images:  87%|████████▋ | 2670/3053 [12:33<02:11,  2.91it/s]"
     ]
    },
    {
     "name": "stdout",
     "output_type": "stream",
     "text": [
      "Processed OCR for image: 2009058537_01\n"
     ]
    },
    {
     "name": "stderr",
     "output_type": "stream",
     "text": [
      "Processing Images:  87%|████████▋ | 2671/3053 [12:33<02:34,  2.48it/s]"
     ]
    },
    {
     "name": "stdout",
     "output_type": "stream",
     "text": [
      "Processed OCR for image: 2009058673_01\n"
     ]
    },
    {
     "name": "stderr",
     "output_type": "stream",
     "text": [
      "                                                                      "
     ]
    },
    {
     "name": "stdout",
     "output_type": "stream",
     "text": [
      "Processed OCR for image: 2009058483_01\n"
     ]
    },
    {
     "name": "stderr",
     "output_type": "stream",
     "text": [
      "Processing Images:  88%|████████▊ | 2673/3053 [12:34<03:01,  2.09it/s]"
     ]
    },
    {
     "name": "stdout",
     "output_type": "stream",
     "text": [
      "Processed OCR for image: 2009058687_01\n"
     ]
    },
    {
     "name": "stderr",
     "output_type": "stream",
     "text": [
      "Processing Images:  88%|████████▊ | 2673/3053 [12:35<03:01,  2.09it/s]"
     ]
    },
    {
     "name": "stdout",
     "output_type": "stream",
     "text": [
      "Processed OCR for image: 2009058414_01\n"
     ]
    },
    {
     "name": "stderr",
     "output_type": "stream",
     "text": [
      "Processing Images:  88%|████████▊ | 2675/3053 [12:36<03:44,  1.68it/s]"
     ]
    },
    {
     "name": "stdout",
     "output_type": "stream",
     "text": [
      "Processed OCR for image: 2009058751_01\n"
     ]
    },
    {
     "name": "stderr",
     "output_type": "stream",
     "text": [
      "Processing Images:  88%|████████▊ | 2677/3053 [12:37<02:56,  2.13it/s]"
     ]
    },
    {
     "name": "stdout",
     "output_type": "stream",
     "text": [
      "Processed OCR for image: 2009058762_01\n",
      "Processed OCR for image: 2009058846_01\n"
     ]
    },
    {
     "name": "stderr",
     "output_type": "stream",
     "text": [
      "Processing Images:  88%|████████▊ | 2677/3053 [12:37<02:56,  2.13it/s]"
     ]
    },
    {
     "name": "stdout",
     "output_type": "stream",
     "text": [
      "Processed OCR for image: 2009058802_01\n",
      "Processed OCR for image: 2009058906_01\n",
      "Processed OCR for image: 2009059089_01\n",
      "Processed OCR for image: 2009058885_01\n",
      "Processed OCR for image: 2009059104_01\n",
      "Processed OCR for image: 2009059064_01\n",
      "Processed OCR for image: 2009059492_01\n",
      "Processed OCR for image: 2009059170_01\n",
      "Processed OCR for image: 2009059210_01\n",
      "Processed OCR for image: 2009059493_01\n",
      "Processed OCR for image: 2009059577_01\n",
      "Processed OCR for image: 2009059578_01\n",
      "Processed OCR for image: 2009059575_01\n",
      "Processed OCR for image: 2009059584_01\n"
     ]
    },
    {
     "name": "stderr",
     "output_type": "stream",
     "text": [
      "                                                                      \r"
     ]
    },
    {
     "name": "stdout",
     "output_type": "stream",
     "text": [
      "Processed OCR for image: 2009059585_01\n"
     ]
    },
    {
     "name": "stderr",
     "output_type": "stream",
     "text": [
      "                                                                      \r"
     ]
    },
    {
     "name": "stdout",
     "output_type": "stream",
     "text": [
      "Processed OCR for image: 2009059587_01\n",
      "Processed OCR for image: 2009059633_01\n",
      "Processed OCR for image: 2009059770_01\n"
     ]
    },
    {
     "name": "stderr",
     "output_type": "stream",
     "text": [
      "Processing Images:  88%|████████▊ | 2696/3053 [12:39<00:55,  6.42it/s]"
     ]
    },
    {
     "name": "stdout",
     "output_type": "stream",
     "text": [
      "Processed OCR for image: 2009059700_01\n",
      "Processed OCR for image: 2009059805_01\n",
      "Processed OCR for image: 2009059873_01\n",
      "Processed OCR for image: 2009059941_01\n"
     ]
    },
    {
     "name": "stderr",
     "output_type": "stream",
     "text": [
      "Processing Images:  88%|████████▊ | 2700/3053 [12:39<00:52,  6.75it/s]"
     ]
    },
    {
     "name": "stdout",
     "output_type": "stream",
     "text": [
      "Processed OCR for image: 2009059968_01\n"
     ]
    },
    {
     "name": "stderr",
     "output_type": "stream",
     "text": [
      "Processing Images:  88%|████████▊ | 2701/3053 [12:41<01:29,  3.95it/s]"
     ]
    },
    {
     "name": "stdout",
     "output_type": "stream",
     "text": [
      "Processed OCR for image: 2009060054_01\n"
     ]
    },
    {
     "name": "stderr",
     "output_type": "stream",
     "text": [
      "Processing Images:  89%|████████▊ | 2702/3053 [12:41<01:52,  3.12it/s]"
     ]
    },
    {
     "name": "stdout",
     "output_type": "stream",
     "text": [
      "Processed OCR for image: 2009060088_01\n",
      "Processed OCR for image: 2009060096_01\n",
      "Processed OCR for image: 2009060023_01\n",
      "Processed OCR for image: 2009060025_01\n",
      "Processed OCR for image: 2009060102_01\n",
      "Processed OCR for image: 2009060108_01\n",
      "Processed OCR for image: 2009060092_01\n"
     ]
    },
    {
     "name": "stderr",
     "output_type": "stream",
     "text": [
      "Processing Images:  89%|████████▊ | 2709/3053 [12:42<01:05,  5.28it/s]"
     ]
    },
    {
     "name": "stdout",
     "output_type": "stream",
     "text": [
      "Processed OCR for image: 2009060112_01\n",
      "Processed OCR for image: 2009060109_01\n"
     ]
    },
    {
     "name": "stderr",
     "output_type": "stream",
     "text": [
      "Processing Images:  89%|████████▉ | 2711/3053 [12:43<01:19,  4.28it/s]"
     ]
    },
    {
     "name": "stdout",
     "output_type": "stream",
     "text": [
      "Processed OCR for image: 2009060139_01\n"
     ]
    },
    {
     "name": "stderr",
     "output_type": "stream",
     "text": [
      "                                                                      "
     ]
    },
    {
     "name": "stdout",
     "output_type": "stream",
     "text": [
      "Processed OCR for image: 2009060146_01\n"
     ]
    },
    {
     "name": "stderr",
     "output_type": "stream",
     "text": [
      "Processing Images:  89%|████████▉ | 2713/3053 [12:44<01:37,  3.48it/s]"
     ]
    },
    {
     "name": "stdout",
     "output_type": "stream",
     "text": [
      "Processed OCR for image: 2009060151_01\n"
     ]
    },
    {
     "name": "stderr",
     "output_type": "stream",
     "text": [
      "                                                                      "
     ]
    },
    {
     "name": "stdout",
     "output_type": "stream",
     "text": [
      "Processed OCR for image: 2009060150_01\n"
     ]
    },
    {
     "name": "stderr",
     "output_type": "stream",
     "text": [
      "                                                                      "
     ]
    },
    {
     "name": "stdout",
     "output_type": "stream",
     "text": [
      "Processed OCR for image: 2009060140_01\n"
     ]
    },
    {
     "name": "stderr",
     "output_type": "stream",
     "text": [
      "Processing Images:  89%|████████▉ | 2716/3053 [12:46<02:13,  2.52it/s]"
     ]
    },
    {
     "name": "stdout",
     "output_type": "stream",
     "text": [
      "Processed OCR for image: 2009060166_01\n"
     ]
    },
    {
     "name": "stderr",
     "output_type": "stream",
     "text": [
      "                                                                      \r"
     ]
    },
    {
     "name": "stdout",
     "output_type": "stream",
     "text": [
      "Processed OCR for image: 2009060156_01\n"
     ]
    },
    {
     "name": "stderr",
     "output_type": "stream",
     "text": [
      "Processing Images:  89%|████████▉ | 2718/3053 [12:47<02:25,  2.30it/s]"
     ]
    },
    {
     "name": "stdout",
     "output_type": "stream",
     "text": [
      "Processed OCR for image: 2009060378_01\n"
     ]
    },
    {
     "name": "stderr",
     "output_type": "stream",
     "text": [
      "Processing Images:  89%|████████▉ | 2719/3053 [12:47<02:39,  2.09it/s]"
     ]
    },
    {
     "name": "stdout",
     "output_type": "stream",
     "text": [
      "Processed OCR for image: 2009060149_01\n"
     ]
    },
    {
     "name": "stderr",
     "output_type": "stream",
     "text": [
      "Processing Images:  89%|████████▉ | 2721/3053 [12:48<02:27,  2.25it/s]"
     ]
    },
    {
     "name": "stdout",
     "output_type": "stream",
     "text": [
      "Processed OCR for image: 2009060172_01\n",
      "Processed OCR for image: 2009060909_01\n"
     ]
    },
    {
     "name": "stderr",
     "output_type": "stream",
     "text": [
      "Processing Images:  89%|████████▉ | 2722/3053 [12:48<01:56,  2.84it/s]"
     ]
    },
    {
     "name": "stdout",
     "output_type": "stream",
     "text": [
      "Processed OCR for image: 2009061088_01\n",
      "Processed OCR for image: 2009060994_01\n",
      "Processed OCR for image: 2009061089_01\n",
      "Processed OCR for image: 2009061105_01\n",
      "Processed OCR for image: 2009061103_01\n",
      "Processed OCR for image: 2009061108_01\n",
      "Processed OCR for image: 2009061107_01\n",
      "Processed OCR for image: 2009061116_01\n",
      "Processed OCR for image: 2009061304_01\n",
      "Processed OCR for image: 2009061117_01\n",
      "Processed OCR for image: 2009061305_01\n"
     ]
    },
    {
     "name": "stderr",
     "output_type": "stream",
     "text": [
      "Processing Images:  90%|████████▉ | 2733/3053 [12:49<00:50,  6.34it/s]"
     ]
    },
    {
     "name": "stdout",
     "output_type": "stream",
     "text": [
      "Processed OCR for image: 2009061350_01\n"
     ]
    },
    {
     "name": "stderr",
     "output_type": "stream",
     "text": [
      "Processing Images:  90%|████████▉ | 2734/3053 [12:50<01:09,  4.56it/s]"
     ]
    },
    {
     "name": "stdout",
     "output_type": "stream",
     "text": [
      "Processed OCR for image: 2009061343_01\n",
      "Processed OCR for image: 2009061532_01\n"
     ]
    },
    {
     "name": "stderr",
     "output_type": "stream",
     "text": [
      "Processing Images:  90%|████████▉ | 2736/3053 [12:51<01:20,  3.95it/s]"
     ]
    },
    {
     "name": "stdout",
     "output_type": "stream",
     "text": [
      "Processed OCR for image: 2009061426_01\n"
     ]
    },
    {
     "name": "stderr",
     "output_type": "stream",
     "text": [
      "                                                                      "
     ]
    },
    {
     "name": "stdout",
     "output_type": "stream",
     "text": [
      "Processed OCR for image: 2009061554_01\n"
     ]
    },
    {
     "name": "stderr",
     "output_type": "stream",
     "text": [
      "Processing Images:  90%|████████▉ | 2738/3053 [12:52<02:02,  2.57it/s]"
     ]
    },
    {
     "name": "stdout",
     "output_type": "stream",
     "text": [
      "Processed OCR for image: 2009061766_01\n"
     ]
    },
    {
     "name": "stderr",
     "output_type": "stream",
     "text": [
      "Processing Images:  90%|████████▉ | 2740/3053 [12:53<01:37,  3.21it/s]"
     ]
    },
    {
     "name": "stdout",
     "output_type": "stream",
     "text": [
      "Processed OCR for image: 2009061704_01\n",
      "Processed OCR for image: 2009061733_01\n"
     ]
    },
    {
     "name": "stderr",
     "output_type": "stream",
     "text": [
      "Processing Images:  90%|████████▉ | 2741/3053 [12:53<01:58,  2.63it/s]"
     ]
    },
    {
     "name": "stdout",
     "output_type": "stream",
     "text": [
      "Processed OCR for image: 2009061831_01\n"
     ]
    },
    {
     "name": "stderr",
     "output_type": "stream",
     "text": [
      "Processing Images:  90%|████████▉ | 2743/3053 [12:55<02:31,  2.04it/s]"
     ]
    },
    {
     "name": "stdout",
     "output_type": "stream",
     "text": [
      "Processed OCR for image: 2009061792_01\n",
      "Processed OCR for image: 2009061904_01\n"
     ]
    },
    {
     "name": "stderr",
     "output_type": "stream",
     "text": [
      "Processing Images:  90%|████████▉ | 2744/3053 [12:55<02:22,  2.17it/s]"
     ]
    },
    {
     "name": "stdout",
     "output_type": "stream",
     "text": [
      "Processed OCR for image: 2009061788_01\n"
     ]
    },
    {
     "name": "stderr",
     "output_type": "stream",
     "text": [
      "                                                                      "
     ]
    },
    {
     "name": "stdout",
     "output_type": "stream",
     "text": [
      "Processed OCR for image: 2009061906_01\n"
     ]
    },
    {
     "name": "stderr",
     "output_type": "stream",
     "text": [
      "Processing Images:  90%|████████▉ | 2745/3053 [12:56<02:08,  2.39it/s]"
     ]
    },
    {
     "name": "stdout",
     "output_type": "stream",
     "text": [
      "Processed OCR for image: 2009061921_01\n"
     ]
    },
    {
     "name": "stderr",
     "output_type": "stream",
     "text": [
      "Processing Images:  90%|████████▉ | 2747/3053 [12:56<02:26,  2.09it/s]"
     ]
    },
    {
     "name": "stdout",
     "output_type": "stream",
     "text": [
      "Processed OCR for image: 2009061927_01\n"
     ]
    },
    {
     "name": "stderr",
     "output_type": "stream",
     "text": [
      "                                                                      \r"
     ]
    },
    {
     "name": "stdout",
     "output_type": "stream",
     "text": [
      "Processed OCR for image: 2009061922_01\n",
      "Processed OCR for image: 2009061930_01\n"
     ]
    },
    {
     "name": "stderr",
     "output_type": "stream",
     "text": [
      "Processing Images:  90%|█████████ | 2750/3053 [12:58<02:10,  2.32it/s]"
     ]
    },
    {
     "name": "stdout",
     "output_type": "stream",
     "text": [
      "Processed OCR for image: 2009061953_01\n"
     ]
    },
    {
     "name": "stderr",
     "output_type": "stream",
     "text": [
      "                                                                      "
     ]
    },
    {
     "name": "stdout",
     "output_type": "stream",
     "text": [
      "Processed OCR for image: 2009061951_01\n"
     ]
    },
    {
     "name": "stderr",
     "output_type": "stream",
     "text": [
      "Processing Images:  90%|█████████ | 2752/3053 [12:59<02:21,  2.13it/s]"
     ]
    },
    {
     "name": "stdout",
     "output_type": "stream",
     "text": [
      "Processed OCR for image: 2009061946_01\n",
      "Processed OCR for image: 2009061948_01\n"
     ]
    },
    {
     "name": "stderr",
     "output_type": "stream",
     "text": [
      "                                                                      "
     ]
    },
    {
     "name": "stdout",
     "output_type": "stream",
     "text": [
      "Processed OCR for image: 2009062009_01\n"
     ]
    },
    {
     "name": "stderr",
     "output_type": "stream",
     "text": [
      "Processing Images:  90%|█████████ | 2755/3053 [13:01<02:59,  1.66it/s]"
     ]
    },
    {
     "name": "stdout",
     "output_type": "stream",
     "text": [
      "Processed OCR for image: 2009062004_01\n",
      "Processed OCR for image: 2009061964_01\n"
     ]
    },
    {
     "name": "stderr",
     "output_type": "stream",
     "text": [
      "Processing Images:  90%|█████████ | 2757/3053 [13:01<01:52,  2.64it/s]"
     ]
    },
    {
     "name": "stdout",
     "output_type": "stream",
     "text": [
      "Processed OCR for image: 2009062031_01\n",
      "Processed OCR for image: 2009062034_01\n",
      "Processed OCR for image: 2009062035_01\n"
     ]
    },
    {
     "name": "stderr",
     "output_type": "stream",
     "text": [
      "                                                                      "
     ]
    },
    {
     "name": "stdout",
     "output_type": "stream",
     "text": [
      "Processed OCR for image: 2009062104_01\n"
     ]
    },
    {
     "name": "stderr",
     "output_type": "stream",
     "text": [
      "Processing Images:  90%|█████████ | 2761/3053 [13:03<01:54,  2.56it/s]"
     ]
    },
    {
     "name": "stdout",
     "output_type": "stream",
     "text": [
      "Processed OCR for image: 2009062286_01\n"
     ]
    },
    {
     "name": "stderr",
     "output_type": "stream",
     "text": [
      "                                                                      "
     ]
    },
    {
     "name": "stdout",
     "output_type": "stream",
     "text": [
      "Processed OCR for image: 2009062258_01\n",
      "Processed OCR for image: 2009062241_01\n",
      "Processed OCR for image: 2009062291_01\n",
      "Processed OCR for image: 2009062297_01\n"
     ]
    },
    {
     "name": "stderr",
     "output_type": "stream",
     "text": [
      "                                                                      \r"
     ]
    },
    {
     "name": "stdout",
     "output_type": "stream",
     "text": [
      "Processed OCR for image: 2009062302_01\n"
     ]
    },
    {
     "name": "stderr",
     "output_type": "stream",
     "text": [
      "Processing Images:  91%|█████████ | 2768/3053 [13:04<01:14,  3.81it/s]"
     ]
    },
    {
     "name": "stdout",
     "output_type": "stream",
     "text": [
      "Processed OCR for image: 2009062290_01\n",
      "Processed OCR for image: 2009062308_01\n"
     ]
    },
    {
     "name": "stderr",
     "output_type": "stream",
     "text": [
      "Processing Images:  91%|█████████ | 2769/3053 [13:05<01:41,  2.79it/s]"
     ]
    },
    {
     "name": "stdout",
     "output_type": "stream",
     "text": [
      "Processed OCR for image: 2009062316_01\n"
     ]
    },
    {
     "name": "stderr",
     "output_type": "stream",
     "text": [
      "                                                                      \r"
     ]
    },
    {
     "name": "stdout",
     "output_type": "stream",
     "text": [
      "Processed OCR for image: 2009062329_01\n"
     ]
    },
    {
     "name": "stderr",
     "output_type": "stream",
     "text": [
      "                                                                      "
     ]
    },
    {
     "name": "stdout",
     "output_type": "stream",
     "text": [
      "Processed OCR for image: 2009062326_01\n"
     ]
    },
    {
     "name": "stderr",
     "output_type": "stream",
     "text": [
      "Processing Images:  91%|█████████▏| 2790/3053 [13:07<00:15, 17.17it/s]"
     ]
    },
    {
     "name": "stdout",
     "output_type": "stream",
     "text": [
      "Processed OCR for image: 2009062336_01\n",
      "Processed OCR for image: 2009062331_01\n",
      "Processed OCR for image: 2009062437_01\n",
      "Processed OCR for image: 2009062503_01\n",
      "Processed OCR for image: 2009062393_01\n",
      "Processed OCR for image: 2009062588_01\n",
      "Processed OCR for image: 2009062597_01\n",
      "Processed OCR for image: 2009062648_01\n",
      "Processed OCR for image: 2009062624_01\n",
      "Processed OCR for image: 2009062752_01\n",
      "Processed OCR for image: 2009062654_01\n",
      "Processed OCR for image: 2009062743_01\n",
      "Processed OCR for image: 2009062987_01\n",
      "Processed OCR for image: 2009063074_01\n",
      "Processed OCR for image: 2009062996_01\n",
      "Processed OCR for image: 2009063385_01\n",
      "Processed OCR for image: 2009063121_01\n",
      "Processed OCR for image: 2009063391_01\n",
      "Processed OCR for image: 2009063471_01\n"
     ]
    },
    {
     "name": "stderr",
     "output_type": "stream",
     "text": [
      "Processing Images:  91%|█████████▏| 2790/3053 [13:08<00:15, 17.17it/s]"
     ]
    },
    {
     "name": "stdout",
     "output_type": "stream",
     "text": [
      "Processed OCR for image: 2009063504_01\n",
      "Processed OCR for image: 2009063460_01\n"
     ]
    },
    {
     "name": "stderr",
     "output_type": "stream",
     "text": [
      "Processing Images:  91%|█████████▏| 2790/3053 [13:09<00:15, 17.17it/s]"
     ]
    },
    {
     "name": "stdout",
     "output_type": "stream",
     "text": [
      "Processed OCR for image: 2009064032_01\n",
      "Processed OCR for image: 2009063505_01\n"
     ]
    },
    {
     "name": "stderr",
     "output_type": "stream",
     "text": [
      "                                                                      "
     ]
    },
    {
     "name": "stdout",
     "output_type": "stream",
     "text": [
      "Processed OCR for image: 2009063915_01\n",
      "Processed OCR for image: 2009063783_01\n"
     ]
    },
    {
     "name": "stderr",
     "output_type": "stream",
     "text": [
      "                                                                      "
     ]
    },
    {
     "name": "stdout",
     "output_type": "stream",
     "text": [
      "Processed OCR for image: 2009064080_01\n"
     ]
    },
    {
     "name": "stderr",
     "output_type": "stream",
     "text": [
      "Processing Images:  92%|█████████▏| 2795/3053 [13:10<00:40,  6.45it/s]"
     ]
    },
    {
     "name": "stdout",
     "output_type": "stream",
     "text": [
      "Processed OCR for image: 2009064515_01\n"
     ]
    },
    {
     "name": "stderr",
     "output_type": "stream",
     "text": [
      "Processing Images:  92%|█████████▏| 2799/3053 [13:11<00:57,  4.44it/s]"
     ]
    },
    {
     "name": "stdout",
     "output_type": "stream",
     "text": [
      "Processed OCR for image: 2009064530_01\n"
     ]
    },
    {
     "name": "stderr",
     "output_type": "stream",
     "text": [
      "                                                                      \r"
     ]
    },
    {
     "name": "stdout",
     "output_type": "stream",
     "text": [
      "Processed OCR for image: 2009064514_01\n"
     ]
    },
    {
     "name": "stderr",
     "output_type": "stream",
     "text": [
      "Processing Images:  92%|█████████▏| 2799/3053 [13:11<00:57,  4.44it/s]"
     ]
    },
    {
     "name": "stdout",
     "output_type": "stream",
     "text": [
      "Processed OCR for image: 2009064541_01\n"
     ]
    },
    {
     "name": "stderr",
     "output_type": "stream",
     "text": [
      "Processing Images:  92%|█████████▏| 2802/3053 [13:12<01:07,  3.71it/s]"
     ]
    },
    {
     "name": "stdout",
     "output_type": "stream",
     "text": [
      "Processed OCR for image: 2009064543_01\n"
     ]
    },
    {
     "name": "stderr",
     "output_type": "stream",
     "text": [
      "                                                                      \r"
     ]
    },
    {
     "name": "stdout",
     "output_type": "stream",
     "text": [
      "Processed OCR for image: 2009064588_01\n"
     ]
    },
    {
     "name": "stderr",
     "output_type": "stream",
     "text": [
      "                                                                      \r"
     ]
    },
    {
     "name": "stdout",
     "output_type": "stream",
     "text": [
      "Processed OCR for image: 2009064707_01\n"
     ]
    },
    {
     "name": "stderr",
     "output_type": "stream",
     "text": [
      "Processing Images:  92%|█████████▏| 2804/3053 [13:13<01:13,  3.37it/s]"
     ]
    },
    {
     "name": "stdout",
     "output_type": "stream",
     "text": [
      "Processed OCR for image: 2009064535_01\n",
      "Processed OCR for image: 2009064584_01\n"
     ]
    },
    {
     "name": "stderr",
     "output_type": "stream",
     "text": [
      "Processing Images:  92%|█████████▏| 2823/3053 [13:14<00:23,  9.59it/s]"
     ]
    },
    {
     "name": "stdout",
     "output_type": "stream",
     "text": [
      "Processed OCR for image: 2009064807_01\n",
      "Processed OCR for image: 2009064806_01\n",
      "Processed OCR for image: 2009064886_01\n",
      "Processed OCR for image: 2009064978_01\n",
      "Processed OCR for image: 2009065009_01\n",
      "Processed OCR for image: 2009065052_01\n",
      "Processed OCR for image: 2009065035_01\n",
      "Processed OCR for image: 2009065038_01\n",
      "Processed OCR for image: 2009065032_01\n",
      "Processed OCR for image: 2009065054_01\n",
      "Processed OCR for image: 2009065002_01\n",
      "Processed OCR for image: 2009065064_01\n",
      "Processed OCR for image: 2009065080_01\n",
      "Processed OCR for image: 2009065086_01\n",
      "Processed OCR for image: 2009065107_01\n",
      "Processed OCR for image: 2009065096_01\n",
      "Processed OCR for image: 2009065112_01\n",
      "Processed OCR for image: 2009065267_01\n",
      "Processed OCR for image: 2009065395_01\n",
      "Processed OCR for image: 2009065467_01\n",
      "Processed OCR for image: 2009065569_01\n"
     ]
    },
    {
     "name": "stderr",
     "output_type": "stream",
     "text": [
      "Processing Images:  92%|█████████▏| 2823/3053 [13:15<00:23,  9.59it/s]"
     ]
    },
    {
     "name": "stdout",
     "output_type": "stream",
     "text": [
      "Processed OCR for image: 2009065990_01\n",
      "Processed OCR for image: 2009065993_01\n"
     ]
    },
    {
     "name": "stderr",
     "output_type": "stream",
     "text": [
      "                                                                      \r"
     ]
    },
    {
     "name": "stdout",
     "output_type": "stream",
     "text": [
      "Processed OCR for image: 2009066014_01\n"
     ]
    },
    {
     "name": "stderr",
     "output_type": "stream",
     "text": [
      "Processing Images:  93%|█████████▎| 2834/3053 [13:16<00:34,  6.33it/s]"
     ]
    },
    {
     "name": "stdout",
     "output_type": "stream",
     "text": [
      "Processed OCR for image: 2009065946_01\n",
      "Processed OCR for image: 2009065748_01\n",
      "Processed OCR for image: 2009066016_01\n",
      "Processed OCR for image: 2009066078_01\n",
      "Processed OCR for image: 2009066041_01\n",
      "Processed OCR for image: 2009066085_01\n"
     ]
    },
    {
     "name": "stderr",
     "output_type": "stream",
     "text": [
      "Processing Images:  93%|█████████▎| 2837/3053 [13:17<00:32,  6.65it/s]"
     ]
    },
    {
     "name": "stdout",
     "output_type": "stream",
     "text": [
      "Processed OCR for image: 2009066109_01\n"
     ]
    },
    {
     "name": "stderr",
     "output_type": "stream",
     "text": [
      "Processing Images:  93%|█████████▎| 2837/3053 [13:18<00:32,  6.65it/s]"
     ]
    },
    {
     "name": "stdout",
     "output_type": "stream",
     "text": [
      "Processed OCR for image: 2009066227_01\n"
     ]
    },
    {
     "name": "stderr",
     "output_type": "stream",
     "text": [
      "Processing Images:  93%|█████████▎| 2837/3053 [13:19<00:32,  6.65it/s]"
     ]
    },
    {
     "name": "stdout",
     "output_type": "stream",
     "text": [
      "Processed OCR for image: 2009066113_01\n",
      "Processed OCR for image: 2009066307_01\n"
     ]
    },
    {
     "name": "stderr",
     "output_type": "stream",
     "text": [
      "Processing Images:  93%|█████████▎| 2840/3053 [13:19<00:55,  3.83it/s]"
     ]
    },
    {
     "name": "stdout",
     "output_type": "stream",
     "text": [
      "Processed OCR for image: 2009066390_01\n",
      "Processed OCR for image: 2009066295_01\n",
      "Processed OCR for image: 2009066160_01\n",
      "Processed OCR for image: 2009066423_01\n",
      "Processed OCR for image: 2009066464_01\n"
     ]
    },
    {
     "name": "stderr",
     "output_type": "stream",
     "text": [
      "Processing Images:  93%|█████████▎| 2846/3053 [13:20<00:50,  4.06it/s]"
     ]
    },
    {
     "name": "stdout",
     "output_type": "stream",
     "text": [
      "Processed OCR for image: 2009066648_01\n"
     ]
    },
    {
     "name": "stderr",
     "output_type": "stream",
     "text": [
      "Processing Images:  93%|█████████▎| 2846/3053 [13:21<00:50,  4.06it/s]"
     ]
    },
    {
     "name": "stdout",
     "output_type": "stream",
     "text": [
      "Processed OCR for image: 2009066496_01\n"
     ]
    },
    {
     "name": "stderr",
     "output_type": "stream",
     "text": [
      "Processing Images:  93%|█████████▎| 2851/3053 [13:22<00:47,  4.24it/s]"
     ]
    },
    {
     "name": "stdout",
     "output_type": "stream",
     "text": [
      "Processed OCR for image: 2009066663_01\n",
      "Processed OCR for image: 2009066649_01\n",
      "Processed OCR for image: 2009066689_01\n",
      "Processed OCR for image: 2009066797_01\n"
     ]
    },
    {
     "name": "stderr",
     "output_type": "stream",
     "text": [
      "Processing Images:  93%|█████████▎| 2851/3053 [13:22<00:47,  4.24it/s]"
     ]
    },
    {
     "name": "stdout",
     "output_type": "stream",
     "text": [
      "Processed OCR for image: 2009066731_01\n",
      "Processed OCR for image: 2009066718_01\n"
     ]
    },
    {
     "name": "stderr",
     "output_type": "stream",
     "text": [
      "Processing Images:  93%|█████████▎| 2854/3053 [13:23<01:02,  3.17it/s]"
     ]
    },
    {
     "name": "stdout",
     "output_type": "stream",
     "text": [
      "Processed OCR for image: 2009066823_01\n"
     ]
    },
    {
     "name": "stderr",
     "output_type": "stream",
     "text": [
      "                                                                      "
     ]
    },
    {
     "name": "stdout",
     "output_type": "stream",
     "text": [
      "Processed OCR for image: 2009066843_01\n",
      "Processed OCR for image: 2009067032_01\n"
     ]
    },
    {
     "name": "stderr",
     "output_type": "stream",
     "text": [
      "Processing Images:  94%|█████████▎| 2856/3053 [13:24<01:00,  3.24it/s]"
     ]
    },
    {
     "name": "stdout",
     "output_type": "stream",
     "text": [
      "Processed OCR for image: 2009066846_01\n",
      "Processed OCR for image: 2009067160_01\n",
      "Processed OCR for image: 2009067044_01\n",
      "Processed OCR for image: 2009067100_01\n",
      "Processed OCR for image: 2009066840_01\n"
     ]
    },
    {
     "name": "stderr",
     "output_type": "stream",
     "text": [
      "Processing Images:  94%|█████████▎| 2862/3053 [13:24<00:38,  4.92it/s]"
     ]
    },
    {
     "name": "stdout",
     "output_type": "stream",
     "text": [
      "Processed OCR for image: 2009067227_01\n"
     ]
    },
    {
     "name": "stderr",
     "output_type": "stream",
     "text": [
      "                                                                      "
     ]
    },
    {
     "name": "stdout",
     "output_type": "stream",
     "text": [
      "Processed OCR for image: 2009067250_01\n"
     ]
    },
    {
     "name": "stderr",
     "output_type": "stream",
     "text": [
      "Processing Images:  94%|█████████▍| 2864/3053 [13:26<01:06,  2.83it/s]"
     ]
    },
    {
     "name": "stdout",
     "output_type": "stream",
     "text": [
      "Processed OCR for image: 2009067538_01\n",
      "Processed OCR for image: 2009067397_01\n",
      "Processed OCR for image: 2009067536_01\n",
      "Processed OCR for image: 2009067570_01\n",
      "Processed OCR for image: 2009067510_01\n",
      "Processed OCR for image: 2009067588_01\n"
     ]
    },
    {
     "name": "stderr",
     "output_type": "stream",
     "text": [
      "Processing Images:  94%|█████████▍| 2870/3053 [13:27<00:35,  5.18it/s]"
     ]
    },
    {
     "name": "stdout",
     "output_type": "stream",
     "text": [
      "Processed OCR for image: 2009067641_01\n"
     ]
    },
    {
     "name": "stderr",
     "output_type": "stream",
     "text": [
      "                                                                      "
     ]
    },
    {
     "name": "stdout",
     "output_type": "stream",
     "text": [
      "Processed OCR for image: 2009067660_01\n"
     ]
    },
    {
     "name": "stderr",
     "output_type": "stream",
     "text": [
      "Processing Images:  94%|█████████▍| 2872/3053 [13:29<01:06,  2.74it/s]"
     ]
    },
    {
     "name": "stdout",
     "output_type": "stream",
     "text": [
      "Processed OCR for image: 2009067749_01\n",
      "Processed OCR for image: 2009067848_01\n"
     ]
    },
    {
     "name": "stderr",
     "output_type": "stream",
     "text": [
      "Processing Images:  94%|█████████▍| 2873/3053 [13:29<01:02,  2.87it/s]"
     ]
    },
    {
     "name": "stdout",
     "output_type": "stream",
     "text": [
      "Processed OCR for image: 2009067869_01\n",
      "Processed OCR for image: 2009067830_01\n",
      "Processed OCR for image: 2009067860_01\n",
      "Processed OCR for image: 2009067888_01\n",
      "Processed OCR for image: 2009067871_01\n"
     ]
    },
    {
     "name": "stderr",
     "output_type": "stream",
     "text": [
      "Processing Images:  94%|█████████▍| 2873/3053 [13:30<01:02,  2.87it/s]"
     ]
    },
    {
     "name": "stdout",
     "output_type": "stream",
     "text": [
      "Processed OCR for image: 2009067915_01\n"
     ]
    },
    {
     "name": "stderr",
     "output_type": "stream",
     "text": [
      "                                                                      "
     ]
    },
    {
     "name": "stdout",
     "output_type": "stream",
     "text": [
      "Processed OCR for image: 2009067916_01\n"
     ]
    },
    {
     "name": "stderr",
     "output_type": "stream",
     "text": [
      "                                                                      "
     ]
    },
    {
     "name": "stdout",
     "output_type": "stream",
     "text": [
      "Processed OCR for image: 2009067959_01\n"
     ]
    },
    {
     "name": "stderr",
     "output_type": "stream",
     "text": [
      "Processing Images:  94%|█████████▍| 2882/3053 [13:33<01:12,  2.36it/s]"
     ]
    },
    {
     "name": "stdout",
     "output_type": "stream",
     "text": [
      "Processed OCR for image: 2009067968_01\n",
      "Processed OCR for image: 2009068004_01\n"
     ]
    },
    {
     "name": "stderr",
     "output_type": "stream",
     "text": [
      "Processing Images:  94%|█████████▍| 2884/3053 [13:33<01:19,  2.13it/s]"
     ]
    },
    {
     "name": "stdout",
     "output_type": "stream",
     "text": [
      "Processed OCR for image: 2009067970_01\n"
     ]
    },
    {
     "name": "stderr",
     "output_type": "stream",
     "text": [
      "Processing Images:  94%|█████████▍| 2885/3053 [13:34<01:30,  1.86it/s]"
     ]
    },
    {
     "name": "stdout",
     "output_type": "stream",
     "text": [
      "Processed OCR for image: 2009067997_01\n"
     ]
    },
    {
     "name": "stderr",
     "output_type": "stream",
     "text": [
      "Processing Images:  95%|█████████▍| 2886/3053 [13:35<01:30,  1.85it/s]"
     ]
    },
    {
     "name": "stdout",
     "output_type": "stream",
     "text": [
      "Processed OCR for image: 2009068060_01\n"
     ]
    },
    {
     "name": "stderr",
     "output_type": "stream",
     "text": [
      "Processing Images:  95%|█████████▍| 2887/3053 [13:35<01:35,  1.73it/s]"
     ]
    },
    {
     "name": "stdout",
     "output_type": "stream",
     "text": [
      "Processed OCR for image: 2009067996_01\n"
     ]
    },
    {
     "name": "stderr",
     "output_type": "stream",
     "text": [
      "Processing Images:  95%|█████████▍| 2888/3053 [13:36<01:45,  1.56it/s]"
     ]
    },
    {
     "name": "stdout",
     "output_type": "stream",
     "text": [
      "Processed OCR for image: 2009068014_01\n",
      "Processed OCR for image: 2009068084_01\n",
      "Processed OCR for image: 2009068066_01\n"
     ]
    },
    {
     "name": "stderr",
     "output_type": "stream",
     "text": [
      "Processing Images:  95%|█████████▍| 2891/3053 [13:37<01:16,  2.11it/s]"
     ]
    },
    {
     "name": "stdout",
     "output_type": "stream",
     "text": [
      "Processed OCR for image: 2009068087_01\n"
     ]
    },
    {
     "name": "stderr",
     "output_type": "stream",
     "text": [
      "                                                                      \r"
     ]
    },
    {
     "name": "stdout",
     "output_type": "stream",
     "text": [
      "Processed OCR for image: 2009068136_01\n",
      "Processed OCR for image: 2009068086_01\n"
     ]
    },
    {
     "name": "stderr",
     "output_type": "stream",
     "text": [
      "Processing Images:  95%|█████████▍| 2894/3053 [13:39<01:12,  2.20it/s]"
     ]
    },
    {
     "name": "stdout",
     "output_type": "stream",
     "text": [
      "Processed OCR for image: 2009068216_01\n",
      "Processed OCR for image: 2009068222_01\n"
     ]
    },
    {
     "name": "stderr",
     "output_type": "stream",
     "text": [
      "Processing Images:  95%|█████████▍| 2896/3053 [13:39<01:02,  2.49it/s]"
     ]
    },
    {
     "name": "stdout",
     "output_type": "stream",
     "text": [
      "Processed OCR for image: 2009068199_01\n"
     ]
    },
    {
     "name": "stderr",
     "output_type": "stream",
     "text": [
      "Processing Images:  95%|█████████▍| 2897/3053 [13:41<01:37,  1.60it/s]"
     ]
    },
    {
     "name": "stdout",
     "output_type": "stream",
     "text": [
      "Processed OCR for image: 2009068275_01\n"
     ]
    },
    {
     "name": "stderr",
     "output_type": "stream",
     "text": [
      "Processing Images:  95%|█████████▍| 2898/3053 [13:41<01:30,  1.71it/s]"
     ]
    },
    {
     "name": "stdout",
     "output_type": "stream",
     "text": [
      "Processed OCR for image: 2009068603_01\n",
      "Processed OCR for image: 2009068599_01\n",
      "Processed OCR for image: 2009068606_01\n",
      "Processed OCR for image: 2009068613_01\n",
      "Processed OCR for image: 2009068767_01\n",
      "Processed OCR for image: 2009069278_01\n"
     ]
    },
    {
     "name": "stderr",
     "output_type": "stream",
     "text": [
      "                                                                      "
     ]
    },
    {
     "name": "stdout",
     "output_type": "stream",
     "text": [
      "Processed OCR for image: 2009069259_01\n",
      "Processed OCR for image: 2009069366_01\n"
     ]
    },
    {
     "name": "stderr",
     "output_type": "stream",
     "text": [
      "Processing Images:  95%|█████████▌| 2906/3053 [13:42<00:35,  4.16it/s]"
     ]
    },
    {
     "name": "stdout",
     "output_type": "stream",
     "text": [
      "Processed OCR for image: 2009069495_01\n"
     ]
    },
    {
     "name": "stderr",
     "output_type": "stream",
     "text": [
      "Processing Images:  95%|█████████▌| 2907/3053 [13:43<01:15,  1.94it/s]"
     ]
    },
    {
     "name": "stdout",
     "output_type": "stream",
     "text": [
      "Processed OCR for image: 2009069585_01\n"
     ]
    },
    {
     "name": "stderr",
     "output_type": "stream",
     "text": [
      "                                                                      \r"
     ]
    },
    {
     "name": "stdout",
     "output_type": "stream",
     "text": [
      "Processed OCR for image: 2009069529_01\n",
      "Processed OCR for image: 2009069531_01\n",
      "Processed OCR for image: 2009069690_01\n",
      "Processed OCR for image: 2009069586_01\n",
      "Processed OCR for image: 2009069619_01\n",
      "Processed OCR for image: 2009069900_01\n",
      "Processed OCR for image: 2009069907_01\n",
      "Processed OCR for image: 2009069903_01\n",
      "Processed OCR for image: 2009069902_01\n",
      "Processed OCR for image: 2009069932_01\n",
      "Processed OCR for image: 2009069956_01\n",
      "Processed OCR for image: 2009069906_01\n",
      "Processed OCR for image: 2009069957_01\n"
     ]
    },
    {
     "name": "stderr",
     "output_type": "stream",
     "text": [
      "Processing Images:  96%|█████████▌| 2921/3053 [13:44<00:14,  9.17it/s]"
     ]
    },
    {
     "name": "stdout",
     "output_type": "stream",
     "text": [
      "Processed OCR for image: 2009069934_01\n",
      "Processed OCR for image: 2009069979_01\n",
      "Processed OCR for image: 2009069930_01\n",
      "Processed OCR for image: 2009069994_01\n",
      "Processed OCR for image: 2009070039_01\n",
      "Processed OCR for image: 2009069995_01\n",
      "Processed OCR for image: 2009070100_01\n",
      "Processed OCR for image: 2009070069_01\n",
      "Processed OCR for image: 2009070092_01\n",
      "Processed OCR for image: 2009070064_01\n",
      "Processed OCR for image: 2009070102_01\n",
      "Processed OCR for image: 2009070044_01\n",
      "Processed OCR for image: 2009070126_01\n",
      "Processed OCR for image: 2009070143_01\n"
     ]
    },
    {
     "name": "stderr",
     "output_type": "stream",
     "text": [
      "Processing Images:  96%|█████████▌| 2935/3053 [13:45<00:09, 11.81it/s]"
     ]
    },
    {
     "name": "stdout",
     "output_type": "stream",
     "text": [
      "Processed OCR for image: 2009070145_01\n"
     ]
    },
    {
     "name": "stderr",
     "output_type": "stream",
     "text": [
      "Processing Images:  96%|█████████▌| 2935/3053 [13:46<00:09, 11.81it/s]"
     ]
    },
    {
     "name": "stdout",
     "output_type": "stream",
     "text": [
      "Processed OCR for image: 2009070187_01\n"
     ]
    },
    {
     "name": "stderr",
     "output_type": "stream",
     "text": [
      "Processing Images:  96%|█████████▋| 2939/3053 [13:47<00:15,  7.21it/s]"
     ]
    },
    {
     "name": "stdout",
     "output_type": "stream",
     "text": [
      "Processed OCR for image: 2009070169_01\n",
      "Processed OCR for image: 2009070247_01\n",
      "Processed OCR for image: 2009070243_01\n",
      "Processed OCR for image: 2009070193_01\n",
      "Processed OCR for image: 2009070252_01\n",
      "Processed OCR for image: 2009070219_01\n",
      "Processed OCR for image: 2009070256_01\n"
     ]
    },
    {
     "name": "stderr",
     "output_type": "stream",
     "text": [
      "Processing Images:  96%|█████████▋| 2944/3053 [13:47<00:13,  8.01it/s]"
     ]
    },
    {
     "name": "stdout",
     "output_type": "stream",
     "text": [
      "Processed OCR for image: 2009070321_01\n"
     ]
    },
    {
     "name": "stderr",
     "output_type": "stream",
     "text": [
      "Processing Images:  96%|█████████▋| 2944/3053 [13:48<00:13,  8.01it/s]"
     ]
    },
    {
     "name": "stdout",
     "output_type": "stream",
     "text": [
      "Processed OCR for image: 2009070286_01\n"
     ]
    },
    {
     "name": "stderr",
     "output_type": "stream",
     "text": [
      "Processing Images:  96%|█████████▋| 2946/3053 [13:49<00:24,  4.32it/s]"
     ]
    },
    {
     "name": "stdout",
     "output_type": "stream",
     "text": [
      "Processed OCR for image: 2009070378_01\n"
     ]
    },
    {
     "name": "stderr",
     "output_type": "stream",
     "text": [
      "                                                                      \r"
     ]
    },
    {
     "name": "stdout",
     "output_type": "stream",
     "text": [
      "Processed OCR for image: 2009070374_01\n"
     ]
    },
    {
     "name": "stderr",
     "output_type": "stream",
     "text": [
      "Processing Images:  97%|█████████▋| 2948/3053 [13:50<00:27,  3.79it/s]"
     ]
    },
    {
     "name": "stdout",
     "output_type": "stream",
     "text": [
      "Processed OCR for image: 2009070955_01\n",
      "Processed OCR for image: 2009070421_01\n",
      "Processed OCR for image: 2009070632_01\n",
      "Processed OCR for image: 2009070372_01\n",
      "Processed OCR for image: 2009071016_01\n",
      "Processed OCR for image: 2009070692_01\n",
      "Processed OCR for image: 2009071020_01\n"
     ]
    },
    {
     "name": "stderr",
     "output_type": "stream",
     "text": [
      "Processing Images:  97%|█████████▋| 2955/3053 [13:50<00:15,  6.21it/s]"
     ]
    },
    {
     "name": "stdout",
     "output_type": "stream",
     "text": [
      "Processed OCR for image: 2009071099_01\n"
     ]
    },
    {
     "name": "stderr",
     "output_type": "stream",
     "text": [
      "Processing Images:  97%|█████████▋| 2956/3053 [13:51<00:21,  4.45it/s]"
     ]
    },
    {
     "name": "stdout",
     "output_type": "stream",
     "text": [
      "Processed OCR for image: 2009071022_01\n"
     ]
    },
    {
     "name": "stderr",
     "output_type": "stream",
     "text": [
      "Processing Images:  97%|█████████▋| 2957/3053 [13:52<00:31,  3.06it/s]"
     ]
    },
    {
     "name": "stdout",
     "output_type": "stream",
     "text": [
      "Processed OCR for image: 2009071182_01\n"
     ]
    },
    {
     "name": "stderr",
     "output_type": "stream",
     "text": [
      "Processing Images:  97%|█████████▋| 2959/3053 [13:53<00:29,  3.18it/s]"
     ]
    },
    {
     "name": "stdout",
     "output_type": "stream",
     "text": [
      "Processed OCR for image: 2009071035_01\n",
      "Processed OCR for image: 2009071349_01\n",
      "Processed OCR for image: 2009071768_01\n",
      "Processed OCR for image: 2009071283_01\n",
      "Processed OCR for image: 2009071555_01\n",
      "Processed OCR for image: 2009071284_01\n",
      "Processed OCR for image: 2009071862_01\n",
      "Processed OCR for image: 2009071899_01\n"
     ]
    },
    {
     "name": "stderr",
     "output_type": "stream",
     "text": [
      "Processing Images:  97%|█████████▋| 2966/3053 [13:54<00:18,  4.68it/s]"
     ]
    },
    {
     "name": "stdout",
     "output_type": "stream",
     "text": [
      "Processed OCR for image: 2009072132_01\n"
     ]
    },
    {
     "name": "stderr",
     "output_type": "stream",
     "text": [
      "                                                                      "
     ]
    },
    {
     "name": "stdout",
     "output_type": "stream",
     "text": [
      "Processed OCR for image: 2009072131_01\n"
     ]
    },
    {
     "name": "stderr",
     "output_type": "stream",
     "text": [
      "                                                                      "
     ]
    },
    {
     "name": "stdout",
     "output_type": "stream",
     "text": [
      "Processed OCR for image: 2009072148_01\n"
     ]
    },
    {
     "name": "stderr",
     "output_type": "stream",
     "text": [
      "                                                                      \r"
     ]
    },
    {
     "name": "stdout",
     "output_type": "stream",
     "text": [
      "Processed OCR for image: 2009072179_01\n"
     ]
    },
    {
     "name": "stderr",
     "output_type": "stream",
     "text": [
      "                                                                      "
     ]
    },
    {
     "name": "stdout",
     "output_type": "stream",
     "text": [
      "Processed OCR for image: 2009072134_01\n"
     ]
    },
    {
     "name": "stderr",
     "output_type": "stream",
     "text": [
      "                                                                      \r"
     ]
    },
    {
     "name": "stdout",
     "output_type": "stream",
     "text": [
      "Processed OCR for image: 2009072158_01\n"
     ]
    },
    {
     "name": "stderr",
     "output_type": "stream",
     "text": [
      "Processing Images:  97%|█████████▋| 2972/3053 [13:58<00:40,  2.00it/s]"
     ]
    },
    {
     "name": "stdout",
     "output_type": "stream",
     "text": [
      "Processed OCR for image: 2009072190_01\n"
     ]
    },
    {
     "name": "stderr",
     "output_type": "stream",
     "text": [
      "Processing Images:  97%|█████████▋| 2973/3053 [13:59<00:49,  1.61it/s]"
     ]
    },
    {
     "name": "stdout",
     "output_type": "stream",
     "text": [
      "Processed OCR for image: 2009072186_01\n",
      "Processed OCR for image: 2009072232_01\n"
     ]
    },
    {
     "name": "stderr",
     "output_type": "stream",
     "text": [
      "Processing Images:  97%|█████████▋| 2974/3053 [13:59<00:40,  1.97it/s]"
     ]
    },
    {
     "name": "stdout",
     "output_type": "stream",
     "text": [
      "Processed OCR for image: 2009072153_01\n",
      "Processed OCR for image: 2009072311_01\n",
      "Processed OCR for image: 2009072325_01\n",
      "Processed OCR for image: 2009072334_01\n",
      "Processed OCR for image: 2009072517_01\n",
      "Processed OCR for image: 2009072522_01\n",
      "Processed OCR for image: 2009072602_01\n",
      "Processed OCR for image: 2009072760_01\n",
      "Processed OCR for image: 2009072632_01\n",
      "Processed OCR for image: 2009072527_01\n",
      "Processed OCR for image: 2009072638_01\n",
      "Processed OCR for image: 2009072812_01\n",
      "Processed OCR for image: 2009072817_01\n"
     ]
    },
    {
     "name": "stderr",
     "output_type": "stream",
     "text": [
      "Processing Images:  98%|█████████▊| 2988/3053 [14:00<00:09,  7.12it/s]"
     ]
    },
    {
     "name": "stdout",
     "output_type": "stream",
     "text": [
      "Processed OCR for image: 2009072823_01\n"
     ]
    },
    {
     "name": "stderr",
     "output_type": "stream",
     "text": [
      "Processing Images:  98%|█████████▊| 2989/3053 [14:00<00:11,  5.41it/s]"
     ]
    },
    {
     "name": "stdout",
     "output_type": "stream",
     "text": [
      "Processed OCR for image: 2009072932_01\n"
     ]
    },
    {
     "name": "stderr",
     "output_type": "stream",
     "text": [
      "                                                                      \r"
     ]
    },
    {
     "name": "stdout",
     "output_type": "stream",
     "text": [
      "Processed OCR for image: 2009073057_01\n",
      "Processed OCR for image: 2009073088_01\n",
      "Processed OCR for image: 2009073064_01\n",
      "Processed OCR for image: 2009073225_01\n",
      "Processed OCR for image: 2009072827_01\n"
     ]
    },
    {
     "name": "stderr",
     "output_type": "stream",
     "text": [
      "Processing Images:  98%|█████████▊| 2995/3053 [14:01<00:08,  6.51it/s]"
     ]
    },
    {
     "name": "stdout",
     "output_type": "stream",
     "text": [
      "Processed OCR for image: 2009073223_01\n"
     ]
    },
    {
     "name": "stderr",
     "output_type": "stream",
     "text": [
      "Processing Images:  98%|█████████▊| 2996/3053 [14:02<00:10,  5.69it/s]"
     ]
    },
    {
     "name": "stdout",
     "output_type": "stream",
     "text": [
      "Processed OCR for image: 2009073467_01\n",
      "Processed OCR for image: 2009073466_01\n"
     ]
    },
    {
     "name": "stderr",
     "output_type": "stream",
     "text": [
      "Processing Images:  98%|█████████▊| 2998/3053 [14:03<00:18,  2.93it/s]"
     ]
    },
    {
     "name": "stdout",
     "output_type": "stream",
     "text": [
      "Processed OCR for image: 2009073607_01\n"
     ]
    },
    {
     "name": "stderr",
     "output_type": "stream",
     "text": [
      "Processing Images:  98%|█████████▊| 2999/3053 [14:04<00:18,  2.89it/s]"
     ]
    },
    {
     "name": "stdout",
     "output_type": "stream",
     "text": [
      "Processed OCR for image: 2009074122_01\n"
     ]
    },
    {
     "name": "stderr",
     "output_type": "stream",
     "text": [
      "Processing Images:  98%|█████████▊| 3000/3053 [14:04<00:17,  2.97it/s]"
     ]
    },
    {
     "name": "stdout",
     "output_type": "stream",
     "text": [
      "Processed OCR for image: 2009073627_01\n",
      "Processed OCR for image: 2009074148_01\n",
      "Processed OCR for image: 2009073617_01\n",
      "Processed OCR for image: 2009073997_01\n",
      "Processed OCR for image: 2009073896_01\n",
      "Processed OCR for image: 2009074141_01\n"
     ]
    },
    {
     "name": "stderr",
     "output_type": "stream",
     "text": [
      "Processing Images:  98%|█████████▊| 3006/3053 [14:05<00:10,  4.31it/s]"
     ]
    },
    {
     "name": "stdout",
     "output_type": "stream",
     "text": [
      "Processed OCR for image: 2009074362_01\n"
     ]
    },
    {
     "name": "stderr",
     "output_type": "stream",
     "text": [
      "Processing Images:  98%|█████████▊| 3007/3053 [14:06<00:14,  3.17it/s]"
     ]
    },
    {
     "name": "stdout",
     "output_type": "stream",
     "text": [
      "Processed OCR for image: 2009074262_01\n"
     ]
    },
    {
     "name": "stderr",
     "output_type": "stream",
     "text": [
      "                                                                      \r"
     ]
    },
    {
     "name": "stdout",
     "output_type": "stream",
     "text": [
      "Processed OCR for image: 2009074401_01\n"
     ]
    },
    {
     "name": "stderr",
     "output_type": "stream",
     "text": [
      "Processing Images:  99%|█████████▊| 3009/3053 [14:07<00:16,  2.63it/s]"
     ]
    },
    {
     "name": "stdout",
     "output_type": "stream",
     "text": [
      "Processed OCR for image: 2009074392_01\n",
      "Processed OCR for image: 2009074641_01\n",
      "Processed OCR for image: 2009074614_01\n",
      "Processed OCR for image: 2009074640_01\n",
      "Processed OCR for image: 2009074606_01\n",
      "Processed OCR for image: 2009074777_01\n",
      "Processed OCR for image: 2009074756_01\n",
      "Processed OCR for image: 2009074834_01\n"
     ]
    },
    {
     "name": "stderr",
     "output_type": "stream",
     "text": [
      "Processing Images:  99%|█████████▉| 3017/3053 [14:08<00:07,  4.75it/s]"
     ]
    },
    {
     "name": "stdout",
     "output_type": "stream",
     "text": [
      "Processed OCR for image: 2009074914_01\n"
     ]
    },
    {
     "name": "stderr",
     "output_type": "stream",
     "text": [
      "Processing Images:  99%|█████████▉| 3018/3053 [14:09<00:09,  3.77it/s]"
     ]
    },
    {
     "name": "stdout",
     "output_type": "stream",
     "text": [
      "Processed OCR for image: 2009074874_01\n"
     ]
    },
    {
     "name": "stderr",
     "output_type": "stream",
     "text": [
      "Processing Images:  99%|█████████▉| 3019/3053 [14:09<00:10,  3.19it/s]"
     ]
    },
    {
     "name": "stdout",
     "output_type": "stream",
     "text": [
      "Processed OCR for image: 2009074918_01\n",
      "Processed OCR for image: 2009075083_01\n",
      "Processed OCR for image: 2009075156_01\n",
      "Processed OCR for image: 2009075148_01\n",
      "Processed OCR for image: 2009075085_01\n",
      "Processed OCR for image: 2009075110_01\n",
      "Processed OCR for image: 2009075256_01\n"
     ]
    },
    {
     "name": "stderr",
     "output_type": "stream",
     "text": [
      "Processing Images:  99%|█████████▉| 3026/3053 [14:11<00:07,  3.59it/s]"
     ]
    },
    {
     "name": "stdout",
     "output_type": "stream",
     "text": [
      "Processed OCR for image: 2009075700_01\n"
     ]
    },
    {
     "name": "stderr",
     "output_type": "stream",
     "text": [
      "                                                                      "
     ]
    },
    {
     "name": "stdout",
     "output_type": "stream",
     "text": [
      "Processed OCR for image: 2009075639_01\n",
      "Processed OCR for image: 2009075766_01\n",
      "Processed OCR for image: 2009075573_01\n",
      "Processed OCR for image: 2009075767_01\n"
     ]
    },
    {
     "name": "stderr",
     "output_type": "stream",
     "text": [
      "Processing Images:  99%|█████████▉| 3028/3053 [14:12<00:07,  3.54it/s]"
     ]
    },
    {
     "name": "stdout",
     "output_type": "stream",
     "text": [
      "Processed OCR for image: 2009075773_01\n",
      "Processed OCR for image: 2009075770_01\n",
      "Processed OCR for image: 2009075772_01\n"
     ]
    },
    {
     "name": "stderr",
     "output_type": "stream",
     "text": [
      "Processing Images:  99%|█████████▉| 3034/3053 [14:12<00:03,  6.10it/s]"
     ]
    },
    {
     "name": "stdout",
     "output_type": "stream",
     "text": [
      "Processed OCR for image: 2009075778_01\n"
     ]
    },
    {
     "name": "stderr",
     "output_type": "stream",
     "text": [
      "Processing Images:  99%|█████████▉| 3035/3053 [14:13<00:05,  3.57it/s]"
     ]
    },
    {
     "name": "stdout",
     "output_type": "stream",
     "text": [
      "Processed OCR for image: 2009075829_01\n"
     ]
    },
    {
     "name": "stderr",
     "output_type": "stream",
     "text": [
      "Processing Images:  99%|█████████▉| 3035/3053 [14:14<00:05,  3.57it/s]"
     ]
    },
    {
     "name": "stdout",
     "output_type": "stream",
     "text": [
      "Processed OCR for image: 2009076140_01\n"
     ]
    },
    {
     "name": "stderr",
     "output_type": "stream",
     "text": [
      "Processing Images:  99%|█████████▉| 3037/3053 [14:14<00:05,  2.96it/s]"
     ]
    },
    {
     "name": "stdout",
     "output_type": "stream",
     "text": [
      "Processed OCR for image: 2009076189_01\n"
     ]
    },
    {
     "name": "stderr",
     "output_type": "stream",
     "text": [
      "Processing Images: 100%|█████████▉| 3038/3053 [14:15<00:05,  2.59it/s]"
     ]
    },
    {
     "name": "stdout",
     "output_type": "stream",
     "text": [
      "Processed OCR for image: 2009076289_01\n"
     ]
    },
    {
     "name": "stderr",
     "output_type": "stream",
     "text": [
      "Processing Images: 100%|█████████▉| 3039/3053 [14:16<00:06,  2.12it/s]"
     ]
    },
    {
     "name": "stdout",
     "output_type": "stream",
     "text": [
      "Processed OCR for image: 2009076282_01\n"
     ]
    },
    {
     "name": "stderr",
     "output_type": "stream",
     "text": [
      "                                                                      \r"
     ]
    },
    {
     "name": "stdout",
     "output_type": "stream",
     "text": [
      "Processed OCR for image: 2009076287_01\n"
     ]
    },
    {
     "name": "stderr",
     "output_type": "stream",
     "text": [
      "Processing Images: 100%|█████████▉| 3041/3053 [14:16<00:05,  2.34it/s]"
     ]
    },
    {
     "name": "stdout",
     "output_type": "stream",
     "text": [
      "Processed OCR for image: 2009076291_01\n",
      "Processed OCR for image: 2009076162_01\n",
      "Processed OCR for image: 2009076316_01\n",
      "Processed OCR for image: 2009076303_01\n",
      "Processed OCR for image: 2009076358_01\n",
      "Processed OCR for image: 2009076378_01\n",
      "Processed OCR for image: 2009076393_01\n",
      "Processed OCR for image: 2009076564_01\n",
      "Processed OCR for image: 2009076483_01\n",
      "Processed OCR for image: 2009076675_01\n",
      "Processed OCR for image: 2009076746_01\n"
     ]
    },
    {
     "name": "stderr",
     "output_type": "stream",
     "text": [
      "Processing Images: 100%|██████████| 3053/3053 [14:17<00:00,  3.56it/s]\n"
     ]
    },
    {
     "name": "stdout",
     "output_type": "stream",
     "text": [
      "Processed OCR for image: 2009076824_01\n",
      "Processed OCR for image: 2009076960_01\n",
      "Inferring from OCR data using the model...\n"
     ]
    },
    {
     "name": "stderr",
     "output_type": "stream",
     "text": [
      "Processing batches:   0%|          | 0/306 [00:00<?, ?batch/s]/usr/local/lib/python3.8/dist-packages/transformers/generation/utils.py:1553: UserWarning: You have modified the pretrained model configuration to control generation. This is a deprecated strategy to control generation and will be removed soon, in a future version. Please use and modify the model generation configuration (see https://huggingface.co/docs/transformers/generation_strategies#default-text-generation-configuration )\n",
      "  warnings.warn(\n",
      "A decoder-only architecture is being used, but right-padding was detected! For correct generation results, please set `padding_side='left'` when initializing the tokenizer.\n",
      "Processing batches:   0%|          | 1/306 [01:49<9:14:12, 109.02s/batch]A decoder-only architecture is being used, but right-padding was detected! For correct generation results, please set `padding_side='left'` when initializing the tokenizer.\n",
      "Processing batches:   1%|          | 2/306 [03:44<9:30:28, 112.59s/batch]A decoder-only architecture is being used, but right-padding was detected! For correct generation results, please set `padding_side='left'` when initializing the tokenizer.\n",
      "Processing batches:   1%|          | 3/306 [06:17<11:01:54, 131.07s/batch]A decoder-only architecture is being used, but right-padding was detected! For correct generation results, please set `padding_side='left'` when initializing the tokenizer.\n",
      "Processing batches:   1%|▏         | 4/306 [07:46<9:36:48, 114.60s/batch] A decoder-only architecture is being used, but right-padding was detected! For correct generation results, please set `padding_side='left'` when initializing the tokenizer.\n",
      "Processing batches:   2%|▏         | 5/306 [09:25<9:06:25, 108.92s/batch]A decoder-only architecture is being used, but right-padding was detected! For correct generation results, please set `padding_side='left'` when initializing the tokenizer.\n",
      "Processing batches:   2%|▏         | 6/306 [11:13<9:02:59, 108.60s/batch]A decoder-only architecture is being used, but right-padding was detected! For correct generation results, please set `padding_side='left'` when initializing the tokenizer.\n",
      "Processing batches:   2%|▏         | 7/306 [13:01<8:59:43, 108.31s/batch]A decoder-only architecture is being used, but right-padding was detected! For correct generation results, please set `padding_side='left'` when initializing the tokenizer.\n",
      "Processing batches:   3%|▎         | 8/306 [14:52<9:03:39, 109.46s/batch]A decoder-only architecture is being used, but right-padding was detected! For correct generation results, please set `padding_side='left'` when initializing the tokenizer.\n",
      "Processing batches:   3%|▎         | 9/306 [16:46<9:07:44, 110.65s/batch]A decoder-only architecture is being used, but right-padding was detected! For correct generation results, please set `padding_side='left'` when initializing the tokenizer.\n",
      "Processing batches:   3%|▎         | 10/306 [18:39<9:09:48, 111.45s/batch]A decoder-only architecture is being used, but right-padding was detected! For correct generation results, please set `padding_side='left'` when initializing the tokenizer.\n",
      "Processing batches:   4%|▎         | 11/306 [20:31<9:08:33, 111.57s/batch]A decoder-only architecture is being used, but right-padding was detected! For correct generation results, please set `padding_side='left'` when initializing the tokenizer.\n",
      "Processing batches:   4%|▍         | 12/306 [22:15<8:55:13, 109.23s/batch]A decoder-only architecture is being used, but right-padding was detected! For correct generation results, please set `padding_side='left'` when initializing the tokenizer.\n",
      "Processing batches:   4%|▍         | 13/306 [23:57<8:43:04, 107.12s/batch]A decoder-only architecture is being used, but right-padding was detected! For correct generation results, please set `padding_side='left'` when initializing the tokenizer.\n",
      "Processing batches:   5%|▍         | 14/306 [26:15<9:27:26, 116.60s/batch]A decoder-only architecture is being used, but right-padding was detected! For correct generation results, please set `padding_side='left'` when initializing the tokenizer.\n",
      "Processing batches:   5%|▍         | 15/306 [27:58<9:04:58, 112.37s/batch]A decoder-only architecture is being used, but right-padding was detected! For correct generation results, please set `padding_side='left'` when initializing the tokenizer.\n",
      "Processing batches:   5%|▌         | 16/306 [29:39<8:46:06, 108.85s/batch]A decoder-only architecture is being used, but right-padding was detected! For correct generation results, please set `padding_side='left'` when initializing the tokenizer.\n",
      "Processing batches:   6%|▌         | 17/306 [31:51<9:17:31, 115.75s/batch]A decoder-only architecture is being used, but right-padding was detected! For correct generation results, please set `padding_side='left'` when initializing the tokenizer.\n",
      "Processing batches:   6%|▌         | 18/306 [33:26<8:46:17, 109.64s/batch]A decoder-only architecture is being used, but right-padding was detected! For correct generation results, please set `padding_side='left'` when initializing the tokenizer.\n",
      "Processing batches:   6%|▌         | 19/306 [35:01<8:23:38, 105.29s/batch]A decoder-only architecture is being used, but right-padding was detected! For correct generation results, please set `padding_side='left'` when initializing the tokenizer.\n",
      "Processing batches:   7%|▋         | 20/306 [36:40<8:12:23, 103.30s/batch]A decoder-only architecture is being used, but right-padding was detected! For correct generation results, please set `padding_side='left'` when initializing the tokenizer.\n",
      "Processing batches:   7%|▋         | 21/306 [38:24<8:11:27, 103.47s/batch]A decoder-only architecture is being used, but right-padding was detected! For correct generation results, please set `padding_side='left'` when initializing the tokenizer.\n",
      "Processing batches:   7%|▋         | 22/306 [40:06<8:08:44, 103.25s/batch]A decoder-only architecture is being used, but right-padding was detected! For correct generation results, please set `padding_side='left'` when initializing the tokenizer.\n",
      "Processing batches:   8%|▊         | 23/306 [41:43<7:57:47, 101.30s/batch]A decoder-only architecture is being used, but right-padding was detected! For correct generation results, please set `padding_side='left'` when initializing the tokenizer.\n",
      "Processing batches:   8%|▊         | 24/306 [43:25<7:57:15, 101.54s/batch]A decoder-only architecture is being used, but right-padding was detected! For correct generation results, please set `padding_side='left'` when initializing the tokenizer.\n",
      "Processing batches:   8%|▊         | 25/306 [45:09<7:58:27, 102.16s/batch]A decoder-only architecture is being used, but right-padding was detected! For correct generation results, please set `padding_side='left'` when initializing the tokenizer.\n",
      "Processing batches:   8%|▊         | 26/306 [47:28<8:48:10, 113.18s/batch]A decoder-only architecture is being used, but right-padding was detected! For correct generation results, please set `padding_side='left'` when initializing the tokenizer.\n",
      "Processing batches:   9%|▉         | 27/306 [49:06<8:25:50, 108.78s/batch]A decoder-only architecture is being used, but right-padding was detected! For correct generation results, please set `padding_side='left'` when initializing the tokenizer.\n",
      "Processing batches:   9%|▉         | 28/306 [50:49<8:15:22, 106.92s/batch]A decoder-only architecture is being used, but right-padding was detected! For correct generation results, please set `padding_side='left'` when initializing the tokenizer.\n",
      "Processing batches:   9%|▉         | 29/306 [52:30<8:05:57, 105.26s/batch]A decoder-only architecture is being used, but right-padding was detected! For correct generation results, please set `padding_side='left'` when initializing the tokenizer.\n",
      "Processing batches:  10%|▉         | 30/306 [54:14<8:01:36, 104.70s/batch]A decoder-only architecture is being used, but right-padding was detected! For correct generation results, please set `padding_side='left'` when initializing the tokenizer.\n",
      "Processing batches:  10%|█         | 31/306 [55:56<7:56:45, 104.02s/batch]A decoder-only architecture is being used, but right-padding was detected! For correct generation results, please set `padding_side='left'` when initializing the tokenizer.\n",
      "Processing batches:  10%|█         | 32/306 [57:31<7:42:41, 101.32s/batch]A decoder-only architecture is being used, but right-padding was detected! For correct generation results, please set `padding_side='left'` when initializing the tokenizer.\n",
      "Processing batches:  11%|█         | 33/306 [59:08<7:35:43, 100.16s/batch]A decoder-only architecture is being used, but right-padding was detected! For correct generation results, please set `padding_side='left'` when initializing the tokenizer.\n",
      "Processing batches:  11%|█         | 34/306 [1:00:53<7:39:50, 101.44s/batch]A decoder-only architecture is being used, but right-padding was detected! For correct generation results, please set `padding_side='left'` when initializing the tokenizer.\n",
      "Processing batches:  11%|█▏        | 35/306 [1:02:35<7:39:37, 101.76s/batch]A decoder-only architecture is being used, but right-padding was detected! For correct generation results, please set `padding_side='left'` when initializing the tokenizer.\n",
      "Processing batches:  12%|█▏        | 36/306 [1:04:16<7:35:42, 101.27s/batch]A decoder-only architecture is being used, but right-padding was detected! For correct generation results, please set `padding_side='left'` when initializing the tokenizer.\n",
      "Processing batches:  12%|█▏        | 37/306 [1:05:54<7:30:51, 100.56s/batch]A decoder-only architecture is being used, but right-padding was detected! For correct generation results, please set `padding_side='left'` when initializing the tokenizer.\n",
      "Processing batches:  12%|█▏        | 38/306 [1:07:29<7:21:01, 98.74s/batch] A decoder-only architecture is being used, but right-padding was detected! For correct generation results, please set `padding_side='left'` when initializing the tokenizer.\n",
      "Processing batches:  13%|█▎        | 39/306 [1:08:59<7:07:18, 96.02s/batch]A decoder-only architecture is being used, but right-padding was detected! For correct generation results, please set `padding_side='left'` when initializing the tokenizer.\n",
      "Processing batches:  13%|█▎        | 40/306 [1:11:10<7:52:08, 106.50s/batch]A decoder-only architecture is being used, but right-padding was detected! For correct generation results, please set `padding_side='left'` when initializing the tokenizer.\n",
      "Processing batches:  13%|█▎        | 41/306 [1:12:49<7:40:53, 104.35s/batch]A decoder-only architecture is being used, but right-padding was detected! For correct generation results, please set `padding_side='left'` when initializing the tokenizer.\n",
      "Processing batches:  14%|█▎        | 42/306 [1:14:27<7:31:06, 102.52s/batch]A decoder-only architecture is being used, but right-padding was detected! For correct generation results, please set `padding_side='left'` when initializing the tokenizer.\n",
      "Processing batches:  14%|█▍        | 43/306 [1:16:09<7:27:56, 102.19s/batch]A decoder-only architecture is being used, but right-padding was detected! For correct generation results, please set `padding_side='left'` when initializing the tokenizer.\n",
      "Processing batches:  14%|█▍        | 44/306 [1:17:46<7:19:30, 100.65s/batch]A decoder-only architecture is being used, but right-padding was detected! For correct generation results, please set `padding_side='left'` when initializing the tokenizer.\n",
      "Processing batches:  15%|█▍        | 45/306 [1:19:20<7:10:02, 98.86s/batch] A decoder-only architecture is being used, but right-padding was detected! For correct generation results, please set `padding_side='left'` when initializing the tokenizer.\n",
      "Processing batches:  15%|█▌        | 46/306 [1:21:01<7:11:18, 99.53s/batch]A decoder-only architecture is being used, but right-padding was detected! For correct generation results, please set `padding_side='left'` when initializing the tokenizer.\n",
      "Processing batches:  15%|█▌        | 47/306 [1:22:43<7:12:29, 100.19s/batch]A decoder-only architecture is being used, but right-padding was detected! For correct generation results, please set `padding_side='left'` when initializing the tokenizer.\n",
      "Processing batches:  16%|█▌        | 48/306 [1:24:23<7:10:52, 100.20s/batch]A decoder-only architecture is being used, but right-padding was detected! For correct generation results, please set `padding_side='left'` when initializing the tokenizer.\n",
      "Processing batches:  16%|█▌        | 49/306 [1:26:02<7:07:16, 99.75s/batch] A decoder-only architecture is being used, but right-padding was detected! For correct generation results, please set `padding_side='left'` when initializing the tokenizer.\n",
      "Processing batches:  16%|█▋        | 50/306 [1:27:38<7:00:53, 98.65s/batch]A decoder-only architecture is being used, but right-padding was detected! For correct generation results, please set `padding_side='left'` when initializing the tokenizer.\n",
      "Processing batches:  17%|█▋        | 51/306 [1:29:17<6:59:51, 98.79s/batch]A decoder-only architecture is being used, but right-padding was detected! For correct generation results, please set `padding_side='left'` when initializing the tokenizer.\n",
      "Processing batches:  17%|█▋        | 52/306 [1:30:53<6:54:48, 97.99s/batch]A decoder-only architecture is being used, but right-padding was detected! For correct generation results, please set `padding_side='left'` when initializing the tokenizer.\n",
      "Processing batches:  17%|█▋        | 53/306 [1:32:31<6:52:33, 97.84s/batch]A decoder-only architecture is being used, but right-padding was detected! For correct generation results, please set `padding_side='left'` when initializing the tokenizer.\n",
      "Processing batches:  18%|█▊        | 54/306 [1:34:13<6:56:29, 99.16s/batch]A decoder-only architecture is being used, but right-padding was detected! For correct generation results, please set `padding_side='left'` when initializing the tokenizer.\n",
      "Processing batches:  18%|█▊        | 55/306 [1:35:47<6:48:47, 97.72s/batch]A decoder-only architecture is being used, but right-padding was detected! For correct generation results, please set `padding_side='left'` when initializing the tokenizer.\n",
      "Processing batches:  18%|█▊        | 56/306 [1:37:30<6:52:50, 99.08s/batch]A decoder-only architecture is being used, but right-padding was detected! For correct generation results, please set `padding_side='left'` when initializing the tokenizer.\n",
      "Processing batches:  19%|█▊        | 57/306 [1:39:04<6:45:15, 97.65s/batch]A decoder-only architecture is being used, but right-padding was detected! For correct generation results, please set `padding_side='left'` when initializing the tokenizer.\n",
      "Processing batches:  19%|█▉        | 58/306 [1:40:41<6:43:20, 97.58s/batch]A decoder-only architecture is being used, but right-padding was detected! For correct generation results, please set `padding_side='left'` when initializing the tokenizer.\n",
      "Processing batches:  19%|█▉        | 59/306 [1:42:22<6:45:04, 98.40s/batch]A decoder-only architecture is being used, but right-padding was detected! For correct generation results, please set `padding_side='left'` when initializing the tokenizer.\n",
      "Processing batches:  20%|█▉        | 60/306 [1:43:56<6:38:10, 97.12s/batch]A decoder-only architecture is being used, but right-padding was detected! For correct generation results, please set `padding_side='left'` when initializing the tokenizer.\n",
      "Processing batches:  20%|█▉        | 61/306 [1:45:30<6:32:21, 96.09s/batch]A decoder-only architecture is being used, but right-padding was detected! For correct generation results, please set `padding_side='left'` when initializing the tokenizer.\n",
      "Processing batches:  20%|██        | 62/306 [1:47:03<6:27:03, 95.18s/batch]A decoder-only architecture is being used, but right-padding was detected! For correct generation results, please set `padding_side='left'` when initializing the tokenizer.\n",
      "Processing batches:  21%|██        | 63/306 [1:48:39<6:26:59, 95.55s/batch]A decoder-only architecture is being used, but right-padding was detected! For correct generation results, please set `padding_side='left'` when initializing the tokenizer.\n",
      "Processing batches:  21%|██        | 64/306 [1:50:10<6:19:43, 94.15s/batch]A decoder-only architecture is being used, but right-padding was detected! For correct generation results, please set `padding_side='left'` when initializing the tokenizer.\n",
      "Processing batches:  21%|██        | 65/306 [1:51:49<6:23:30, 95.48s/batch]A decoder-only architecture is being used, but right-padding was detected! For correct generation results, please set `padding_side='left'` when initializing the tokenizer.\n",
      "Processing batches:  22%|██▏       | 66/306 [1:53:25<6:23:39, 95.91s/batch]A decoder-only architecture is being used, but right-padding was detected! For correct generation results, please set `padding_side='left'` when initializing the tokenizer.\n",
      "Processing batches:  22%|██▏       | 67/306 [1:55:02<6:22:49, 96.11s/batch]A decoder-only architecture is being used, but right-padding was detected! For correct generation results, please set `padding_side='left'` when initializing the tokenizer.\n",
      "Processing batches:  22%|██▏       | 68/306 [1:56:42<6:26:07, 97.34s/batch]A decoder-only architecture is being used, but right-padding was detected! For correct generation results, please set `padding_side='left'` when initializing the tokenizer.\n",
      "Processing batches:  23%|██▎       | 69/306 [1:58:20<6:24:40, 97.38s/batch]A decoder-only architecture is being used, but right-padding was detected! For correct generation results, please set `padding_side='left'` when initializing the tokenizer.\n",
      "Processing batches:  23%|██▎       | 70/306 [1:59:58<6:24:29, 97.75s/batch]A decoder-only architecture is being used, but right-padding was detected! For correct generation results, please set `padding_side='left'` when initializing the tokenizer.\n",
      "Processing batches:  23%|██▎       | 71/306 [2:01:31<6:17:24, 96.36s/batch]A decoder-only architecture is being used, but right-padding was detected! For correct generation results, please set `padding_side='left'` when initializing the tokenizer.\n",
      "Processing batches:  24%|██▎       | 72/306 [2:03:05<6:12:19, 95.47s/batch]A decoder-only architecture is being used, but right-padding was detected! For correct generation results, please set `padding_side='left'` when initializing the tokenizer.\n",
      "Processing batches:  24%|██▍       | 73/306 [2:04:39<6:09:44, 95.21s/batch]A decoder-only architecture is being used, but right-padding was detected! For correct generation results, please set `padding_side='left'` when initializing the tokenizer.\n",
      "Processing batches:  24%|██▍       | 74/306 [2:06:17<6:10:54, 95.92s/batch]A decoder-only architecture is being used, but right-padding was detected! For correct generation results, please set `padding_side='left'` when initializing the tokenizer.\n",
      "Processing batches:  25%|██▍       | 75/306 [2:07:56<6:12:24, 96.73s/batch]A decoder-only architecture is being used, but right-padding was detected! For correct generation results, please set `padding_side='left'` when initializing the tokenizer.\n",
      "Processing batches:  25%|██▍       | 76/306 [2:09:34<6:12:34, 97.19s/batch]A decoder-only architecture is being used, but right-padding was detected! For correct generation results, please set `padding_side='left'` when initializing the tokenizer.\n",
      "Processing batches:  25%|██▌       | 77/306 [2:11:07<6:06:37, 96.06s/batch]A decoder-only architecture is being used, but right-padding was detected! For correct generation results, please set `padding_side='left'` when initializing the tokenizer.\n",
      "Processing batches:  25%|██▌       | 78/306 [2:12:39<6:00:29, 94.87s/batch]A decoder-only architecture is being used, but right-padding was detected! For correct generation results, please set `padding_side='left'` when initializing the tokenizer.\n",
      "Processing batches:  26%|██▌       | 79/306 [2:14:12<5:56:43, 94.29s/batch]A decoder-only architecture is being used, but right-padding was detected! For correct generation results, please set `padding_side='left'` when initializing the tokenizer.\n",
      "Processing batches:  26%|██▌       | 80/306 [2:15:46<5:54:42, 94.17s/batch]A decoder-only architecture is being used, but right-padding was detected! For correct generation results, please set `padding_side='left'` when initializing the tokenizer.\n",
      "Processing batches:  26%|██▋       | 81/306 [2:17:16<5:47:45, 92.74s/batch]A decoder-only architecture is being used, but right-padding was detected! For correct generation results, please set `padding_side='left'` when initializing the tokenizer.\n",
      "Processing batches:  27%|██▋       | 82/306 [2:18:44<5:41:40, 91.52s/batch]A decoder-only architecture is being used, but right-padding was detected! For correct generation results, please set `padding_side='left'` when initializing the tokenizer.\n",
      "Processing batches:  27%|██▋       | 83/306 [2:20:13<5:36:26, 90.52s/batch]A decoder-only architecture is being used, but right-padding was detected! For correct generation results, please set `padding_side='left'` when initializing the tokenizer.\n",
      "Processing batches:  27%|██▋       | 84/306 [2:21:41<5:33:07, 90.03s/batch]A decoder-only architecture is being used, but right-padding was detected! For correct generation results, please set `padding_side='left'` when initializing the tokenizer.\n",
      "Processing batches:  28%|██▊       | 85/306 [2:23:15<5:35:44, 91.15s/batch]A decoder-only architecture is being used, but right-padding was detected! For correct generation results, please set `padding_side='left'` when initializing the tokenizer.\n",
      "Processing batches:  28%|██▊       | 86/306 [2:24:50<5:38:48, 92.40s/batch]A decoder-only architecture is being used, but right-padding was detected! For correct generation results, please set `padding_side='left'` when initializing the tokenizer.\n",
      "Processing batches:  28%|██▊       | 87/306 [2:26:21<5:34:49, 91.73s/batch]A decoder-only architecture is being used, but right-padding was detected! For correct generation results, please set `padding_side='left'` when initializing the tokenizer.\n",
      "Processing batches:  29%|██▉       | 88/306 [2:27:54<5:34:39, 92.11s/batch]A decoder-only architecture is being used, but right-padding was detected! For correct generation results, please set `padding_side='left'` when initializing the tokenizer.\n",
      "Processing batches:  29%|██▉       | 89/306 [2:29:28<5:35:54, 92.88s/batch]A decoder-only architecture is being used, but right-padding was detected! For correct generation results, please set `padding_side='left'` when initializing the tokenizer.\n",
      "Processing batches:  29%|██▉       | 90/306 [2:31:06<5:39:43, 94.37s/batch]A decoder-only architecture is being used, but right-padding was detected! For correct generation results, please set `padding_side='left'` when initializing the tokenizer.\n",
      "Processing batches:  30%|██▉       | 91/306 [2:32:45<5:42:49, 95.67s/batch]A decoder-only architecture is being used, but right-padding was detected! For correct generation results, please set `padding_side='left'` when initializing the tokenizer.\n",
      "Processing batches:  30%|███       | 92/306 [2:34:24<5:45:01, 96.74s/batch]A decoder-only architecture is being used, but right-padding was detected! For correct generation results, please set `padding_side='left'` when initializing the tokenizer.\n",
      "Processing batches:  30%|███       | 93/306 [2:35:59<5:41:14, 96.13s/batch]A decoder-only architecture is being used, but right-padding was detected! For correct generation results, please set `padding_side='left'` when initializing the tokenizer.\n",
      "Processing batches:  31%|███       | 94/306 [2:37:38<5:42:38, 96.97s/batch]A decoder-only architecture is being used, but right-padding was detected! For correct generation results, please set `padding_side='left'` when initializing the tokenizer.\n",
      "Processing batches:  31%|███       | 95/306 [2:39:16<5:42:26, 97.38s/batch]A decoder-only architecture is being used, but right-padding was detected! For correct generation results, please set `padding_side='left'` when initializing the tokenizer.\n",
      "Processing batches:  31%|███▏      | 96/306 [2:40:53<5:40:42, 97.34s/batch]A decoder-only architecture is being used, but right-padding was detected! For correct generation results, please set `padding_side='left'` when initializing the tokenizer.\n",
      "Processing batches:  32%|███▏      | 97/306 [2:42:33<5:41:57, 98.17s/batch]A decoder-only architecture is being used, but right-padding was detected! For correct generation results, please set `padding_side='left'` when initializing the tokenizer.\n",
      "Processing batches:  32%|███▏      | 98/306 [2:44:13<5:41:58, 98.65s/batch]A decoder-only architecture is being used, but right-padding was detected! For correct generation results, please set `padding_side='left'` when initializing the tokenizer.\n",
      "Processing batches:  32%|███▏      | 99/306 [2:45:46<5:34:28, 96.95s/batch]A decoder-only architecture is being used, but right-padding was detected! For correct generation results, please set `padding_side='left'` when initializing the tokenizer.\n",
      "Processing batches:  33%|███▎      | 100/306 [2:47:25<5:34:29, 97.43s/batch]A decoder-only architecture is being used, but right-padding was detected! For correct generation results, please set `padding_side='left'` when initializing the tokenizer.\n",
      "Processing batches:  33%|███▎      | 101/306 [2:49:04<5:34:32, 97.91s/batch]A decoder-only architecture is being used, but right-padding was detected! For correct generation results, please set `padding_side='left'` when initializing the tokenizer.\n",
      "Processing batches:  33%|███▎      | 102/306 [2:50:37<5:27:52, 96.43s/batch]A decoder-only architecture is being used, but right-padding was detected! For correct generation results, please set `padding_side='left'` when initializing the tokenizer.\n",
      "Processing batches:  34%|███▎      | 103/306 [2:52:09<5:21:33, 95.04s/batch]A decoder-only architecture is being used, but right-padding was detected! For correct generation results, please set `padding_side='left'` when initializing the tokenizer.\n",
      "Processing batches:  34%|███▍      | 104/306 [2:53:41<5:17:11, 94.22s/batch]A decoder-only architecture is being used, but right-padding was detected! For correct generation results, please set `padding_side='left'` when initializing the tokenizer.\n",
      "Processing batches:  34%|███▍      | 105/306 [2:55:17<5:17:10, 94.68s/batch]A decoder-only architecture is being used, but right-padding was detected! For correct generation results, please set `padding_side='left'` when initializing the tokenizer.\n",
      "Processing batches:  35%|███▍      | 106/306 [2:56:51<5:15:28, 94.64s/batch]A decoder-only architecture is being used, but right-padding was detected! For correct generation results, please set `padding_side='left'` when initializing the tokenizer.\n",
      "Processing batches:  35%|███▍      | 107/306 [2:58:31<5:18:41, 96.09s/batch]A decoder-only architecture is being used, but right-padding was detected! For correct generation results, please set `padding_side='left'` when initializing the tokenizer.\n",
      "Processing batches:  35%|███▌      | 108/306 [3:00:04<5:14:27, 95.29s/batch]A decoder-only architecture is being used, but right-padding was detected! For correct generation results, please set `padding_side='left'` when initializing the tokenizer.\n",
      "Processing batches:  36%|███▌      | 109/306 [3:01:39<5:12:33, 95.19s/batch]A decoder-only architecture is being used, but right-padding was detected! For correct generation results, please set `padding_side='left'` when initializing the tokenizer.\n",
      "Processing batches:  36%|███▌      | 110/306 [3:03:21<5:18:05, 97.38s/batch]A decoder-only architecture is being used, but right-padding was detected! For correct generation results, please set `padding_side='left'` when initializing the tokenizer.\n",
      "Processing batches:  36%|███▋      | 111/306 [3:04:56<5:13:47, 96.55s/batch]A decoder-only architecture is being used, but right-padding was detected! For correct generation results, please set `padding_side='left'` when initializing the tokenizer.\n",
      "Processing batches:  37%|███▋      | 112/306 [3:06:35<5:14:12, 97.18s/batch]A decoder-only architecture is being used, but right-padding was detected! For correct generation results, please set `padding_side='left'` when initializing the tokenizer.\n",
      "Processing batches:  37%|███▋      | 113/306 [3:08:14<5:14:24, 97.74s/batch]A decoder-only architecture is being used, but right-padding was detected! For correct generation results, please set `padding_side='left'` when initializing the tokenizer.\n",
      "Processing batches:  37%|███▋      | 114/306 [3:09:51<5:12:37, 97.69s/batch]A decoder-only architecture is being used, but right-padding was detected! For correct generation results, please set `padding_side='left'` when initializing the tokenizer.\n",
      "Processing batches:  38%|███▊      | 115/306 [3:11:26<5:07:38, 96.64s/batch]A decoder-only architecture is being used, but right-padding was detected! For correct generation results, please set `padding_side='left'` when initializing the tokenizer.\n",
      "Processing batches:  38%|███▊      | 116/306 [3:13:03<5:06:40, 96.85s/batch]A decoder-only architecture is being used, but right-padding was detected! For correct generation results, please set `padding_side='left'` when initializing the tokenizer.\n",
      "Processing batches:  38%|███▊      | 117/306 [3:14:38<5:03:19, 96.29s/batch]A decoder-only architecture is being used, but right-padding was detected! For correct generation results, please set `padding_side='left'` when initializing the tokenizer.\n",
      "Processing batches:  39%|███▊      | 118/306 [3:16:10<4:57:19, 94.89s/batch]A decoder-only architecture is being used, but right-padding was detected! For correct generation results, please set `padding_side='left'` when initializing the tokenizer.\n",
      "Processing batches:  39%|███▉      | 119/306 [3:18:15<5:24:03, 103.98s/batch]A decoder-only architecture is being used, but right-padding was detected! For correct generation results, please set `padding_side='left'` when initializing the tokenizer.\n",
      "Processing batches:  39%|███▉      | 120/306 [3:19:51<5:14:59, 101.61s/batch]A decoder-only architecture is being used, but right-padding was detected! For correct generation results, please set `padding_side='left'` when initializing the tokenizer.\n",
      "Processing batches:  40%|███▉      | 121/306 [3:21:25<5:06:33, 99.42s/batch] A decoder-only architecture is being used, but right-padding was detected! For correct generation results, please set `padding_side='left'` when initializing the tokenizer.\n",
      "Processing batches:  40%|███▉      | 122/306 [3:22:55<4:55:46, 96.45s/batch]A decoder-only architecture is being used, but right-padding was detected! For correct generation results, please set `padding_side='left'` when initializing the tokenizer.\n",
      "Processing batches:  40%|████      | 123/306 [3:24:24<4:47:43, 94.33s/batch]A decoder-only architecture is being used, but right-padding was detected! For correct generation results, please set `padding_side='left'` when initializing the tokenizer.\n",
      "Processing batches:  41%|████      | 124/306 [3:25:54<4:42:15, 93.05s/batch]A decoder-only architecture is being used, but right-padding was detected! For correct generation results, please set `padding_side='left'` when initializing the tokenizer.\n",
      "Processing batches:  41%|████      | 125/306 [3:27:28<4:41:11, 93.21s/batch]A decoder-only architecture is being used, but right-padding was detected! For correct generation results, please set `padding_side='left'` when initializing the tokenizer.\n",
      "Processing batches:  41%|████      | 126/306 [3:28:56<4:35:11, 91.73s/batch]A decoder-only architecture is being used, but right-padding was detected! For correct generation results, please set `padding_side='left'` when initializing the tokenizer.\n",
      "Processing batches:  42%|████▏     | 127/306 [3:30:22<4:28:41, 90.06s/batch]A decoder-only architecture is being used, but right-padding was detected! For correct generation results, please set `padding_side='left'` when initializing the tokenizer.\n",
      "Processing batches:  42%|████▏     | 128/306 [3:31:54<4:28:38, 90.55s/batch]A decoder-only architecture is being used, but right-padding was detected! For correct generation results, please set `padding_side='left'` when initializing the tokenizer.\n",
      "Processing batches:  42%|████▏     | 129/306 [3:33:24<4:26:34, 90.37s/batch]A decoder-only architecture is being used, but right-padding was detected! For correct generation results, please set `padding_side='left'` when initializing the tokenizer.\n",
      "Processing batches:  42%|████▏     | 130/306 [3:34:56<4:26:47, 90.95s/batch]A decoder-only architecture is being used, but right-padding was detected! For correct generation results, please set `padding_side='left'` when initializing the tokenizer.\n",
      "Processing batches:  43%|████▎     | 131/306 [3:36:25<4:23:25, 90.32s/batch]A decoder-only architecture is being used, but right-padding was detected! For correct generation results, please set `padding_side='left'` when initializing the tokenizer.\n",
      "Processing batches:  43%|████▎     | 132/306 [3:37:59<4:25:19, 91.49s/batch]A decoder-only architecture is being used, but right-padding was detected! For correct generation results, please set `padding_side='left'` when initializing the tokenizer.\n",
      "Processing batches:  43%|████▎     | 133/306 [3:39:32<4:24:48, 91.84s/batch]A decoder-only architecture is being used, but right-padding was detected! For correct generation results, please set `padding_side='left'` when initializing the tokenizer.\n",
      "Processing batches:  44%|████▍     | 134/306 [3:41:37<4:52:04, 101.89s/batch]A decoder-only architecture is being used, but right-padding was detected! For correct generation results, please set `padding_side='left'` when initializing the tokenizer.\n",
      "Processing batches:  44%|████▍     | 135/306 [3:43:08<4:41:09, 98.65s/batch] A decoder-only architecture is being used, but right-padding was detected! For correct generation results, please set `padding_side='left'` when initializing the tokenizer.\n",
      "Processing batches:  44%|████▍     | 136/306 [3:44:36<4:30:18, 95.40s/batch]A decoder-only architecture is being used, but right-padding was detected! For correct generation results, please set `padding_side='left'` when initializing the tokenizer.\n",
      "Processing batches:  45%|████▍     | 137/306 [3:46:07<4:25:15, 94.17s/batch]A decoder-only architecture is being used, but right-padding was detected! For correct generation results, please set `padding_side='left'` when initializing the tokenizer.\n",
      "Processing batches:  45%|████▌     | 138/306 [3:47:42<4:23:56, 94.27s/batch]A decoder-only architecture is being used, but right-padding was detected! For correct generation results, please set `padding_side='left'` when initializing the tokenizer.\n",
      "Processing batches:  45%|████▌     | 139/306 [3:49:15<4:21:29, 93.95s/batch]A decoder-only architecture is being used, but right-padding was detected! For correct generation results, please set `padding_side='left'` when initializing the tokenizer.\n",
      "Processing batches:  46%|████▌     | 140/306 [3:51:21<4:46:33, 103.58s/batch]A decoder-only architecture is being used, but right-padding was detected! For correct generation results, please set `padding_side='left'` when initializing the tokenizer.\n",
      "Processing batches:  46%|████▌     | 141/306 [3:52:52<4:34:40, 99.88s/batch] A decoder-only architecture is being used, but right-padding was detected! For correct generation results, please set `padding_side='left'` when initializing the tokenizer.\n",
      "Processing batches:  46%|████▋     | 142/306 [3:54:20<4:23:16, 96.32s/batch]A decoder-only architecture is being used, but right-padding was detected! For correct generation results, please set `padding_side='left'` when initializing the tokenizer.\n",
      "Processing batches:  47%|████▋     | 143/306 [3:56:26<4:45:11, 104.98s/batch]A decoder-only architecture is being used, but right-padding was detected! For correct generation results, please set `padding_side='left'` when initializing the tokenizer.\n",
      "Processing batches:  47%|████▋     | 144/306 [3:57:57<4:32:51, 101.06s/batch]A decoder-only architecture is being used, but right-padding was detected! For correct generation results, please set `padding_side='left'` when initializing the tokenizer.\n",
      "Processing batches:  47%|████▋     | 145/306 [3:59:26<4:21:30, 97.46s/batch] A decoder-only architecture is being used, but right-padding was detected! For correct generation results, please set `padding_side='left'` when initializing the tokenizer.\n",
      "Processing batches:  48%|████▊     | 146/306 [4:01:00<4:16:31, 96.20s/batch]A decoder-only architecture is being used, but right-padding was detected! For correct generation results, please set `padding_side='left'` when initializing the tokenizer.\n",
      "Processing batches:  48%|████▊     | 147/306 [4:02:33<4:12:26, 95.26s/batch]A decoder-only architecture is being used, but right-padding was detected! For correct generation results, please set `padding_side='left'` when initializing the tokenizer.\n",
      "Processing batches:  48%|████▊     | 148/306 [4:04:07<4:09:43, 94.83s/batch]A decoder-only architecture is being used, but right-padding was detected! For correct generation results, please set `padding_side='left'` when initializing the tokenizer.\n",
      "Processing batches:  49%|████▊     | 149/306 [4:05:41<4:08:05, 94.81s/batch]A decoder-only architecture is being used, but right-padding was detected! For correct generation results, please set `padding_side='left'` when initializing the tokenizer.\n",
      "Processing batches:  49%|████▉     | 150/306 [4:07:16<4:06:07, 94.66s/batch]A decoder-only architecture is being used, but right-padding was detected! For correct generation results, please set `padding_side='left'` when initializing the tokenizer.\n",
      "Processing batches:  49%|████▉     | 151/306 [4:08:49<4:03:42, 94.34s/batch]A decoder-only architecture is being used, but right-padding was detected! For correct generation results, please set `padding_side='left'` when initializing the tokenizer.\n",
      "Processing batches:  50%|████▉     | 152/306 [4:10:19<3:58:19, 92.85s/batch]A decoder-only architecture is being used, but right-padding was detected! For correct generation results, please set `padding_side='left'` when initializing the tokenizer.\n",
      "Processing batches:  50%|█████     | 153/306 [4:12:24<4:21:48, 102.67s/batch]A decoder-only architecture is being used, but right-padding was detected! For correct generation results, please set `padding_side='left'` when initializing the tokenizer.\n",
      "Processing batches:  50%|█████     | 154/306 [4:13:53<4:09:41, 98.56s/batch] A decoder-only architecture is being used, but right-padding was detected! For correct generation results, please set `padding_side='left'` when initializing the tokenizer.\n",
      "Processing batches:  51%|█████     | 155/306 [4:15:26<4:03:41, 96.83s/batch]A decoder-only architecture is being used, but right-padding was detected! For correct generation results, please set `padding_side='left'` when initializing the tokenizer.\n",
      "Processing batches:  51%|█████     | 156/306 [4:16:56<3:56:56, 94.78s/batch]A decoder-only architecture is being used, but right-padding was detected! For correct generation results, please set `padding_side='left'` when initializing the tokenizer.\n",
      "Processing batches:  51%|█████▏    | 157/306 [4:18:25<3:51:17, 93.14s/batch]A decoder-only architecture is being used, but right-padding was detected! For correct generation results, please set `padding_side='left'` when initializing the tokenizer.\n",
      "Processing batches:  52%|█████▏    | 158/306 [4:19:58<3:49:34, 93.07s/batch]A decoder-only architecture is being used, but right-padding was detected! For correct generation results, please set `padding_side='left'` when initializing the tokenizer.\n",
      "Processing batches:  52%|█████▏    | 159/306 [4:21:31<3:47:36, 92.90s/batch]A decoder-only architecture is being used, but right-padding was detected! For correct generation results, please set `padding_side='left'` when initializing the tokenizer.\n",
      "Processing batches:  52%|█████▏    | 160/306 [4:23:02<3:44:34, 92.29s/batch]A decoder-only architecture is being used, but right-padding was detected! For correct generation results, please set `padding_side='left'` when initializing the tokenizer.\n",
      "Processing batches:  53%|█████▎    | 161/306 [4:24:33<3:42:31, 92.08s/batch]A decoder-only architecture is being used, but right-padding was detected! For correct generation results, please set `padding_side='left'` when initializing the tokenizer.\n",
      "Processing batches:  53%|█████▎    | 162/306 [4:26:38<4:04:31, 101.88s/batch]A decoder-only architecture is being used, but right-padding was detected! For correct generation results, please set `padding_side='left'` when initializing the tokenizer.\n",
      "Processing batches:  53%|█████▎    | 163/306 [4:28:12<3:57:20, 99.58s/batch] A decoder-only architecture is being used, but right-padding was detected! For correct generation results, please set `padding_side='left'` when initializing the tokenizer.\n",
      "Processing batches:  54%|█████▎    | 164/306 [4:29:42<3:48:29, 96.55s/batch]A decoder-only architecture is being used, but right-padding was detected! For correct generation results, please set `padding_side='left'` when initializing the tokenizer.\n",
      "Processing batches:  54%|█████▍    | 165/306 [4:31:10<3:41:07, 94.09s/batch]A decoder-only architecture is being used, but right-padding was detected! For correct generation results, please set `padding_side='left'` when initializing the tokenizer.\n",
      "Processing batches:  54%|█████▍    | 166/306 [4:32:44<3:39:33, 94.09s/batch]A decoder-only architecture is being used, but right-padding was detected! For correct generation results, please set `padding_side='left'` when initializing the tokenizer.\n",
      "Processing batches:  55%|█████▍    | 167/306 [4:34:16<3:36:43, 93.55s/batch]A decoder-only architecture is being used, but right-padding was detected! For correct generation results, please set `padding_side='left'` when initializing the tokenizer.\n",
      "Processing batches:  55%|█████▍    | 168/306 [4:35:45<3:31:38, 92.02s/batch]A decoder-only architecture is being used, but right-padding was detected! For correct generation results, please set `padding_side='left'` when initializing the tokenizer.\n",
      "Processing batches:  55%|█████▌    | 169/306 [4:37:20<3:32:07, 92.90s/batch]A decoder-only architecture is being used, but right-padding was detected! For correct generation results, please set `padding_side='left'` when initializing the tokenizer.\n",
      "Processing batches:  56%|█████▌    | 170/306 [4:38:51<3:29:25, 92.39s/batch]A decoder-only architecture is being used, but right-padding was detected! For correct generation results, please set `padding_side='left'` when initializing the tokenizer.\n",
      "Processing batches:  56%|█████▌    | 171/306 [4:40:18<3:24:19, 90.81s/batch]A decoder-only architecture is being used, but right-padding was detected! For correct generation results, please set `padding_side='left'` when initializing the tokenizer.\n",
      "Processing batches:  56%|█████▌    | 172/306 [4:41:49<3:22:32, 90.69s/batch]A decoder-only architecture is being used, but right-padding was detected! For correct generation results, please set `padding_side='left'` when initializing the tokenizer.\n",
      "Processing batches:  57%|█████▋    | 173/306 [4:43:17<3:19:36, 90.05s/batch]A decoder-only architecture is being used, but right-padding was detected! For correct generation results, please set `padding_side='left'` when initializing the tokenizer.\n",
      "Processing batches:  57%|█████▋    | 174/306 [4:44:46<3:17:40, 89.85s/batch]A decoder-only architecture is being used, but right-padding was detected! For correct generation results, please set `padding_side='left'` when initializing the tokenizer.\n",
      "Processing batches:  57%|█████▋    | 175/306 [4:46:52<3:39:22, 100.48s/batch]A decoder-only architecture is being used, but right-padding was detected! For correct generation results, please set `padding_side='left'` when initializing the tokenizer.\n",
      "Processing batches:  58%|█████▊    | 176/306 [4:48:20<3:29:27, 96.67s/batch] A decoder-only architecture is being used, but right-padding was detected! For correct generation results, please set `padding_side='left'` when initializing the tokenizer.\n",
      "Processing batches:  58%|█████▊    | 177/306 [4:49:53<3:25:52, 95.76s/batch]A decoder-only architecture is being used, but right-padding was detected! For correct generation results, please set `padding_side='left'` when initializing the tokenizer.\n",
      "Processing batches:  58%|█████▊    | 178/306 [4:51:26<3:22:36, 94.97s/batch]A decoder-only architecture is being used, but right-padding was detected! For correct generation results, please set `padding_side='left'` when initializing the tokenizer.\n",
      "Processing batches:  58%|█████▊    | 179/306 [4:52:56<3:17:49, 93.46s/batch]A decoder-only architecture is being used, but right-padding was detected! For correct generation results, please set `padding_side='left'` when initializing the tokenizer.\n",
      "Processing batches:  59%|█████▉    | 180/306 [4:54:29<3:15:54, 93.29s/batch]A decoder-only architecture is being used, but right-padding was detected! For correct generation results, please set `padding_side='left'` when initializing the tokenizer.\n",
      "Processing batches:  59%|█████▉    | 181/306 [4:56:34<3:34:20, 102.88s/batch]A decoder-only architecture is being used, but right-padding was detected! For correct generation results, please set `padding_side='left'` when initializing the tokenizer.\n",
      "Processing batches:  59%|█████▉    | 182/306 [4:58:07<3:25:59, 99.68s/batch] A decoder-only architecture is being used, but right-padding was detected! For correct generation results, please set `padding_side='left'` when initializing the tokenizer.\n",
      "Processing batches:  60%|█████▉    | 183/306 [4:59:37<3:18:22, 96.77s/batch]A decoder-only architecture is being used, but right-padding was detected! For correct generation results, please set `padding_side='left'` when initializing the tokenizer.\n",
      "Processing batches:  60%|██████    | 184/306 [5:01:10<3:14:54, 95.85s/batch]A decoder-only architecture is being used, but right-padding was detected! For correct generation results, please set `padding_side='left'` when initializing the tokenizer.\n",
      "Processing batches:  60%|██████    | 185/306 [5:02:47<3:13:59, 96.19s/batch]A decoder-only architecture is being used, but right-padding was detected! For correct generation results, please set `padding_side='left'` when initializing the tokenizer.\n",
      "Processing batches:  61%|██████    | 186/306 [5:04:18<3:09:23, 94.69s/batch]A decoder-only architecture is being used, but right-padding was detected! For correct generation results, please set `padding_side='left'` when initializing the tokenizer.\n",
      "Processing batches:  61%|██████    | 187/306 [5:05:53<3:07:33, 94.56s/batch]A decoder-only architecture is being used, but right-padding was detected! For correct generation results, please set `padding_side='left'` when initializing the tokenizer.\n",
      "Processing batches:  61%|██████▏   | 188/306 [5:07:31<3:07:55, 95.56s/batch]A decoder-only architecture is being used, but right-padding was detected! For correct generation results, please set `padding_side='left'` when initializing the tokenizer.\n",
      "Processing batches:  62%|██████▏   | 189/306 [5:09:09<3:07:52, 96.34s/batch]A decoder-only architecture is being used, but right-padding was detected! For correct generation results, please set `padding_side='left'` when initializing the tokenizer.\n",
      "Processing batches:  62%|██████▏   | 190/306 [5:10:44<3:05:19, 95.86s/batch]A decoder-only architecture is being used, but right-padding was detected! For correct generation results, please set `padding_side='left'` when initializing the tokenizer.\n",
      "Processing batches:  62%|██████▏   | 191/306 [5:12:22<3:05:30, 96.79s/batch]A decoder-only architecture is being used, but right-padding was detected! For correct generation results, please set `padding_side='left'` when initializing the tokenizer.\n",
      "Processing batches:  63%|██████▎   | 192/306 [5:14:01<3:05:02, 97.39s/batch]A decoder-only architecture is being used, but right-padding was detected! For correct generation results, please set `padding_side='left'` when initializing the tokenizer.\n",
      "Processing batches:  63%|██████▎   | 193/306 [5:16:12<3:22:05, 107.31s/batch]A decoder-only architecture is being used, but right-padding was detected! For correct generation results, please set `padding_side='left'` when initializing the tokenizer.\n",
      "Processing batches:  63%|██████▎   | 194/306 [5:17:49<3:14:54, 104.41s/batch]A decoder-only architecture is being used, but right-padding was detected! For correct generation results, please set `padding_side='left'` when initializing the tokenizer.\n",
      "Processing batches:  64%|██████▎   | 195/306 [5:19:26<3:08:44, 102.02s/batch]A decoder-only architecture is being used, but right-padding was detected! For correct generation results, please set `padding_side='left'` when initializing the tokenizer.\n",
      "Processing batches:  64%|██████▍   | 196/306 [5:20:54<2:59:31, 97.92s/batch] A decoder-only architecture is being used, but right-padding was detected! For correct generation results, please set `padding_side='left'` when initializing the tokenizer.\n",
      "Processing batches:  64%|██████▍   | 197/306 [5:22:27<2:55:15, 96.47s/batch]A decoder-only architecture is being used, but right-padding was detected! For correct generation results, please set `padding_side='left'` when initializing the tokenizer.\n",
      "Processing batches:  65%|██████▍   | 198/306 [5:23:56<2:49:18, 94.06s/batch]A decoder-only architecture is being used, but right-padding was detected! For correct generation results, please set `padding_side='left'` when initializing the tokenizer.\n",
      "Processing batches:  65%|██████▌   | 199/306 [5:25:29<2:47:08, 93.73s/batch]A decoder-only architecture is being used, but right-padding was detected! For correct generation results, please set `padding_side='left'` when initializing the tokenizer.\n",
      "Processing batches:  65%|██████▌   | 200/306 [5:26:55<2:41:35, 91.47s/batch]A decoder-only architecture is being used, but right-padding was detected! For correct generation results, please set `padding_side='left'` when initializing the tokenizer.\n",
      "Processing batches:  66%|██████▌   | 201/306 [5:29:00<2:57:43, 101.56s/batch]A decoder-only architecture is being used, but right-padding was detected! For correct generation results, please set `padding_side='left'` when initializing the tokenizer.\n",
      "Processing batches:  66%|██████▌   | 202/306 [5:30:34<2:52:01, 99.24s/batch] A decoder-only architecture is being used, but right-padding was detected! For correct generation results, please set `padding_side='left'` when initializing the tokenizer.\n",
      "Processing batches:  66%|██████▋   | 203/306 [5:32:07<2:47:01, 97.30s/batch]A decoder-only architecture is being used, but right-padding was detected! For correct generation results, please set `padding_side='left'` when initializing the tokenizer.\n",
      "Processing batches:  67%|██████▋   | 204/306 [5:33:36<2:41:37, 95.07s/batch]A decoder-only architecture is being used, but right-padding was detected! For correct generation results, please set `padding_side='left'` when initializing the tokenizer.\n",
      "Processing batches:  67%|██████▋   | 205/306 [5:35:09<2:38:37, 94.23s/batch]A decoder-only architecture is being used, but right-padding was detected! For correct generation results, please set `padding_side='left'` when initializing the tokenizer.\n",
      "Processing batches:  67%|██████▋   | 206/306 [5:37:14<2:52:36, 103.56s/batch]A decoder-only architecture is being used, but right-padding was detected! For correct generation results, please set `padding_side='left'` when initializing the tokenizer.\n",
      "Processing batches:  68%|██████▊   | 207/306 [5:38:43<2:43:42, 99.22s/batch] A decoder-only architecture is being used, but right-padding was detected! For correct generation results, please set `padding_side='left'` when initializing the tokenizer.\n",
      "Processing batches:  68%|██████▊   | 208/306 [5:40:15<2:38:27, 97.02s/batch]A decoder-only architecture is being used, but right-padding was detected! For correct generation results, please set `padding_side='left'` when initializing the tokenizer.\n",
      "Processing batches:  68%|██████▊   | 209/306 [5:41:43<2:32:38, 94.42s/batch]A decoder-only architecture is being used, but right-padding was detected! For correct generation results, please set `padding_side='left'` when initializing the tokenizer.\n",
      "Processing batches:  69%|██████▊   | 210/306 [5:43:13<2:28:37, 92.89s/batch]A decoder-only architecture is being used, but right-padding was detected! For correct generation results, please set `padding_side='left'` when initializing the tokenizer.\n",
      "Processing batches:  69%|██████▉   | 211/306 [5:45:18<2:42:41, 102.75s/batch]A decoder-only architecture is being used, but right-padding was detected! For correct generation results, please set `padding_side='left'` when initializing the tokenizer.\n",
      "Processing batches:  69%|██████▉   | 212/306 [5:46:53<2:37:10, 100.32s/batch]A decoder-only architecture is being used, but right-padding was detected! For correct generation results, please set `padding_side='left'` when initializing the tokenizer.\n",
      "Processing batches:  70%|██████▉   | 213/306 [5:48:29<2:33:25, 98.98s/batch] A decoder-only architecture is being used, but right-padding was detected! For correct generation results, please set `padding_side='left'` when initializing the tokenizer.\n",
      "Processing batches:  70%|██████▉   | 214/306 [5:50:01<2:28:40, 96.96s/batch]A decoder-only architecture is being used, but right-padding was detected! For correct generation results, please set `padding_side='left'` when initializing the tokenizer.\n",
      "Processing batches:  70%|███████   | 215/306 [5:51:34<2:25:21, 95.84s/batch]A decoder-only architecture is being used, but right-padding was detected! For correct generation results, please set `padding_side='left'` when initializing the tokenizer.\n",
      "Processing batches:  71%|███████   | 216/306 [5:53:04<2:21:00, 94.01s/batch]A decoder-only architecture is being used, but right-padding was detected! For correct generation results, please set `padding_side='left'` when initializing the tokenizer.\n",
      "Processing batches:  71%|███████   | 217/306 [5:54:35<2:17:54, 92.97s/batch]A decoder-only architecture is being used, but right-padding was detected! For correct generation results, please set `padding_side='left'` when initializing the tokenizer.\n",
      "Processing batches:  71%|███████   | 218/306 [5:56:08<2:16:29, 93.07s/batch]A decoder-only architecture is being used, but right-padding was detected! For correct generation results, please set `padding_side='left'` when initializing the tokenizer.\n",
      "Processing batches:  72%|███████▏  | 219/306 [5:58:14<2:29:24, 103.04s/batch]A decoder-only architecture is being used, but right-padding was detected! For correct generation results, please set `padding_side='left'` when initializing the tokenizer.\n",
      "Processing batches:  72%|███████▏  | 220/306 [5:59:51<2:24:50, 101.05s/batch]A decoder-only architecture is being used, but right-padding was detected! For correct generation results, please set `padding_side='left'` when initializing the tokenizer.\n",
      "Processing batches:  72%|███████▏  | 221/306 [6:01:20<2:17:58, 97.40s/batch] A decoder-only architecture is being used, but right-padding was detected! For correct generation results, please set `padding_side='left'` when initializing the tokenizer.\n",
      "Processing batches:  73%|███████▎  | 222/306 [6:02:52<2:14:23, 96.00s/batch]A decoder-only architecture is being used, but right-padding was detected! For correct generation results, please set `padding_side='left'` when initializing the tokenizer.\n",
      "Processing batches:  73%|███████▎  | 223/306 [6:04:21<2:09:47, 93.83s/batch]A decoder-only architecture is being used, but right-padding was detected! For correct generation results, please set `padding_side='left'` when initializing the tokenizer.\n",
      "Processing batches:  73%|███████▎  | 224/306 [6:06:28<2:21:35, 103.61s/batch]A decoder-only architecture is being used, but right-padding was detected! For correct generation results, please set `padding_side='left'` when initializing the tokenizer.\n",
      "Processing batches:  74%|███████▎  | 225/306 [6:08:00<2:15:16, 100.20s/batch]A decoder-only architecture is being used, but right-padding was detected! For correct generation results, please set `padding_side='left'` when initializing the tokenizer.\n",
      "Processing batches:  74%|███████▍  | 226/306 [6:09:29<2:09:17, 96.97s/batch] A decoder-only architecture is being used, but right-padding was detected! For correct generation results, please set `padding_side='left'` when initializing the tokenizer.\n",
      "Processing batches:  74%|███████▍  | 227/306 [6:11:36<2:19:36, 106.03s/batch]A decoder-only architecture is being used, but right-padding was detected! For correct generation results, please set `padding_side='left'` when initializing the tokenizer.\n",
      "Processing batches:  75%|███████▍  | 228/306 [6:13:09<2:12:32, 101.95s/batch]A decoder-only architecture is being used, but right-padding was detected! For correct generation results, please set `padding_side='left'` when initializing the tokenizer.\n",
      "Processing batches:  75%|███████▍  | 229/306 [6:14:43<2:07:48, 99.59s/batch] A decoder-only architecture is being used, but right-padding was detected! For correct generation results, please set `padding_side='left'` when initializing the tokenizer.\n",
      "Processing batches:  75%|███████▌  | 230/306 [6:16:16<2:03:34, 97.56s/batch]A decoder-only architecture is being used, but right-padding was detected! For correct generation results, please set `padding_side='left'` when initializing the tokenizer.\n",
      "Processing batches:  75%|███████▌  | 231/306 [6:17:46<1:59:12, 95.37s/batch]A decoder-only architecture is being used, but right-padding was detected! For correct generation results, please set `padding_side='left'` when initializing the tokenizer.\n",
      "Processing batches:  76%|███████▌  | 232/306 [6:19:20<1:57:03, 94.91s/batch]A decoder-only architecture is being used, but right-padding was detected! For correct generation results, please set `padding_side='left'` when initializing the tokenizer.\n",
      "Processing batches:  76%|███████▌  | 233/306 [6:20:56<1:55:50, 95.21s/batch]A decoder-only architecture is being used, but right-padding was detected! For correct generation results, please set `padding_side='left'` when initializing the tokenizer.\n",
      "Processing batches:  76%|███████▋  | 234/306 [6:23:02<2:05:29, 104.58s/batch]A decoder-only architecture is being used, but right-padding was detected! For correct generation results, please set `padding_side='left'` when initializing the tokenizer.\n",
      "Processing batches:  77%|███████▋  | 235/306 [6:24:36<1:59:55, 101.34s/batch]A decoder-only architecture is being used, but right-padding was detected! For correct generation results, please set `padding_side='left'` when initializing the tokenizer.\n",
      "Processing batches:  77%|███████▋  | 236/306 [6:26:43<2:07:04, 108.93s/batch]A decoder-only architecture is being used, but right-padding was detected! For correct generation results, please set `padding_side='left'` when initializing the tokenizer.\n",
      "Processing batches:  77%|███████▋  | 237/306 [6:28:09<1:57:33, 102.22s/batch]A decoder-only architecture is being used, but right-padding was detected! For correct generation results, please set `padding_side='left'` when initializing the tokenizer.\n",
      "Processing batches:  78%|███████▊  | 238/306 [6:29:43<1:52:59, 99.69s/batch] A decoder-only architecture is being used, but right-padding was detected! For correct generation results, please set `padding_side='left'` when initializing the tokenizer.\n",
      "Processing batches:  78%|███████▊  | 239/306 [6:31:15<1:48:43, 97.37s/batch]A decoder-only architecture is being used, but right-padding was detected! For correct generation results, please set `padding_side='left'` when initializing the tokenizer.\n",
      "Processing batches:  78%|███████▊  | 240/306 [6:32:46<1:45:01, 95.48s/batch]A decoder-only architecture is being used, but right-padding was detected! For correct generation results, please set `padding_side='left'` when initializing the tokenizer.\n",
      "Processing batches:  79%|███████▉  | 241/306 [6:34:17<1:42:08, 94.29s/batch]A decoder-only architecture is being used, but right-padding was detected! For correct generation results, please set `padding_side='left'` when initializing the tokenizer.\n",
      "Processing batches:  79%|███████▉  | 242/306 [6:35:51<1:40:27, 94.18s/batch]A decoder-only architecture is being used, but right-padding was detected! For correct generation results, please set `padding_side='left'` when initializing the tokenizer.\n",
      "Processing batches:  79%|███████▉  | 243/306 [6:37:25<1:38:39, 93.96s/batch]A decoder-only architecture is being used, but right-padding was detected! For correct generation results, please set `padding_side='left'` when initializing the tokenizer.\n",
      "Processing batches:  80%|███████▉  | 244/306 [6:38:57<1:36:23, 93.28s/batch]A decoder-only architecture is being used, but right-padding was detected! For correct generation results, please set `padding_side='left'` when initializing the tokenizer.\n",
      "Processing batches:  80%|████████  | 245/306 [6:40:30<1:34:48, 93.26s/batch]A decoder-only architecture is being used, but right-padding was detected! For correct generation results, please set `padding_side='left'` when initializing the tokenizer.\n",
      "Processing batches:  80%|████████  | 246/306 [6:42:03<1:33:09, 93.15s/batch]A decoder-only architecture is being used, but right-padding was detected! For correct generation results, please set `padding_side='left'` when initializing the tokenizer.\n",
      "Processing batches:  81%|████████  | 247/306 [6:43:34<1:31:05, 92.64s/batch]A decoder-only architecture is being used, but right-padding was detected! For correct generation results, please set `padding_side='left'` when initializing the tokenizer.\n",
      "Processing batches:  81%|████████  | 248/306 [6:45:06<1:29:14, 92.33s/batch]A decoder-only architecture is being used, but right-padding was detected! For correct generation results, please set `padding_side='left'` when initializing the tokenizer.\n",
      "Processing batches:  81%|████████▏ | 249/306 [6:46:38<1:27:49, 92.45s/batch]A decoder-only architecture is being used, but right-padding was detected! For correct generation results, please set `padding_side='left'` when initializing the tokenizer.\n",
      "Processing batches:  82%|████████▏ | 250/306 [6:48:43<1:35:23, 102.20s/batch]A decoder-only architecture is being used, but right-padding was detected! For correct generation results, please set `padding_side='left'` when initializing the tokenizer.\n",
      "Processing batches:  82%|████████▏ | 251/306 [6:50:19<1:31:57, 100.31s/batch]A decoder-only architecture is being used, but right-padding was detected! For correct generation results, please set `padding_side='left'` when initializing the tokenizer.\n",
      "Processing batches:  82%|████████▏ | 252/306 [6:51:50<1:27:42, 97.44s/batch] A decoder-only architecture is being used, but right-padding was detected! For correct generation results, please set `padding_side='left'` when initializing the tokenizer.\n",
      "Processing batches:  83%|████████▎ | 253/306 [6:53:23<1:24:58, 96.20s/batch]A decoder-only architecture is being used, but right-padding was detected! For correct generation results, please set `padding_side='left'` when initializing the tokenizer.\n",
      "Processing batches:  83%|████████▎ | 254/306 [6:54:58<1:22:55, 95.68s/batch]A decoder-only architecture is being used, but right-padding was detected! For correct generation results, please set `padding_side='left'` when initializing the tokenizer.\n",
      "Processing batches:  83%|████████▎ | 255/306 [6:56:27<1:19:43, 93.79s/batch]A decoder-only architecture is being used, but right-padding was detected! For correct generation results, please set `padding_side='left'` when initializing the tokenizer.\n",
      "Processing batches:  84%|████████▎ | 256/306 [6:58:02<1:18:20, 94.01s/batch]A decoder-only architecture is being used, but right-padding was detected! For correct generation results, please set `padding_side='left'` when initializing the tokenizer.\n",
      "Processing batches:  84%|████████▍ | 257/306 [6:59:36<1:16:47, 94.02s/batch]A decoder-only architecture is being used, but right-padding was detected! For correct generation results, please set `padding_side='left'` when initializing the tokenizer.\n",
      "Processing batches:  84%|████████▍ | 258/306 [7:01:04<1:13:44, 92.17s/batch]A decoder-only architecture is being used, but right-padding was detected! For correct generation results, please set `padding_side='left'` when initializing the tokenizer.\n",
      "Processing batches:  85%|████████▍ | 259/306 [7:02:37<1:12:36, 92.69s/batch]A decoder-only architecture is being used, but right-padding was detected! For correct generation results, please set `padding_side='left'` when initializing the tokenizer.\n",
      "Processing batches:  85%|████████▍ | 260/306 [7:04:10<1:10:56, 92.54s/batch]A decoder-only architecture is being used, but right-padding was detected! For correct generation results, please set `padding_side='left'` when initializing the tokenizer.\n",
      "Processing batches:  85%|████████▌ | 261/306 [7:05:46<1:10:10, 93.58s/batch]A decoder-only architecture is being used, but right-padding was detected! For correct generation results, please set `padding_side='left'` when initializing the tokenizer.\n",
      "Processing batches:  86%|████████▌ | 262/306 [7:07:19<1:08:36, 93.56s/batch]A decoder-only architecture is being used, but right-padding was detected! For correct generation results, please set `padding_side='left'` when initializing the tokenizer.\n",
      "Processing batches:  86%|████████▌ | 263/306 [7:08:52<1:06:54, 93.36s/batch]A decoder-only architecture is being used, but right-padding was detected! For correct generation results, please set `padding_side='left'` when initializing the tokenizer.\n",
      "Processing batches:  86%|████████▋ | 264/306 [7:10:22<1:04:34, 92.24s/batch]A decoder-only architecture is being used, but right-padding was detected! For correct generation results, please set `padding_side='left'` when initializing the tokenizer.\n",
      "Processing batches:  87%|████████▋ | 265/306 [7:12:01<1:04:33, 94.47s/batch]A decoder-only architecture is being used, but right-padding was detected! For correct generation results, please set `padding_side='left'` when initializing the tokenizer.\n",
      "Processing batches:  87%|████████▋ | 266/306 [7:13:35<1:02:49, 94.23s/batch]A decoder-only architecture is being used, but right-padding was detected! For correct generation results, please set `padding_side='left'` when initializing the tokenizer.\n",
      "Processing batches:  87%|████████▋ | 267/306 [7:15:08<1:00:58, 93.80s/batch]A decoder-only architecture is being used, but right-padding was detected! For correct generation results, please set `padding_side='left'` when initializing the tokenizer.\n",
      "Processing batches:  88%|████████▊ | 268/306 [7:16:44<59:53, 94.57s/batch]  A decoder-only architecture is being used, but right-padding was detected! For correct generation results, please set `padding_side='left'` when initializing the tokenizer.\n",
      "Processing batches:  88%|████████▊ | 269/306 [7:18:19<58:20, 94.62s/batch]A decoder-only architecture is being used, but right-padding was detected! For correct generation results, please set `padding_side='left'` when initializing the tokenizer.\n",
      "Processing batches:  88%|████████▊ | 270/306 [7:19:51<56:20, 93.89s/batch]A decoder-only architecture is being used, but right-padding was detected! For correct generation results, please set `padding_side='left'` when initializing the tokenizer.\n",
      "Processing batches:  89%|████████▊ | 271/306 [7:21:23<54:25, 93.29s/batch]A decoder-only architecture is being used, but right-padding was detected! For correct generation results, please set `padding_side='left'` when initializing the tokenizer.\n",
      "Processing batches:  89%|████████▉ | 272/306 [7:22:56<52:44, 93.07s/batch]A decoder-only architecture is being used, but right-padding was detected! For correct generation results, please set `padding_side='left'` when initializing the tokenizer.\n",
      "Processing batches:  89%|████████▉ | 273/306 [7:24:33<51:58, 94.50s/batch]A decoder-only architecture is being used, but right-padding was detected! For correct generation results, please set `padding_side='left'` when initializing the tokenizer.\n",
      "Processing batches:  90%|████████▉ | 274/306 [7:26:11<50:53, 95.42s/batch]A decoder-only architecture is being used, but right-padding was detected! For correct generation results, please set `padding_side='left'` when initializing the tokenizer.\n",
      "Processing batches:  90%|████████▉ | 275/306 [7:27:47<49:22, 95.55s/batch]A decoder-only architecture is being used, but right-padding was detected! For correct generation results, please set `padding_side='left'` when initializing the tokenizer.\n",
      "Processing batches:  90%|█████████ | 276/306 [7:29:20<47:25, 94.86s/batch]A decoder-only architecture is being used, but right-padding was detected! For correct generation results, please set `padding_side='left'` when initializing the tokenizer.\n",
      "Processing batches:  91%|█████████ | 277/306 [7:30:58<46:18, 95.82s/batch]A decoder-only architecture is being used, but right-padding was detected! For correct generation results, please set `padding_side='left'` when initializing the tokenizer.\n",
      "Processing batches:  91%|█████████ | 278/306 [7:32:34<44:45, 95.93s/batch]A decoder-only architecture is being used, but right-padding was detected! For correct generation results, please set `padding_side='left'` when initializing the tokenizer.\n",
      "Processing batches:  91%|█████████ | 279/306 [7:34:11<43:14, 96.10s/batch]A decoder-only architecture is being used, but right-padding was detected! For correct generation results, please set `padding_side='left'` when initializing the tokenizer.\n",
      "Processing batches:  92%|█████████▏| 280/306 [7:35:46<41:35, 95.97s/batch]A decoder-only architecture is being used, but right-padding was detected! For correct generation results, please set `padding_side='left'` when initializing the tokenizer.\n",
      "Processing batches:  92%|█████████▏| 281/306 [7:37:23<40:05, 96.24s/batch]A decoder-only architecture is being used, but right-padding was detected! For correct generation results, please set `padding_side='left'` when initializing the tokenizer.\n",
      "Processing batches:  92%|█████████▏| 282/306 [7:39:33<42:29, 106.24s/batch]A decoder-only architecture is being used, but right-padding was detected! For correct generation results, please set `padding_side='left'` when initializing the tokenizer.\n",
      "Processing batches:  92%|█████████▏| 283/306 [7:41:09<39:31, 103.11s/batch]A decoder-only architecture is being used, but right-padding was detected! For correct generation results, please set `padding_side='left'` when initializing the tokenizer.\n",
      "Processing batches:  93%|█████████▎| 284/306 [7:42:37<36:12, 98.75s/batch] A decoder-only architecture is being used, but right-padding was detected! For correct generation results, please set `padding_side='left'` when initializing the tokenizer.\n",
      "Processing batches:  93%|█████████▎| 285/306 [7:44:15<34:24, 98.33s/batch]A decoder-only architecture is being used, but right-padding was detected! For correct generation results, please set `padding_side='left'` when initializing the tokenizer.\n",
      "Processing batches:  93%|█████████▎| 286/306 [7:45:46<32:06, 96.34s/batch]A decoder-only architecture is being used, but right-padding was detected! For correct generation results, please set `padding_side='left'` when initializing the tokenizer.\n",
      "Processing batches:  94%|█████████▍| 287/306 [7:47:20<30:16, 95.63s/batch]A decoder-only architecture is being used, but right-padding was detected! For correct generation results, please set `padding_side='left'` when initializing the tokenizer.\n",
      "Processing batches:  94%|█████████▍| 288/306 [7:48:55<28:33, 95.21s/batch]A decoder-only architecture is being used, but right-padding was detected! For correct generation results, please set `padding_side='left'` when initializing the tokenizer.\n",
      "Processing batches:  94%|█████████▍| 289/306 [7:50:26<26:38, 94.05s/batch]A decoder-only architecture is being used, but right-padding was detected! For correct generation results, please set `padding_side='left'` when initializing the tokenizer.\n",
      "Processing batches:  95%|█████████▍| 290/306 [7:52:00<25:02, 93.92s/batch]A decoder-only architecture is being used, but right-padding was detected! For correct generation results, please set `padding_side='left'` when initializing the tokenizer.\n",
      "Processing batches:  95%|█████████▌| 291/306 [7:53:32<23:20, 93.35s/batch]A decoder-only architecture is being used, but right-padding was detected! For correct generation results, please set `padding_side='left'` when initializing the tokenizer.\n",
      "Processing batches:  95%|█████████▌| 292/306 [7:55:41<24:19, 104.22s/batch]A decoder-only architecture is being used, but right-padding was detected! For correct generation results, please set `padding_side='left'` when initializing the tokenizer.\n",
      "Processing batches:  96%|█████████▌| 293/306 [7:57:12<21:41, 100.14s/batch]A decoder-only architecture is being used, but right-padding was detected! For correct generation results, please set `padding_side='left'` when initializing the tokenizer.\n",
      "Processing batches:  96%|█████████▌| 294/306 [7:58:44<19:34, 97.90s/batch] A decoder-only architecture is being used, but right-padding was detected! For correct generation results, please set `padding_side='left'` when initializing the tokenizer.\n",
      "Processing batches:  96%|█████████▋| 295/306 [8:00:23<17:57, 97.95s/batch]A decoder-only architecture is being used, but right-padding was detected! For correct generation results, please set `padding_side='left'` when initializing the tokenizer.\n",
      "Processing batches:  97%|█████████▋| 296/306 [8:01:54<16:00, 96.08s/batch]A decoder-only architecture is being used, but right-padding was detected! For correct generation results, please set `padding_side='left'` when initializing the tokenizer.\n",
      "Processing batches:  97%|█████████▋| 297/306 [8:03:27<14:15, 95.02s/batch]A decoder-only architecture is being used, but right-padding was detected! For correct generation results, please set `padding_side='left'` when initializing the tokenizer.\n",
      "Processing batches:  97%|█████████▋| 298/306 [8:05:32<13:52, 104.00s/batch]A decoder-only architecture is being used, but right-padding was detected! For correct generation results, please set `padding_side='left'` when initializing the tokenizer.\n",
      "Processing batches:  98%|█████████▊| 299/306 [8:07:05<11:44, 100.65s/batch]A decoder-only architecture is being used, but right-padding was detected! For correct generation results, please set `padding_side='left'` when initializing the tokenizer.\n",
      "Processing batches:  98%|█████████▊| 300/306 [8:08:34<09:43, 97.22s/batch] A decoder-only architecture is being used, but right-padding was detected! For correct generation results, please set `padding_side='left'` when initializing the tokenizer.\n",
      "Processing batches:  98%|█████████▊| 301/306 [8:10:03<07:53, 94.77s/batch]A decoder-only architecture is being used, but right-padding was detected! For correct generation results, please set `padding_side='left'` when initializing the tokenizer.\n",
      "Processing batches:  99%|█████████▊| 302/306 [8:11:36<06:17, 94.31s/batch]A decoder-only architecture is being used, but right-padding was detected! For correct generation results, please set `padding_side='left'` when initializing the tokenizer.\n",
      "Processing batches:  99%|█████████▉| 303/306 [8:13:07<04:39, 93.25s/batch]A decoder-only architecture is being used, but right-padding was detected! For correct generation results, please set `padding_side='left'` when initializing the tokenizer.\n",
      "Processing batches:  99%|█████████▉| 304/306 [8:15:12<03:25, 102.73s/batch]A decoder-only architecture is being used, but right-padding was detected! For correct generation results, please set `padding_side='left'` when initializing the tokenizer.\n",
      "Processing batches: 100%|█████████▉| 305/306 [8:16:45<01:39, 99.81s/batch] A decoder-only architecture is being used, but right-padding was detected! For correct generation results, please set `padding_side='left'` when initializing the tokenizer.\n",
      "Processing batches: 100%|██████████| 306/306 [8:18:09<00:00, 97.68s/batch]\n"
     ]
    },
    {
     "name": "stdout",
     "output_type": "stream",
     "text": [
      "Inferred model output for image: 2008225268_01\n",
      "Inferred model output for image: 2008225243_01\n",
      "Inferred model output for image: 2008225280_01\n",
      "Inferred model output for image: 2008225261_01\n",
      "Inferred model output for image: 2008225173_01\n",
      "Inferred model output for image: 2008225114_01\n",
      "Inferred model output for image: 2008225077_01\n",
      "Inferred model output for image: 2008225373_01\n",
      "Inferred model output for image: 2008225113_01\n",
      "Inferred model output for image: 2008225543_01\n",
      "Inferred model output for image: 2008225674_01\n",
      "Inferred model output for image: 2008226267_01\n",
      "Inferred model output for image: 2008225988_01\n",
      "Inferred model output for image: 2008225618_01\n",
      "Inferred model output for image: 2008226090_01\n",
      "Inferred model output for image: 2008226376_01\n",
      "Inferred model output for image: 2008226420_01\n",
      "Inferred model output for image: 2008226444_01\n",
      "Inferred model output for image: 2008226446_01\n",
      "Inferred model output for image: 2008226447_01\n",
      "Inferred model output for image: 2008226448_01\n",
      "Inferred model output for image: 2008226449_01\n",
      "Inferred model output for image: 2008226452_01\n",
      "Inferred model output for image: 2008226461_01\n",
      "Inferred model output for image: 2008226451_01\n",
      "Inferred model output for image: 2008226457_01\n",
      "Inferred model output for image: 2008226466_01\n",
      "Inferred model output for image: 2008226477_01\n",
      "Inferred model output for image: 2008226478_01\n",
      "Inferred model output for image: 2008226485_01\n",
      "Inferred model output for image: 2008226504_01\n",
      "Inferred model output for image: 2008226487_01\n",
      "Inferred model output for image: 2008226503_01\n",
      "Inferred model output for image: 2008226493_01\n",
      "Inferred model output for image: 2008226489_01\n",
      "Inferred model output for image: 2008226508_01\n",
      "Inferred model output for image: 2008226511_01\n",
      "Inferred model output for image: 2008226543_01\n",
      "Inferred model output for image: 2008226548_01\n",
      "Inferred model output for image: 2008226545_01\n",
      "Inferred model output for image: 2008226561_01\n",
      "Inferred model output for image: 2008226546_01\n",
      "Inferred model output for image: 2008226549_01\n",
      "Inferred model output for image: 2008226550_01\n",
      "Inferred model output for image: 2008226553_01\n",
      "Inferred model output for image: 2008226621_01\n",
      "Inferred model output for image: 2008226919_01\n",
      "Inferred model output for image: 2008226981_01\n",
      "Inferred model output for image: 2008227056_01\n",
      "Inferred model output for image: 2008226647_01\n",
      "Inferred model output for image: 2008227196_01\n",
      "Inferred model output for image: 2008227004_01\n",
      "Inferred model output for image: 2008227011_01\n",
      "Inferred model output for image: 2008227256_01\n",
      "Inferred model output for image: 2008227271_01\n",
      "Inferred model output for image: 2008227260_01\n",
      "Inferred model output for image: 2008227300_01\n",
      "Inferred model output for image: 2008227313_01\n",
      "Inferred model output for image: 2008227302_01\n",
      "Inferred model output for image: 2008227309_01\n",
      "Inferred model output for image: 2008227319_01\n",
      "Inferred model output for image: 2008227322_01\n",
      "Inferred model output for image: 2008227324_01\n",
      "Inferred model output for image: 2008227325_01\n",
      "Inferred model output for image: 2008227329_01\n",
      "Inferred model output for image: 2008227326_01\n",
      "Inferred model output for image: 2008227356_01\n",
      "Inferred model output for image: 2008227331_01\n",
      "Inferred model output for image: 2008227332_01\n",
      "Inferred model output for image: 2008227365_01\n",
      "Inferred model output for image: 2008227366_01\n",
      "Inferred model output for image: 2008227376_01\n",
      "Inferred model output for image: 2008227371_01\n",
      "Inferred model output for image: 2008227377_01\n",
      "Inferred model output for image: 2008227369_01\n",
      "Inferred model output for image: 2008227382_01\n",
      "Inferred model output for image: 2008227380_01\n",
      "Inferred model output for image: 2008227393_01\n",
      "Inferred model output for image: 2008227391_01\n",
      "Inferred model output for image: 2008227389_01\n",
      "Inferred model output for image: 2008227446_01\n",
      "Inferred model output for image: 2008227431_01\n",
      "Inferred model output for image: 2008227405_01\n",
      "Inferred model output for image: 2008227402_01\n",
      "Inferred model output for image: 2008227440_01\n",
      "Inferred model output for image: 2008228180_01\n",
      "Inferred model output for image: 2008228309_01\n",
      "Inferred model output for image: 2008227500_01\n",
      "Inferred model output for image: 2008228311_01\n",
      "Inferred model output for image: 2008228312_01\n",
      "Inferred model output for image: 2008228321_01\n",
      "Inferred model output for image: 2008228520_01\n",
      "Inferred model output for image: 2008228317_01\n",
      "Inferred model output for image: 2008228898_01\n",
      "Inferred model output for image: 2008228646_01\n",
      "Inferred model output for image: 2008228667_01\n",
      "Inferred model output for image: 2008228540_01\n",
      "Inferred model output for image: 2008228935_01\n",
      "Inferred model output for image: 2008228940_01\n",
      "Inferred model output for image: 2008228948_01\n",
      "Inferred model output for image: 2008228944_01\n",
      "Inferred model output for image: 2008228947_01\n",
      "Inferred model output for image: 2008228936_01\n",
      "Inferred model output for image: 2008228949_01\n",
      "Inferred model output for image: 2008228954_01\n",
      "Inferred model output for image: 2008228952_01\n",
      "Inferred model output for image: 2008228968_01\n",
      "Inferred model output for image: 2008228969_01\n",
      "Inferred model output for image: 2008229198_01\n",
      "Inferred model output for image: 2008228962_01\n",
      "Inferred model output for image: 2008228956_01\n",
      "Inferred model output for image: 2008228971_01\n",
      "Inferred model output for image: 2008228958_01\n",
      "Inferred model output for image: 2008228988_01\n",
      "Inferred model output for image: 2008229200_01\n",
      "Inferred model output for image: 2008229242_01\n",
      "Inferred model output for image: 2008229572_01\n",
      "Inferred model output for image: 2008229343_01\n",
      "Inferred model output for image: 2008229376_01\n",
      "Inferred model output for image: 2008229995_01\n",
      "Inferred model output for image: 2008230550_01\n",
      "Inferred model output for image: 2008230496_01\n",
      "Inferred model output for image: 2008230566_01\n",
      "Inferred model output for image: 2008230551_01\n",
      "Inferred model output for image: 2008230602_01\n",
      "Inferred model output for image: 2008230698_01\n",
      "Inferred model output for image: 2008230920_01\n",
      "Inferred model output for image: 2008230776_01\n",
      "Inferred model output for image: 2008230869_01\n",
      "Inferred model output for image: 2008231068_01\n",
      "Inferred model output for image: 2008231044_01\n",
      "Inferred model output for image: 2008231106_01\n",
      "Inferred model output for image: 2008231129_01\n",
      "Inferred model output for image: 2008231128_01\n",
      "Inferred model output for image: 2008231134_01\n",
      "Inferred model output for image: 2008231136_01\n",
      "Inferred model output for image: 2008231138_01\n",
      "Inferred model output for image: 2008231251_01\n",
      "Inferred model output for image: 2008231151_01\n",
      "Inferred model output for image: 2008231234_01\n",
      "Inferred model output for image: 2008231152_01\n",
      "Inferred model output for image: 2008231418_01\n",
      "Inferred model output for image: 2008231417_01\n",
      "Inferred model output for image: 2008231574_01\n",
      "Inferred model output for image: 2008231465_01\n",
      "Inferred model output for image: 2008231663_01\n",
      "Inferred model output for image: 2008231647_01\n",
      "Inferred model output for image: 2008231763_01\n",
      "Inferred model output for image: 2008231932_01\n",
      "Inferred model output for image: 2008231781_01\n",
      "Inferred model output for image: 2008232285_01\n",
      "Inferred model output for image: 2008232130_01\n",
      "Inferred model output for image: 2008232069_01\n",
      "Inferred model output for image: 2008232339_01\n",
      "Inferred model output for image: 2008232345_01\n",
      "Inferred model output for image: 2008232407_01\n",
      "Inferred model output for image: 2008232555_01\n",
      "Inferred model output for image: 2008232435_01\n",
      "Inferred model output for image: 2008232573_01\n",
      "Inferred model output for image: 2008232595_01\n",
      "Inferred model output for image: 2008232577_01\n",
      "Inferred model output for image: 2008232597_01\n",
      "Inferred model output for image: 2008232582_01\n",
      "Inferred model output for image: 2008232605_01\n",
      "Inferred model output for image: 2008232600_01\n",
      "Inferred model output for image: 2008232625_01\n",
      "Inferred model output for image: 2008232609_01\n",
      "Inferred model output for image: 2008232642_01\n",
      "Inferred model output for image: 2008232681_01\n",
      "Inferred model output for image: 2008232675_01\n",
      "Inferred model output for image: 2008232818_01\n",
      "Inferred model output for image: 2008232816_01\n",
      "Inferred model output for image: 2008232817_01\n",
      "Inferred model output for image: 2008232858_01\n",
      "Inferred model output for image: 2008232857_01\n",
      "Inferred model output for image: 2008232880_01\n",
      "Inferred model output for image: 2008232869_01\n",
      "Inferred model output for image: 2008232894_01\n",
      "Inferred model output for image: 2008233004_01\n",
      "Inferred model output for image: 2008232939_01\n",
      "Inferred model output for image: 2008233028_01\n",
      "Inferred model output for image: 2008233075_01\n",
      "Inferred model output for image: 2008233058_01\n",
      "Inferred model output for image: 2008233085_01\n",
      "Inferred model output for image: 2008233111_01\n",
      "Inferred model output for image: 2008233076_01\n",
      "Inferred model output for image: 2008233200_01\n",
      "Inferred model output for image: 2008233258_01\n",
      "Inferred model output for image: 2008233202_01\n",
      "Inferred model output for image: 2008233348_01\n",
      "Inferred model output for image: 2008233397_01\n",
      "Inferred model output for image: 2008233383_01\n",
      "Inferred model output for image: 2008233365_01\n",
      "Inferred model output for image: 2008233398_01\n",
      "Inferred model output for image: 2008233399_01\n",
      "Inferred model output for image: 2008233406_01\n",
      "Inferred model output for image: 2008233408_01\n",
      "Inferred model output for image: 2008233407_01\n",
      "Inferred model output for image: 2008233414_01\n",
      "Inferred model output for image: 2008233758_01\n",
      "Inferred model output for image: 2008233450_01\n",
      "Inferred model output for image: 2008233672_01\n",
      "Inferred model output for image: 2008233449_01\n",
      "Inferred model output for image: 2008233786_01\n",
      "Inferred model output for image: 2008233817_01\n",
      "Inferred model output for image: 2008233933_01\n",
      "Inferred model output for image: 2008233904_01\n",
      "Inferred model output for image: 2008233961_01\n",
      "Inferred model output for image: 2008234617_01\n",
      "Inferred model output for image: 2008234449_01\n",
      "Inferred model output for image: 2008233929_01\n",
      "Inferred model output for image: 2008234248_01\n",
      "Inferred model output for image: 2008234661_01\n",
      "Inferred model output for image: 2008234891_01\n",
      "Inferred model output for image: 2008235236_01\n",
      "Inferred model output for image: 2008235054_01\n",
      "Inferred model output for image: 2008235293_01\n",
      "Inferred model output for image: 2008235231_01\n",
      "Inferred model output for image: 2008235234_01\n",
      "Inferred model output for image: 2008235342_01\n",
      "Inferred model output for image: 2008235299_01\n",
      "Inferred model output for image: 2008235427_01\n",
      "Inferred model output for image: 2008235500_01\n",
      "Inferred model output for image: 2008236326_01\n",
      "Inferred model output for image: 2008235853_01\n",
      "Inferred model output for image: 2008235822_01\n",
      "Inferred model output for image: 2008235879_01\n",
      "Inferred model output for image: 2008235592_01\n",
      "Inferred model output for image: 2008236436_01\n",
      "Inferred model output for image: 2008236375_01\n",
      "Inferred model output for image: 2008236438_01\n",
      "Inferred model output for image: 2008236443_01\n",
      "Inferred model output for image: 2008236444_01\n",
      "Inferred model output for image: 2008236449_01\n",
      "Inferred model output for image: 2008236450_01\n",
      "Inferred model output for image: 2008236501_01\n",
      "Inferred model output for image: 2008236511_01\n",
      "Inferred model output for image: 2008236503_01\n",
      "Inferred model output for image: 2008236505_01\n",
      "Inferred model output for image: 2008236516_01\n",
      "Inferred model output for image: 2008236523_01\n",
      "Inferred model output for image: 2008236528_01\n",
      "Inferred model output for image: 2008236535_01\n",
      "Inferred model output for image: 2008236531_01\n",
      "Inferred model output for image: 2008236567_01\n",
      "Inferred model output for image: 2008236727_01\n",
      "Inferred model output for image: 2008236763_01\n",
      "Inferred model output for image: 2008236559_01\n",
      "Inferred model output for image: 2008236903_01\n",
      "Inferred model output for image: 2008236764_01\n",
      "Inferred model output for image: 2008236921_01\n",
      "Inferred model output for image: 2008236940_01\n",
      "Inferred model output for image: 2008236933_01\n",
      "Inferred model output for image: 2008236949_01\n",
      "Inferred model output for image: 2008237064_01\n",
      "Inferred model output for image: 2008237060_01\n",
      "Inferred model output for image: 2008237128_01\n",
      "Inferred model output for image: 2008237078_01\n",
      "Inferred model output for image: 2008237571_01\n",
      "Inferred model output for image: 2008237562_01\n",
      "Inferred model output for image: 2008237565_01\n",
      "Inferred model output for image: 2008237130_01\n",
      "Inferred model output for image: 2008237570_01\n",
      "Inferred model output for image: 2008237605_01\n",
      "Inferred model output for image: 2008237610_01\n",
      "Inferred model output for image: 2008237613_01\n",
      "Inferred model output for image: 2008237572_01\n",
      "Inferred model output for image: 2008237647_01\n",
      "Inferred model output for image: 2008237637_01\n",
      "Inferred model output for image: 2008237642_01\n",
      "Inferred model output for image: 2008237677_01\n",
      "Inferred model output for image: 2008237966_01\n",
      "Inferred model output for image: 2008237919_01\n",
      "Inferred model output for image: 2008237969_01\n",
      "Inferred model output for image: 2008237970_01\n",
      "Inferred model output for image: 2008238003_01\n",
      "Inferred model output for image: 2008237975_01\n",
      "Inferred model output for image: 2008238034_01\n",
      "Inferred model output for image: 2008237976_01\n",
      "Inferred model output for image: 2008238031_01\n",
      "Inferred model output for image: 2008238025_01\n",
      "Inferred model output for image: 2008238244_01\n",
      "Inferred model output for image: 2008238276_01\n",
      "Inferred model output for image: 2008238285_01\n",
      "Inferred model output for image: 2008238284_01\n",
      "Inferred model output for image: 2008238292_01\n",
      "Inferred model output for image: 2008238400_01\n",
      "Inferred model output for image: 2008238289_01\n",
      "Inferred model output for image: 2008238382_01\n",
      "Inferred model output for image: 2008238388_01\n",
      "Inferred model output for image: 2008238298_01\n",
      "Inferred model output for image: 2008238411_01\n",
      "Inferred model output for image: 2008238412_01\n",
      "Inferred model output for image: 2008238450_01\n",
      "Inferred model output for image: 2008238453_01\n",
      "Inferred model output for image: 2008238454_01\n",
      "Inferred model output for image: 2008238461_01\n",
      "Inferred model output for image: 2008238452_01\n",
      "Inferred model output for image: 2008238462_01\n",
      "Inferred model output for image: 2008238471_01\n",
      "Inferred model output for image: 2008238460_01\n",
      "Inferred model output for image: 2008238472_01\n",
      "Inferred model output for image: 2008238473_01\n",
      "Inferred model output for image: 2008238474_01\n",
      "Inferred model output for image: 2008238507_01\n",
      "Inferred model output for image: 2008238570_01\n",
      "Inferred model output for image: 2008238599_01\n",
      "Inferred model output for image: 2008238616_01\n",
      "Inferred model output for image: 2008238510_01\n",
      "Inferred model output for image: 2008238613_01\n",
      "Inferred model output for image: 2008238623_01\n",
      "Inferred model output for image: 2008238658_01\n",
      "Inferred model output for image: 2008238704_01\n",
      "Inferred model output for image: 2008238712_01\n",
      "Inferred model output for image: 2008238834_01\n",
      "Inferred model output for image: 2008238741_01\n",
      "Inferred model output for image: 2008238910_01\n",
      "Inferred model output for image: 2008238891_01\n",
      "Inferred model output for image: 2008238848_01\n",
      "Inferred model output for image: 2008239022_01\n",
      "Inferred model output for image: 2008239058_01\n",
      "Inferred model output for image: 2008239163_01\n",
      "Inferred model output for image: 2008239146_01\n",
      "Inferred model output for image: 2008239175_01\n",
      "Inferred model output for image: 2008239246_01\n",
      "Inferred model output for image: 2008239287_01\n",
      "Inferred model output for image: 2008239250_01\n",
      "Inferred model output for image: 2008239313_01\n",
      "Inferred model output for image: 2008239352_01\n",
      "Inferred model output for image: 2008239707_01\n",
      "Inferred model output for image: 2008239723_01\n",
      "Inferred model output for image: 2008239739_01\n",
      "Inferred model output for image: 2008239745_01\n",
      "Inferred model output for image: 2008239751_01\n",
      "Inferred model output for image: 2008239760_01\n",
      "Inferred model output for image: 2008239747_01\n",
      "Inferred model output for image: 2008239750_01\n",
      "Inferred model output for image: 2008239764_01\n",
      "Inferred model output for image: 2008239756_01\n",
      "Inferred model output for image: 2008239765_01\n",
      "Inferred model output for image: 2008239770_01\n",
      "Inferred model output for image: 2008239768_01\n",
      "Inferred model output for image: 2008239780_01\n",
      "Inferred model output for image: 2008239782_01\n",
      "Inferred model output for image: 2008239776_01\n",
      "Inferred model output for image: 2008239783_01\n",
      "Inferred model output for image: 2008239774_01\n",
      "Inferred model output for image: 2008239781_01\n",
      "Inferred model output for image: 2008239789_01\n",
      "Inferred model output for image: 2008239787_01\n",
      "Inferred model output for image: 2008239804_01\n",
      "Inferred model output for image: 2008239828_01\n",
      "Inferred model output for image: 2008239869_01\n",
      "Inferred model output for image: 2008239868_01\n",
      "Inferred model output for image: 2008239900_01\n",
      "Inferred model output for image: 2008239929_01\n",
      "Inferred model output for image: 2008239883_01\n",
      "Inferred model output for image: 2008240164_01\n",
      "Inferred model output for image: 2008239953_01\n",
      "Inferred model output for image: 2008240005_01\n",
      "Inferred model output for image: 2008240228_01\n",
      "Inferred model output for image: 2008240215_01\n",
      "Inferred model output for image: 2008240399_01\n",
      "Inferred model output for image: 2008240298_01\n",
      "Inferred model output for image: 2008240400_01\n",
      "Inferred model output for image: 2008240427_01\n",
      "Inferred model output for image: 2008240425_01\n",
      "Inferred model output for image: 2008240458_01\n",
      "Inferred model output for image: 2008240428_01\n",
      "Inferred model output for image: 2008240503_01\n",
      "Inferred model output for image: 2008240488_01\n",
      "Inferred model output for image: 2008240482_01\n",
      "Inferred model output for image: 2008240504_01\n",
      "Inferred model output for image: 2008240507_01\n",
      "Inferred model output for image: 2008240564_01\n",
      "Inferred model output for image: 2008240591_01\n",
      "Inferred model output for image: 2008240566_01\n",
      "Inferred model output for image: 2008240656_01\n",
      "Inferred model output for image: 2008240623_01\n",
      "Inferred model output for image: 2008240701_01\n",
      "Inferred model output for image: 2008240797_01\n",
      "Inferred model output for image: 2008240833_01\n",
      "Inferred model output for image: 2008240767_01\n",
      "Inferred model output for image: 2008240804_01\n",
      "Inferred model output for image: 2008240817_01\n",
      "Inferred model output for image: 2008240939_01\n",
      "Inferred model output for image: 2008240979_01\n",
      "Inferred model output for image: 2008241273_01\n",
      "Inferred model output for image: 2008240994_01\n",
      "Inferred model output for image: 2008241274_01\n",
      "Inferred model output for image: 2008241285_01\n",
      "Inferred model output for image: 2008241068_01\n",
      "Inferred model output for image: 2008241307_01\n",
      "Inferred model output for image: 2008241308_01\n",
      "Inferred model output for image: 2008241312_01\n",
      "Inferred model output for image: 2008241315_01\n",
      "Inferred model output for image: 2008241366_01\n",
      "Inferred model output for image: 2008241363_01\n",
      "Inferred model output for image: 2008241370_01\n",
      "Inferred model output for image: 2008241386_01\n",
      "Inferred model output for image: 2008241378_01\n",
      "Inferred model output for image: 2008241376_01\n",
      "Inferred model output for image: 2008241373_01\n",
      "Inferred model output for image: 2008241384_01\n",
      "Inferred model output for image: 2008241381_01\n",
      "Inferred model output for image: 2008241392_01\n",
      "Inferred model output for image: 2008241393_01\n",
      "Inferred model output for image: 2008241389_01\n",
      "Inferred model output for image: 2008241394_01\n",
      "Inferred model output for image: 2008241395_01\n",
      "Inferred model output for image: 2008241397_01\n",
      "Inferred model output for image: 2008241416_01\n",
      "Inferred model output for image: 2008241400_01\n",
      "Inferred model output for image: 2008241396_01\n",
      "Inferred model output for image: 2008241402_01\n",
      "Inferred model output for image: 2008241615_01\n",
      "Inferred model output for image: 2008241493_01\n",
      "Inferred model output for image: 2008241657_01\n",
      "Inferred model output for image: 2008242061_01\n",
      "Inferred model output for image: 2008241991_01\n",
      "Inferred model output for image: 2008242062_01\n",
      "Inferred model output for image: 2008241901_01\n",
      "Inferred model output for image: 2008241809_01\n",
      "Inferred model output for image: 2008242072_01\n",
      "Inferred model output for image: 2008242070_01\n",
      "Inferred model output for image: 2008242085_01\n",
      "Inferred model output for image: 2008242741_01\n",
      "Inferred model output for image: 2008242855_01\n",
      "Inferred model output for image: 2008242497_01\n",
      "Inferred model output for image: 2008242885_01\n",
      "Inferred model output for image: 2008243294_01\n",
      "Inferred model output for image: 2008243476_01\n",
      "Inferred model output for image: 2008243433_01\n",
      "Inferred model output for image: 2008243426_01\n",
      "Inferred model output for image: 2008243575_01\n",
      "Inferred model output for image: 2008243580_01\n",
      "Inferred model output for image: 2008243618_01\n",
      "Inferred model output for image: 2008243629_01\n",
      "Inferred model output for image: 2008243636_01\n",
      "Inferred model output for image: 2008243653_01\n",
      "Inferred model output for image: 2008243677_01\n",
      "Inferred model output for image: 2008243661_01\n",
      "Inferred model output for image: 2008243673_01\n",
      "Inferred model output for image: 2008243712_01\n",
      "Inferred model output for image: 2008243718_01\n",
      "Inferred model output for image: 2008243731_01\n",
      "Inferred model output for image: 2008243745_01\n",
      "Inferred model output for image: 2008243750_01\n",
      "Inferred model output for image: 2008243747_01\n",
      "Inferred model output for image: 2008243741_01\n",
      "Inferred model output for image: 2008243751_01\n",
      "Inferred model output for image: 2008243753_01\n",
      "Inferred model output for image: 2008243757_01\n",
      "Inferred model output for image: 2008243775_01\n",
      "Inferred model output for image: 2008243761_01\n",
      "Inferred model output for image: 2008244299_01\n",
      "Inferred model output for image: 2008243773_01\n",
      "Inferred model output for image: 2008243655_01\n",
      "Inferred model output for image: 2008243784_01\n",
      "Inferred model output for image: 2008244007_01\n",
      "Inferred model output for image: 2008244570_01\n",
      "Inferred model output for image: 2008244569_01\n",
      "Inferred model output for image: 2008244571_01\n",
      "Inferred model output for image: 2008244934_01\n",
      "Inferred model output for image: 2008244935_01\n",
      "Inferred model output for image: 2008244979_01\n",
      "Inferred model output for image: 2008245164_01\n",
      "Inferred model output for image: 2008245040_01\n",
      "Inferred model output for image: 2008245137_01\n",
      "Inferred model output for image: 2008245008_01\n",
      "Inferred model output for image: 2008245175_01\n",
      "Inferred model output for image: 2008245201_01\n",
      "Inferred model output for image: 2008245258_01\n",
      "Inferred model output for image: 2008245397_01\n",
      "Inferred model output for image: 2008245622_01\n",
      "Inferred model output for image: 2008245452_01\n",
      "Inferred model output for image: 2008245754_01\n",
      "Inferred model output for image: 2008245784_01\n",
      "Inferred model output for image: 2008245780_01\n",
      "Inferred model output for image: 2008245844_01\n",
      "Inferred model output for image: 2008245800_01\n",
      "Inferred model output for image: 2008245973_01\n",
      "Inferred model output for image: 2008246125_01\n",
      "Inferred model output for image: 2008245991_01\n",
      "Inferred model output for image: 2008245967_01\n",
      "Inferred model output for image: 2008246217_01\n",
      "Inferred model output for image: 2008246220_01\n",
      "Inferred model output for image: 2008246226_01\n",
      "Inferred model output for image: 2008246396_01\n",
      "Inferred model output for image: 2008246238_01\n",
      "Inferred model output for image: 2008246372_01\n",
      "Inferred model output for image: 2008246237_01\n",
      "Inferred model output for image: 2008246674_01\n",
      "Inferred model output for image: 2008246259_01\n",
      "Inferred model output for image: 2008246669_01\n",
      "Inferred model output for image: 2008247123_01\n",
      "Inferred model output for image: 2008246368_01\n",
      "Inferred model output for image: 2008246992_01\n",
      "Inferred model output for image: 2008247322_01\n",
      "Inferred model output for image: 2008247140_01\n",
      "Inferred model output for image: 2008247251_01\n",
      "Inferred model output for image: 2008247319_01\n",
      "Inferred model output for image: 2008247320_01\n",
      "Inferred model output for image: 2008247490_01\n",
      "Inferred model output for image: 2008247325_01\n",
      "Inferred model output for image: 2008247543_01\n",
      "Inferred model output for image: 2008247496_01\n",
      "Inferred model output for image: 2008247547_01\n",
      "Inferred model output for image: 2008247579_01\n",
      "Inferred model output for image: 2008247562_01\n",
      "Inferred model output for image: 2008247604_01\n",
      "Inferred model output for image: 2008247881_01\n",
      "Inferred model output for image: 2008247873_01\n",
      "Inferred model output for image: 2008247931_01\n",
      "Inferred model output for image: 2008247888_01\n",
      "Inferred model output for image: 2008247932_01\n",
      "Inferred model output for image: 2008247967_01\n",
      "Inferred model output for image: 2008247954_01\n",
      "Inferred model output for image: 2008248004_01\n",
      "Inferred model output for image: 2008248165_01\n",
      "Inferred model output for image: 2008248161_01\n",
      "Inferred model output for image: 2008248177_01\n",
      "Inferred model output for image: 2008248348_01\n",
      "Inferred model output for image: 2008248385_01\n",
      "Inferred model output for image: 2008248311_01\n",
      "Inferred model output for image: 2008248349_01\n",
      "Inferred model output for image: 2008248321_01\n",
      "Inferred model output for image: 2008248386_01\n",
      "Inferred model output for image: 2008248382_01\n",
      "Inferred model output for image: 2008248387_01\n",
      "Inferred model output for image: 2008248393_01\n",
      "Inferred model output for image: 2008248398_01\n",
      "Inferred model output for image: 2008248394_01\n",
      "Inferred model output for image: 2008248405_01\n",
      "Inferred model output for image: 2008248406_01\n",
      "Inferred model output for image: 2008248403_01\n",
      "Inferred model output for image: 2008248421_01\n",
      "Inferred model output for image: 2008248557_01\n",
      "Inferred model output for image: 2008248644_01\n",
      "Inferred model output for image: 2008248829_01\n",
      "Inferred model output for image: 2008248836_01\n",
      "Inferred model output for image: 2008248873_01\n",
      "Inferred model output for image: 2008248878_01\n",
      "Inferred model output for image: 2008248882_01\n",
      "Inferred model output for image: 2008248843_01\n",
      "Inferred model output for image: 2008248953_01\n",
      "Inferred model output for image: 2008248885_01\n",
      "Inferred model output for image: 2008248955_01\n",
      "Inferred model output for image: 2008249033_01\n",
      "Inferred model output for image: 2008249097_01\n",
      "Inferred model output for image: 2008249167_01\n",
      "Inferred model output for image: 2008249259_01\n",
      "Inferred model output for image: 2008249442_01\n",
      "Inferred model output for image: 2008249261_01\n",
      "Inferred model output for image: 2008249120_01\n",
      "Inferred model output for image: 2008249323_01\n",
      "Inferred model output for image: 2008249302_01\n",
      "Inferred model output for image: 2008249277_01\n",
      "Inferred model output for image: 2008249550_01\n",
      "Inferred model output for image: 2008249708_01\n",
      "Inferred model output for image: 2008249784_01\n",
      "Inferred model output for image: 2008249865_01\n",
      "Inferred model output for image: 2008250103_01\n",
      "Inferred model output for image: 2008249935_01\n",
      "Inferred model output for image: 2008250146_01\n",
      "Inferred model output for image: 2008250117_01\n",
      "Inferred model output for image: 2008249886_01\n",
      "Inferred model output for image: 2008250366_01\n",
      "Inferred model output for image: 2008250147_01\n",
      "Inferred model output for image: 2008250373_01\n",
      "Inferred model output for image: 2008250410_01\n",
      "Inferred model output for image: 2008250421_01\n",
      "Inferred model output for image: 2008250389_01\n",
      "Inferred model output for image: 2008250417_01\n",
      "Inferred model output for image: 2008250414_01\n",
      "Inferred model output for image: 2008250429_01\n",
      "Inferred model output for image: 2008250441_01\n",
      "Inferred model output for image: 2008250530_01\n",
      "Inferred model output for image: 2008250533_01\n",
      "Inferred model output for image: 2008250544_01\n",
      "Inferred model output for image: 2008250536_01\n",
      "Inferred model output for image: 2008250546_01\n",
      "Inferred model output for image: 2008250538_01\n",
      "Inferred model output for image: 2008250549_01\n",
      "Inferred model output for image: 2008250556_01\n",
      "Inferred model output for image: 2008250908_01\n",
      "Inferred model output for image: 2008250913_01\n",
      "Inferred model output for image: 2008251126_01\n",
      "Inferred model output for image: 2008250951_01\n",
      "Inferred model output for image: 2008250673_01\n",
      "Inferred model output for image: 2008251140_01\n",
      "Inferred model output for image: 2008251169_01\n",
      "Inferred model output for image: 2008251262_01\n",
      "Inferred model output for image: 2008251394_01\n",
      "Inferred model output for image: 2008251458_01\n",
      "Inferred model output for image: 2008251463_01\n",
      "Inferred model output for image: 2008251379_01\n",
      "Inferred model output for image: 2008251448_01\n",
      "Inferred model output for image: 2008251467_01\n",
      "Inferred model output for image: 2008251462_01\n",
      "Inferred model output for image: 2008251465_01\n",
      "Inferred model output for image: 2008251479_01\n",
      "Inferred model output for image: 2008251468_01\n",
      "Inferred model output for image: 2008251476_01\n",
      "Inferred model output for image: 2008251486_01\n",
      "Inferred model output for image: 2008251554_01\n",
      "Inferred model output for image: 2008251487_01\n",
      "Inferred model output for image: 2008251531_01\n",
      "Inferred model output for image: 2008251573_01\n",
      "Inferred model output for image: 2008251509_01\n",
      "Inferred model output for image: 2008251557_01\n",
      "Inferred model output for image: 2008251578_01\n",
      "Inferred model output for image: 2008251574_01\n",
      "Inferred model output for image: 2008251591_01\n",
      "Inferred model output for image: 2008251599_01\n",
      "Inferred model output for image: 2008251726_01\n",
      "Inferred model output for image: 2008251608_01\n",
      "Inferred model output for image: 2008251601_01\n",
      "Inferred model output for image: 2008251724_01\n",
      "Inferred model output for image: 2008251648_01\n",
      "Inferred model output for image: 2008251585_01\n",
      "Inferred model output for image: 2008251727_01\n",
      "Inferred model output for image: 2008251730_01\n",
      "Inferred model output for image: 2008251745_01\n",
      "Inferred model output for image: 2008251862_01\n",
      "Inferred model output for image: 2008251924_01\n",
      "Inferred model output for image: 2008252046_01\n",
      "Inferred model output for image: 2008251822_01\n",
      "Inferred model output for image: 2008251961_01\n",
      "Inferred model output for image: 2008251889_01\n",
      "Inferred model output for image: 2008252428_01\n",
      "Inferred model output for image: 2008252433_01\n",
      "Inferred model output for image: 2008252434_01\n",
      "Inferred model output for image: 2008252436_01\n",
      "Inferred model output for image: 2008252437_01\n",
      "Inferred model output for image: 2008252455_01\n",
      "Inferred model output for image: 2008252440_01\n",
      "Inferred model output for image: 2008252473_01\n",
      "Inferred model output for image: 2008252443_01\n",
      "Inferred model output for image: 2008252475_01\n",
      "Inferred model output for image: 2008252480_01\n",
      "Inferred model output for image: 2008252495_01\n",
      "Inferred model output for image: 2008252630_01\n",
      "Inferred model output for image: 2008252642_01\n",
      "Inferred model output for image: 2008252895_01\n",
      "Inferred model output for image: 2008252860_01\n",
      "Inferred model output for image: 2008252639_01\n",
      "Inferred model output for image: 2008252490_01\n",
      "Inferred model output for image: 2008252923_01\n",
      "Inferred model output for image: 2008253026_01\n",
      "Inferred model output for image: 2008253159_01\n",
      "Inferred model output for image: 2008253220_01\n",
      "Inferred model output for image: 2008253195_01\n",
      "Inferred model output for image: 2008253464_01\n",
      "Inferred model output for image: 2008253586_01\n",
      "Inferred model output for image: 2008254223_01\n",
      "Inferred model output for image: 2008253610_01\n",
      "Inferred model output for image: 2008254366_01\n",
      "Inferred model output for image: 2008254419_01\n",
      "Inferred model output for image: 2008254457_01\n",
      "Inferred model output for image: 2008254513_01\n",
      "Inferred model output for image: 2008254458_01\n",
      "Inferred model output for image: 2008254785_01\n",
      "Inferred model output for image: 2008255190_01\n",
      "Inferred model output for image: 2008255188_01\n",
      "Inferred model output for image: 2008255191_01\n",
      "Inferred model output for image: 2008255212_01\n",
      "Inferred model output for image: 2008255226_01\n",
      "Inferred model output for image: 2008255230_01\n",
      "Inferred model output for image: 2008255232_01\n",
      "Inferred model output for image: 2008255240_01\n",
      "Inferred model output for image: 2008255243_01\n",
      "Inferred model output for image: 2008255241_01\n",
      "Inferred model output for image: 2008255261_01\n",
      "Inferred model output for image: 2008255465_01\n",
      "Inferred model output for image: 2008255517_01\n",
      "Inferred model output for image: 2008255571_01\n",
      "Inferred model output for image: 2008255526_01\n",
      "Inferred model output for image: 2008256147_01\n",
      "Inferred model output for image: 2008255645_01\n",
      "Inferred model output for image: 2008255808_01\n",
      "Inferred model output for image: 2008255794_01\n",
      "Inferred model output for image: 2008256148_01\n",
      "Inferred model output for image: 2008256150_01\n",
      "Inferred model output for image: 2008256224_01\n",
      "Inferred model output for image: 2008256236_01\n",
      "Inferred model output for image: 2008256565_01\n",
      "Inferred model output for image: 2008256233_01\n",
      "Inferred model output for image: 2008256529_01\n",
      "Inferred model output for image: 2008256259_01\n",
      "Inferred model output for image: 2008256635_01\n",
      "Inferred model output for image: 2008256614_01\n",
      "Inferred model output for image: 2008256393_01\n",
      "Inferred model output for image: 2008256650_01\n",
      "Inferred model output for image: 2008256659_01\n",
      "Inferred model output for image: 2008256861_01\n",
      "Inferred model output for image: 2008256909_01\n",
      "Inferred model output for image: 2008256885_01\n",
      "Inferred model output for image: 2008256908_01\n",
      "Inferred model output for image: 2008256827_01\n",
      "Inferred model output for image: 2008256858_01\n",
      "Inferred model output for image: 2008256907_01\n",
      "Inferred model output for image: 2008257130_01\n",
      "Inferred model output for image: 2008257111_01\n",
      "Inferred model output for image: 2008257152_01\n",
      "Inferred model output for image: 2008257157_01\n",
      "Inferred model output for image: 2008257217_01\n",
      "Inferred model output for image: 2008257305_01\n",
      "Inferred model output for image: 2008257159_01\n",
      "Inferred model output for image: 2008257455_01\n",
      "Inferred model output for image: 2008257415_01\n",
      "Inferred model output for image: 2008257129_01\n",
      "Inferred model output for image: 2008257733_01\n",
      "Inferred model output for image: 2008257749_01\n",
      "Inferred model output for image: 2008257500_01\n",
      "Inferred model output for image: 2008257808_01\n",
      "Inferred model output for image: 2008257876_01\n",
      "Inferred model output for image: 2008257995_01\n",
      "Inferred model output for image: 2008257900_01\n",
      "Inferred model output for image: 2008258023_01\n",
      "Inferred model output for image: 2008258287_01\n",
      "Inferred model output for image: 2008257846_01\n",
      "Inferred model output for image: 2008258104_01\n",
      "Inferred model output for image: 2008258156_01\n",
      "Inferred model output for image: 2008258418_01\n",
      "Inferred model output for image: 2008258409_01\n",
      "Inferred model output for image: 2008258413_01\n",
      "Inferred model output for image: 2008258426_01\n",
      "Inferred model output for image: 2008258420_01\n",
      "Inferred model output for image: 2008258423_01\n",
      "Inferred model output for image: 2008258493_01\n",
      "Inferred model output for image: 2008258496_01\n",
      "Inferred model output for image: 2008258499_01\n",
      "Inferred model output for image: 2008258497_01\n",
      "Inferred model output for image: 2008258696_01\n",
      "Inferred model output for image: 2008258838_01\n",
      "Inferred model output for image: 2008258916_01\n",
      "Inferred model output for image: 2008258506_01\n",
      "Inferred model output for image: 2008258633_01\n",
      "Inferred model output for image: 2008258968_01\n",
      "Inferred model output for image: 2008258973_01\n",
      "Inferred model output for image: 2008259067_01\n",
      "Inferred model output for image: 2008259198_01\n",
      "Inferred model output for image: 2008259218_01\n",
      "Inferred model output for image: 2008259206_01\n",
      "Inferred model output for image: 2008259248_01\n",
      "Inferred model output for image: 2008259246_01\n",
      "Inferred model output for image: 2008259250_01\n",
      "Inferred model output for image: 2008259204_01\n",
      "Inferred model output for image: 2008259258_01\n",
      "Inferred model output for image: 2008259260_01\n",
      "Inferred model output for image: 2008259255_01\n",
      "Inferred model output for image: 2008259282_01\n",
      "Inferred model output for image: 2008259306_01\n",
      "Inferred model output for image: 2008259309_01\n",
      "Inferred model output for image: 2008259315_01\n",
      "Inferred model output for image: 2008259316_01\n",
      "Inferred model output for image: 2008259327_01\n",
      "Inferred model output for image: 2008259337_01\n",
      "Inferred model output for image: 2008259345_01\n",
      "Inferred model output for image: 2008259339_01\n",
      "Inferred model output for image: 2008259346_01\n",
      "Inferred model output for image: 2008259343_01\n",
      "Inferred model output for image: 2008259537_01\n",
      "Inferred model output for image: 2008259718_01\n",
      "Inferred model output for image: 2008259499_01\n",
      "Inferred model output for image: 2008259721_01\n",
      "Inferred model output for image: 2008259352_01\n",
      "Inferred model output for image: 2008259905_01\n",
      "Inferred model output for image: 2008259724_01\n",
      "Inferred model output for image: 2008259725_01\n",
      "Inferred model output for image: 2008260293_01\n",
      "Inferred model output for image: 2008260281_01\n",
      "Inferred model output for image: 2008259930_01\n",
      "Inferred model output for image: 2008261381_01\n",
      "Inferred model output for image: 2008260981_01\n",
      "Inferred model output for image: 2008260315_01\n",
      "Inferred model output for image: 2008261752_01\n",
      "Inferred model output for image: 2008261753_01\n",
      "Inferred model output for image: 2008261762_01\n",
      "Inferred model output for image: 2008261766_01\n",
      "Inferred model output for image: 2008261770_01\n",
      "Inferred model output for image: 2008261764_01\n",
      "Inferred model output for image: 2008261775_01\n",
      "Inferred model output for image: 2008261774_01\n",
      "Inferred model output for image: 2008261787_01\n",
      "Inferred model output for image: 2008261795_01\n",
      "Inferred model output for image: 2008261801_01\n",
      "Inferred model output for image: 2008261856_01\n",
      "Inferred model output for image: 2008261853_01\n",
      "Inferred model output for image: 2008261859_01\n",
      "Inferred model output for image: 2008261857_01\n",
      "Inferred model output for image: 2008261929_01\n",
      "Inferred model output for image: 2008262093_01\n",
      "Inferred model output for image: 2008262112_01\n",
      "Inferred model output for image: 2008262114_01\n",
      "Inferred model output for image: 2008262506_01\n",
      "Inferred model output for image: 2008262816_01\n",
      "Inferred model output for image: 2008262632_01\n",
      "Inferred model output for image: 2008262949_01\n",
      "Inferred model output for image: 2008262992_01\n",
      "Inferred model output for image: 2008262974_01\n",
      "Inferred model output for image: 2008263093_01\n",
      "Inferred model output for image: 2008263378_01\n",
      "Inferred model output for image: 2008263297_01\n",
      "Inferred model output for image: 2008263381_01\n",
      "Inferred model output for image: 2008263333_01\n",
      "Inferred model output for image: 2008263349_01\n",
      "Inferred model output for image: 2008263384_01\n",
      "Inferred model output for image: 2008263399_01\n",
      "Inferred model output for image: 2008263410_01\n",
      "Inferred model output for image: 2008263412_01\n",
      "Inferred model output for image: 2008263411_01\n",
      "Inferred model output for image: 2008263408_01\n",
      "Inferred model output for image: 2008263415_01\n",
      "Inferred model output for image: 2008263414_01\n",
      "Inferred model output for image: 2008263514_01\n",
      "Inferred model output for image: 2008263529_01\n",
      "Inferred model output for image: 2008263962_01\n",
      "Inferred model output for image: 2008263896_01\n",
      "Inferred model output for image: 2008264084_01\n",
      "Inferred model output for image: 2008264018_01\n",
      "Inferred model output for image: 2008264178_01\n",
      "Inferred model output for image: 2008263964_01\n",
      "Inferred model output for image: 2008264085_01\n",
      "Inferred model output for image: 2008264304_01\n",
      "Inferred model output for image: 2008264392_01\n",
      "Inferred model output for image: 2008264534_01\n",
      "Inferred model output for image: 2008264586_01\n",
      "Inferred model output for image: 2008264720_01\n",
      "Inferred model output for image: 2008264964_01\n",
      "Inferred model output for image: 2008264697_01\n",
      "Inferred model output for image: 2008265008_01\n",
      "Inferred model output for image: 2008265029_01\n",
      "Inferred model output for image: 2008265024_01\n",
      "Inferred model output for image: 2008265031_01\n",
      "Inferred model output for image: 2008265116_01\n",
      "Inferred model output for image: 2008265454_01\n",
      "Inferred model output for image: 2008265217_01\n",
      "Inferred model output for image: 2008265415_01\n",
      "Inferred model output for image: 2008265461_01\n",
      "Inferred model output for image: 2008265702_01\n",
      "Inferred model output for image: 2008265043_01\n",
      "Inferred model output for image: 2008265743_01\n",
      "Inferred model output for image: 2008265811_01\n",
      "Inferred model output for image: 2008265857_01\n",
      "Inferred model output for image: 2008266130_01\n",
      "Inferred model output for image: 2008265906_01\n",
      "Inferred model output for image: 2008266007_01\n",
      "Inferred model output for image: 2008266195_01\n",
      "Inferred model output for image: 2008266390_01\n",
      "Inferred model output for image: 2008266299_01\n",
      "Inferred model output for image: 2008266418_01\n",
      "Inferred model output for image: 2008266529_01\n",
      "Inferred model output for image: 2008266515_01\n",
      "Inferred model output for image: 2008266614_01\n",
      "Inferred model output for image: 2008266684_01\n",
      "Inferred model output for image: 2008266680_01\n",
      "Inferred model output for image: 2008266727_01\n",
      "Inferred model output for image: 2008266835_01\n",
      "Inferred model output for image: 2008266698_01\n",
      "Inferred model output for image: 2008266855_01\n",
      "Inferred model output for image: 2008266696_01\n",
      "Inferred model output for image: 2008266831_01\n",
      "Inferred model output for image: 2008266880_01\n",
      "Inferred model output for image: 2008266909_01\n",
      "Inferred model output for image: 2008266942_01\n",
      "Inferred model output for image: 2008266937_01\n",
      "Inferred model output for image: 2008266915_01\n",
      "Inferred model output for image: 2008267004_01\n",
      "Inferred model output for image: 2008267071_01\n",
      "Inferred model output for image: 2008267005_01\n",
      "Inferred model output for image: 2008266994_01\n",
      "Inferred model output for image: 2008267006_01\n",
      "Inferred model output for image: 2008267174_01\n",
      "Inferred model output for image: 2008267177_01\n",
      "Inferred model output for image: 2008267178_01\n",
      "Inferred model output for image: 2008267201_01\n",
      "Inferred model output for image: 2008267212_01\n",
      "Inferred model output for image: 2008267206_01\n",
      "Inferred model output for image: 2008267268_01\n",
      "Inferred model output for image: 2008267263_01\n",
      "Inferred model output for image: 2008267297_01\n",
      "Inferred model output for image: 2008267264_01\n",
      "Inferred model output for image: 2008267303_01\n",
      "Inferred model output for image: 2008267293_01\n",
      "Inferred model output for image: 2008267308_01\n",
      "Inferred model output for image: 2008267340_01\n",
      "Inferred model output for image: 2008267396_01\n",
      "Inferred model output for image: 2008267538_01\n",
      "Inferred model output for image: 2008267470_01\n",
      "Inferred model output for image: 2008267539_01\n",
      "Inferred model output for image: 2008267599_01\n",
      "Inferred model output for image: 2008267465_01\n",
      "Inferred model output for image: 2008267619_01\n",
      "Inferred model output for image: 2008267944_01\n",
      "Inferred model output for image: 2008267947_01\n",
      "Inferred model output for image: 2008267951_01\n",
      "Inferred model output for image: 2008267954_01\n",
      "Inferred model output for image: 2008267952_01\n",
      "Inferred model output for image: 2008267959_01\n",
      "Inferred model output for image: 2008267955_01\n",
      "Inferred model output for image: 2008267960_01\n",
      "Inferred model output for image: 2008267961_01\n",
      "Inferred model output for image: 2008267956_01\n",
      "Inferred model output for image: 2008267962_01\n",
      "Inferred model output for image: 2008267971_01\n",
      "Inferred model output for image: 2008267966_01\n",
      "Inferred model output for image: 2008267965_01\n",
      "Inferred model output for image: 2008267976_01\n",
      "Inferred model output for image: 2008267974_01\n",
      "Inferred model output for image: 2008267963_01\n",
      "Inferred model output for image: 2008267969_01\n",
      "Inferred model output for image: 2008267973_01\n",
      "Inferred model output for image: 2008267987_01\n",
      "Inferred model output for image: 2008268000_01\n",
      "Inferred model output for image: 2008267998_01\n",
      "Inferred model output for image: 2008268001_01\n",
      "Inferred model output for image: 2008268210_01\n",
      "Inferred model output for image: 2008268192_01\n",
      "Inferred model output for image: 2008268204_01\n",
      "Inferred model output for image: 2008268234_01\n",
      "Inferred model output for image: 2008268211_01\n",
      "Inferred model output for image: 2008268065_01\n",
      "Inferred model output for image: 2008268003_01\n",
      "Inferred model output for image: 2008268317_01\n",
      "Inferred model output for image: 2008268377_01\n",
      "Inferred model output for image: 2008268491_01\n",
      "Inferred model output for image: 2008268625_01\n",
      "Inferred model output for image: 2008268556_01\n",
      "Inferred model output for image: 2008269316_01\n",
      "Inferred model output for image: 2008268773_01\n",
      "Inferred model output for image: 2008268798_01\n",
      "Inferred model output for image: 2008269348_01\n",
      "Inferred model output for image: 2008269349_01\n",
      "Inferred model output for image: 2008269358_01\n",
      "Inferred model output for image: 2008269382_01\n",
      "Inferred model output for image: 2008269381_01\n",
      "Inferred model output for image: 2008269380_01\n",
      "Inferred model output for image: 2008269359_01\n",
      "Inferred model output for image: 2008269395_01\n",
      "Inferred model output for image: 2008269536_01\n",
      "Inferred model output for image: 2008269647_01\n",
      "Inferred model output for image: 2008269716_01\n",
      "Inferred model output for image: 2008269394_01\n",
      "Inferred model output for image: 2008269831_01\n",
      "Inferred model output for image: 2008269731_01\n",
      "Inferred model output for image: 2008270011_01\n",
      "Inferred model output for image: 2008270107_01\n",
      "Inferred model output for image: 2008270380_01\n",
      "Inferred model output for image: 2008270405_01\n",
      "Inferred model output for image: 2008270191_01\n",
      "Inferred model output for image: 2008271329_01\n",
      "Inferred model output for image: 2008270775_01\n",
      "Inferred model output for image: 2008270747_01\n",
      "Inferred model output for image: 2008270649_01\n",
      "Inferred model output for image: 2008271330_01\n",
      "Inferred model output for image: 2008271350_01\n",
      "Inferred model output for image: 2008271379_01\n",
      "Inferred model output for image: 2008271380_01\n",
      "Inferred model output for image: 2008271383_01\n",
      "Inferred model output for image: 2008271378_01\n",
      "Inferred model output for image: 2008271384_01\n",
      "Inferred model output for image: 2008271457_01\n",
      "Inferred model output for image: 2008271503_01\n",
      "Inferred model output for image: 2008271646_01\n",
      "Inferred model output for image: 2008271649_01\n",
      "Inferred model output for image: 2008271880_01\n",
      "Inferred model output for image: 2008271920_01\n",
      "Inferred model output for image: 2008272569_01\n",
      "Inferred model output for image: 2008272372_01\n",
      "Inferred model output for image: 2008272133_01\n",
      "Inferred model output for image: 2008272612_01\n",
      "Inferred model output for image: 2008272376_01\n",
      "Inferred model output for image: 2008272614_01\n",
      "Inferred model output for image: 2008273107_01\n",
      "Inferred model output for image: 2008272721_01\n",
      "Inferred model output for image: 2008273159_01\n",
      "Inferred model output for image: 2008273137_01\n",
      "Inferred model output for image: 2008273322_01\n",
      "Inferred model output for image: 2008273374_01\n",
      "Inferred model output for image: 2008273377_01\n",
      "Inferred model output for image: 2008273378_01\n",
      "Inferred model output for image: 2008273184_01\n",
      "Inferred model output for image: 2008273668_01\n",
      "Inferred model output for image: 2008273729_01\n",
      "Inferred model output for image: 2008273772_01\n",
      "Inferred model output for image: 2008273958_01\n",
      "Inferred model output for image: 2008273959_01\n",
      "Inferred model output for image: 2008273941_01\n",
      "Inferred model output for image: 2008274041_01\n",
      "Inferred model output for image: 2008274112_01\n",
      "Inferred model output for image: 2008274070_01\n",
      "Inferred model output for image: 2008273969_01\n",
      "Inferred model output for image: 2008274117_01\n",
      "Inferred model output for image: 2008274194_01\n",
      "Inferred model output for image: 2008274311_01\n",
      "Inferred model output for image: 2008274493_01\n",
      "Inferred model output for image: 2008274198_01\n",
      "Inferred model output for image: 2008274419_01\n",
      "Inferred model output for image: 2008274589_01\n",
      "Inferred model output for image: 2008274590_01\n",
      "Inferred model output for image: 2008274275_01\n",
      "Inferred model output for image: 2008274611_01\n",
      "Inferred model output for image: 2008274616_01\n",
      "Inferred model output for image: 2008274617_01\n",
      "Inferred model output for image: 2008274660_01\n",
      "Inferred model output for image: 2008274689_01\n",
      "Inferred model output for image: 2008274767_01\n",
      "Inferred model output for image: 2008274900_01\n",
      "Inferred model output for image: 2008274908_01\n",
      "Inferred model output for image: 2008275026_01\n",
      "Inferred model output for image: 2008275039_01\n",
      "Inferred model output for image: 2008275064_01\n",
      "Inferred model output for image: 2008275134_01\n",
      "Inferred model output for image: 2008275141_01\n",
      "Inferred model output for image: 2008275084_01\n",
      "Inferred model output for image: 2008275151_01\n",
      "Inferred model output for image: 2008275215_01\n",
      "Inferred model output for image: 2008275372_01\n",
      "Inferred model output for image: 2008275364_01\n",
      "Inferred model output for image: 2008275329_01\n",
      "Inferred model output for image: 2008275375_01\n",
      "Inferred model output for image: 2008275373_01\n",
      "Inferred model output for image: 2008275374_01\n",
      "Inferred model output for image: 2008275393_01\n",
      "Inferred model output for image: 2008275490_01\n",
      "Inferred model output for image: 2008275466_01\n",
      "Inferred model output for image: 2008275602_01\n",
      "Inferred model output for image: 2008275840_01\n",
      "Inferred model output for image: 2008275702_01\n",
      "Inferred model output for image: 2008275760_01\n",
      "Inferred model output for image: 2008275806_01\n",
      "Inferred model output for image: 2008275843_01\n",
      "Inferred model output for image: 2008275874_01\n",
      "Inferred model output for image: 2008275878_01\n",
      "Inferred model output for image: 2008276189_01\n",
      "Inferred model output for image: 2008276190_01\n",
      "Inferred model output for image: 2008275891_01\n",
      "Inferred model output for image: 2008276194_01\n",
      "Inferred model output for image: 2008276216_01\n",
      "Inferred model output for image: 2008276218_01\n",
      "Inferred model output for image: 2008276221_01\n",
      "Inferred model output for image: 2008276222_01\n",
      "Inferred model output for image: 2008276231_01\n",
      "Inferred model output for image: 2008276225_01\n",
      "Inferred model output for image: 2008276248_01\n",
      "Inferred model output for image: 2008276245_01\n",
      "Inferred model output for image: 2008276247_01\n",
      "Inferred model output for image: 2008276250_01\n",
      "Inferred model output for image: 2008276243_01\n",
      "Inferred model output for image: 2008276249_01\n",
      "Inferred model output for image: 2008276261_01\n",
      "Inferred model output for image: 2008276262_01\n",
      "Inferred model output for image: 2008276270_01\n",
      "Inferred model output for image: 2008276264_01\n",
      "Inferred model output for image: 2008276271_01\n",
      "Inferred model output for image: 2008276278_01\n",
      "Inferred model output for image: 2008276269_01\n",
      "Inferred model output for image: 2008276263_01\n",
      "Inferred model output for image: 2008276265_01\n",
      "Inferred model output for image: 2008276279_01\n",
      "Inferred model output for image: 2008276426_01\n",
      "Inferred model output for image: 2008276525_01\n",
      "Inferred model output for image: 2008276692_01\n",
      "Inferred model output for image: 2008276322_01\n",
      "Inferred model output for image: 2008276526_01\n",
      "Inferred model output for image: 2008276890_01\n",
      "Inferred model output for image: 2008276892_01\n",
      "Inferred model output for image: 2008276885_01\n",
      "Inferred model output for image: 2008276893_01\n",
      "Inferred model output for image: 2008276910_01\n",
      "Inferred model output for image: 2008276925_01\n",
      "Inferred model output for image: 2008276929_01\n",
      "Inferred model output for image: 2008276967_01\n",
      "Inferred model output for image: 2008277183_01\n",
      "Inferred model output for image: 2008276928_01\n",
      "Inferred model output for image: 2008278009_01\n",
      "Inferred model output for image: 2008278532_01\n",
      "Inferred model output for image: 2008277923_01\n",
      "Inferred model output for image: 2008278823_01\n",
      "Inferred model output for image: 2008279274_01\n",
      "Inferred model output for image: 2008279098_01\n",
      "Inferred model output for image: 2008279277_01\n",
      "Inferred model output for image: 2008279275_01\n",
      "Inferred model output for image: 2008279280_01\n",
      "Inferred model output for image: 2008279283_01\n",
      "Inferred model output for image: 2008279290_01\n",
      "Inferred model output for image: 2008279291_01\n",
      "Inferred model output for image: 2008279288_01\n",
      "Inferred model output for image: 2008279300_01\n",
      "Inferred model output for image: 2008279297_01\n",
      "Inferred model output for image: 2008279294_01\n",
      "Inferred model output for image: 2008279305_01\n",
      "Inferred model output for image: 2008279310_01\n",
      "Inferred model output for image: 2008279307_01\n",
      "Inferred model output for image: 2008279313_01\n",
      "Inferred model output for image: 2008279337_01\n",
      "Inferred model output for image: 2008279345_01\n",
      "Inferred model output for image: 2008279409_01\n",
      "Inferred model output for image: 2008279427_01\n",
      "Inferred model output for image: 2008279461_01\n",
      "Inferred model output for image: 2008280010_01\n",
      "Inferred model output for image: 2008279494_01\n",
      "Inferred model output for image: 2008280386_01\n",
      "Inferred model output for image: 2008281251_01\n",
      "Inferred model output for image: 2008280550_01\n",
      "Inferred model output for image: 2008279641_01\n",
      "Inferred model output for image: 2008280636_01\n",
      "Inferred model output for image: 2008281117_01\n",
      "Inferred model output for image: 2008281512_01\n",
      "Inferred model output for image: 2008281737_01\n",
      "Inferred model output for image: 2008281774_01\n",
      "Inferred model output for image: 2008281655_01\n",
      "Inferred model output for image: 2008281956_01\n",
      "Inferred model output for image: 2008281901_01\n",
      "Inferred model output for image: 2008281846_01\n",
      "Inferred model output for image: 2008281845_01\n",
      "Inferred model output for image: 2008282089_01\n",
      "Inferred model output for image: 2008282107_01\n",
      "Inferred model output for image: 2008282090_01\n",
      "Inferred model output for image: 2008282129_01\n",
      "Inferred model output for image: 2008282131_01\n",
      "Inferred model output for image: 2008282138_01\n",
      "Inferred model output for image: 2008282141_01\n",
      "Inferred model output for image: 2008282134_01\n",
      "Inferred model output for image: 2008282140_01\n",
      "Inferred model output for image: 2008282143_01\n",
      "Inferred model output for image: 2008282146_01\n",
      "Inferred model output for image: 2008282148_01\n",
      "Inferred model output for image: 2008282204_01\n",
      "Inferred model output for image: 2008282234_01\n",
      "Inferred model output for image: 2008282314_01\n",
      "Inferred model output for image: 2008282318_01\n",
      "Inferred model output for image: 2008282391_01\n",
      "Inferred model output for image: 2008282232_01\n",
      "Inferred model output for image: 2008282229_01\n",
      "Inferred model output for image: 2008282233_01\n",
      "Inferred model output for image: 2008282402_01\n",
      "Inferred model output for image: 2008282523_01\n",
      "Inferred model output for image: 2008282509_01\n",
      "Inferred model output for image: 2008282414_01\n",
      "Inferred model output for image: 2008282554_01\n",
      "Inferred model output for image: 2008282442_01\n",
      "Inferred model output for image: 2008282553_01\n",
      "Inferred model output for image: 2008282513_01\n",
      "Inferred model output for image: 2008282562_01\n",
      "Inferred model output for image: 2008282571_01\n",
      "Inferred model output for image: 2008282570_01\n",
      "Inferred model output for image: 2008282581_01\n",
      "Inferred model output for image: 2008282595_01\n",
      "Inferred model output for image: 2008282593_01\n",
      "Inferred model output for image: 2008282660_01\n",
      "Inferred model output for image: 2008282739_01\n",
      "Inferred model output for image: 2008282564_01\n",
      "Inferred model output for image: 2008282740_01\n",
      "Inferred model output for image: 2008282768_01\n",
      "Inferred model output for image: 2008282798_01\n",
      "Inferred model output for image: 2008282843_01\n",
      "Inferred model output for image: 2008282765_01\n",
      "Inferred model output for image: 2008282741_01\n",
      "Inferred model output for image: 2008282935_01\n",
      "Inferred model output for image: 2008283025_01\n",
      "Inferred model output for image: 2008282876_01\n",
      "Inferred model output for image: 2008282922_01\n",
      "Inferred model output for image: 2008283054_01\n",
      "Inferred model output for image: 2008283053_01\n",
      "Inferred model output for image: 2008283026_01\n",
      "Inferred model output for image: 2008283081_01\n",
      "Inferred model output for image: 2008283104_01\n",
      "Inferred model output for image: 2008283137_01\n",
      "Inferred model output for image: 2008283305_01\n",
      "Inferred model output for image: 2008283108_01\n",
      "Inferred model output for image: 2008283415_01\n",
      "Inferred model output for image: 2008283413_01\n",
      "Inferred model output for image: 2008283437_01\n",
      "Inferred model output for image: 2008283411_01\n",
      "Inferred model output for image: 2008283436_01\n",
      "Inferred model output for image: 2008283488_01\n",
      "Inferred model output for image: 2008283483_01\n",
      "Inferred model output for image: 2008283496_01\n",
      "Inferred model output for image: 2008283562_01\n",
      "Inferred model output for image: 2008283654_01\n",
      "Inferred model output for image: 2008283731_01\n",
      "Inferred model output for image: 2008283639_01\n",
      "Inferred model output for image: 2008283766_01\n",
      "Inferred model output for image: 2008283770_01\n",
      "Inferred model output for image: 2008283680_01\n",
      "Inferred model output for image: 2008283779_01\n",
      "Inferred model output for image: 2008283775_01\n",
      "Inferred model output for image: 2008283798_01\n",
      "Inferred model output for image: 2008283858_01\n",
      "Inferred model output for image: 2008283904_01\n",
      "Inferred model output for image: 2008283817_01\n",
      "Inferred model output for image: 2008283912_01\n",
      "Inferred model output for image: 2008283911_01\n",
      "Inferred model output for image: 2008283937_01\n",
      "Inferred model output for image: 2008283916_01\n",
      "Inferred model output for image: 2008283914_01\n",
      "Inferred model output for image: 2008283959_01\n",
      "Inferred model output for image: 2008283965_01\n",
      "Inferred model output for image: 2008283960_01\n",
      "Inferred model output for image: 2008283966_01\n",
      "Inferred model output for image: 2008283989_01\n",
      "Inferred model output for image: 2008284291_01\n",
      "Inferred model output for image: 2008284205_01\n",
      "Inferred model output for image: 2008284037_01\n",
      "Inferred model output for image: 2008284106_01\n",
      "Inferred model output for image: 2008284029_01\n",
      "Inferred model output for image: 2008284331_01\n",
      "Inferred model output for image: 2008284413_01\n",
      "Inferred model output for image: 2008284472_01\n",
      "Inferred model output for image: 2008284493_01\n",
      "Inferred model output for image: 2008284519_01\n",
      "Inferred model output for image: 2008284479_01\n",
      "Inferred model output for image: 2008284432_01\n",
      "Inferred model output for image: 2008284559_01\n",
      "Inferred model output for image: 2008284611_01\n",
      "Inferred model output for image: 2008284482_01\n",
      "Inferred model output for image: 2008284652_01\n",
      "Inferred model output for image: 2008284707_01\n",
      "Inferred model output for image: 2008284654_01\n",
      "Inferred model output for image: 2008284759_01\n",
      "Inferred model output for image: 2008285012_01\n",
      "Inferred model output for image: 2008285066_01\n",
      "Inferred model output for image: 2008284815_01\n",
      "Inferred model output for image: 2008285185_01\n",
      "Inferred model output for image: 2008285341_01\n",
      "Inferred model output for image: 2008285342_01\n",
      "Inferred model output for image: 2008285362_01\n",
      "Inferred model output for image: 2008285368_01\n",
      "Inferred model output for image: 2008285426_01\n",
      "Inferred model output for image: 2008285589_01\n",
      "Inferred model output for image: 2008285568_01\n",
      "Inferred model output for image: 2008285596_01\n",
      "Inferred model output for image: 2008285607_01\n",
      "Inferred model output for image: 2008285600_01\n",
      "Inferred model output for image: 2008285608_01\n",
      "Inferred model output for image: 2008285613_01\n",
      "Inferred model output for image: 2008285610_01\n",
      "Inferred model output for image: 2008285622_01\n",
      "Inferred model output for image: 2008285640_01\n",
      "Inferred model output for image: 2008285614_01\n",
      "Inferred model output for image: 2008285618_01\n",
      "Inferred model output for image: 2008285641_01\n",
      "Inferred model output for image: 2008285643_01\n",
      "Inferred model output for image: 2008285676_01\n",
      "Inferred model output for image: 2008285677_01\n",
      "Inferred model output for image: 2008285678_01\n",
      "Inferred model output for image: 2008285688_01\n",
      "Inferred model output for image: 2008285823_01\n",
      "Inferred model output for image: 2008285814_01\n",
      "Inferred model output for image: 2008286015_01\n",
      "Inferred model output for image: 2008285679_01\n",
      "Inferred model output for image: 2008286254_01\n",
      "Inferred model output for image: 2008286135_01\n",
      "Inferred model output for image: 2008286260_01\n",
      "Inferred model output for image: 2008286258_01\n",
      "Inferred model output for image: 2008286285_01\n",
      "Inferred model output for image: 2008286291_01\n",
      "Inferred model output for image: 2008286312_01\n",
      "Inferred model output for image: 2008286297_01\n",
      "Inferred model output for image: 2008286313_01\n",
      "Inferred model output for image: 2008286308_01\n",
      "Inferred model output for image: 2008286353_01\n",
      "Inferred model output for image: 2008286351_01\n",
      "Inferred model output for image: 2008286358_01\n",
      "Inferred model output for image: 2008286377_01\n",
      "Inferred model output for image: 2008286359_01\n",
      "Inferred model output for image: 2008286379_01\n",
      "Inferred model output for image: 2008286380_01\n",
      "Inferred model output for image: 2008286401_01\n",
      "Inferred model output for image: 2008287204_01\n",
      "Inferred model output for image: 2008286741_01\n",
      "Inferred model output for image: 2008286784_01\n",
      "Inferred model output for image: 2008287238_01\n",
      "Inferred model output for image: 2008287234_01\n",
      "Inferred model output for image: 2008287244_01\n",
      "Inferred model output for image: 2008287229_01\n",
      "Inferred model output for image: 2008287239_01\n",
      "Inferred model output for image: 2008287248_01\n",
      "Inferred model output for image: 2008287243_01\n",
      "Inferred model output for image: 2008287247_01\n",
      "Inferred model output for image: 2008287249_01\n",
      "Inferred model output for image: 2008287250_01\n",
      "Inferred model output for image: 2008287295_01\n",
      "Inferred model output for image: 2008287252_01\n",
      "Inferred model output for image: 2008287297_01\n",
      "Inferred model output for image: 2008287696_01\n",
      "Inferred model output for image: 2008287674_01\n",
      "Inferred model output for image: 2008287298_01\n",
      "Inferred model output for image: 2008287736_01\n",
      "Inferred model output for image: 2008288226_01\n",
      "Inferred model output for image: 2008288374_01\n",
      "Inferred model output for image: 2008287918_01\n",
      "Inferred model output for image: 2008287831_01\n",
      "Inferred model output for image: 2008288305_01\n",
      "Inferred model output for image: 2008289064_01\n",
      "Inferred model output for image: 2008289028_01\n",
      "Inferred model output for image: 2008288994_01\n",
      "Inferred model output for image: 2008289089_01\n",
      "Inferred model output for image: 2008289101_01\n",
      "Inferred model output for image: 2008289147_01\n",
      "Inferred model output for image: 2008289149_01\n",
      "Inferred model output for image: 2008289163_01\n",
      "Inferred model output for image: 2008289156_01\n",
      "Inferred model output for image: 2008289155_01\n",
      "Inferred model output for image: 2008289242_01\n",
      "Inferred model output for image: 2008289162_01\n",
      "Inferred model output for image: 2008289154_01\n",
      "Inferred model output for image: 2008289244_01\n",
      "Inferred model output for image: 2008289593_01\n",
      "Inferred model output for image: 2008289648_01\n",
      "Inferred model output for image: 2008289670_01\n",
      "Inferred model output for image: 2008289943_01\n",
      "Inferred model output for image: 2008289887_01\n",
      "Inferred model output for image: 2008289780_01\n",
      "Inferred model output for image: 2008289925_01\n",
      "Inferred model output for image: 2008290072_01\n",
      "Inferred model output for image: 2008289940_01\n",
      "Inferred model output for image: 2008290176_01\n",
      "Inferred model output for image: 2008290216_01\n",
      "Inferred model output for image: 2008290299_01\n",
      "Inferred model output for image: 2008290419_01\n",
      "Inferred model output for image: 2008290410_01\n",
      "Inferred model output for image: 2008290256_01\n",
      "Inferred model output for image: 2008290444_01\n",
      "Inferred model output for image: 2008290443_01\n",
      "Inferred model output for image: 2008290765_01\n",
      "Inferred model output for image: 2008290883_01\n",
      "Inferred model output for image: 2008291185_01\n",
      "Inferred model output for image: 2008291369_01\n",
      "Inferred model output for image: 2008291099_01\n",
      "Inferred model output for image: 2008291305_01\n",
      "Inferred model output for image: 2008291024_01\n",
      "Inferred model output for image: 2008290886_01\n",
      "Inferred model output for image: 2008291234_01\n",
      "Inferred model output for image: 2008291284_01\n",
      "Inferred model output for image: 2008291509_01\n",
      "Inferred model output for image: 2008291555_01\n",
      "Inferred model output for image: 2008291516_01\n",
      "Inferred model output for image: 2008291569_01\n",
      "Inferred model output for image: 2008291568_01\n",
      "Inferred model output for image: 2008291736_01\n",
      "Inferred model output for image: 2008291593_01\n",
      "Inferred model output for image: 2008291863_01\n",
      "Inferred model output for image: 2008291633_01\n",
      "Inferred model output for image: 2008291865_01\n",
      "Inferred model output for image: 2008291873_01\n",
      "Inferred model output for image: 2008291867_01\n",
      "Inferred model output for image: 2008291882_01\n",
      "Inferred model output for image: 2008291885_01\n",
      "Inferred model output for image: 2008291866_01\n",
      "Inferred model output for image: 2008291892_01\n",
      "Inferred model output for image: 2008291894_01\n",
      "Inferred model output for image: 2008291903_01\n",
      "Inferred model output for image: 2008291901_01\n",
      "Inferred model output for image: 2008291902_01\n",
      "Inferred model output for image: 2008291908_01\n",
      "Inferred model output for image: 2008292089_01\n",
      "Inferred model output for image: 2008292012_01\n",
      "Inferred model output for image: 2008292189_01\n",
      "Inferred model output for image: 2008291906_01\n",
      "Inferred model output for image: 2008291904_01\n",
      "Inferred model output for image: 2008292210_01\n",
      "Inferred model output for image: 2008292215_01\n",
      "Inferred model output for image: 2008292219_01\n",
      "Inferred model output for image: 2008292221_01\n",
      "Inferred model output for image: 2008292236_01\n",
      "Inferred model output for image: 2008292224_01\n",
      "Inferred model output for image: 2008292298_01\n",
      "Inferred model output for image: 2008292239_01\n",
      "Inferred model output for image: 2008292217_01\n",
      "Inferred model output for image: 2008292273_01\n",
      "Inferred model output for image: 2008292299_01\n",
      "Inferred model output for image: 2008292301_01\n",
      "Inferred model output for image: 2008292304_01\n",
      "Inferred model output for image: 2008292330_01\n",
      "Inferred model output for image: 2008292305_01\n",
      "Inferred model output for image: 2008292332_01\n",
      "Inferred model output for image: 2008292316_01\n",
      "Inferred model output for image: 2008292315_01\n",
      "Inferred model output for image: 2008292496_01\n",
      "Inferred model output for image: 2008292334_01\n",
      "Inferred model output for image: 2008292526_01\n",
      "Inferred model output for image: 2008292611_01\n",
      "Inferred model output for image: 2008292755_01\n",
      "Inferred model output for image: 2008292746_01\n",
      "Inferred model output for image: 2008292808_01\n",
      "Inferred model output for image: 2008292758_01\n",
      "Inferred model output for image: 2008292744_01\n",
      "Inferred model output for image: 2008292889_01\n",
      "Inferred model output for image: 2008292527_01\n",
      "Inferred model output for image: 2008292922_01\n",
      "Inferred model output for image: 2008292924_01\n",
      "Inferred model output for image: 2008292952_01\n",
      "Inferred model output for image: 2008292955_01\n",
      "Inferred model output for image: 2008292961_01\n",
      "Inferred model output for image: 2008292956_01\n",
      "Inferred model output for image: 2008292982_01\n",
      "Inferred model output for image: 2008293057_01\n",
      "Inferred model output for image: 2008293061_01\n",
      "Inferred model output for image: 2008293209_01\n",
      "Inferred model output for image: 2008293273_01\n",
      "Inferred model output for image: 2008293691_01\n",
      "Inferred model output for image: 2008293673_01\n",
      "Inferred model output for image: 2008293756_01\n",
      "Inferred model output for image: 2008293692_01\n",
      "Inferred model output for image: 2008293755_01\n",
      "Inferred model output for image: 2008293754_01\n",
      "Inferred model output for image: 2008293757_01\n",
      "Inferred model output for image: 2008293774_01\n",
      "Inferred model output for image: 2008293776_01\n",
      "Inferred model output for image: 2008293772_01\n",
      "Inferred model output for image: 2008293778_01\n",
      "Inferred model output for image: 2008293782_01\n",
      "Inferred model output for image: 2008293779_01\n",
      "Inferred model output for image: 2008293780_01\n",
      "Inferred model output for image: 2008293800_01\n",
      "Inferred model output for image: 2008293801_01\n",
      "Inferred model output for image: 2008293783_01\n",
      "Inferred model output for image: 2008293784_01\n",
      "Inferred model output for image: 2008293802_01\n",
      "Inferred model output for image: 2008294421_01\n",
      "Inferred model output for image: 2008293997_01\n",
      "Inferred model output for image: 2008293978_01\n",
      "Inferred model output for image: 2008294447_01\n",
      "Inferred model output for image: 2008294162_01\n",
      "Inferred model output for image: 2008294443_01\n",
      "Inferred model output for image: 2008294448_01\n",
      "Inferred model output for image: 2008294453_01\n",
      "Inferred model output for image: 2008294459_01\n",
      "Inferred model output for image: 2008294456_01\n",
      "Inferred model output for image: 2008294481_01\n",
      "Inferred model output for image: 2008294483_01\n",
      "Inferred model output for image: 2008294487_01\n",
      "Inferred model output for image: 2008294490_01\n",
      "Inferred model output for image: 2008294484_01\n",
      "Inferred model output for image: 2008294579_01\n",
      "Inferred model output for image: 2008294491_01\n",
      "Inferred model output for image: 2008294583_01\n",
      "Inferred model output for image: 2008294585_01\n",
      "Inferred model output for image: 2008294495_01\n",
      "Inferred model output for image: 2008294587_01\n",
      "Inferred model output for image: 2008294712_01\n",
      "Inferred model output for image: 2008294805_01\n",
      "Inferred model output for image: 2008294811_01\n",
      "Inferred model output for image: 2008294815_01\n",
      "Inferred model output for image: 2008294586_01\n",
      "Inferred model output for image: 2008294787_01\n",
      "Inferred model output for image: 2008294877_01\n",
      "Inferred model output for image: 2008294892_01\n",
      "Inferred model output for image: 2008294961_01\n",
      "Inferred model output for image: 2008294960_01\n",
      "Inferred model output for image: 2008294970_01\n",
      "Inferred model output for image: 2008295423_01\n",
      "Inferred model output for image: 2008295757_01\n",
      "Inferred model output for image: 2008295662_01\n",
      "Inferred model output for image: 2008295611_01\n",
      "Inferred model output for image: 2008295182_01\n",
      "Inferred model output for image: 2008295762_01\n",
      "Inferred model output for image: 2008295761_01\n",
      "Inferred model output for image: 2008295765_01\n",
      "Inferred model output for image: 2008295767_01\n",
      "Inferred model output for image: 2008295811_01\n",
      "Inferred model output for image: 2008295828_01\n",
      "Inferred model output for image: 2008296050_01\n",
      "Inferred model output for image: 2008295836_01\n",
      "Inferred model output for image: 2008296635_01\n",
      "Inferred model output for image: 2008296435_01\n",
      "Inferred model output for image: 2008296599_01\n",
      "Inferred model output for image: 2008296458_01\n",
      "Inferred model output for image: 2008296912_01\n",
      "Inferred model output for image: 2008297193_01\n",
      "Inferred model output for image: 2008297201_01\n",
      "Inferred model output for image: 2008297285_01\n",
      "Inferred model output for image: 2008297315_01\n",
      "Inferred model output for image: 2008297305_01\n",
      "Inferred model output for image: 2008297304_01\n",
      "Inferred model output for image: 2008297320_01\n",
      "Inferred model output for image: 2008297318_01\n",
      "Inferred model output for image: 2008297409_01\n",
      "Inferred model output for image: 2008297411_01\n",
      "Inferred model output for image: 2008297433_01\n",
      "Inferred model output for image: 2008297434_01\n",
      "Inferred model output for image: 2008297435_01\n",
      "Inferred model output for image: 2008297651_01\n",
      "Inferred model output for image: 2008297441_01\n",
      "Inferred model output for image: 2008297436_01\n",
      "Inferred model output for image: 2008297442_01\n",
      "Inferred model output for image: 2008297672_01\n",
      "Inferred model output for image: 2008297697_01\n",
      "Inferred model output for image: 2008297654_01\n",
      "Inferred model output for image: 2008297652_01\n",
      "Inferred model output for image: 2008297852_01\n",
      "Inferred model output for image: 2008297815_01\n",
      "Inferred model output for image: 2008298377_01\n",
      "Inferred model output for image: 2008297929_01\n",
      "Inferred model output for image: 2008298540_01\n",
      "Inferred model output for image: 2008298400_01\n",
      "Inferred model output for image: 2008298517_01\n",
      "Inferred model output for image: 2008298594_01\n",
      "Inferred model output for image: 2008298600_01\n",
      "Inferred model output for image: 2008298973_01\n",
      "Inferred model output for image: 2008299101_01\n",
      "Inferred model output for image: 2008299310_01\n",
      "Inferred model output for image: 2008299404_01\n",
      "Inferred model output for image: 2008299436_01\n",
      "Inferred model output for image: 2008299434_01\n",
      "Inferred model output for image: 2008299458_01\n",
      "Inferred model output for image: 2008299637_01\n",
      "Inferred model output for image: 2008299657_01\n",
      "Inferred model output for image: 2008299616_01\n",
      "Inferred model output for image: 2008299659_01\n",
      "Inferred model output for image: 2008299660_01\n",
      "Inferred model output for image: 2008299783_01\n",
      "Inferred model output for image: 2008299789_01\n",
      "Inferred model output for image: 2008299787_01\n",
      "Inferred model output for image: 2008299688_01\n",
      "Inferred model output for image: 2008299763_01\n",
      "Inferred model output for image: 2008299792_01\n",
      "Inferred model output for image: 2008299793_01\n",
      "Inferred model output for image: 2008299790_01\n",
      "Inferred model output for image: 2008299947_01\n",
      "Inferred model output for image: 2008299822_01\n",
      "Inferred model output for image: 2008299856_01\n",
      "Inferred model output for image: 2008299885_01\n",
      "Inferred model output for image: 2008299983_01\n",
      "Inferred model output for image: 2008299961_01\n",
      "Inferred model output for image: 2008299997_01\n",
      "Inferred model output for image: 2008300084_01\n",
      "Inferred model output for image: 2008300102_01\n",
      "Inferred model output for image: 2008300119_01\n",
      "Inferred model output for image: 2008300196_01\n",
      "Inferred model output for image: 2008300149_01\n",
      "Inferred model output for image: 2008300130_01\n",
      "Inferred model output for image: 2008300227_01\n",
      "Inferred model output for image: 2008300310_01\n",
      "Inferred model output for image: 2008300502_01\n",
      "Inferred model output for image: 2008300516_01\n",
      "Inferred model output for image: 2008300680_01\n",
      "Inferred model output for image: 2008300729_01\n",
      "Inferred model output for image: 2008300715_01\n",
      "Inferred model output for image: 2008301320_01\n",
      "Inferred model output for image: 2008300891_01\n",
      "Inferred model output for image: 2008301469_01\n",
      "Inferred model output for image: 2008301563_01\n",
      "Inferred model output for image: 2008301697_01\n",
      "Inferred model output for image: 2008301715_01\n",
      "Inferred model output for image: 2008301603_01\n",
      "Inferred model output for image: 2008301699_01\n",
      "Inferred model output for image: 2008301720_01\n",
      "Inferred model output for image: 2008301743_01\n",
      "Inferred model output for image: 2008301721_01\n",
      "Inferred model output for image: 2008301742_01\n",
      "Inferred model output for image: 2008301745_01\n",
      "Inferred model output for image: 2008301746_01\n",
      "Inferred model output for image: 2008301755_01\n",
      "Inferred model output for image: 2008301761_01\n",
      "Inferred model output for image: 2008301768_01\n",
      "Inferred model output for image: 2008301758_01\n",
      "Inferred model output for image: 2008301775_01\n",
      "Inferred model output for image: 2008301769_01\n",
      "Inferred model output for image: 2008301776_01\n",
      "Inferred model output for image: 2008301777_01\n",
      "Inferred model output for image: 2008301963_01\n",
      "Inferred model output for image: 2008301904_01\n",
      "Inferred model output for image: 2008301908_01\n",
      "Inferred model output for image: 2008301946_01\n",
      "Inferred model output for image: 2008302052_01\n",
      "Inferred model output for image: 2008302267_01\n",
      "Inferred model output for image: 2008303533_01\n",
      "Inferred model output for image: 2008303172_01\n",
      "Inferred model output for image: 2008303529_01\n",
      "Inferred model output for image: 2008303541_01\n",
      "Inferred model output for image: 2008303540_01\n",
      "Inferred model output for image: 2008303544_01\n",
      "Inferred model output for image: 2008303121_01\n",
      "Inferred model output for image: 2008303411_01\n",
      "Inferred model output for image: 2008303548_01\n",
      "Inferred model output for image: 2008303551_01\n",
      "Inferred model output for image: 2008303545_01\n",
      "Inferred model output for image: 2008303558_01\n",
      "Inferred model output for image: 2008303556_01\n",
      "Inferred model output for image: 2008303560_01\n",
      "Inferred model output for image: 2008303567_01\n",
      "Inferred model output for image: 2008303554_01\n",
      "Inferred model output for image: 2008303571_01\n",
      "Inferred model output for image: 2008303870_01\n",
      "Inferred model output for image: 2008303576_01\n",
      "Inferred model output for image: 2008303577_01\n",
      "Inferred model output for image: 2008303583_01\n",
      "Inferred model output for image: 2008304683_01\n",
      "Inferred model output for image: 2008305074_01\n",
      "Inferred model output for image: 2008305330_01\n",
      "Inferred model output for image: 2008305335_01\n",
      "Inferred model output for image: 2008305341_01\n",
      "Inferred model output for image: 2008305106_01\n",
      "Inferred model output for image: 2008305356_01\n",
      "Inferred model output for image: 2008305358_01\n",
      "Inferred model output for image: 2008305352_01\n",
      "Inferred model output for image: 2008305362_01\n",
      "Inferred model output for image: 2008305373_01\n",
      "Inferred model output for image: 2008305370_01\n",
      "Inferred model output for image: 2008305392_01\n",
      "Inferred model output for image: 2008305583_01\n",
      "Inferred model output for image: 2008305509_01\n",
      "Inferred model output for image: 2008305386_01\n",
      "Inferred model output for image: 2008305568_01\n",
      "Inferred model output for image: 2008305595_01\n",
      "Inferred model output for image: 2008305600_01\n",
      "Inferred model output for image: 2008305611_01\n",
      "Inferred model output for image: 2008305625_01\n",
      "Inferred model output for image: 2008305739_01\n",
      "Inferred model output for image: 2008306042_01\n",
      "Inferred model output for image: 2008305868_01\n",
      "Inferred model output for image: 2008305924_01\n",
      "Inferred model output for image: 2008306135_01\n",
      "Inferred model output for image: 2008306057_01\n",
      "Inferred model output for image: 2008306043_01\n",
      "Inferred model output for image: 2008306457_01\n",
      "Inferred model output for image: 2008306451_01\n",
      "Inferred model output for image: 2008306680_01\n",
      "Inferred model output for image: 2008306759_01\n",
      "Inferred model output for image: 2008306849_01\n",
      "Inferred model output for image: 2008306898_01\n",
      "Inferred model output for image: 2008306907_01\n",
      "Inferred model output for image: 2008306906_01\n",
      "Inferred model output for image: 2008306897_01\n",
      "Inferred model output for image: 2008306905_01\n",
      "Inferred model output for image: 2008306910_01\n",
      "Inferred model output for image: 2008307041_01\n",
      "Inferred model output for image: 2008307045_01\n",
      "Inferred model output for image: 2008307451_01\n",
      "Inferred model output for image: 2008307220_01\n",
      "Inferred model output for image: 2008307565_01\n",
      "Inferred model output for image: 2008307379_01\n",
      "Inferred model output for image: 2008307369_01\n",
      "Inferred model output for image: 2008307590_01\n",
      "Inferred model output for image: 2008307698_01\n",
      "Inferred model output for image: 2008307787_01\n",
      "Inferred model output for image: 2008308219_01\n",
      "Inferred model output for image: 2008308592_01\n",
      "Inferred model output for image: 2008308650_01\n",
      "Inferred model output for image: 2008307867_01\n",
      "Inferred model output for image: 2008308559_01\n",
      "Inferred model output for image: 2008308193_01\n",
      "Inferred model output for image: 2008308556_01\n",
      "Inferred model output for image: 2008308593_01\n",
      "Inferred model output for image: 2008308709_01\n",
      "Inferred model output for image: 2008308782_01\n",
      "Inferred model output for image: 2008308781_01\n",
      "Inferred model output for image: 2008308778_01\n",
      "Inferred model output for image: 2008308780_01\n",
      "Inferred model output for image: 2008308785_01\n",
      "Inferred model output for image: 2008308832_01\n",
      "Inferred model output for image: 2008308787_01\n",
      "Inferred model output for image: 2008308837_01\n",
      "Inferred model output for image: 2008309137_01\n",
      "Inferred model output for image: 2008308897_01\n",
      "Inferred model output for image: 2008308894_01\n",
      "Inferred model output for image: 2008309183_01\n",
      "Inferred model output for image: 2008309436_01\n",
      "Inferred model output for image: 2008309202_01\n",
      "Inferred model output for image: 2008309185_01\n",
      "Inferred model output for image: 2008309291_01\n",
      "Inferred model output for image: 2008309437_01\n",
      "Inferred model output for image: 2008309464_01\n",
      "Inferred model output for image: 2008309463_01\n",
      "Inferred model output for image: 2008309457_01\n",
      "Inferred model output for image: 2008309469_01\n",
      "Inferred model output for image: 2008309707_01\n",
      "Inferred model output for image: 2008309717_01\n",
      "Inferred model output for image: 2008309774_01\n",
      "Inferred model output for image: 2008309533_01\n",
      "Inferred model output for image: 2008309738_01\n",
      "Inferred model output for image: 2008309757_01\n",
      "Inferred model output for image: 2008309804_01\n",
      "Inferred model output for image: 2008309810_01\n",
      "Inferred model output for image: 2008310309_01\n",
      "Inferred model output for image: 2008310323_01\n",
      "Inferred model output for image: 2008310310_01\n",
      "Inferred model output for image: 2008310338_01\n",
      "Inferred model output for image: 2008310340_01\n",
      "Inferred model output for image: 2008310327_01\n",
      "Inferred model output for image: 2008310325_01\n",
      "Inferred model output for image: 2008310345_01\n",
      "Inferred model output for image: 2008310352_01\n",
      "Inferred model output for image: 2008310347_01\n",
      "Inferred model output for image: 2008310364_01\n",
      "Inferred model output for image: 2008310774_01\n",
      "Inferred model output for image: 2008310999_01\n",
      "Inferred model output for image: 2008310927_01\n",
      "Inferred model output for image: 2008310887_01\n",
      "Inferred model output for image: 2008311073_01\n",
      "Inferred model output for image: 2008311026_01\n",
      "Inferred model output for image: 2008311047_01\n",
      "Inferred model output for image: 2008311078_01\n",
      "Inferred model output for image: 2008311138_01\n",
      "Inferred model output for image: 2008311156_01\n",
      "Inferred model output for image: 2008311144_01\n",
      "Inferred model output for image: 2008311290_01\n",
      "Inferred model output for image: 2008311287_01\n",
      "Inferred model output for image: 2008311289_01\n",
      "Inferred model output for image: 2008311282_01\n",
      "Inferred model output for image: 2008311312_01\n",
      "Inferred model output for image: 2008311291_01\n",
      "Inferred model output for image: 2008311380_01\n",
      "Inferred model output for image: 2008311320_01\n",
      "Inferred model output for image: 2008311600_01\n",
      "Inferred model output for image: 2008311441_01\n",
      "Inferred model output for image: 2008311974_01\n",
      "Inferred model output for image: 2008311970_01\n",
      "Inferred model output for image: 2008311968_01\n",
      "Inferred model output for image: 2008311943_01\n",
      "Inferred model output for image: 2008311983_01\n",
      "Inferred model output for image: 2008311985_01\n",
      "Inferred model output for image: 2008311999_01\n",
      "Inferred model output for image: 2008311997_01\n",
      "Inferred model output for image: 2008312103_01\n",
      "Inferred model output for image: 2008312474_01\n",
      "Inferred model output for image: 2008312470_01\n",
      "Inferred model output for image: 2008312010_01\n",
      "Inferred model output for image: 2008312472_01\n",
      "Inferred model output for image: 2008312471_01\n",
      "Inferred model output for image: 2008312481_01\n",
      "Inferred model output for image: 2008312478_01\n",
      "Inferred model output for image: 2008312483_01\n",
      "Inferred model output for image: 2008312498_01\n",
      "Inferred model output for image: 2008312581_01\n",
      "Inferred model output for image: 2008312499_01\n",
      "Inferred model output for image: 2008312485_01\n",
      "Inferred model output for image: 2008312570_01\n",
      "Inferred model output for image: 2008312895_01\n",
      "Inferred model output for image: 2008312896_01\n",
      "Inferred model output for image: 2008312901_01\n",
      "Inferred model output for image: 2008313609_01\n",
      "Inferred model output for image: 2008312907_01\n",
      "Inferred model output for image: 2008313019_01\n",
      "Inferred model output for image: 2008313625_01\n",
      "Inferred model output for image: 2008314357_01\n",
      "Inferred model output for image: 2008313627_01\n",
      "Inferred model output for image: 2008313025_01\n",
      "Inferred model output for image: 2008313956_01\n",
      "Inferred model output for image: 2008314533_01\n",
      "Inferred model output for image: 2008314575_01\n",
      "Inferred model output for image: 2008314561_01\n",
      "Inferred model output for image: 2008314608_01\n",
      "Inferred model output for image: 2008314594_01\n",
      "Inferred model output for image: 2008314567_01\n",
      "Inferred model output for image: 2008314731_01\n",
      "Inferred model output for image: 2008314653_01\n",
      "Inferred model output for image: 2008314636_01\n",
      "Inferred model output for image: 2008315023_01\n",
      "Inferred model output for image: 2008314747_01\n",
      "Inferred model output for image: 2008315037_01\n",
      "Inferred model output for image: 2008315039_01\n",
      "Inferred model output for image: 2008315339_01\n",
      "Inferred model output for image: 2008315618_01\n",
      "Inferred model output for image: 2008315558_01\n",
      "Inferred model output for image: 2008315636_01\n",
      "Inferred model output for image: 2008315509_01\n",
      "Inferred model output for image: 2008315837_01\n",
      "Inferred model output for image: 2008315524_01\n",
      "Inferred model output for image: 2008315642_01\n",
      "Inferred model output for image: 2008315825_01\n",
      "Inferred model output for image: 2008315902_01\n",
      "Inferred model output for image: 2008315915_01\n",
      "Inferred model output for image: 2008316302_01\n",
      "Inferred model output for image: 2008316109_01\n",
      "Inferred model output for image: 2008316060_01\n",
      "Inferred model output for image: 2008316442_01\n",
      "Inferred model output for image: 2008316200_01\n",
      "Inferred model output for image: 2008316508_01\n",
      "Inferred model output for image: 2008316359_01\n",
      "Inferred model output for image: 2008316540_01\n",
      "Inferred model output for image: 2008316554_01\n",
      "Inferred model output for image: 2008316615_01\n",
      "Inferred model output for image: 2008316595_01\n",
      "Inferred model output for image: 2008316547_01\n",
      "Inferred model output for image: 2008316611_01\n",
      "Inferred model output for image: 2008316618_01\n",
      "Inferred model output for image: 2008316632_01\n",
      "Inferred model output for image: 2008316648_01\n",
      "Inferred model output for image: 2008316704_01\n",
      "Inferred model output for image: 2008316699_01\n",
      "Inferred model output for image: 2008316709_01\n",
      "Inferred model output for image: 2008316689_01\n",
      "Inferred model output for image: 2008316857_01\n",
      "Inferred model output for image: 2008316746_01\n",
      "Inferred model output for image: 2008316850_01\n",
      "Inferred model output for image: 2008316719_01\n",
      "Inferred model output for image: 2008317007_01\n",
      "Inferred model output for image: 2008317009_01\n",
      "Inferred model output for image: 2008316879_01\n",
      "Inferred model output for image: 2008317051_01\n",
      "Inferred model output for image: 2008317116_01\n",
      "Inferred model output for image: 2008317132_01\n",
      "Inferred model output for image: 2008317008_01\n",
      "Inferred model output for image: 2008317138_01\n",
      "Inferred model output for image: 2008317160_01\n",
      "Inferred model output for image: 2008317125_01\n",
      "Inferred model output for image: 2008317167_01\n",
      "Inferred model output for image: 2008317181_01\n",
      "Inferred model output for image: 2008317352_01\n",
      "Inferred model output for image: 2008317351_01\n",
      "Inferred model output for image: 2008317348_01\n",
      "Inferred model output for image: 2008317382_01\n",
      "Inferred model output for image: 2008317377_01\n",
      "Inferred model output for image: 2008317383_01\n",
      "Inferred model output for image: 2008317459_01\n",
      "Inferred model output for image: 2008317389_01\n",
      "Inferred model output for image: 2008317771_01\n",
      "Inferred model output for image: 2008317396_01\n",
      "Inferred model output for image: 2008317996_01\n",
      "Inferred model output for image: 2008318002_01\n",
      "Inferred model output for image: 2008318007_01\n",
      "Inferred model output for image: 2008318010_01\n",
      "Inferred model output for image: 2008318032_01\n",
      "Inferred model output for image: 2008318043_01\n",
      "Inferred model output for image: 2008318038_01\n",
      "Inferred model output for image: 2008318024_01\n",
      "Inferred model output for image: 2008318046_01\n",
      "Inferred model output for image: 2008318048_01\n",
      "Inferred model output for image: 2008318049_01\n",
      "Inferred model output for image: 2008318086_01\n",
      "Inferred model output for image: 2008318091_01\n",
      "Inferred model output for image: 2008318095_01\n",
      "Inferred model output for image: 2008318094_01\n",
      "Inferred model output for image: 2008318097_01\n",
      "Inferred model output for image: 2008318096_01\n",
      "Inferred model output for image: 2008318100_01\n",
      "Inferred model output for image: 2008318098_01\n",
      "Inferred model output for image: 2008318104_01\n",
      "Inferred model output for image: 2008318263_01\n",
      "Inferred model output for image: 2008318268_01\n",
      "Inferred model output for image: 2008318269_01\n",
      "Inferred model output for image: 2008318372_01\n",
      "Inferred model output for image: 2008318581_01\n",
      "Inferred model output for image: 2008318543_01\n",
      "Inferred model output for image: 2008318660_01\n",
      "Inferred model output for image: 2008318587_01\n",
      "Inferred model output for image: 2008318724_01\n",
      "Inferred model output for image: 2008318666_01\n",
      "Inferred model output for image: 2008318947_01\n",
      "Inferred model output for image: 2008319059_01\n",
      "Inferred model output for image: 2008319052_01\n",
      "Inferred model output for image: 2008318779_01\n",
      "Inferred model output for image: 2008319048_01\n",
      "Inferred model output for image: 2008319350_01\n",
      "Inferred model output for image: 2008319414_01\n",
      "Inferred model output for image: 2008319451_01\n",
      "Inferred model output for image: 2008319819_01\n",
      "Inferred model output for image: 2008319821_01\n",
      "Inferred model output for image: 2008319528_01\n",
      "Inferred model output for image: 2008319816_01\n",
      "Inferred model output for image: 2008319567_01\n",
      "Inferred model output for image: 2008319053_01\n",
      "Inferred model output for image: 2008319824_01\n",
      "Inferred model output for image: 2008319876_01\n",
      "Inferred model output for image: 2008319894_01\n",
      "Inferred model output for image: 2008319907_01\n",
      "Inferred model output for image: 2008319902_01\n",
      "Inferred model output for image: 2008319905_01\n",
      "Inferred model output for image: 2008319900_01\n",
      "Inferred model output for image: 2008320096_01\n",
      "Inferred model output for image: 2008320073_01\n",
      "Inferred model output for image: 2008320060_01\n",
      "Inferred model output for image: 2008320100_01\n",
      "Inferred model output for image: 2008320097_01\n",
      "Inferred model output for image: 2008320215_01\n",
      "Inferred model output for image: 2008320105_01\n",
      "Inferred model output for image: 2008320321_01\n",
      "Inferred model output for image: 2008320485_01\n",
      "Inferred model output for image: 2008320852_01\n",
      "Inferred model output for image: 2008320741_01\n",
      "Inferred model output for image: 2008320862_01\n",
      "Inferred model output for image: 2008320870_01\n",
      "Inferred model output for image: 2008320864_01\n",
      "Inferred model output for image: 2008320867_01\n",
      "Inferred model output for image: 2008321014_01\n",
      "Inferred model output for image: 2008321528_01\n",
      "Inferred model output for image: 2008321459_01\n",
      "Inferred model output for image: 2008321537_01\n",
      "Inferred model output for image: 2008321314_01\n",
      "Inferred model output for image: 2008321616_01\n",
      "Inferred model output for image: 2008321247_01\n",
      "Inferred model output for image: 2008321586_01\n",
      "Inferred model output for image: 2008321591_01\n",
      "Inferred model output for image: 2008321618_01\n",
      "Inferred model output for image: 2008321876_01\n",
      "Inferred model output for image: 2009013747_01\n",
      "Inferred model output for image: 2008322074_01\n",
      "Inferred model output for image: 2009013756_01\n",
      "Inferred model output for image: 2009013752_01\n",
      "Inferred model output for image: 2009013769_01\n",
      "Inferred model output for image: 2009013960_01\n",
      "Inferred model output for image: 2009013761_01\n",
      "Inferred model output for image: 2009013967_01\n",
      "Inferred model output for image: 2009014104_01\n",
      "Inferred model output for image: 2008322020_01\n",
      "Inferred model output for image: 2009014095_01\n",
      "Inferred model output for image: 2009014393_01\n",
      "Inferred model output for image: 2009014473_01\n",
      "Inferred model output for image: 2009014441_01\n",
      "Inferred model output for image: 2009014608_01\n",
      "Inferred model output for image: 2009014484_01\n",
      "Inferred model output for image: 2009014848_01\n",
      "Inferred model output for image: 2009015631_01\n",
      "Inferred model output for image: 2009015138_01\n",
      "Inferred model output for image: 2009016005_01\n",
      "Inferred model output for image: 2009016007_01\n",
      "Inferred model output for image: 2009016000_01\n",
      "Inferred model output for image: 2009016020_01\n",
      "Inferred model output for image: 2009016064_01\n",
      "Inferred model output for image: 2009016060_01\n",
      "Inferred model output for image: 2009016077_01\n",
      "Inferred model output for image: 2009016660_01\n",
      "Inferred model output for image: 2009016306_01\n",
      "Inferred model output for image: 2009017013_01\n",
      "Inferred model output for image: 2009016490_01\n",
      "Inferred model output for image: 2009016998_01\n",
      "Inferred model output for image: 2009016913_01\n",
      "Inferred model output for image: 2009017121_01\n",
      "Inferred model output for image: 2009017136_01\n",
      "Inferred model output for image: 2009017142_01\n",
      "Inferred model output for image: 2009017139_01\n",
      "Inferred model output for image: 2009017188_01\n",
      "Inferred model output for image: 2009017146_01\n",
      "Inferred model output for image: 2009017215_01\n",
      "Inferred model output for image: 2009017210_01\n",
      "Inferred model output for image: 2009017144_01\n",
      "Inferred model output for image: 2009017214_01\n",
      "Inferred model output for image: 2009017223_01\n",
      "Inferred model output for image: 2009017232_01\n",
      "Inferred model output for image: 2009017254_01\n",
      "Inferred model output for image: 2009017257_01\n",
      "Inferred model output for image: 2009017395_01\n",
      "Inferred model output for image: 2009017502_01\n",
      "Inferred model output for image: 2009017268_01\n",
      "Inferred model output for image: 2009017347_01\n",
      "Inferred model output for image: 2009017342_01\n",
      "Inferred model output for image: 2009017498_01\n",
      "Inferred model output for image: 2009017508_01\n",
      "Inferred model output for image: 2009017539_01\n",
      "Inferred model output for image: 2009017542_01\n",
      "Inferred model output for image: 2009017610_01\n",
      "Inferred model output for image: 2009017788_01\n",
      "Inferred model output for image: 2009017686_01\n",
      "Inferred model output for image: 2009017779_01\n",
      "Inferred model output for image: 2009017789_01\n",
      "Inferred model output for image: 2009017858_01\n",
      "Inferred model output for image: 2009017909_01\n",
      "Inferred model output for image: 2009017919_01\n",
      "Inferred model output for image: 2009017957_01\n",
      "Inferred model output for image: 2009017931_01\n",
      "Inferred model output for image: 2009017991_01\n",
      "Inferred model output for image: 2009018055_01\n",
      "Inferred model output for image: 2009018108_01\n",
      "Inferred model output for image: 2009018008_01\n",
      "Inferred model output for image: 2009018204_01\n",
      "Inferred model output for image: 2009018056_01\n",
      "Inferred model output for image: 2009018269_01\n",
      "Inferred model output for image: 2009018365_01\n",
      "Inferred model output for image: 2009018344_01\n",
      "Inferred model output for image: 2009018431_01\n",
      "Inferred model output for image: 2009018411_01\n",
      "Inferred model output for image: 2009018483_01\n",
      "Inferred model output for image: 2009018481_01\n",
      "Inferred model output for image: 2009018441_01\n",
      "Inferred model output for image: 2009018485_01\n",
      "Inferred model output for image: 2009018497_01\n",
      "Inferred model output for image: 2009018585_01\n",
      "Inferred model output for image: 2009018553_01\n",
      "Inferred model output for image: 2009018629_01\n",
      "Inferred model output for image: 2009018654_01\n",
      "Inferred model output for image: 2009018827_01\n",
      "Inferred model output for image: 2009018691_01\n",
      "Inferred model output for image: 2009019026_01\n",
      "Inferred model output for image: 2009019025_01\n",
      "Inferred model output for image: 2009019123_01\n",
      "Inferred model output for image: 2009019167_01\n",
      "Inferred model output for image: 2009019365_01\n",
      "Inferred model output for image: 2009019367_01\n",
      "Inferred model output for image: 2009019332_01\n",
      "Inferred model output for image: 2009019389_01\n",
      "Inferred model output for image: 2009019399_01\n",
      "Inferred model output for image: 2009019426_01\n",
      "Inferred model output for image: 2009019410_01\n",
      "Inferred model output for image: 2009019414_01\n",
      "Inferred model output for image: 2009019417_01\n",
      "Inferred model output for image: 2009020046_01\n",
      "Inferred model output for image: 2009019842_01\n",
      "Inferred model output for image: 2009019855_01\n",
      "Inferred model output for image: 2009020055_01\n",
      "Inferred model output for image: 2009020062_01\n",
      "Inferred model output for image: 2009020071_01\n",
      "Inferred model output for image: 2009020069_01\n",
      "Inferred model output for image: 2009020093_01\n",
      "Inferred model output for image: 2009020100_01\n",
      "Inferred model output for image: 2009020119_01\n",
      "Inferred model output for image: 2009020098_01\n",
      "Inferred model output for image: 2009020104_01\n",
      "Inferred model output for image: 2009020193_01\n",
      "Inferred model output for image: 2009020337_01\n",
      "Inferred model output for image: 2009020340_01\n",
      "Inferred model output for image: 2009020345_01\n",
      "Inferred model output for image: 2009020348_01\n",
      "Inferred model output for image: 2009020353_01\n",
      "Inferred model output for image: 2009020358_01\n",
      "Inferred model output for image: 2009020379_01\n",
      "Inferred model output for image: 2009020351_01\n",
      "Inferred model output for image: 2009020374_01\n",
      "Inferred model output for image: 2009020383_01\n",
      "Inferred model output for image: 2009020382_01\n",
      "Inferred model output for image: 2009020387_01\n",
      "Inferred model output for image: 2009020394_01\n",
      "Inferred model output for image: 2009020402_01\n",
      "Inferred model output for image: 2009020404_01\n",
      "Inferred model output for image: 2009020406_01\n",
      "Inferred model output for image: 2009020410_01\n",
      "Inferred model output for image: 2009020425_01\n",
      "Inferred model output for image: 2009020415_01\n",
      "Inferred model output for image: 2009020433_01\n",
      "Inferred model output for image: 2009020411_01\n",
      "Inferred model output for image: 2009020441_01\n",
      "Inferred model output for image: 2009020446_01\n",
      "Inferred model output for image: 2009020597_01\n",
      "Inferred model output for image: 2009020924_01\n",
      "Inferred model output for image: 2009020769_01\n",
      "Inferred model output for image: 2009020796_01\n",
      "Inferred model output for image: 2009021025_01\n",
      "Inferred model output for image: 2009021125_01\n",
      "Inferred model output for image: 2009021423_01\n",
      "Inferred model output for image: 2009021419_01\n",
      "Inferred model output for image: 2009021576_01\n",
      "Inferred model output for image: 2009021424_01\n",
      "Inferred model output for image: 2009021664_01\n",
      "Inferred model output for image: 2009021705_01\n",
      "Inferred model output for image: 2009021836_01\n",
      "Inferred model output for image: 2009021790_01\n",
      "Inferred model output for image: 2009021798_01\n",
      "Inferred model output for image: 2009021720_01\n",
      "Inferred model output for image: 2009021884_01\n",
      "Inferred model output for image: 2009022081_01\n",
      "Inferred model output for image: 2009021962_01\n",
      "Inferred model output for image: 2009022107_01\n",
      "Inferred model output for image: 2009022266_01\n",
      "Inferred model output for image: 2009022676_01\n",
      "Inferred model output for image: 2009022837_01\n",
      "Inferred model output for image: 2009022604_01\n",
      "Inferred model output for image: 2009022838_01\n",
      "Inferred model output for image: 2009022839_01\n",
      "Inferred model output for image: 2009022834_01\n",
      "Inferred model output for image: 2009022842_01\n",
      "Inferred model output for image: 2009022843_01\n",
      "Inferred model output for image: 2009022875_01\n",
      "Inferred model output for image: 2009022853_01\n",
      "Inferred model output for image: 2009022937_01\n",
      "Inferred model output for image: 2009023182_01\n",
      "Inferred model output for image: 2009023180_01\n",
      "Inferred model output for image: 2009022878_01\n",
      "Inferred model output for image: 2009022876_01\n",
      "Inferred model output for image: 2009023236_01\n",
      "Inferred model output for image: 2009023249_01\n",
      "Inferred model output for image: 2009023268_01\n",
      "Inferred model output for image: 2009023285_01\n",
      "Inferred model output for image: 2009023367_01\n",
      "Inferred model output for image: 2009023289_01\n",
      "Inferred model output for image: 2009023665_01\n",
      "Inferred model output for image: 2009023669_01\n",
      "Inferred model output for image: 2009023438_01\n",
      "Inferred model output for image: 2009023699_01\n",
      "Inferred model output for image: 2009023319_01\n",
      "Inferred model output for image: 2009023827_01\n",
      "Inferred model output for image: 2009023762_01\n",
      "Inferred model output for image: 2009023850_01\n",
      "Inferred model output for image: 2009023988_01\n",
      "Inferred model output for image: 2009023966_01\n",
      "Inferred model output for image: 2009023761_01\n",
      "Inferred model output for image: 2009024148_01\n",
      "Inferred model output for image: 2009024227_01\n",
      "Inferred model output for image: 2009024063_01\n",
      "Inferred model output for image: 2009024280_01\n",
      "Inferred model output for image: 2009024273_01\n",
      "Inferred model output for image: 2009024307_01\n",
      "Inferred model output for image: 2009024503_01\n",
      "Inferred model output for image: 2009024475_01\n",
      "Inferred model output for image: 2009024535_01\n",
      "Inferred model output for image: 2009024540_01\n",
      "Inferred model output for image: 2009024534_01\n",
      "Inferred model output for image: 2009024536_01\n",
      "Inferred model output for image: 2009024559_01\n",
      "Inferred model output for image: 2009024725_01\n",
      "Inferred model output for image: 2009024809_01\n",
      "Inferred model output for image: 2009024817_01\n",
      "Inferred model output for image: 2009024818_01\n",
      "Inferred model output for image: 2009024824_01\n",
      "Inferred model output for image: 2009024831_01\n",
      "Inferred model output for image: 2009024957_01\n",
      "Inferred model output for image: 2009024958_01\n",
      "Inferred model output for image: 2009024856_01\n",
      "Inferred model output for image: 2009024960_01\n",
      "Inferred model output for image: 2009025121_01\n",
      "Inferred model output for image: 2009024986_01\n",
      "Inferred model output for image: 2009025338_01\n",
      "Inferred model output for image: 2009025332_01\n",
      "Inferred model output for image: 2009026367_01\n",
      "Inferred model output for image: 2009026308_01\n",
      "Inferred model output for image: 2009025232_01\n",
      "Inferred model output for image: 2009025130_01\n",
      "Inferred model output for image: 2009026523_01\n",
      "Inferred model output for image: 2009026391_01\n",
      "Inferred model output for image: 2009026553_01\n",
      "Inferred model output for image: 2009026527_01\n",
      "Inferred model output for image: 2009026879_01\n",
      "Inferred model output for image: 2009026499_01\n",
      "Inferred model output for image: 2009026551_01\n",
      "Inferred model output for image: 2009026682_01\n",
      "Inferred model output for image: 2009027040_01\n",
      "Inferred model output for image: 2009027259_01\n",
      "Inferred model output for image: 2009027284_01\n",
      "Inferred model output for image: 2009027355_01\n",
      "Inferred model output for image: 2009027369_01\n",
      "Inferred model output for image: 2009027286_01\n",
      "Inferred model output for image: 2009027580_01\n",
      "Inferred model output for image: 2009027257_01\n",
      "Inferred model output for image: 2009027582_01\n",
      "Inferred model output for image: 2009027684_01\n",
      "Inferred model output for image: 2009027599_01\n",
      "Inferred model output for image: 2009028461_01\n",
      "Inferred model output for image: 2009028573_01\n",
      "Inferred model output for image: 2009028571_01\n",
      "Inferred model output for image: 2009028457_01\n",
      "Inferred model output for image: 2009028433_01\n",
      "Inferred model output for image: 2009028569_01\n",
      "Inferred model output for image: 2009028574_01\n",
      "Inferred model output for image: 2009028589_01\n",
      "Inferred model output for image: 2009028595_01\n",
      "Inferred model output for image: 2009028597_01\n",
      "Inferred model output for image: 2009029169_01\n",
      "Inferred model output for image: 2009028656_01\n",
      "Inferred model output for image: 2009029189_01\n",
      "Inferred model output for image: 2009029046_01\n",
      "Inferred model output for image: 2009029229_01\n",
      "Inferred model output for image: 2009029175_01\n",
      "Inferred model output for image: 2009029308_01\n",
      "Inferred model output for image: 2009029231_01\n",
      "Inferred model output for image: 2009029535_01\n",
      "Inferred model output for image: 2009029526_01\n",
      "Inferred model output for image: 2009029964_01\n",
      "Inferred model output for image: 2009029739_01\n",
      "Inferred model output for image: 2009030673_01\n",
      "Inferred model output for image: 2009031137_01\n",
      "Inferred model output for image: 2009031081_01\n",
      "Inferred model output for image: 2009030567_01\n",
      "Inferred model output for image: 2009031074_01\n",
      "Inferred model output for image: 2009031186_01\n",
      "Inferred model output for image: 2009031235_01\n",
      "Inferred model output for image: 2009031239_01\n",
      "Inferred model output for image: 2009031270_01\n",
      "Inferred model output for image: 2009031274_01\n",
      "Inferred model output for image: 2009031284_01\n",
      "Inferred model output for image: 2009031339_01\n",
      "Inferred model output for image: 2009031381_01\n",
      "Inferred model output for image: 2009031612_01\n",
      "Inferred model output for image: 2009031619_01\n",
      "Inferred model output for image: 2009031620_01\n",
      "Inferred model output for image: 2009031623_01\n",
      "Inferred model output for image: 2009031638_01\n",
      "Inferred model output for image: 2009031624_01\n",
      "Inferred model output for image: 2009031721_01\n",
      "Inferred model output for image: 2009031930_01\n",
      "Inferred model output for image: 2009032216_01\n",
      "Inferred model output for image: 2009031995_01\n",
      "Inferred model output for image: 2009032243_01\n",
      "Inferred model output for image: 2009032263_01\n",
      "Inferred model output for image: 2009032246_01\n",
      "Inferred model output for image: 2009032636_01\n",
      "Inferred model output for image: 2009032618_01\n",
      "Inferred model output for image: 2009032265_01\n",
      "Inferred model output for image: 2009032817_01\n",
      "Inferred model output for image: 2009032928_01\n",
      "Inferred model output for image: 2009032940_01\n",
      "Inferred model output for image: 2009032865_01\n",
      "Inferred model output for image: 2009032932_01\n",
      "Inferred model output for image: 2009033046_01\n",
      "Inferred model output for image: 2009033054_01\n",
      "Inferred model output for image: 2009032956_01\n",
      "Inferred model output for image: 2009033142_01\n",
      "Inferred model output for image: 2009033059_01\n",
      "Inferred model output for image: 2009033123_01\n",
      "Inferred model output for image: 2009033297_01\n",
      "Inferred model output for image: 2009033193_01\n",
      "Inferred model output for image: 2009033501_01\n",
      "Inferred model output for image: 2009033391_01\n",
      "Inferred model output for image: 2009033522_01\n",
      "Inferred model output for image: 2009033525_01\n",
      "Inferred model output for image: 2009033317_01\n",
      "Inferred model output for image: 2009033594_01\n",
      "Inferred model output for image: 2009033528_01\n",
      "Inferred model output for image: 2009033524_01\n",
      "Inferred model output for image: 2009033620_01\n",
      "Inferred model output for image: 2009033623_01\n",
      "Inferred model output for image: 2009033684_01\n",
      "Inferred model output for image: 2009033702_01\n",
      "Inferred model output for image: 2009033713_01\n",
      "Inferred model output for image: 2009033622_01\n",
      "Inferred model output for image: 2009033807_01\n",
      "Inferred model output for image: 2009033754_01\n",
      "Inferred model output for image: 2009033833_01\n",
      "Inferred model output for image: 2009033836_01\n",
      "Inferred model output for image: 2009033845_01\n",
      "Inferred model output for image: 2009033974_01\n",
      "Inferred model output for image: 2009033972_01\n",
      "Inferred model output for image: 2009034003_01\n",
      "Inferred model output for image: 2009033876_01\n",
      "Inferred model output for image: 2009033851_01\n",
      "Inferred model output for image: 2009034017_01\n",
      "Inferred model output for image: 2009034019_01\n",
      "Inferred model output for image: 2009034234_01\n",
      "Inferred model output for image: 2009034255_01\n",
      "Inferred model output for image: 2009034363_01\n",
      "Inferred model output for image: 2009034427_01\n",
      "Inferred model output for image: 2009034572_01\n",
      "Inferred model output for image: 2009034498_01\n",
      "Inferred model output for image: 2009034960_01\n",
      "Inferred model output for image: 2009034972_01\n",
      "Inferred model output for image: 2009035115_01\n",
      "Inferred model output for image: 2009035125_01\n",
      "Inferred model output for image: 2009035193_01\n",
      "Inferred model output for image: 2009035200_01\n",
      "Inferred model output for image: 2009035416_01\n",
      "Inferred model output for image: 2009035370_01\n",
      "Inferred model output for image: 2009035428_01\n",
      "Inferred model output for image: 2009035455_01\n",
      "Inferred model output for image: 2009035433_01\n",
      "Inferred model output for image: 2009035468_01\n",
      "Inferred model output for image: 2009035497_01\n",
      "Inferred model output for image: 2009035567_01\n",
      "Inferred model output for image: 2009035606_01\n",
      "Inferred model output for image: 2009035574_01\n",
      "Inferred model output for image: 2009035612_01\n",
      "Inferred model output for image: 2009035619_01\n",
      "Inferred model output for image: 2009035617_01\n",
      "Inferred model output for image: 2009035848_01\n",
      "Inferred model output for image: 2009036534_01\n",
      "Inferred model output for image: 2009037031_01\n",
      "Inferred model output for image: 2009036926_01\n",
      "Inferred model output for image: 2009037068_01\n",
      "Inferred model output for image: 2009037489_01\n",
      "Inferred model output for image: 2009037478_01\n",
      "Inferred model output for image: 2009037330_01\n",
      "Inferred model output for image: 2009037146_01\n",
      "Inferred model output for image: 2009037882_01\n",
      "Inferred model output for image: 2009037904_01\n",
      "Inferred model output for image: 2009038019_01\n",
      "Inferred model output for image: 2009037908_01\n",
      "Inferred model output for image: 2009037970_01\n",
      "Inferred model output for image: 2009038141_01\n",
      "Inferred model output for image: 2009038334_01\n",
      "Inferred model output for image: 2009038266_01\n",
      "Inferred model output for image: 2009038333_01\n",
      "Inferred model output for image: 2009038335_01\n",
      "Inferred model output for image: 2009038438_01\n",
      "Inferred model output for image: 2009038336_01\n",
      "Inferred model output for image: 2009038864_01\n",
      "Inferred model output for image: 2009038745_01\n",
      "Inferred model output for image: 2009038659_01\n",
      "Inferred model output for image: 2009039062_01\n",
      "Inferred model output for image: 2009038648_01\n",
      "Inferred model output for image: 2009039010_01\n",
      "Inferred model output for image: 2009039249_01\n",
      "Inferred model output for image: 2009039345_01\n",
      "Inferred model output for image: 2009039583_01\n",
      "Inferred model output for image: 2009039163_01\n",
      "Inferred model output for image: 2009039824_01\n",
      "Inferred model output for image: 2009039726_01\n",
      "Inferred model output for image: 2009039828_01\n",
      "Inferred model output for image: 2009040359_01\n",
      "Inferred model output for image: 2009040286_01\n",
      "Inferred model output for image: 2009040389_01\n",
      "Inferred model output for image: 2009040481_01\n",
      "Inferred model output for image: 2009040808_01\n",
      "Inferred model output for image: 2009040774_01\n",
      "Inferred model output for image: 2009040773_01\n",
      "Inferred model output for image: 2009040662_01\n",
      "Inferred model output for image: 2009040666_01\n",
      "Inferred model output for image: 2009040367_01\n",
      "Inferred model output for image: 2009040890_01\n",
      "Inferred model output for image: 2009040962_01\n",
      "Inferred model output for image: 2009041071_01\n",
      "Inferred model output for image: 2009041217_01\n",
      "Inferred model output for image: 2009041302_01\n",
      "Inferred model output for image: 2009041273_01\n",
      "Inferred model output for image: 2009041215_01\n",
      "Inferred model output for image: 2009041314_01\n",
      "Inferred model output for image: 2009041413_01\n",
      "Inferred model output for image: 2009041410_01\n",
      "Inferred model output for image: 2009041453_01\n",
      "Inferred model output for image: 2009041440_01\n",
      "Inferred model output for image: 2009041548_01\n",
      "Inferred model output for image: 2009041541_01\n",
      "Inferred model output for image: 2009041787_01\n",
      "Inferred model output for image: 2009041692_01\n",
      "Inferred model output for image: 2009042196_01\n",
      "Inferred model output for image: 2009041957_01\n",
      "Inferred model output for image: 2009042305_01\n",
      "Inferred model output for image: 2009042512_01\n",
      "Inferred model output for image: 2009042548_01\n",
      "Inferred model output for image: 2009042358_01\n",
      "Inferred model output for image: 2009042643_01\n",
      "Inferred model output for image: 2009042333_01\n",
      "Inferred model output for image: 2009042647_01\n",
      "Inferred model output for image: 2009042595_01\n",
      "Inferred model output for image: 2009042332_01\n",
      "Inferred model output for image: 2009042726_01\n",
      "Inferred model output for image: 2009042791_01\n",
      "Inferred model output for image: 2009042735_01\n",
      "Inferred model output for image: 2009042731_01\n",
      "Inferred model output for image: 2009043009_01\n",
      "Inferred model output for image: 2009042776_01\n",
      "Inferred model output for image: 2009042729_01\n",
      "Inferred model output for image: 2009042799_01\n",
      "Inferred model output for image: 2009042990_01\n",
      "Inferred model output for image: 2009043154_01\n",
      "Inferred model output for image: 2009043156_01\n",
      "Inferred model output for image: 2009043244_01\n",
      "Inferred model output for image: 2009043751_01\n",
      "Inferred model output for image: 2009043330_01\n",
      "Inferred model output for image: 2009043956_01\n",
      "Inferred model output for image: 2009044489_01\n",
      "Inferred model output for image: 2009043977_01\n",
      "Inferred model output for image: 2009044488_01\n",
      "Inferred model output for image: 2009044559_01\n",
      "Inferred model output for image: 2009044516_01\n",
      "Inferred model output for image: 2009044679_01\n",
      "Inferred model output for image: 2009044903_01\n",
      "Inferred model output for image: 2009044952_01\n",
      "Inferred model output for image: 2009045047_01\n",
      "Inferred model output for image: 2009045112_01\n",
      "Inferred model output for image: 2009044936_01\n",
      "Inferred model output for image: 2009044991_01\n",
      "Inferred model output for image: 2009045139_01\n",
      "Inferred model output for image: 2009045116_01\n",
      "Inferred model output for image: 2009045149_01\n",
      "Inferred model output for image: 2009045220_01\n",
      "Inferred model output for image: 2009045195_01\n",
      "Inferred model output for image: 2009045334_01\n",
      "Inferred model output for image: 2009045151_01\n",
      "Inferred model output for image: 2009045653_01\n",
      "Inferred model output for image: 2009045655_01\n",
      "Inferred model output for image: 2009045657_01\n",
      "Inferred model output for image: 2009045659_01\n",
      "Inferred model output for image: 2009045671_01\n",
      "Inferred model output for image: 2009045663_01\n",
      "Inferred model output for image: 2009045674_01\n",
      "Inferred model output for image: 2009045672_01\n",
      "Inferred model output for image: 2009045832_01\n",
      "Inferred model output for image: 2009045820_01\n",
      "Inferred model output for image: 2009045900_01\n",
      "Inferred model output for image: 2009045831_01\n",
      "Inferred model output for image: 2009045926_01\n",
      "Inferred model output for image: 2009045922_01\n",
      "Inferred model output for image: 2009046172_01\n",
      "Inferred model output for image: 2009046132_01\n",
      "Inferred model output for image: 2009045998_01\n",
      "Inferred model output for image: 2009046190_01\n",
      "Inferred model output for image: 2009046178_01\n",
      "Inferred model output for image: 2009046215_01\n",
      "Inferred model output for image: 2009046451_01\n",
      "Inferred model output for image: 2009046204_01\n",
      "Inferred model output for image: 2009046456_01\n",
      "Inferred model output for image: 2009046595_01\n",
      "Inferred model output for image: 2009046457_01\n",
      "Inferred model output for image: 2009046973_01\n",
      "Inferred model output for image: 2009046893_01\n",
      "Inferred model output for image: 2009047164_01\n",
      "Inferred model output for image: 2009046850_01\n",
      "Inferred model output for image: 2009047001_01\n",
      "Inferred model output for image: 2009047297_01\n",
      "Inferred model output for image: 2009047356_01\n",
      "Inferred model output for image: 2009047889_01\n",
      "Inferred model output for image: 2009047920_01\n",
      "Inferred model output for image: 2009047938_01\n",
      "Inferred model output for image: 2009047690_01\n",
      "Inferred model output for image: 2009047403_01\n",
      "Inferred model output for image: 2009047948_01\n",
      "Inferred model output for image: 2009047942_01\n",
      "Inferred model output for image: 2009048016_01\n",
      "Inferred model output for image: 2009048018_01\n",
      "Inferred model output for image: 2009048020_01\n",
      "Inferred model output for image: 2009048051_01\n",
      "Inferred model output for image: 2009048049_01\n",
      "Inferred model output for image: 2009048035_01\n",
      "Inferred model output for image: 2009048022_01\n",
      "Inferred model output for image: 2009048115_01\n",
      "Inferred model output for image: 2009048151_01\n",
      "Inferred model output for image: 2009048099_01\n",
      "Inferred model output for image: 2009048187_01\n",
      "Inferred model output for image: 2009048331_01\n",
      "Inferred model output for image: 2009048276_01\n",
      "Inferred model output for image: 2009048661_01\n",
      "Inferred model output for image: 2009048706_01\n",
      "Inferred model output for image: 2009048619_01\n",
      "Inferred model output for image: 2009048667_01\n",
      "Inferred model output for image: 2009048708_01\n",
      "Inferred model output for image: 2009048732_01\n",
      "Inferred model output for image: 2009048863_01\n",
      "Inferred model output for image: 2009048722_01\n",
      "Inferred model output for image: 2009048730_01\n",
      "Inferred model output for image: 2009048886_01\n",
      "Inferred model output for image: 2009048971_01\n",
      "Inferred model output for image: 2009048950_01\n",
      "Inferred model output for image: 2009048919_01\n",
      "Inferred model output for image: 2009049128_01\n",
      "Inferred model output for image: 2009049016_01\n",
      "Inferred model output for image: 2009049122_01\n",
      "Inferred model output for image: 2009049021_01\n",
      "Inferred model output for image: 2009049194_01\n",
      "Inferred model output for image: 2009049084_01\n",
      "Inferred model output for image: 2009049192_01\n",
      "Inferred model output for image: 2009049206_01\n",
      "Inferred model output for image: 2009049157_01\n",
      "Inferred model output for image: 2009049217_01\n",
      "Inferred model output for image: 2009049263_01\n",
      "Inferred model output for image: 2009049264_01\n",
      "Inferred model output for image: 2009049267_01\n",
      "Inferred model output for image: 2009049311_01\n",
      "Inferred model output for image: 2009049234_01\n",
      "Inferred model output for image: 2009049563_01\n",
      "Inferred model output for image: 2009049532_01\n",
      "Inferred model output for image: 2009049430_01\n",
      "Inferred model output for image: 2009049628_01\n",
      "Inferred model output for image: 2009049893_01\n",
      "Inferred model output for image: 2009049710_01\n",
      "Inferred model output for image: 2009050024_01\n",
      "Inferred model output for image: 2009050055_01\n",
      "Inferred model output for image: 2009049627_01\n",
      "Inferred model output for image: 2009050104_01\n",
      "Inferred model output for image: 2009050130_01\n",
      "Inferred model output for image: 2009050256_01\n",
      "Inferred model output for image: 2009050286_01\n",
      "Inferred model output for image: 2009050314_01\n",
      "Inferred model output for image: 2009050318_01\n",
      "Inferred model output for image: 2009050377_01\n",
      "Inferred model output for image: 2009050372_01\n",
      "Inferred model output for image: 2009050383_01\n",
      "Inferred model output for image: 2009050381_01\n",
      "Inferred model output for image: 2009050386_01\n",
      "Inferred model output for image: 2009050390_01\n",
      "Inferred model output for image: 2009050405_01\n",
      "Inferred model output for image: 2009050406_01\n",
      "Inferred model output for image: 2009050398_01\n",
      "Inferred model output for image: 2009050471_01\n",
      "Inferred model output for image: 2009050401_01\n",
      "Inferred model output for image: 2009050446_01\n",
      "Inferred model output for image: 2009050473_01\n",
      "Inferred model output for image: 2009050492_01\n",
      "Inferred model output for image: 2009050491_01\n",
      "Inferred model output for image: 2009050496_01\n",
      "Inferred model output for image: 2009050598_01\n",
      "Inferred model output for image: 2009050570_01\n",
      "Inferred model output for image: 2009050574_01\n",
      "Inferred model output for image: 2009050616_01\n",
      "Inferred model output for image: 2009050597_01\n",
      "Inferred model output for image: 2009050663_01\n",
      "Inferred model output for image: 2009050724_01\n",
      "Inferred model output for image: 2009050736_01\n",
      "Inferred model output for image: 2009050757_01\n",
      "Inferred model output for image: 2009050631_01\n",
      "Inferred model output for image: 2009050750_01\n",
      "Inferred model output for image: 2009050819_01\n",
      "Inferred model output for image: 2009050837_01\n",
      "Inferred model output for image: 2009050941_01\n",
      "Inferred model output for image: 2009051003_01\n",
      "Inferred model output for image: 2009051131_01\n",
      "Inferred model output for image: 2009051308_01\n",
      "Inferred model output for image: 2009051312_01\n",
      "Inferred model output for image: 2009051387_01\n",
      "Inferred model output for image: 2009051341_01\n",
      "Inferred model output for image: 2009051707_01\n",
      "Inferred model output for image: 2009052028_01\n",
      "Inferred model output for image: 2009052104_01\n",
      "Inferred model output for image: 2009051817_01\n",
      "Inferred model output for image: 2009052101_01\n",
      "Inferred model output for image: 2009052119_01\n",
      "Inferred model output for image: 2009052195_01\n",
      "Inferred model output for image: 2009051910_01\n",
      "Inferred model output for image: 2009052136_01\n",
      "Inferred model output for image: 2009052411_01\n",
      "Inferred model output for image: 2009052346_01\n",
      "Inferred model output for image: 2009052539_01\n",
      "Inferred model output for image: 2009052416_01\n",
      "Inferred model output for image: 2009052566_01\n",
      "Inferred model output for image: 2009052563_01\n",
      "Inferred model output for image: 2009052413_01\n",
      "Inferred model output for image: 2009052257_01\n",
      "Inferred model output for image: 2009052569_01\n",
      "Inferred model output for image: 2009052589_01\n",
      "Inferred model output for image: 2009052661_01\n",
      "Inferred model output for image: 2009052570_01\n",
      "Inferred model output for image: 2009052587_01\n",
      "Inferred model output for image: 2009052675_01\n",
      "Inferred model output for image: 2009052667_01\n",
      "Inferred model output for image: 2009052735_01\n",
      "Inferred model output for image: 2009052695_01\n",
      "Inferred model output for image: 2009052741_01\n",
      "Inferred model output for image: 2009053068_01\n",
      "Inferred model output for image: 2009053012_01\n",
      "Inferred model output for image: 2009053088_01\n",
      "Inferred model output for image: 2009053138_01\n",
      "Inferred model output for image: 2009053114_01\n",
      "Inferred model output for image: 2009053301_01\n",
      "Inferred model output for image: 2009053312_01\n",
      "Inferred model output for image: 2009053875_01\n",
      "Inferred model output for image: 2009053986_01\n",
      "Inferred model output for image: 2009053909_01\n",
      "Inferred model output for image: 2009054107_01\n",
      "Inferred model output for image: 2009053364_01\n",
      "Inferred model output for image: 2009054133_01\n",
      "Inferred model output for image: 2009054130_01\n",
      "Inferred model output for image: 2009054137_01\n",
      "Inferred model output for image: 2009054134_01\n",
      "Inferred model output for image: 2009054141_01\n",
      "Inferred model output for image: 2009054142_01\n",
      "Inferred model output for image: 2009054143_01\n",
      "Inferred model output for image: 2009054139_01\n",
      "Inferred model output for image: 2009054151_01\n",
      "Inferred model output for image: 2009054145_01\n",
      "Inferred model output for image: 2009054144_01\n",
      "Inferred model output for image: 2009054161_01\n",
      "Inferred model output for image: 2009054155_01\n",
      "Inferred model output for image: 2009054166_01\n",
      "Inferred model output for image: 2009054168_01\n",
      "Inferred model output for image: 2009054177_01\n",
      "Inferred model output for image: 2009054189_01\n",
      "Inferred model output for image: 2009054181_01\n",
      "Inferred model output for image: 2009054179_01\n",
      "Inferred model output for image: 2009054192_01\n",
      "Inferred model output for image: 2009054204_01\n",
      "Inferred model output for image: 2009054212_01\n",
      "Inferred model output for image: 2009054198_01\n",
      "Inferred model output for image: 2009054208_01\n",
      "Inferred model output for image: 2009054221_01\n",
      "Inferred model output for image: 2009054219_01\n",
      "Inferred model output for image: 2009054229_01\n",
      "Inferred model output for image: 2009054239_01\n",
      "Inferred model output for image: 2009054238_01\n",
      "Inferred model output for image: 2009054236_01\n",
      "Inferred model output for image: 2009054227_01\n",
      "Inferred model output for image: 2009054311_01\n",
      "Inferred model output for image: 2009054449_01\n",
      "Inferred model output for image: 2009054356_01\n",
      "Inferred model output for image: 2009054496_01\n",
      "Inferred model output for image: 2009054539_01\n",
      "Inferred model output for image: 2009054686_01\n",
      "Inferred model output for image: 2009054519_01\n",
      "Inferred model output for image: 2009054938_01\n",
      "Inferred model output for image: 2009054965_01\n",
      "Inferred model output for image: 2009054473_01\n",
      "Inferred model output for image: 2009054960_01\n",
      "Inferred model output for image: 2009054882_01\n",
      "Inferred model output for image: 2009054966_01\n",
      "Inferred model output for image: 2009054969_01\n",
      "Inferred model output for image: 2009055346_01\n",
      "Inferred model output for image: 2009055742_01\n",
      "Inferred model output for image: 2009055721_01\n",
      "Inferred model output for image: 2009055965_01\n",
      "Inferred model output for image: 2009055978_01\n",
      "Inferred model output for image: 2009055968_01\n",
      "Inferred model output for image: 2009054990_01\n",
      "Inferred model output for image: 2009055981_01\n",
      "Inferred model output for image: 2009055985_01\n",
      "Inferred model output for image: 2009055993_01\n",
      "Inferred model output for image: 2009055989_01\n",
      "Inferred model output for image: 2009055995_01\n",
      "Inferred model output for image: 2009056010_01\n",
      "Inferred model output for image: 2009056049_01\n",
      "Inferred model output for image: 2009055990_01\n",
      "Inferred model output for image: 2009056036_01\n",
      "Inferred model output for image: 2009056033_01\n",
      "Inferred model output for image: 2009056059_01\n",
      "Inferred model output for image: 2009056060_01\n",
      "Inferred model output for image: 2009056073_01\n",
      "Inferred model output for image: 2009056074_01\n",
      "Inferred model output for image: 2009056162_01\n",
      "Inferred model output for image: 2009056446_01\n",
      "Inferred model output for image: 2009056328_01\n",
      "Inferred model output for image: 2009056105_01\n",
      "Inferred model output for image: 2009056100_01\n",
      "Inferred model output for image: 2009056462_01\n",
      "Inferred model output for image: 2009056469_01\n",
      "Inferred model output for image: 2009056452_01\n",
      "Inferred model output for image: 2009056516_01\n",
      "Inferred model output for image: 2009056521_01\n",
      "Inferred model output for image: 2009056475_01\n",
      "Inferred model output for image: 2009056525_01\n",
      "Inferred model output for image: 2009056585_01\n",
      "Inferred model output for image: 2009056586_01\n",
      "Inferred model output for image: 2009056587_01\n",
      "Inferred model output for image: 2009056612_01\n",
      "Inferred model output for image: 2009056527_01\n",
      "Inferred model output for image: 2009056589_01\n",
      "Inferred model output for image: 2009056590_01\n",
      "Inferred model output for image: 2009056613_01\n",
      "Inferred model output for image: 2009056614_01\n",
      "Inferred model output for image: 2009056654_01\n",
      "Inferred model output for image: 2009056707_01\n",
      "Inferred model output for image: 2009056713_01\n",
      "Inferred model output for image: 2009056714_01\n",
      "Inferred model output for image: 2009056729_01\n",
      "Inferred model output for image: 2009056801_01\n",
      "Inferred model output for image: 2009056798_01\n",
      "Inferred model output for image: 2009056809_01\n",
      "Inferred model output for image: 2009056807_01\n",
      "Inferred model output for image: 2009056849_01\n",
      "Inferred model output for image: 2009056957_01\n",
      "Inferred model output for image: 2009056960_01\n",
      "Inferred model output for image: 2009057082_01\n",
      "Inferred model output for image: 2009057112_01\n",
      "Inferred model output for image: 2009057111_01\n",
      "Inferred model output for image: 2009056994_01\n",
      "Inferred model output for image: 2009057144_01\n",
      "Inferred model output for image: 2009057074_01\n",
      "Inferred model output for image: 2009057150_01\n",
      "Inferred model output for image: 2009057116_01\n",
      "Inferred model output for image: 2009057153_01\n",
      "Inferred model output for image: 2009057160_01\n",
      "Inferred model output for image: 2009057176_01\n",
      "Inferred model output for image: 2009057156_01\n",
      "Inferred model output for image: 2009057199_01\n",
      "Inferred model output for image: 2009057202_01\n",
      "Inferred model output for image: 2009057200_01\n",
      "Inferred model output for image: 2009057233_01\n",
      "Inferred model output for image: 2009057253_01\n",
      "Inferred model output for image: 2009057254_01\n",
      "Inferred model output for image: 2009057285_01\n",
      "Inferred model output for image: 2009057262_01\n",
      "Inferred model output for image: 2009057284_01\n",
      "Inferred model output for image: 2009057301_01\n",
      "Inferred model output for image: 2009057256_01\n",
      "Inferred model output for image: 2009057306_01\n",
      "Inferred model output for image: 2009057318_01\n",
      "Inferred model output for image: 2009057304_01\n",
      "Inferred model output for image: 2009057288_01\n",
      "Inferred model output for image: 2009057321_01\n",
      "Inferred model output for image: 2009057389_01\n",
      "Inferred model output for image: 2009057446_01\n",
      "Inferred model output for image: 2009057436_01\n",
      "Inferred model output for image: 2009057479_01\n",
      "Inferred model output for image: 2009057605_01\n",
      "Inferred model output for image: 2009057558_01\n",
      "Inferred model output for image: 2009057751_01\n",
      "Inferred model output for image: 2009057434_01\n",
      "Inferred model output for image: 2009057784_01\n",
      "Inferred model output for image: 2009057640_01\n",
      "Inferred model output for image: 2009057850_01\n",
      "Inferred model output for image: 2009057958_01\n",
      "Inferred model output for image: 2009057934_01\n",
      "Inferred model output for image: 2009057872_01\n",
      "Inferred model output for image: 2009058243_01\n",
      "Inferred model output for image: 2009058195_01\n",
      "Inferred model output for image: 2009058261_01\n",
      "Inferred model output for image: 2009058274_01\n",
      "Inferred model output for image: 2009058297_01\n",
      "Inferred model output for image: 2009058364_01\n",
      "Inferred model output for image: 2009058389_01\n",
      "Inferred model output for image: 2009058298_01\n",
      "Inferred model output for image: 2009058537_01\n",
      "Inferred model output for image: 2009058673_01\n",
      "Inferred model output for image: 2009058483_01\n",
      "Inferred model output for image: 2009058687_01\n",
      "Inferred model output for image: 2009058414_01\n",
      "Inferred model output for image: 2009058751_01\n",
      "Inferred model output for image: 2009058762_01\n",
      "Inferred model output for image: 2009058846_01\n",
      "Inferred model output for image: 2009058802_01\n",
      "Inferred model output for image: 2009058906_01\n",
      "Inferred model output for image: 2009059089_01\n",
      "Inferred model output for image: 2009058885_01\n",
      "Inferred model output for image: 2009059104_01\n",
      "Inferred model output for image: 2009059064_01\n",
      "Inferred model output for image: 2009059492_01\n",
      "Inferred model output for image: 2009059170_01\n",
      "Inferred model output for image: 2009059210_01\n",
      "Inferred model output for image: 2009059493_01\n",
      "Inferred model output for image: 2009059577_01\n",
      "Inferred model output for image: 2009059578_01\n",
      "Inferred model output for image: 2009059575_01\n",
      "Inferred model output for image: 2009059584_01\n",
      "Inferred model output for image: 2009059585_01\n",
      "Inferred model output for image: 2009059587_01\n",
      "Inferred model output for image: 2009059633_01\n",
      "Inferred model output for image: 2009059770_01\n",
      "Inferred model output for image: 2009059700_01\n",
      "Inferred model output for image: 2009059805_01\n",
      "Inferred model output for image: 2009059873_01\n",
      "Inferred model output for image: 2009059941_01\n",
      "Inferred model output for image: 2009059968_01\n",
      "Inferred model output for image: 2009060054_01\n",
      "Inferred model output for image: 2009060088_01\n",
      "Inferred model output for image: 2009060096_01\n",
      "Inferred model output for image: 2009060023_01\n",
      "Inferred model output for image: 2009060025_01\n",
      "Inferred model output for image: 2009060102_01\n",
      "Inferred model output for image: 2009060108_01\n",
      "Inferred model output for image: 2009060092_01\n",
      "Inferred model output for image: 2009060112_01\n",
      "Inferred model output for image: 2009060109_01\n",
      "Inferred model output for image: 2009060139_01\n",
      "Inferred model output for image: 2009060146_01\n",
      "Inferred model output for image: 2009060151_01\n",
      "Inferred model output for image: 2009060150_01\n",
      "Inferred model output for image: 2009060140_01\n",
      "Inferred model output for image: 2009060166_01\n",
      "Inferred model output for image: 2009060156_01\n",
      "Inferred model output for image: 2009060378_01\n",
      "Inferred model output for image: 2009060149_01\n",
      "Inferred model output for image: 2009060172_01\n",
      "Inferred model output for image: 2009060909_01\n",
      "Inferred model output for image: 2009061088_01\n",
      "Inferred model output for image: 2009060994_01\n",
      "Inferred model output for image: 2009061089_01\n",
      "Inferred model output for image: 2009061105_01\n",
      "Inferred model output for image: 2009061103_01\n",
      "Inferred model output for image: 2009061108_01\n",
      "Inferred model output for image: 2009061107_01\n",
      "Inferred model output for image: 2009061116_01\n",
      "Inferred model output for image: 2009061304_01\n",
      "Inferred model output for image: 2009061117_01\n",
      "Inferred model output for image: 2009061305_01\n",
      "Inferred model output for image: 2009061350_01\n",
      "Inferred model output for image: 2009061343_01\n",
      "Inferred model output for image: 2009061532_01\n",
      "Inferred model output for image: 2009061426_01\n",
      "Inferred model output for image: 2009061554_01\n",
      "Inferred model output for image: 2009061766_01\n",
      "Inferred model output for image: 2009061704_01\n",
      "Inferred model output for image: 2009061733_01\n",
      "Inferred model output for image: 2009061831_01\n",
      "Inferred model output for image: 2009061792_01\n",
      "Inferred model output for image: 2009061904_01\n",
      "Inferred model output for image: 2009061788_01\n",
      "Inferred model output for image: 2009061906_01\n",
      "Inferred model output for image: 2009061921_01\n",
      "Inferred model output for image: 2009061927_01\n",
      "Inferred model output for image: 2009061922_01\n",
      "Inferred model output for image: 2009061930_01\n",
      "Inferred model output for image: 2009061953_01\n",
      "Inferred model output for image: 2009061951_01\n",
      "Inferred model output for image: 2009061946_01\n",
      "Inferred model output for image: 2009061948_01\n",
      "Inferred model output for image: 2009062009_01\n",
      "Inferred model output for image: 2009062004_01\n",
      "Inferred model output for image: 2009061964_01\n",
      "Inferred model output for image: 2009062031_01\n",
      "Inferred model output for image: 2009062034_01\n",
      "Inferred model output for image: 2009062035_01\n",
      "Inferred model output for image: 2009062104_01\n",
      "Inferred model output for image: 2009062286_01\n",
      "Inferred model output for image: 2009062258_01\n",
      "Inferred model output for image: 2009062241_01\n",
      "Inferred model output for image: 2009062291_01\n",
      "Inferred model output for image: 2009062297_01\n",
      "Inferred model output for image: 2009062302_01\n",
      "Inferred model output for image: 2009062290_01\n",
      "Inferred model output for image: 2009062308_01\n",
      "Inferred model output for image: 2009062316_01\n",
      "Inferred model output for image: 2009062329_01\n",
      "Inferred model output for image: 2009062326_01\n",
      "Inferred model output for image: 2009062336_01\n",
      "Inferred model output for image: 2009062331_01\n",
      "Inferred model output for image: 2009062437_01\n",
      "Inferred model output for image: 2009062503_01\n",
      "Inferred model output for image: 2009062393_01\n",
      "Inferred model output for image: 2009062588_01\n",
      "Inferred model output for image: 2009062597_01\n",
      "Inferred model output for image: 2009062648_01\n",
      "Inferred model output for image: 2009062624_01\n",
      "Inferred model output for image: 2009062752_01\n",
      "Inferred model output for image: 2009062654_01\n",
      "Inferred model output for image: 2009062743_01\n",
      "Inferred model output for image: 2009062987_01\n",
      "Inferred model output for image: 2009063074_01\n",
      "Inferred model output for image: 2009062996_01\n",
      "Inferred model output for image: 2009063385_01\n",
      "Inferred model output for image: 2009063121_01\n",
      "Inferred model output for image: 2009063391_01\n",
      "Inferred model output for image: 2009063471_01\n",
      "Inferred model output for image: 2009063504_01\n",
      "Inferred model output for image: 2009063460_01\n",
      "Inferred model output for image: 2009064032_01\n",
      "Inferred model output for image: 2009063505_01\n",
      "Inferred model output for image: 2009063915_01\n",
      "Inferred model output for image: 2009063783_01\n",
      "Inferred model output for image: 2009064080_01\n",
      "Inferred model output for image: 2009064515_01\n",
      "Inferred model output for image: 2009064530_01\n",
      "Inferred model output for image: 2009064514_01\n",
      "Inferred model output for image: 2009064541_01\n",
      "Inferred model output for image: 2009064543_01\n",
      "Inferred model output for image: 2009064588_01\n",
      "Inferred model output for image: 2009064707_01\n",
      "Inferred model output for image: 2009064535_01\n",
      "Inferred model output for image: 2009064584_01\n",
      "Inferred model output for image: 2009064807_01\n",
      "Inferred model output for image: 2009064806_01\n",
      "Inferred model output for image: 2009064886_01\n",
      "Inferred model output for image: 2009064978_01\n",
      "Inferred model output for image: 2009065009_01\n",
      "Inferred model output for image: 2009065052_01\n",
      "Inferred model output for image: 2009065035_01\n",
      "Inferred model output for image: 2009065038_01\n",
      "Inferred model output for image: 2009065032_01\n",
      "Inferred model output for image: 2009065054_01\n",
      "Inferred model output for image: 2009065002_01\n",
      "Inferred model output for image: 2009065064_01\n",
      "Inferred model output for image: 2009065080_01\n",
      "Inferred model output for image: 2009065086_01\n",
      "Inferred model output for image: 2009065107_01\n",
      "Inferred model output for image: 2009065096_01\n",
      "Inferred model output for image: 2009065112_01\n",
      "Inferred model output for image: 2009065267_01\n",
      "Inferred model output for image: 2009065395_01\n",
      "Inferred model output for image: 2009065467_01\n",
      "Inferred model output for image: 2009065569_01\n",
      "Inferred model output for image: 2009065990_01\n",
      "Inferred model output for image: 2009065993_01\n",
      "Inferred model output for image: 2009066014_01\n",
      "Inferred model output for image: 2009065946_01\n",
      "Inferred model output for image: 2009065748_01\n",
      "Inferred model output for image: 2009066016_01\n",
      "Inferred model output for image: 2009066078_01\n",
      "Inferred model output for image: 2009066041_01\n",
      "Inferred model output for image: 2009066085_01\n",
      "Inferred model output for image: 2009066109_01\n",
      "Inferred model output for image: 2009066227_01\n",
      "Inferred model output for image: 2009066113_01\n",
      "Inferred model output for image: 2009066307_01\n",
      "Inferred model output for image: 2009066390_01\n",
      "Inferred model output for image: 2009066295_01\n",
      "Inferred model output for image: 2009066160_01\n",
      "Inferred model output for image: 2009066423_01\n",
      "Inferred model output for image: 2009066464_01\n",
      "Inferred model output for image: 2009066648_01\n",
      "Inferred model output for image: 2009066496_01\n",
      "Inferred model output for image: 2009066663_01\n",
      "Inferred model output for image: 2009066649_01\n",
      "Inferred model output for image: 2009066689_01\n",
      "Inferred model output for image: 2009066797_01\n",
      "Inferred model output for image: 2009066731_01\n",
      "Inferred model output for image: 2009066718_01\n",
      "Inferred model output for image: 2009066823_01\n",
      "Inferred model output for image: 2009066843_01\n",
      "Inferred model output for image: 2009067032_01\n",
      "Inferred model output for image: 2009066846_01\n",
      "Inferred model output for image: 2009067160_01\n",
      "Inferred model output for image: 2009067044_01\n",
      "Inferred model output for image: 2009067100_01\n",
      "Inferred model output for image: 2009066840_01\n",
      "Inferred model output for image: 2009067227_01\n",
      "Inferred model output for image: 2009067250_01\n",
      "Inferred model output for image: 2009067538_01\n",
      "Inferred model output for image: 2009067397_01\n",
      "Inferred model output for image: 2009067536_01\n",
      "Inferred model output for image: 2009067570_01\n",
      "Inferred model output for image: 2009067510_01\n",
      "Inferred model output for image: 2009067588_01\n",
      "Inferred model output for image: 2009067641_01\n",
      "Inferred model output for image: 2009067660_01\n",
      "Inferred model output for image: 2009067749_01\n",
      "Inferred model output for image: 2009067848_01\n",
      "Inferred model output for image: 2009067869_01\n",
      "Inferred model output for image: 2009067830_01\n",
      "Inferred model output for image: 2009067860_01\n",
      "Inferred model output for image: 2009067888_01\n",
      "Inferred model output for image: 2009067871_01\n",
      "Inferred model output for image: 2009067915_01\n",
      "Inferred model output for image: 2009067916_01\n",
      "Inferred model output for image: 2009067959_01\n",
      "Inferred model output for image: 2009067968_01\n",
      "Inferred model output for image: 2009068004_01\n",
      "Inferred model output for image: 2009067970_01\n",
      "Inferred model output for image: 2009067997_01\n",
      "Inferred model output for image: 2009068060_01\n",
      "Inferred model output for image: 2009067996_01\n",
      "Inferred model output for image: 2009068014_01\n",
      "Inferred model output for image: 2009068084_01\n",
      "Inferred model output for image: 2009068066_01\n",
      "Inferred model output for image: 2009068087_01\n",
      "Inferred model output for image: 2009068136_01\n",
      "Inferred model output for image: 2009068086_01\n",
      "Inferred model output for image: 2009068216_01\n",
      "Inferred model output for image: 2009068222_01\n",
      "Inferred model output for image: 2009068199_01\n",
      "Inferred model output for image: 2009068275_01\n",
      "Inferred model output for image: 2009068603_01\n",
      "Inferred model output for image: 2009068599_01\n",
      "Inferred model output for image: 2009068606_01\n",
      "Inferred model output for image: 2009068613_01\n",
      "Inferred model output for image: 2009068767_01\n",
      "Inferred model output for image: 2009069278_01\n",
      "Inferred model output for image: 2009069259_01\n",
      "Inferred model output for image: 2009069366_01\n",
      "Inferred model output for image: 2009069495_01\n",
      "Inferred model output for image: 2009069585_01\n",
      "Inferred model output for image: 2009069529_01\n",
      "Inferred model output for image: 2009069531_01\n",
      "Inferred model output for image: 2009069690_01\n",
      "Inferred model output for image: 2009069586_01\n",
      "Inferred model output for image: 2009069619_01\n",
      "Inferred model output for image: 2009069900_01\n",
      "Inferred model output for image: 2009069907_01\n",
      "Inferred model output for image: 2009069903_01\n",
      "Inferred model output for image: 2009069902_01\n",
      "Inferred model output for image: 2009069932_01\n",
      "Inferred model output for image: 2009069956_01\n",
      "Inferred model output for image: 2009069906_01\n",
      "Inferred model output for image: 2009069957_01\n",
      "Inferred model output for image: 2009069934_01\n",
      "Inferred model output for image: 2009069979_01\n",
      "Inferred model output for image: 2009069930_01\n",
      "Inferred model output for image: 2009069994_01\n",
      "Inferred model output for image: 2009070039_01\n",
      "Inferred model output for image: 2009069995_01\n",
      "Inferred model output for image: 2009070100_01\n",
      "Inferred model output for image: 2009070069_01\n",
      "Inferred model output for image: 2009070092_01\n",
      "Inferred model output for image: 2009070064_01\n",
      "Inferred model output for image: 2009070102_01\n",
      "Inferred model output for image: 2009070044_01\n",
      "Inferred model output for image: 2009070126_01\n",
      "Inferred model output for image: 2009070143_01\n",
      "Inferred model output for image: 2009070145_01\n",
      "Inferred model output for image: 2009070187_01\n",
      "Inferred model output for image: 2009070169_01\n",
      "Inferred model output for image: 2009070247_01\n",
      "Inferred model output for image: 2009070243_01\n",
      "Inferred model output for image: 2009070193_01\n",
      "Inferred model output for image: 2009070252_01\n",
      "Inferred model output for image: 2009070219_01\n",
      "Inferred model output for image: 2009070256_01\n",
      "Inferred model output for image: 2009070321_01\n",
      "Inferred model output for image: 2009070286_01\n",
      "Inferred model output for image: 2009070378_01\n",
      "Inferred model output for image: 2009070374_01\n",
      "Inferred model output for image: 2009070955_01\n",
      "Inferred model output for image: 2009070421_01\n",
      "Inferred model output for image: 2009070632_01\n",
      "Inferred model output for image: 2009070372_01\n",
      "Inferred model output for image: 2009071016_01\n",
      "Inferred model output for image: 2009070692_01\n",
      "Inferred model output for image: 2009071020_01\n",
      "Inferred model output for image: 2009071099_01\n",
      "Inferred model output for image: 2009071022_01\n",
      "Inferred model output for image: 2009071182_01\n",
      "Inferred model output for image: 2009071035_01\n",
      "Inferred model output for image: 2009071349_01\n",
      "Inferred model output for image: 2009071768_01\n",
      "Inferred model output for image: 2009071283_01\n",
      "Inferred model output for image: 2009071555_01\n",
      "Inferred model output for image: 2009071284_01\n",
      "Inferred model output for image: 2009071862_01\n",
      "Inferred model output for image: 2009071899_01\n",
      "Inferred model output for image: 2009072132_01\n",
      "Inferred model output for image: 2009072131_01\n",
      "Inferred model output for image: 2009072148_01\n",
      "Inferred model output for image: 2009072179_01\n",
      "Inferred model output for image: 2009072134_01\n",
      "Inferred model output for image: 2009072158_01\n",
      "Inferred model output for image: 2009072190_01\n",
      "Inferred model output for image: 2009072186_01\n",
      "Inferred model output for image: 2009072232_01\n",
      "Inferred model output for image: 2009072153_01\n",
      "Inferred model output for image: 2009072311_01\n",
      "Inferred model output for image: 2009072325_01\n",
      "Inferred model output for image: 2009072334_01\n",
      "Inferred model output for image: 2009072517_01\n",
      "Inferred model output for image: 2009072522_01\n",
      "Inferred model output for image: 2009072602_01\n",
      "Inferred model output for image: 2009072760_01\n",
      "Inferred model output for image: 2009072632_01\n",
      "Inferred model output for image: 2009072527_01\n",
      "Inferred model output for image: 2009072638_01\n",
      "Inferred model output for image: 2009072812_01\n",
      "Inferred model output for image: 2009072817_01\n",
      "Inferred model output for image: 2009072823_01\n",
      "Inferred model output for image: 2009072932_01\n",
      "Inferred model output for image: 2009073057_01\n",
      "Inferred model output for image: 2009073088_01\n",
      "Inferred model output for image: 2009073064_01\n",
      "Inferred model output for image: 2009073225_01\n",
      "Inferred model output for image: 2009072827_01\n",
      "Inferred model output for image: 2009073223_01\n",
      "Inferred model output for image: 2009073467_01\n",
      "Inferred model output for image: 2009073466_01\n",
      "Inferred model output for image: 2009073607_01\n",
      "Inferred model output for image: 2009074122_01\n",
      "Inferred model output for image: 2009073627_01\n",
      "Inferred model output for image: 2009074148_01\n",
      "Inferred model output for image: 2009073617_01\n",
      "Inferred model output for image: 2009073997_01\n",
      "Inferred model output for image: 2009073896_01\n",
      "Inferred model output for image: 2009074141_01\n",
      "Inferred model output for image: 2009074362_01\n",
      "Inferred model output for image: 2009074262_01\n",
      "Inferred model output for image: 2009074401_01\n",
      "Inferred model output for image: 2009074392_01\n",
      "Inferred model output for image: 2009074641_01\n",
      "Inferred model output for image: 2009074614_01\n",
      "Inferred model output for image: 2009074640_01\n",
      "Inferred model output for image: 2009074606_01\n",
      "Inferred model output for image: 2009074777_01\n",
      "Inferred model output for image: 2009074756_01\n",
      "Inferred model output for image: 2009074834_01\n",
      "Inferred model output for image: 2009074914_01\n",
      "Inferred model output for image: 2009074874_01\n",
      "Inferred model output for image: 2009074918_01\n",
      "Inferred model output for image: 2009075083_01\n",
      "Inferred model output for image: 2009075156_01\n",
      "Inferred model output for image: 2009075148_01\n",
      "Inferred model output for image: 2009075085_01\n",
      "Inferred model output for image: 2009075110_01\n",
      "Inferred model output for image: 2009075256_01\n",
      "Inferred model output for image: 2009075700_01\n",
      "Inferred model output for image: 2009075639_01\n",
      "Inferred model output for image: 2009075766_01\n",
      "Inferred model output for image: 2009075573_01\n",
      "Inferred model output for image: 2009075767_01\n",
      "Inferred model output for image: 2009075773_01\n",
      "Inferred model output for image: 2009075770_01\n",
      "Inferred model output for image: 2009075772_01\n",
      "Inferred model output for image: 2009075778_01\n",
      "Inferred model output for image: 2009075829_01\n",
      "Inferred model output for image: 2009076140_01\n",
      "Inferred model output for image: 2009076189_01\n",
      "Inferred model output for image: 2009076289_01\n",
      "Inferred model output for image: 2009076282_01\n",
      "Inferred model output for image: 2009076287_01\n",
      "Inferred model output for image: 2009076291_01\n",
      "Inferred model output for image: 2009076162_01\n",
      "Inferred model output for image: 2009076316_01\n",
      "Inferred model output for image: 2009076303_01\n",
      "Inferred model output for image: 2009076358_01\n",
      "Inferred model output for image: 2009076378_01\n",
      "Inferred model output for image: 2009076393_01\n",
      "Inferred model output for image: 2009076564_01\n",
      "Inferred model output for image: 2009076483_01\n",
      "Inferred model output for image: 2009076675_01\n",
      "Inferred model output for image: 2009076746_01\n",
      "Inferred model output for image: 2009076824_01\n",
      "Inferred model output for image: 2009076960_01\n",
      "End time: 1705467409.6716924 seconds\n",
      "\n",
      "Execution time: 30783.87006497383 seconds\n",
      "Execution Completed!\n"
     ]
    }
   ],
   "source": [
    "start_time = time.time()\n",
    "print(f\"Start time: {start_time} seconds \\n\")\n",
    "\n",
    "directory_path = \"your input image directory path\"\n",
    "final_results = process_images_and_infer_parallel(directory_path, ft_model, tokenizer)\n",
    "llm_json_output = extract_json_outputs_parallel(final_results)\n",
    "#print(llm_json_output)\n",
    "\n",
    "end_time = time.time()\n",
    "print(f\"End time: {end_time} seconds\\n\")\n",
    "\n",
    "# Calculate and log the elapsed time\n",
    "elapsed_time = end_time - start_time\n",
    "print(f\"Execution time: {elapsed_time} seconds\")\n",
    "print(\"Execution Completed!\")"
   ]
  }
 ],
 "metadata": {
  "kernelspec": {
   "display_name": "Python 3 (ipykernel)",
   "language": "python",
   "name": "python3"
  },
  "language_info": {
   "codemirror_mode": {
    "name": "ipython",
    "version": 3
   },
   "file_extension": ".py",
   "mimetype": "text/x-python",
   "name": "python",
   "nbconvert_exporter": "python",
   "pygments_lexer": "ipython3",
   "version": "3.8.10"
  }
 },
 "nbformat": 4,
 "nbformat_minor": 5
}
